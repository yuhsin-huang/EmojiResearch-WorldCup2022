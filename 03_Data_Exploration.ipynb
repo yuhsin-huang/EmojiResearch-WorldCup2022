{
 "cells": [
  {
   "cell_type": "markdown",
   "metadata": {},
   "source": [
    "# Data Exploration 🔍"
   ]
  },
  {
   "cell_type": "code",
   "execution_count": 1,
   "metadata": {},
   "outputs": [],
   "source": [
    "import pandas as pd\n",
    "from langdetect import detect\n",
    "import matplotlib.pyplot as plt\n",
    "import emoji\n",
    "import seaborn as sns\n",
    "import warnings"
   ]
  },
  {
   "cell_type": "code",
   "execution_count": 2,
   "metadata": {},
   "outputs": [],
   "source": [
    "warnings.filterwarnings('ignore')"
   ]
  },
  {
   "cell_type": "code",
   "execution_count": 3,
   "metadata": {},
   "outputs": [],
   "source": [
    "df = pd.read_csv(\"Data/cleaned_by_language.csv\")"
   ]
  },
  {
   "cell_type": "markdown",
   "metadata": {},
   "source": [
    "Explore ratio of words to emojis"
   ]
  },
  {
   "cell_type": "code",
   "execution_count": 4,
   "metadata": {},
   "outputs": [],
   "source": [
    "en_df = df[df['language'] == 'en']\n",
    "es_df = df[df['language'] == 'es']\n",
    "\n",
    "emoji_count_en = en_df['emoji count'].sum()\n",
    "emoji_count_es = es_df['emoji count'].sum()\n",
    "\n",
    "word_count_en = en_df['word count'].sum()\n",
    "word_count_es = es_df['word count'].sum()"
   ]
  },
  {
   "cell_type": "code",
   "execution_count": 5,
   "metadata": {},
   "outputs": [
    {
     "name": "stdout",
     "output_type": "stream",
     "text": [
      "ratio of emojis to words (english):  0.2366223321991958\n",
      "ratio of emojis to words (spanish):  0.2592716338122285\n"
     ]
    }
   ],
   "source": [
    "print(\"ratio of emojis to words (english): \", emoji_count_en/word_count_en)\n",
    "print(\"ratio of emojis to words (spanish): \", emoji_count_es/word_count_es)"
   ]
  },
  {
   "cell_type": "markdown",
   "metadata": {},
   "source": [
    "Explore what emojis are used"
   ]
  },
  {
   "cell_type": "code",
   "execution_count": 6,
   "metadata": {},
   "outputs": [],
   "source": [
    "def get_df_count(lang_df):\n",
    "    emojis = {}\n",
    "\n",
    "    # create dictionary\n",
    "    for row in lang_df['emoji list']:\n",
    "        for el in row:\n",
    "            emojis[el] = emojis.setdefault(el, 0) + 1\n",
    "\n",
    "    # remove bad chars\n",
    "    to_remove = [\"'\", ',', ' ', '[', ']']\n",
    "    for el in to_remove:\n",
    "        del emojis[el]\n",
    "        \n",
    "    # make dataframe\n",
    "    emoji_arr = []\n",
    "    for key, value in emojis.items():\n",
    "        emoji_arr.append([key, value])\n",
    "\n",
    "    emoji_df = pd.DataFrame(emoji_arr, columns=['emoji','count'])\n",
    "    emoji_df = emoji_df.sort_values(by='count', ascending=False)\n",
    "\n",
    "    return emoji_df"
   ]
  },
  {
   "cell_type": "code",
   "execution_count": 7,
   "metadata": {},
   "outputs": [],
   "source": [
    "en_df_count = get_df_count(en_df)\n",
    "es_df_count = get_df_count(es_df)"
   ]
  },
  {
   "cell_type": "code",
   "execution_count": 8,
   "metadata": {},
   "outputs": [
    {
     "name": "stdout",
     "output_type": "stream",
     "text": [
      "['😂', '🤣', '❤', '👏', '🔥', '😍', '😅', '🙌', '🏆', '🌈', '💀', '🤬', '🏳', '🏻', '♂', '0', '😉', '😫', '👎', '🤦']\n"
     ]
    },
    {
     "data": {
      "image/png": "[encoded data removed]",
      "text/plain": [
       "<Figure size 432x288 with 1 Axes>"
      ]
     },
     "metadata": {
      "needs_background": "light"
     },
     "output_type": "display_data"
    }
   ],
   "source": [
    "sns.barplot(x='emoji', y = 'count', data = en_df_count[:20]).set(title='Most common English emojis')\n",
    "print(list(en_df_count[:20]['emoji']))"
   ]
  },
  {
   "cell_type": "code",
   "execution_count": 9,
   "metadata": {},
   "outputs": [
    {
     "name": "stdout",
     "output_type": "stream",
     "text": [
      "['😂', '🔥', '❤', '👏', '🙌', '😍', '😢', '🏼', '🏻', '0', '💙', '💪', '🏆', '⚽', '🤣', '🤫', '💚', '👍', 'f', '🤏']\n"
     ]
    },
    {
     "data": {
      "image/png": "[encoded data removed]",
      "text/plain": [
       "<Figure size 432x288 with 1 Axes>"
      ]
     },
     "metadata": {
      "needs_background": "light"
     },
     "output_type": "display_data"
    }
   ],
   "source": [
    "sns.barplot(x='emoji', y='count', data = es_df_count[:20]).set(title='Most common Spanish emojis')\n",
    "print(list(es_df_count[:20]['emoji']))"
   ]
  },
  {
   "cell_type": "markdown",
   "metadata": {},
   "source": [
    "### Emoji Pattern Exploration"
   ]
  },
  {
   "cell_type": "code",
   "execution_count": 10,
   "metadata": {},
   "outputs": [],
   "source": [
    "def get_pattern_count(lang_df):\n",
    "    patterns = {}\n",
    "    patterns_list = lang_df['emoji pattern list'].tolist()\n",
    "    new_patterns_list = []\n",
    "    \n",
    "    for i in patterns_list:\n",
    "        if i != '[]':\n",
    "            new_patterns_list.append(i[2:-2].split(\"', '\"))\n",
    "    \n",
    "    tnew_patterns_list = []\n",
    "    for i in new_patterns_list:\n",
    "        tnew_patterns_list += i\n",
    "    \n",
    "    for ele in tnew_patterns_list:\n",
    "        patterns[ele] = patterns.setdefault(ele, 0) + 1\n",
    "        \n",
    "    emoji_pattern_arr = []\n",
    "    for key, value in patterns.items():\n",
    "        emoji_pattern_arr.append([key, value])\n",
    "        \n",
    "    emoji_pattern_df = pd.DataFrame(emoji_pattern_arr, columns=['emoji pattern','count'])\n",
    "    emoji_pattern_df = emoji_pattern_df.sort_values(by='count', ascending = False)\n",
    "    \n",
    "    return emoji_pattern_df"
   ]
  },
  {
   "cell_type": "code",
   "execution_count": 11,
   "metadata": {},
   "outputs": [],
   "source": [
    "en_df_pattern_count = get_pattern_count(en_df)\n",
    "es_df_pattern_count = get_pattern_count(es_df)"
   ]
  },
  {
   "cell_type": "code",
   "execution_count": 21,
   "metadata": {},
   "outputs": [
    {
     "data": {
      "text/plain": [
       "(   emoji pattern  count\n",
       " 2            😂😂😂     14\n",
       " 13            😂😂     13\n",
       " 1            🤣🤣🤣      7\n",
       " 17         😂😂😂😂😂      4\n",
       " 24            👏👏      4\n",
       " 11            🌈🏳      4\n",
       " 42           🔥🔥🔥      3\n",
       " 37          🤣🤣🤣🤣      3\n",
       " 9           😂😂😂😂      3\n",
       " 12           🌈🌈🏳      3,\n",
       "    emoji pattern  count\n",
       " 50           😂😂😂     11\n",
       " 16          😂😂😂😂      8\n",
       " 15            😂😂      7\n",
       " 0             👏👏      6\n",
       " 61         😂😂😂😂😂      4\n",
       " 24           🔥🔥🔥      4\n",
       " 12           👏👏👏      4\n",
       " 59            🔥🔥      3\n",
       " 56            🤦🏻      2\n",
       " 51           😢😢😢      2)"
      ]
     },
     "execution_count": 21,
     "metadata": {},
     "output_type": "execute_result"
    }
   ],
   "source": [
    "en_df_pattern_count.head(10), es_df_pattern_count.head(10)"
   ]
  },
  {
   "cell_type": "code",
   "execution_count": 12,
   "metadata": {},
   "outputs": [
    {
     "name": "stdout",
     "output_type": "stream",
     "text": [
      "['😂😂😂', '😂😂', '🤣🤣🤣', '😂😂😂😂😂', '👏👏', '🌈🏳', '🔥🔥🔥', '🤣🤣🤣🤣', '😂😂😂😂', '🌈🌈🏳', '💛💙❤', '👏🔥', '💚❤', '😍❤', '🤣🤣', '😂😂😂😂😂😂', '🤦🏾', '🔥🙌', '🤷🏻', '🤍❤']\n"
     ]
    },
    {
     "data": {
      "image/png": "[encoded data removed]",
      "text/plain": [
       "<Figure size 432x288 with 1 Axes>"
      ]
     },
     "metadata": {
      "needs_background": "light"
     },
     "output_type": "display_data"
    }
   ],
   "source": [
    "sns.barplot(x='emoji pattern', y = 'count', data = en_df_pattern_count[:20]).set(title='Most Common English Emoji Patterns')\n",
    "print(list(en_df_pattern_count[:20]['emoji pattern']))"
   ]
  },
  {
   "cell_type": "code",
   "execution_count": 13,
   "metadata": {},
   "outputs": [
    {
     "name": "stdout",
     "output_type": "stream",
     "text": [
      "['😂😂😂', '😂😂😂😂', '😂😂', '👏👏', '😂😂😂😂😂', '🔥🔥🔥', '👏👏👏', '🔥🔥', '🤦🏻', '😢😢😢', '🔥🔥🔥🔥', '😂😂😂😂😂😂😂😂', '😍😍', '👏👏👏👏', '🤷🏼', '😍😍😍', '🙌🔥', '😍❤', '🛫🛬🏠', '👋🏻']\n"
     ]
    },
    {
     "data": {
      "image/png": "[encoded data removed]",
      "text/plain": [
       "<Figure size 432x288 with 1 Axes>"
      ]
     },
     "metadata": {
      "needs_background": "light"
     },
     "output_type": "display_data"
    }
   ],
   "source": [
    "sns.barplot(x='emoji pattern', y = 'count', data = es_df_pattern_count[:20]).set(title='Most Common Spanish Emoji Patterns')\n",
    "print(list(es_df_pattern_count[:20]['emoji pattern']))"
   ]
  },
  {
   "cell_type": "markdown",
   "metadata": {},
   "source": [
    "### Find Intersection and Differences"
   ]
  },
  {
   "cell_type": "code",
   "execution_count": 14,
   "metadata": {},
   "outputs": [
    {
     "data": {
      "text/plain": [
       "{'0',\n",
       " '1',\n",
       " '6',\n",
       " 'U',\n",
       " '\\\\',\n",
       " 'a',\n",
       " 'e',\n",
       " 'f',\n",
       " '☝',\n",
       " '☺',\n",
       " '♀',\n",
       " '♂',\n",
       " '♥',\n",
       " '⚽',\n",
       " '✌',\n",
       " '❤',\n",
       " '🌈',\n",
       " '🍷',\n",
       " '🏆',\n",
       " '🏳',\n",
       " '🏻',\n",
       " '🏼',\n",
       " '🏾',\n",
       " '🐐',\n",
       " '👋',\n",
       " '👌',\n",
       " '👍',\n",
       " '👎',\n",
       " '👏',\n",
       " '👐',\n",
       " '💀',\n",
       " '💙',\n",
       " '💚',\n",
       " '💛',\n",
       " '💜',\n",
       " '💥',\n",
       " '💪',\n",
       " '💯',\n",
       " '🔥',\n",
       " '😁',\n",
       " '😂',\n",
       " '😅',\n",
       " '😇',\n",
       " '😉',\n",
       " '😌',\n",
       " '😍',\n",
       " '😎',\n",
       " '😏',\n",
       " '😘',\n",
       " '😠',\n",
       " '😡',\n",
       " '😢',\n",
       " '😭',\n",
       " '😮',\n",
       " '🙄',\n",
       " '🙌',\n",
       " '🙏',\n",
       " '🤍',\n",
       " '🤐',\n",
       " '🤔',\n",
       " '🤣',\n",
       " '🤦',\n",
       " '🤨',\n",
       " '🤫',\n",
       " '🤷',\n",
       " '🥇',\n",
       " '🥱',\n",
       " '🥲',\n",
       " '🥶',\n",
       " '🦅',\n",
       " '🩹'}"
      ]
     },
     "execution_count": 14,
     "metadata": {},
     "output_type": "execute_result"
    }
   ],
   "source": [
    "common = set(es_df_count['emoji']).intersection(set(en_df_count['emoji']))\n",
    "common"
   ]
  },
  {
   "cell_type": "code",
   "execution_count": 15,
   "metadata": {},
   "outputs": [],
   "source": [
    "def language_only(emoji_list):\n",
    "    only = []\n",
    "    for emoji in emoji_list:\n",
    "        if emoji not in common:\n",
    "            only.append(emoji)\n",
    "    return only"
   ]
  },
  {
   "cell_type": "code",
   "execution_count": 16,
   "metadata": {},
   "outputs": [
    {
     "data": {
      "text/plain": [
       "['🤬',\n",
       " '😫',\n",
       " '😊',\n",
       " '✨',\n",
       " '🤗',\n",
       " '☕',\n",
       " '🫂',\n",
       " '❌',\n",
       " '🏃',\n",
       " '⚧',\n",
       " '🤪',\n",
       " '🥺',\n",
       " '9',\n",
       " '😝',\n",
       " '😆',\n",
       " '😄',\n",
       " '🤟',\n",
       " '😀',\n",
       " '🤭',\n",
       " '🏽',\n",
       " '👮',\n",
       " '7',\n",
       " '😐',\n",
       " '😬',\n",
       " '🍳',\n",
       " '👩',\n",
       " '🎠',\n",
       " '🚶',\n",
       " '😤',\n",
       " '😣',\n",
       " '🙃',\n",
       " '🎥',\n",
       " '🏴',\n",
       " '🕺',\n",
       " '🌍',\n",
       " '😩',\n",
       " '🚮']"
      ]
     },
     "execution_count": 16,
     "metadata": {},
     "output_type": "execute_result"
    }
   ],
   "source": [
    "English_only = language_only(en_df_count['emoji'])\n",
    "English_only"
   ]
  },
  {
   "cell_type": "code",
   "execution_count": 17,
   "metadata": {},
   "outputs": [
    {
     "data": {
      "text/plain": [
       "['🕷',\n",
       " '🔴',\n",
       " '😒',\n",
       " '💜',\n",
       " '🤙',\n",
       " '🥳',\n",
       " '🤟',\n",
       " '🔟',\n",
       " '🌎',\n",
       " '⚪',\n",
       " '😥',\n",
       " '😨',\n",
       " '😳',\n",
       " '🖐',\n",
       " '😻',\n",
       " '☘',\n",
       " '👐',\n",
       " '💤',\n",
       " '🤘',\n",
       " '☹',\n",
       " '👹',\n",
       " '💕',\n",
       " '🟡',\n",
       " '✅',\n",
       " '🔆',\n",
       " '⚡',\n",
       " '🛬',\n",
       " '🌚',\n",
       " '🫀',\n",
       " '🤑',\n",
       " '✝',\n",
       " '🎈',\n",
       " '😸',\n",
       " '🌍',\n",
       " '🍀',\n",
       " '⚫',\n",
       " '🥂',\n",
       " '📝',\n",
       " '🎶',\n",
       " '😵',\n",
       " '🦵',\n",
       " '🎎',\n",
       " '🏯',\n",
       " '✍',\n",
       " '🕸',\n",
       " '😓',\n",
       " '⏱',\n",
       " '🦌',\n",
       " '🔵',\n",
       " '🤜',\n",
       " '🤛',\n",
       " '😜',\n",
       " '🥤',\n",
       " '🩹',\n",
       " '👃',\n",
       " '🧙',\n",
       " '🤌',\n",
       " '😯']"
      ]
     },
     "execution_count": 17,
     "metadata": {},
     "output_type": "execute_result"
    }
   ],
   "source": [
    "Spanish_only = language_only(es_df_count['emoji'])\n",
    "Spanish_only"
   ]
  },
  {
   "cell_type": "code",
   "execution_count": null,
   "metadata": {},
   "outputs": [],
   "source": []
  },
  {
   "cell_type": "code",
   "execution_count": null,
   "metadata": {},
   "outputs": [],
   "source": []
  }
 ],
 "metadata": {
  "kernelspec": {
   "display_name": "Python 3 (ipykernel)",
   "language": "python",
   "name": "python3"
  },
  "language_info": {
   "codemirror_mode": {
    "name": "ipython",
    "version": 3
   },
   "file_extension": ".py",
   "mimetype": "text/x-python",
   "name": "python",
   "nbconvert_exporter": "python",
   "pygments_lexer": "ipython3",
   "version": "3.9.12"
  }
 },
 "nbformat": 4,
 "nbformat_minor": 2
}
