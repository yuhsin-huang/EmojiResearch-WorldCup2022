{
 "cells": [
  {
   "cell_type": "code",
   "execution_count": 1,
   "id": "6beaa807",
   "metadata": {},
   "outputs": [
    {
     "name": "stdout",
     "output_type": "stream",
     "text": [
      "Requirement already satisfied: apify-client in /opt/anaconda3/lib/python3.9/site-packages (1.4.1)\n",
      "Requirement already satisfied: apify-shared~=1.0.0 in /opt/anaconda3/lib/python3.9/site-packages (from apify-client) (1.0.2)\n",
      "Requirement already satisfied: httpx>=0.24.1 in /opt/anaconda3/lib/python3.9/site-packages (from apify-client) (0.25.0)\n",
      "Requirement already satisfied: sniffio in /opt/anaconda3/lib/python3.9/site-packages (from httpx>=0.24.1->apify-client) (1.2.0)\n",
      "Requirement already satisfied: httpcore<0.19.0,>=0.18.0 in /opt/anaconda3/lib/python3.9/site-packages (from httpx>=0.24.1->apify-client) (0.18.0)\n",
      "Requirement already satisfied: certifi in /opt/anaconda3/lib/python3.9/site-packages (from httpx>=0.24.1->apify-client) (2023.7.22)\n",
      "Requirement already satisfied: idna in /opt/anaconda3/lib/python3.9/site-packages (from httpx>=0.24.1->apify-client) (3.3)\n",
      "Requirement already satisfied: h11<0.15,>=0.13 in /opt/anaconda3/lib/python3.9/site-packages (from httpcore<0.19.0,>=0.18.0->httpx>=0.24.1->apify-client) (0.14.0)\n",
      "Requirement already satisfied: anyio<5.0,>=3.0 in /opt/anaconda3/lib/python3.9/site-packages (from httpcore<0.19.0,>=0.18.0->httpx>=0.24.1->apify-client) (3.5.0)\n",
      "Note: you may need to restart the kernel to use updated packages.\n"
     ]
    }
   ],
   "source": [
    "pip install apify-client"
   ]
  },
  {
   "cell_type": "code",
   "execution_count": 49,
   "id": "d4d0de28",
   "metadata": {},
   "outputs": [
    {
     "ename": "ApifyApiError",
     "evalue": "User was not found or authentication token is not valid",
     "output_type": "error",
     "traceback": [
      "\u001b[0;31m---------------------------------------------------------------------------\u001b[0m",
      "\u001b[0;31mApifyApiError\u001b[0m                             Traceback (most recent call last)",
      "Input \u001b[0;32mIn [49]\u001b[0m, in \u001b[0;36m<cell line: 13>\u001b[0;34m()\u001b[0m\n\u001b[1;32m      7\u001b[0m run_input \u001b[38;5;241m=\u001b[39m {\n\u001b[1;32m      8\u001b[0m     \u001b[38;5;124m\"\u001b[39m\u001b[38;5;124musername\u001b[39m\u001b[38;5;124m\"\u001b[39m: [\u001b[38;5;124m\"\u001b[39m\u001b[38;5;124mfifaworldcup\u001b[39m\u001b[38;5;124m\"\u001b[39m],\n\u001b[1;32m      9\u001b[0m     \u001b[38;5;124m\"\u001b[39m\u001b[38;5;124mresultsLimit\u001b[39m\u001b[38;5;124m\"\u001b[39m: \u001b[38;5;241m14922\u001b[39m,\n\u001b[1;32m     10\u001b[0m }\n\u001b[1;32m     12\u001b[0m \u001b[38;5;66;03m# Run the Actor and wait for it to finish\u001b[39;00m\n\u001b[0;32m---> 13\u001b[0m run \u001b[38;5;241m=\u001b[39m \u001b[43mclient\u001b[49m\u001b[38;5;241;43m.\u001b[39;49m\u001b[43mactor\u001b[49m\u001b[43m(\u001b[49m\u001b[38;5;124;43m\"\u001b[39;49m\u001b[38;5;124;43mapify/instagram-post-scraper\u001b[39;49m\u001b[38;5;124;43m\"\u001b[39;49m\u001b[43m)\u001b[49m\u001b[38;5;241;43m.\u001b[39;49m\u001b[43mcall\u001b[49m\u001b[43m(\u001b[49m\u001b[43mrun_input\u001b[49m\u001b[38;5;241;43m=\u001b[39;49m\u001b[43mrun_input\u001b[49m\u001b[43m)\u001b[49m\n\u001b[1;32m     15\u001b[0m \u001b[38;5;66;03m# Fetch and print Actor results from the run's dataset (if there are any)\u001b[39;00m\n\u001b[1;32m     16\u001b[0m \u001b[38;5;28;01mfor\u001b[39;00m item \u001b[38;5;129;01min\u001b[39;00m client\u001b[38;5;241m.\u001b[39mdataset(run[\u001b[38;5;124m\"\u001b[39m\u001b[38;5;124mdefaultDatasetId\u001b[39m\u001b[38;5;124m\"\u001b[39m])\u001b[38;5;241m.\u001b[39miterate_items():\n",
      "File \u001b[0;32m/opt/anaconda3/lib/python3.9/site-packages/apify_client/_logging.py:74\u001b[0m, in \u001b[0;36m_injects_client_details_to_log_context.<locals>.wrapper\u001b[0;34m(resource_client, *args, **kwargs)\u001b[0m\n\u001b[1;32m     71\u001b[0m log_context\u001b[38;5;241m.\u001b[39mclient_method\u001b[38;5;241m.\u001b[39mset(fun\u001b[38;5;241m.\u001b[39m\u001b[38;5;18m__qualname__\u001b[39m)\n\u001b[1;32m     72\u001b[0m log_context\u001b[38;5;241m.\u001b[39mresource_id\u001b[38;5;241m.\u001b[39mset(resource_client\u001b[38;5;241m.\u001b[39mresource_id)\n\u001b[0;32m---> 74\u001b[0m \u001b[38;5;28;01mreturn\u001b[39;00m \u001b[43mfun\u001b[49m\u001b[43m(\u001b[49m\u001b[43mresource_client\u001b[49m\u001b[43m,\u001b[49m\u001b[43m \u001b[49m\u001b[38;5;241;43m*\u001b[39;49m\u001b[43margs\u001b[49m\u001b[43m,\u001b[49m\u001b[43m \u001b[49m\u001b[38;5;241;43m*\u001b[39;49m\u001b[38;5;241;43m*\u001b[39;49m\u001b[43mkwargs\u001b[49m\u001b[43m)\u001b[49m\n",
      "File \u001b[0;32m/opt/anaconda3/lib/python3.9/site-packages/apify_client/clients/resource_clients/actor.py:256\u001b[0m, in \u001b[0;36mActorClient.call\u001b[0;34m(self, run_input, content_type, build, max_items, memory_mbytes, timeout_secs, webhooks, wait_secs)\u001b[0m\n\u001b[1;32m    219\u001b[0m \u001b[38;5;28;01mdef\u001b[39;00m \u001b[38;5;21mcall\u001b[39m(\n\u001b[1;32m    220\u001b[0m     \u001b[38;5;28mself\u001b[39m,\n\u001b[1;32m    221\u001b[0m     \u001b[38;5;241m*\u001b[39m,\n\u001b[0;32m   (...)\u001b[0m\n\u001b[1;32m    229\u001b[0m     wait_secs: Optional[\u001b[38;5;28mint\u001b[39m] \u001b[38;5;241m=\u001b[39m \u001b[38;5;28;01mNone\u001b[39;00m,\n\u001b[1;32m    230\u001b[0m ) \u001b[38;5;241m-\u001b[39m\u001b[38;5;241m>\u001b[39m Optional[Dict]:\n\u001b[1;32m    231\u001b[0m     \u001b[38;5;124;03m\"\"\"Start the actor and wait for it to finish before returning the Run object.\u001b[39;00m\n\u001b[1;32m    232\u001b[0m \n\u001b[1;32m    233\u001b[0m \u001b[38;5;124;03m    It waits indefinitely, unless the wait_secs argument is provided.\u001b[39;00m\n\u001b[0;32m   (...)\u001b[0m\n\u001b[1;32m    254\u001b[0m \u001b[38;5;124;03m        dict: The run object\u001b[39;00m\n\u001b[1;32m    255\u001b[0m \u001b[38;5;124;03m    \"\"\"\u001b[39;00m\n\u001b[0;32m--> 256\u001b[0m     started_run \u001b[38;5;241m=\u001b[39m \u001b[38;5;28;43mself\u001b[39;49m\u001b[38;5;241;43m.\u001b[39;49m\u001b[43mstart\u001b[49m\u001b[43m(\u001b[49m\n\u001b[1;32m    257\u001b[0m \u001b[43m        \u001b[49m\u001b[43mrun_input\u001b[49m\u001b[38;5;241;43m=\u001b[39;49m\u001b[43mrun_input\u001b[49m\u001b[43m,\u001b[49m\n\u001b[1;32m    258\u001b[0m \u001b[43m        \u001b[49m\u001b[43mcontent_type\u001b[49m\u001b[38;5;241;43m=\u001b[39;49m\u001b[43mcontent_type\u001b[49m\u001b[43m,\u001b[49m\n\u001b[1;32m    259\u001b[0m \u001b[43m        \u001b[49m\u001b[43mbuild\u001b[49m\u001b[38;5;241;43m=\u001b[39;49m\u001b[43mbuild\u001b[49m\u001b[43m,\u001b[49m\n\u001b[1;32m    260\u001b[0m \u001b[43m        \u001b[49m\u001b[43mmax_items\u001b[49m\u001b[38;5;241;43m=\u001b[39;49m\u001b[43mmax_items\u001b[49m\u001b[43m,\u001b[49m\n\u001b[1;32m    261\u001b[0m \u001b[43m        \u001b[49m\u001b[43mmemory_mbytes\u001b[49m\u001b[38;5;241;43m=\u001b[39;49m\u001b[43mmemory_mbytes\u001b[49m\u001b[43m,\u001b[49m\n\u001b[1;32m    262\u001b[0m \u001b[43m        \u001b[49m\u001b[43mtimeout_secs\u001b[49m\u001b[38;5;241;43m=\u001b[39;49m\u001b[43mtimeout_secs\u001b[49m\u001b[43m,\u001b[49m\n\u001b[1;32m    263\u001b[0m \u001b[43m        \u001b[49m\u001b[43mwebhooks\u001b[49m\u001b[38;5;241;43m=\u001b[39;49m\u001b[43mwebhooks\u001b[49m\u001b[43m,\u001b[49m\n\u001b[1;32m    264\u001b[0m \u001b[43m    \u001b[49m\u001b[43m)\u001b[49m\n\u001b[1;32m    266\u001b[0m     \u001b[38;5;28;01mreturn\u001b[39;00m \u001b[38;5;28mself\u001b[39m\u001b[38;5;241m.\u001b[39mroot_client\u001b[38;5;241m.\u001b[39mrun(started_run[\u001b[38;5;124m'\u001b[39m\u001b[38;5;124mid\u001b[39m\u001b[38;5;124m'\u001b[39m])\u001b[38;5;241m.\u001b[39mwait_for_finish(wait_secs\u001b[38;5;241m=\u001b[39mwait_secs)\n",
      "File \u001b[0;32m/opt/anaconda3/lib/python3.9/site-packages/apify_client/_logging.py:74\u001b[0m, in \u001b[0;36m_injects_client_details_to_log_context.<locals>.wrapper\u001b[0;34m(resource_client, *args, **kwargs)\u001b[0m\n\u001b[1;32m     71\u001b[0m log_context\u001b[38;5;241m.\u001b[39mclient_method\u001b[38;5;241m.\u001b[39mset(fun\u001b[38;5;241m.\u001b[39m\u001b[38;5;18m__qualname__\u001b[39m)\n\u001b[1;32m     72\u001b[0m log_context\u001b[38;5;241m.\u001b[39mresource_id\u001b[38;5;241m.\u001b[39mset(resource_client\u001b[38;5;241m.\u001b[39mresource_id)\n\u001b[0;32m---> 74\u001b[0m \u001b[38;5;28;01mreturn\u001b[39;00m \u001b[43mfun\u001b[49m\u001b[43m(\u001b[49m\u001b[43mresource_client\u001b[49m\u001b[43m,\u001b[49m\u001b[43m \u001b[49m\u001b[38;5;241;43m*\u001b[39;49m\u001b[43margs\u001b[49m\u001b[43m,\u001b[49m\u001b[43m \u001b[49m\u001b[38;5;241;43m*\u001b[39;49m\u001b[38;5;241;43m*\u001b[39;49m\u001b[43mkwargs\u001b[49m\u001b[43m)\u001b[49m\n",
      "File \u001b[0;32m/opt/anaconda3/lib/python3.9/site-packages/apify_client/clients/resource_clients/actor.py:209\u001b[0m, in \u001b[0;36mActorClient.start\u001b[0;34m(self, run_input, content_type, build, max_items, memory_mbytes, timeout_secs, wait_for_finish, webhooks)\u001b[0m\n\u001b[1;32m    198\u001b[0m run_input, content_type \u001b[38;5;241m=\u001b[39m _encode_key_value_store_record_value(run_input, content_type)\n\u001b[1;32m    200\u001b[0m request_params \u001b[38;5;241m=\u001b[39m \u001b[38;5;28mself\u001b[39m\u001b[38;5;241m.\u001b[39m_params(\n\u001b[1;32m    201\u001b[0m     build\u001b[38;5;241m=\u001b[39mbuild,\n\u001b[1;32m    202\u001b[0m     maxItems\u001b[38;5;241m=\u001b[39mmax_items,\n\u001b[0;32m   (...)\u001b[0m\n\u001b[1;32m    206\u001b[0m     webhooks\u001b[38;5;241m=\u001b[39m_encode_webhook_list_to_base64(webhooks) \u001b[38;5;28;01mif\u001b[39;00m webhooks \u001b[38;5;129;01mis\u001b[39;00m \u001b[38;5;129;01mnot\u001b[39;00m \u001b[38;5;28;01mNone\u001b[39;00m \u001b[38;5;28;01melse\u001b[39;00m \u001b[38;5;28;01mNone\u001b[39;00m,\n\u001b[1;32m    207\u001b[0m )\n\u001b[0;32m--> 209\u001b[0m response \u001b[38;5;241m=\u001b[39m \u001b[38;5;28;43mself\u001b[39;49m\u001b[38;5;241;43m.\u001b[39;49m\u001b[43mhttp_client\u001b[49m\u001b[38;5;241;43m.\u001b[39;49m\u001b[43mcall\u001b[49m\u001b[43m(\u001b[49m\n\u001b[1;32m    210\u001b[0m \u001b[43m    \u001b[49m\u001b[43murl\u001b[49m\u001b[38;5;241;43m=\u001b[39;49m\u001b[38;5;28;43mself\u001b[39;49m\u001b[38;5;241;43m.\u001b[39;49m\u001b[43m_url\u001b[49m\u001b[43m(\u001b[49m\u001b[38;5;124;43m'\u001b[39;49m\u001b[38;5;124;43mruns\u001b[39;49m\u001b[38;5;124;43m'\u001b[39;49m\u001b[43m)\u001b[49m\u001b[43m,\u001b[49m\n\u001b[1;32m    211\u001b[0m \u001b[43m    \u001b[49m\u001b[43mmethod\u001b[49m\u001b[38;5;241;43m=\u001b[39;49m\u001b[38;5;124;43m'\u001b[39;49m\u001b[38;5;124;43mPOST\u001b[39;49m\u001b[38;5;124;43m'\u001b[39;49m\u001b[43m,\u001b[49m\n\u001b[1;32m    212\u001b[0m \u001b[43m    \u001b[49m\u001b[43mheaders\u001b[49m\u001b[38;5;241;43m=\u001b[39;49m\u001b[43m{\u001b[49m\u001b[38;5;124;43m'\u001b[39;49m\u001b[38;5;124;43mcontent-type\u001b[39;49m\u001b[38;5;124;43m'\u001b[39;49m\u001b[43m:\u001b[49m\u001b[43m \u001b[49m\u001b[43mcontent_type\u001b[49m\u001b[43m}\u001b[49m\u001b[43m,\u001b[49m\n\u001b[1;32m    213\u001b[0m \u001b[43m    \u001b[49m\u001b[43mdata\u001b[49m\u001b[38;5;241;43m=\u001b[39;49m\u001b[43mrun_input\u001b[49m\u001b[43m,\u001b[49m\n\u001b[1;32m    214\u001b[0m \u001b[43m    \u001b[49m\u001b[43mparams\u001b[49m\u001b[38;5;241;43m=\u001b[39;49m\u001b[43mrequest_params\u001b[49m\u001b[43m,\u001b[49m\n\u001b[1;32m    215\u001b[0m \u001b[43m\u001b[49m\u001b[43m)\u001b[49m\n\u001b[1;32m    217\u001b[0m \u001b[38;5;28;01mreturn\u001b[39;00m parse_date_fields(_pluck_data(response\u001b[38;5;241m.\u001b[39mjson()))\n",
      "File \u001b[0;32m/opt/anaconda3/lib/python3.9/site-packages/apify_client/_http_client.py:189\u001b[0m, in \u001b[0;36m_HTTPClient.call\u001b[0;34m(self, method, url, headers, params, data, json, stream, parse_response)\u001b[0m\n\u001b[1;32m    186\u001b[0m         stop_retrying()\n\u001b[1;32m    187\u001b[0m     \u001b[38;5;28;01mraise\u001b[39;00m ApifyApiError(response, attempt)\n\u001b[0;32m--> 189\u001b[0m \u001b[38;5;28;01mreturn\u001b[39;00m \u001b[43m_retry_with_exp_backoff\u001b[49m\u001b[43m(\u001b[49m\n\u001b[1;32m    190\u001b[0m \u001b[43m    \u001b[49m\u001b[43m_make_request\u001b[49m\u001b[43m,\u001b[49m\n\u001b[1;32m    191\u001b[0m \u001b[43m    \u001b[49m\u001b[43mmax_retries\u001b[49m\u001b[38;5;241;43m=\u001b[39;49m\u001b[38;5;28;43mself\u001b[39;49m\u001b[38;5;241;43m.\u001b[39;49m\u001b[43mmax_retries\u001b[49m\u001b[43m,\u001b[49m\n\u001b[1;32m    192\u001b[0m \u001b[43m    \u001b[49m\u001b[43mbackoff_base_millis\u001b[49m\u001b[38;5;241;43m=\u001b[39;49m\u001b[38;5;28;43mself\u001b[39;49m\u001b[38;5;241;43m.\u001b[39;49m\u001b[43mmin_delay_between_retries_millis\u001b[49m\u001b[43m,\u001b[49m\n\u001b[1;32m    193\u001b[0m \u001b[43m    \u001b[49m\u001b[43mbackoff_factor\u001b[49m\u001b[38;5;241;43m=\u001b[39;49m\u001b[43mDEFAULT_BACKOFF_EXPONENTIAL_FACTOR\u001b[49m\u001b[43m,\u001b[49m\n\u001b[1;32m    194\u001b[0m \u001b[43m    \u001b[49m\u001b[43mrandom_factor\u001b[49m\u001b[38;5;241;43m=\u001b[39;49m\u001b[43mDEFAULT_BACKOFF_RANDOM_FACTOR\u001b[49m\u001b[43m,\u001b[49m\n\u001b[1;32m    195\u001b[0m \u001b[43m\u001b[49m\u001b[43m)\u001b[49m\n",
      "File \u001b[0;32m/opt/anaconda3/lib/python3.9/site-packages/apify_client/_utils.py:66\u001b[0m, in \u001b[0;36m_retry_with_exp_backoff\u001b[0;34m(func, max_retries, backoff_base_millis, backoff_factor, random_factor)\u001b[0m\n\u001b[1;32m     64\u001b[0m \u001b[38;5;28;01mexcept\u001b[39;00m \u001b[38;5;167;01mException\u001b[39;00m \u001b[38;5;28;01mas\u001b[39;00m e:\n\u001b[1;32m     65\u001b[0m     \u001b[38;5;28;01mif\u001b[39;00m \u001b[38;5;129;01mnot\u001b[39;00m swallow:\n\u001b[0;32m---> 66\u001b[0m         \u001b[38;5;28;01mraise\u001b[39;00m e\n\u001b[1;32m     68\u001b[0m random_sleep_factor \u001b[38;5;241m=\u001b[39m random\u001b[38;5;241m.\u001b[39muniform(\u001b[38;5;241m1\u001b[39m, \u001b[38;5;241m1\u001b[39m \u001b[38;5;241m+\u001b[39m random_factor)\n\u001b[1;32m     69\u001b[0m backoff_base_secs \u001b[38;5;241m=\u001b[39m backoff_base_millis \u001b[38;5;241m/\u001b[39m \u001b[38;5;241m1000\u001b[39m\n",
      "File \u001b[0;32m/opt/anaconda3/lib/python3.9/site-packages/apify_client/_utils.py:63\u001b[0m, in \u001b[0;36m_retry_with_exp_backoff\u001b[0;34m(func, max_retries, backoff_base_millis, backoff_factor, random_factor)\u001b[0m\n\u001b[1;32m     61\u001b[0m \u001b[38;5;28;01mfor\u001b[39;00m attempt \u001b[38;5;129;01min\u001b[39;00m \u001b[38;5;28mrange\u001b[39m(\u001b[38;5;241m1\u001b[39m, max_retries \u001b[38;5;241m+\u001b[39m \u001b[38;5;241m1\u001b[39m):\n\u001b[1;32m     62\u001b[0m     \u001b[38;5;28;01mtry\u001b[39;00m:\n\u001b[0;32m---> 63\u001b[0m         \u001b[38;5;28;01mreturn\u001b[39;00m \u001b[43mfunc\u001b[49m\u001b[43m(\u001b[49m\u001b[43mstop_retrying\u001b[49m\u001b[43m,\u001b[49m\u001b[43m \u001b[49m\u001b[43mattempt\u001b[49m\u001b[43m)\u001b[49m\n\u001b[1;32m     64\u001b[0m     \u001b[38;5;28;01mexcept\u001b[39;00m \u001b[38;5;167;01mException\u001b[39;00m \u001b[38;5;28;01mas\u001b[39;00m e:\n\u001b[1;32m     65\u001b[0m         \u001b[38;5;28;01mif\u001b[39;00m \u001b[38;5;129;01mnot\u001b[39;00m swallow:\n",
      "File \u001b[0;32m/opt/anaconda3/lib/python3.9/site-packages/apify_client/_http_client.py:187\u001b[0m, in \u001b[0;36m_HTTPClient.call.<locals>._make_request\u001b[0;34m(stop_retrying, attempt)\u001b[0m\n\u001b[1;32m    185\u001b[0m     logger\u001b[38;5;241m.\u001b[39mdebug(\u001b[38;5;124m'\u001b[39m\u001b[38;5;124mStatus code is not retryable\u001b[39m\u001b[38;5;124m'\u001b[39m, extra\u001b[38;5;241m=\u001b[39m{\u001b[38;5;124m'\u001b[39m\u001b[38;5;124mstatus_code\u001b[39m\u001b[38;5;124m'\u001b[39m: response\u001b[38;5;241m.\u001b[39mstatus_code})\n\u001b[1;32m    186\u001b[0m     stop_retrying()\n\u001b[0;32m--> 187\u001b[0m \u001b[38;5;28;01mraise\u001b[39;00m ApifyApiError(response, attempt)\n",
      "\u001b[0;31mApifyApiError\u001b[0m: User was not found or authentication token is not valid"
     ]
    }
   ],
   "source": [
    "from apify_client import ApifyClient\n",
    "\n",
    "# Initialize the ApifyClient with your API token\n",
    "client = ApifyClient(\"YOUR-Apify-API-TOKEN\")\n",
    "\n",
    "# Prepare the Actor input to get all post information from the official fifa account\n",
    "run_input = {\n",
    "    \"username\": [\"fifaworldcup\"],\n",
    "    \"resultsLimit\": 14922,\n",
    "}\n",
    "\n",
    "# Run the Actor and wait for it to finish\n",
    "run = client.actor(\"apify/instagram-post-scraper\").call(run_input=run_input)\n",
    "\n",
    "# Fetch and print Actor results from the run's dataset (if there are any)\n",
    "for item in client.dataset(run[\"defaultDatasetId\"]).iterate_items():\n",
    "    print(item)"
   ]
  },
  {
   "cell_type": "code",
   "execution_count": null,
   "id": "545f45d6",
   "metadata": {},
   "outputs": [],
   "source": []
  }
 ],
 "metadata": {
  "kernelspec": {
   "display_name": "Python 3 (ipykernel)",
   "language": "python",
   "name": "python3"
  },
  "language_info": {
   "codemirror_mode": {
    "name": "ipython",
    "version": 3
   },
   "file_extension": ".py",
   "mimetype": "text/x-python",
   "name": "python",
   "nbconvert_exporter": "python",
   "pygments_lexer": "ipython3",
   "version": "3.9.12"
  }
 },
 "nbformat": 4,
 "nbformat_minor": 5
}
