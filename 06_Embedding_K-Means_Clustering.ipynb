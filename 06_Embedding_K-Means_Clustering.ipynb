{
 "cells": [
  {
   "cell_type": "markdown",
   "id": "58512e21",
   "metadata": {},
   "source": [
    "## Imports 📦"
   ]
  },
  {
   "cell_type": "code",
   "execution_count": 1,
   "id": "03977c0b",
   "metadata": {},
   "outputs": [],
   "source": [
    "import pandas as pd\n",
    "import numpy as np\n",
    "import emoji\n",
    "import warnings\n",
    "import nltk\n",
    "from nltk.corpus import stopwords    \n",
    "import string\n",
    "import statistics"
   ]
  },
  {
   "cell_type": "code",
   "execution_count": 2,
   "id": "9b5c8f36",
   "metadata": {},
   "outputs": [],
   "source": [
    "from matplotlib import pyplot as plt\n",
    "import math\n",
    "import seaborn as sns\n",
    "import statistics"
   ]
  },
  {
   "cell_type": "code",
   "execution_count": 3,
   "id": "54a696f4",
   "metadata": {},
   "outputs": [],
   "source": [
    "warnings.filterwarnings('ignore')"
   ]
  },
  {
   "cell_type": "markdown",
   "id": "ed921e7c",
   "metadata": {},
   "source": [
    "## Load Data 💿"
   ]
  },
  {
   "cell_type": "code",
   "execution_count": 4,
   "id": "7eafc0c2",
   "metadata": {},
   "outputs": [],
   "source": [
    "df = pd.read_csv(\"Data/cleaned_by_language.csv\")"
   ]
  },
  {
   "cell_type": "code",
   "execution_count": 5,
   "id": "fdb35f1c",
   "metadata": {},
   "outputs": [],
   "source": [
    "en_df = df[df['language'] == 'en']\n",
    "es_df = df[df['language'] == 'es']"
   ]
  },
  {
   "cell_type": "code",
   "execution_count": 6,
   "id": "16da499e",
   "metadata": {},
   "outputs": [],
   "source": [
    "en_comment = en_df['text only'].to_list()\n",
    "es_comment = es_df['text only'].to_list()\n",
    "en_comment_with_emoji = en_df['text'].to_list()\n",
    "es_comment_with_emoji = es_df['text'].to_list()"
   ]
  },
  {
   "cell_type": "code",
   "execution_count": 7,
   "id": "96a0ab7b",
   "metadata": {},
   "outputs": [
    {
     "name": "stderr",
     "output_type": "stream",
     "text": [
      "[nltk_data] Downloading package punkt to\n",
      "[nltk_data]     /Users/aorawancraprayoon/nltk_data...\n",
      "[nltk_data]   Package punkt is already up-to-date!\n",
      "[nltk_data] Downloading package stopwords to\n",
      "[nltk_data]     /Users/aorawancraprayoon/nltk_data...\n",
      "[nltk_data]   Package stopwords is already up-to-date!\n"
     ]
    }
   ],
   "source": [
    "nltk.download('punkt')\n",
    "nltk.download('stopwords')\n",
    "en_stop_words = set(stopwords.words('english'))\n",
    "es_stop_words = set(stopwords.words('spanish'))\n",
    "\n",
    "def filter_comments(comment_list, stop_words):\n",
    "    filtered_comments = []\n",
    "\n",
    "    for comment in comment_list:\n",
    "        # remove word starts with @\n",
    "        comment = \" \".join(filter(lambda x:x[0]!='@', comment.split()))\n",
    "    \n",
    "        # remove punctuations\n",
    "        comment = comment.translate(str.maketrans('', '', string.punctuation))\n",
    "\n",
    "        # remove stopwords\n",
    "        words = nltk.word_tokenize(comment)\n",
    "        filtered_comment = [word for word in words if word.lower() not in stop_words]\n",
    "        filtered_comment = ' '.join(filtered_comment)\n",
    "        filtered_comment = comment\n",
    "        filtered_comments.append(filtered_comment)\n",
    "    return filtered_comments"
   ]
  },
  {
   "cell_type": "code",
   "execution_count": 8,
   "id": "b0edf613",
   "metadata": {},
   "outputs": [],
   "source": [
    "en_filtered_comments = filter_comments(en_comment, en_stop_words)\n",
    "es_filtered_comments = filter_comments(es_comment, es_stop_words)\n",
    "en_with_emoji_filtered_comments = filter_comments(en_comment_with_emoji, en_stop_words)\n",
    "es_with_emoji_filtered_comments = filter_comments(es_comment_with_emoji, es_stop_words)"
   ]
  },
  {
   "cell_type": "markdown",
   "id": "d189bc7e",
   "metadata": {},
   "source": [
    "## Text Embeddings using LASER - this pretrained model supports cross-lingual tasks and embeds in setence-level"
   ]
  },
  {
   "cell_type": "code",
   "execution_count": 9,
   "id": "eb8a53ff",
   "metadata": {},
   "outputs": [
    {
     "name": "stdout",
     "output_type": "stream",
     "text": [
      "Defaulting to user installation because normal site-packages is not writeable\n",
      "Requirement already satisfied: laserembeddings in /Users/aorawancraprayoon/Library/Python/3.9/lib/python/site-packages (1.1.2)\n",
      "Requirement already satisfied: transliterate==1.10.2 in /Users/aorawancraprayoon/Library/Python/3.9/lib/python/site-packages (from laserembeddings) (1.10.2)\n",
      "Requirement already satisfied: sacremoses==0.0.35 in /Users/aorawancraprayoon/Library/Python/3.9/lib/python/site-packages (from laserembeddings) (0.0.35)\n",
      "Requirement already satisfied: subword-nmt<0.4.0,>=0.3.6 in /Users/aorawancraprayoon/Library/Python/3.9/lib/python/site-packages (from laserembeddings) (0.3.8)\n",
      "Requirement already satisfied: torch<2.0.0,>=1.0.1.post2 in /Users/aorawancraprayoon/Library/Python/3.9/lib/python/site-packages (from laserembeddings) (1.13.0)\n",
      "Requirement already satisfied: numpy<2.0.0,>=1.15.4 in /Users/aorawancraprayoon/Library/Python/3.9/lib/python/site-packages (from laserembeddings) (1.26.1)\n",
      "Requirement already satisfied: six in /Library/Developer/CommandLineTools/Library/Frameworks/Python3.framework/Versions/3.9/lib/python3.9/site-packages (from sacremoses==0.0.35->laserembeddings) (1.15.0)\n",
      "Requirement already satisfied: tqdm in /Users/aorawancraprayoon/Library/Python/3.9/lib/python/site-packages (from sacremoses==0.0.35->laserembeddings) (4.66.1)\n",
      "Requirement already satisfied: joblib in /Users/aorawancraprayoon/Library/Python/3.9/lib/python/site-packages (from sacremoses==0.0.35->laserembeddings) (1.3.2)\n",
      "Requirement already satisfied: click in /Users/aorawancraprayoon/Library/Python/3.9/lib/python/site-packages (from sacremoses==0.0.35->laserembeddings) (8.1.7)\n",
      "Requirement already satisfied: mock in /Users/aorawancraprayoon/Library/Python/3.9/lib/python/site-packages (from subword-nmt<0.4.0,>=0.3.6->laserembeddings) (5.1.0)\n",
      "Requirement already satisfied: typing-extensions in /Users/aorawancraprayoon/Library/Python/3.9/lib/python/site-packages (from torch<2.0.0,>=1.0.1.post2->laserembeddings) (4.7.1)\n",
      "\u001b[33mWARNING: You are using pip version 21.2.4; however, version 23.3.1 is available.\n",
      "You should consider upgrading via the '/Library/Developer/CommandLineTools/usr/bin/python3 -m pip install --upgrade pip' command.\u001b[0m\n",
      "Note: you may need to restart the kernel to use updated packages.\n"
     ]
    }
   ],
   "source": [
    "pip install laserembeddings"
   ]
  },
  {
   "cell_type": "code",
   "execution_count": 10,
   "id": "87ff25d0",
   "metadata": {},
   "outputs": [
    {
     "name": "stdout",
     "output_type": "stream",
     "text": [
      "Downloading models into /Users/aorawancraprayoon/Library/Python/3.9/lib/python/site-packages/laserembeddings/data\n",
      "\n",
      "✅   Downloaded https://dl.fbaipublicfiles.com/laser/models/93langs.fcodes    \n",
      "✅   Downloaded https://dl.fbaipublicfiles.com/laser/models/93langs.fvocab    \n",
      "✅   Downloaded https://dl.fbaipublicfiles.com/laser/models/bilstm.93langs.2018-12-26.pt    \n",
      "\n",
      "✨ You're all set!\n"
     ]
    }
   ],
   "source": [
    "!/usr/bin/python3 -m laserembeddings download-models"
   ]
  },
  {
   "cell_type": "code",
   "execution_count": 11,
   "id": "814bf8c7",
   "metadata": {},
   "outputs": [],
   "source": [
    "# run this in terminal first: python -m laserembeddings download-models\n",
    "from laserembeddings import Laser\n",
    "\n",
    "laser = Laser()\n",
    "en_text_array = laser.embed_sentences(en_filtered_comments, lang='en')\n",
    "es_text_array = laser.embed_sentences(es_filtered_comments, lang='es')\n",
    "en_array = laser.embed_sentences(en_with_emoji_filtered_comments, lang='en')\n",
    "es_array = laser.embed_sentences(es_with_emoji_filtered_comments, lang='es')"
   ]
  },
  {
   "cell_type": "code",
   "execution_count": 12,
   "id": "263a4cc7",
   "metadata": {},
   "outputs": [
    {
     "data": {
      "text/plain": [
       "(280, 1024)"
      ]
     },
     "execution_count": 12,
     "metadata": {},
     "output_type": "execute_result"
    }
   ],
   "source": [
    "en_text_array.shape"
   ]
  },
  {
   "cell_type": "code",
   "execution_count": 13,
   "id": "92d6b255",
   "metadata": {},
   "outputs": [
    {
     "data": {
      "text/plain": [
       "(280, 1024)"
      ]
     },
     "execution_count": 13,
     "metadata": {},
     "output_type": "execute_result"
    }
   ],
   "source": [
    "en_array.shape"
   ]
  },
  {
   "cell_type": "markdown",
   "id": "1c7b356d",
   "metadata": {},
   "source": [
    "## Emoji Embeddings using Emoji2Vec"
   ]
  },
  {
   "cell_type": "code",
   "execution_count": 14,
   "id": "c71241e8",
   "metadata": {},
   "outputs": [],
   "source": [
    "from gensim.models import KeyedVectors\n",
    "\n",
    "# Load pretrained emoji embeddings\n",
    "emoji_model = KeyedVectors.load_word2vec_format('emoji2vec.bin', binary=True)\n",
    "\n",
    "def emoji_embedding(df):\n",
    "    emoji_list_list = df['emoji list'].to_list()\n",
    "\n",
    "    # Initialize a list to store emoji embeddings\n",
    "    emoji_embedding = []\n",
    "\n",
    "    for emoji_list in emoji_list_list:\n",
    "        emoji_list_embedding = []  # Initialize a list for embeddings of each emoji list\n",
    "        for emoji in emoji_list:\n",
    "            try:\n",
    "                emoji_list_embedding.append(emoji_model[emoji])\n",
    "                \n",
    "            except KeyError:\n",
    "                pass\n",
    "\n",
    "            # if len(emoji_list_embedding) != 0:\n",
    "            # emoji_list_embedding = np.concatenate(emoji_list_embedding, axis=0)\n",
    "        emoji_embedding.append(emoji_list_embedding)\n",
    "    \n",
    "    # average\n",
    "    res = []\n",
    "    for embeddings in emoji_embedding:\n",
    "        average_embedding = np.mean(embeddings, axis=0)\n",
    "        # padded arrays with zero emojis with a length 300 array filled with zeros\n",
    "        if average_embedding is None or np.isnan(average_embedding).all():\n",
    "            res.append(np.zeros(300))\n",
    "        else:\n",
    "            res.append(average_embedding)\n",
    "    \n",
    "    return np.array(res)\n",
    "\n",
    "# en_max_size = max(len(arr) for arr in en_emoji_embedding)\n",
    "# en_padded_arrays = [np.pad(arr, (0, en_max_size - len(arr)), 'constant') for arr in en_emoji_embedding]\n",
    "# en_emoji_array = np.vstack(en_padded_arrays)"
   ]
  },
  {
   "cell_type": "code",
   "execution_count": 15,
   "id": "7555e2e4",
   "metadata": {},
   "outputs": [],
   "source": [
    "en_emoji_array = emoji_embedding(en_df)\n",
    "es_emoji_array = emoji_embedding(es_df)"
   ]
  },
  {
   "cell_type": "code",
   "execution_count": 16,
   "id": "c800a3e4",
   "metadata": {},
   "outputs": [
    {
     "data": {
      "text/plain": [
       "(280, 300)"
      ]
     },
     "execution_count": 16,
     "metadata": {},
     "output_type": "execute_result"
    }
   ],
   "source": [
    "es_emoji_array.shape"
   ]
  },
  {
   "cell_type": "markdown",
   "id": "af48c4fb",
   "metadata": {},
   "source": [
    "##  Testing to see how many unique emojis in each comment (Don't run this part) 🧪"
   ]
  },
  {
   "cell_type": "code",
   "execution_count": 17,
   "id": "ed84367c",
   "metadata": {},
   "outputs": [],
   "source": [
    "# def emoji_embedding(df):\n",
    "#     emoji_list_list = df['emoji list'].to_list()\n",
    "\n",
    "#     # Initialize a list to store emoji embeddings\n",
    "#     emoji_embedding = []\n",
    "#     emoji_count = []\n",
    "#     emoji_list_l = []\n",
    "\n",
    "#     for emoji_list in emoji_list_list:\n",
    "#         emoji_l = []\n",
    "#         emoji_list_embedding = []  # Initialize a list for embeddings of each emoji list\n",
    "#         count = 0\n",
    "#         for emoji in emoji_list:\n",
    "#             try:\n",
    "#                 emoji_list_embedding.append(emoji_model[emoji])\n",
    "#                 emoji_l.append(emoji)\n",
    "#                 count+=1\n",
    "                \n",
    "#             except KeyError:\n",
    "#                 pass\n",
    "#         emoji_list_l.append(emoji_l)\n",
    "#         emoji_count.append(count)\n",
    "\n",
    "#         if len(emoji_list_embedding) != 0:\n",
    "#             emoji_list_embedding = np.concatenate(emoji_list_embedding, axis=0)\n",
    "#         emoji_embedding.append(emoji_list_embedding)\n",
    "\n",
    "#     return emoji_count, emoji_embedding, emoji_list_l"
   ]
  },
  {
   "cell_type": "code",
   "execution_count": 18,
   "id": "540e1220",
   "metadata": {},
   "outputs": [],
   "source": [
    "# en_emoji_count, en_emoji_embedding, es_emoji = emoji_embedding(en_df)\n",
    "# es_emoji_count, es_emoji_embedding, en_emoji = emoji_embedding(es_df)"
   ]
  },
  {
   "cell_type": "code",
   "execution_count": 19,
   "id": "9ea48fa4",
   "metadata": {},
   "outputs": [],
   "source": [
    "# list1 = []\n",
    "# for i in es_emoji:\n",
    "#     unique_set = set(i)\n",
    "#     unique_list = list(unique_set)\n",
    "#     list1.append(unique_list)\n",
    "# list1 # a list of unique emojis in each comment (that can be handled by emoji2vec)\n",
    "# counts = [len(inner_list) for inner_list in list1]\n",
    "\n",
    "# zero_count = 0\n",
    "\n",
    "# for item in counts:\n",
    "#     if item == 0:\n",
    "#         zero_count += 1\n",
    "# zero_count"
   ]
  },
  {
   "cell_type": "code",
   "execution_count": 20,
   "id": "25f2bc18",
   "metadata": {},
   "outputs": [],
   "source": [
    "# list2 = []\n",
    "# for i in en_emoji:\n",
    "#     unique_set = set(i)\n",
    "#     unique_list = list(unique_set)\n",
    "#     list2.append(unique_list)\n",
    "# list2 # a list of unique emojis in each comment (that can be handled by emoji2vec)\n",
    "# counts2 = [len(inner_list) for inner_list in list2]\n",
    "\n",
    "# zero_count2 = 0\n",
    "\n",
    "# for item in counts2:\n",
    "#     if item == 0:\n",
    "#         zero_count2 += 1\n",
    "# zero_count2"
   ]
  },
  {
   "cell_type": "markdown",
   "id": "940cccfa",
   "metadata": {},
   "source": [
    "## Concatenate the text embeddings and emoji embeddings "
   ]
  },
  {
   "cell_type": "code",
   "execution_count": 21,
   "id": "6d0c33e3",
   "metadata": {},
   "outputs": [],
   "source": [
    "# Concatenate along columns (horizontally)\n",
    "en_embeddings = np.concatenate((en_text_array, en_emoji_array), axis=1)\n",
    "es_embeddings = np.concatenate((es_text_array, es_emoji_array), axis=1)"
   ]
  },
  {
   "cell_type": "code",
   "execution_count": 22,
   "id": "7a679dd3",
   "metadata": {},
   "outputs": [
    {
     "data": {
      "text/plain": [
       "(280, 1324)"
      ]
     },
     "execution_count": 22,
     "metadata": {},
     "output_type": "execute_result"
    }
   ],
   "source": [
    "en_embeddings.shape"
   ]
  },
  {
   "cell_type": "code",
   "execution_count": 23,
   "id": "908e063d",
   "metadata": {},
   "outputs": [
    {
     "data": {
      "text/plain": [
       "(280, 300)"
      ]
     },
     "execution_count": 23,
     "metadata": {},
     "output_type": "execute_result"
    }
   ],
   "source": [
    "en_emoji_array.shape"
   ]
  },
  {
   "cell_type": "markdown",
   "id": "f8dd26e6",
   "metadata": {},
   "source": [
    "## Embedding Distributions 📊"
   ]
  },
  {
   "cell_type": "code",
   "execution_count": 24,
   "id": "701aed05",
   "metadata": {},
   "outputs": [],
   "source": [
    "def make_dist_df(arr):\n",
    "    df = pd.DataFrame(arr)\n",
    "    df['average'], df['min'], df['max']  = 0, 0, 0\n",
    "    for idx, row in df.iterrows():\n",
    "        df.at[idx, 'average'] = statistics.mean(row)\n",
    "        df.at[idx, 'min'] = min(row)\n",
    "        df.at[idx, 'max'] = max(row)\n",
    "    return df\n",
    "\n",
    "def df_embeddings(en_text_array, es_text_array, en_emoji_array, es_emoji_array):\n",
    "    en_text_df = make_dist_df(en_text_array)\n",
    "    en_text_df['type'] = 'en_text'\n",
    "    es_text_df = make_dist_df(es_text_array)\n",
    "    es_text_df['type'] = 'es_text'\n",
    "    en_emoji_df = make_dist_df(en_emoji_array)\n",
    "    en_emoji_df['type'] = 'en_emoji'\n",
    "    es_emoji_df = make_dist_df(es_emoji_array)\n",
    "    es_emoji_df['type'] = 'es_emoji'\n",
    "\n",
    "    all_df = pd.concat([en_text_df[['min','max','average','type']],\n",
    "                        es_text_df[['min','max','average','type']],\n",
    "                        en_emoji_df[['min','max','average','type']],\n",
    "                        es_emoji_df[['min','max','average','type']]])\n",
    "    return all_df"
   ]
  },
  {
   "cell_type": "code",
   "execution_count": 25,
   "id": "e9928c06",
   "metadata": {},
   "outputs": [
    {
     "data": {
      "text/plain": [
       "(-0.15, 0.48)"
      ]
     },
     "execution_count": 25,
     "metadata": {},
     "output_type": "execute_result"
    },
    {
     "data": {
      "image/png": "[encoded data removed]",
      "text/plain": [
       "<Figure size 2000x400 with 1 Axes>"
      ]
     },
     "metadata": {},
     "output_type": "display_data"
    }
   ],
   "source": [
    "dist_df = df_embeddings(en_text_array, es_text_array, en_emoji_array, es_emoji_array)\n",
    "sns.set(rc={'figure.figsize':(20,4)})\n",
    "\n",
    "fig, ax = plt.subplots()\n",
    "sns.boxplot(data=dist_df, x='average', y='type', color=\".8\", linecolor=\"#137\", flierprops={\"marker\": \".\"})\n",
    "ax.set_xlim(-0.15, 0.48)"
   ]
  },
  {
   "cell_type": "code",
   "execution_count": 26,
   "id": "f7f41487",
   "metadata": {},
   "outputs": [
    {
     "data": {
      "text/plain": [
       "(-0.15, 0.48)"
      ]
     },
     "execution_count": 26,
     "metadata": {},
     "output_type": "execute_result"
    },
    {
     "data": {
      "image/png": "[encoded data removed]",
      "text/plain": [
       "<Figure size 2000x400 with 1 Axes>"
      ]
     },
     "metadata": {},
     "output_type": "display_data"
    }
   ],
   "source": [
    "fig, ax = plt.subplots()\n",
    "sns.boxplot(data=dist_df, x='min', y='type', color=\".8\", linecolor=\"#137\", flierprops={\"marker\": \".\"})\n",
    "ax.set_xlim(-0.15, 0.48)"
   ]
  },
  {
   "cell_type": "code",
   "execution_count": 27,
   "id": "318fd7db",
   "metadata": {},
   "outputs": [
    {
     "data": {
      "text/plain": [
       "(-0.15, 0.48)"
      ]
     },
     "execution_count": 27,
     "metadata": {},
     "output_type": "execute_result"
    },
    {
     "data": {
      "image/png": "[encoded data removed]",
      "text/plain": [
       "<Figure size 2000x400 with 1 Axes>"
      ]
     },
     "metadata": {},
     "output_type": "display_data"
    }
   ],
   "source": [
    "fig, ax = plt.subplots()\n",
    "sns.boxplot(data=dist_df, x='max', y='type', color=\".8\", linecolor=\"#137\", flierprops={\"marker\": \".\"})\n",
    "ax.set_xlim(-0.15, 0.48)"
   ]
  },
  {
   "cell_type": "markdown",
   "id": "c33e5141",
   "metadata": {},
   "source": [
    "## Variable names 📇\n",
    "- en_text_array: LASER embeddings on text only (shape:280x1024)\n",
    "- en_emoji_array: emoji2vec embeddings on emoji only (shape: 280x300)\n",
    "- en_embeddings: concatenate en_text_array and en_emoji_array (shape: 280, 1324)\n",
    "- en_array: LASER embeddings on text+emoji (shape: 280x1024)\n",
    "- (replace en by es to get result from Spanish dataset)\n"
   ]
  },
  {
   "cell_type": "markdown",
   "id": "344979b9",
   "metadata": {},
   "source": [
    "## Try clustering using minibatch Kmeans -- concatenated word + emoji embeddings"
   ]
  },
  {
   "cell_type": "code",
   "execution_count": 28,
   "id": "67ef0aa0",
   "metadata": {},
   "outputs": [],
   "source": [
    "from sklearn.cluster import MiniBatchKMeans\n",
    "from sklearn.cluster import KMeans\n",
    "from sklearn.metrics import silhouette_samples, silhouette_score"
   ]
  },
  {
   "cell_type": "markdown",
   "id": "8c3dce54",
   "metadata": {},
   "source": [
    "### Determine optimal number of clusters"
   ]
  },
  {
   "cell_type": "markdown",
   "id": "2b614d27",
   "metadata": {},
   "source": [
    "#### Distortion Score Elbow\n",
    "- based on calculating the Within-Cluster-Sum of Squared Errors (WSS) for different number of clusters (k) and selecting the k for which change in WSS first starts to diminish."
   ]
  },
  {
   "cell_type": "code",
   "execution_count": 29,
   "id": "9a432855",
   "metadata": {},
   "outputs": [
    {
     "name": "stdout",
     "output_type": "stream",
     "text": [
      "Defaulting to user installation because normal site-packages is not writeable\n",
      "Requirement already satisfied: yellowbrick in /Users/aorawancraprayoon/Library/Python/3.9/lib/python/site-packages (1.5)\n",
      "Requirement already satisfied: numpy>=1.16.0 in /Users/aorawancraprayoon/Library/Python/3.9/lib/python/site-packages (from yellowbrick) (1.26.1)\n",
      "Requirement already satisfied: cycler>=0.10.0 in /Users/aorawancraprayoon/Library/Python/3.9/lib/python/site-packages (from yellowbrick) (0.12.1)\n",
      "Requirement already satisfied: matplotlib!=3.0.0,>=2.0.2 in /Users/aorawancraprayoon/Library/Python/3.9/lib/python/site-packages (from yellowbrick) (3.8.0)\n",
      "Requirement already satisfied: scikit-learn>=1.0.0 in /Users/aorawancraprayoon/Library/Python/3.9/lib/python/site-packages (from yellowbrick) (1.3.2)\n",
      "Requirement already satisfied: scipy>=1.0.0 in /Users/aorawancraprayoon/Library/Python/3.9/lib/python/site-packages (from yellowbrick) (1.11.3)\n",
      "Requirement already satisfied: python-dateutil>=2.7 in /Users/aorawancraprayoon/Library/Python/3.9/lib/python/site-packages (from matplotlib!=3.0.0,>=2.0.2->yellowbrick) (2.8.2)\n",
      "Requirement already satisfied: fonttools>=4.22.0 in /Users/aorawancraprayoon/Library/Python/3.9/lib/python/site-packages (from matplotlib!=3.0.0,>=2.0.2->yellowbrick) (4.43.1)\n",
      "Requirement already satisfied: pillow>=6.2.0 in /Users/aorawancraprayoon/Library/Python/3.9/lib/python/site-packages (from matplotlib!=3.0.0,>=2.0.2->yellowbrick) (10.1.0)\n",
      "Requirement already satisfied: importlib-resources>=3.2.0 in /Users/aorawancraprayoon/Library/Python/3.9/lib/python/site-packages (from matplotlib!=3.0.0,>=2.0.2->yellowbrick) (6.1.0)\n",
      "Requirement already satisfied: packaging>=20.0 in /Users/aorawancraprayoon/Library/Python/3.9/lib/python/site-packages (from matplotlib!=3.0.0,>=2.0.2->yellowbrick) (23.1)\n",
      "Requirement already satisfied: contourpy>=1.0.1 in /Users/aorawancraprayoon/Library/Python/3.9/lib/python/site-packages (from matplotlib!=3.0.0,>=2.0.2->yellowbrick) (1.1.1)\n",
      "Requirement already satisfied: kiwisolver>=1.0.1 in /Users/aorawancraprayoon/Library/Python/3.9/lib/python/site-packages (from matplotlib!=3.0.0,>=2.0.2->yellowbrick) (1.4.5)\n",
      "Requirement already satisfied: pyparsing>=2.3.1 in /Users/aorawancraprayoon/Library/Python/3.9/lib/python/site-packages (from matplotlib!=3.0.0,>=2.0.2->yellowbrick) (3.1.1)\n",
      "Requirement already satisfied: zipp>=3.1.0 in /Users/aorawancraprayoon/Library/Python/3.9/lib/python/site-packages (from importlib-resources>=3.2.0->matplotlib!=3.0.0,>=2.0.2->yellowbrick) (3.16.2)\n",
      "Requirement already satisfied: six>=1.5 in /Library/Developer/CommandLineTools/Library/Frameworks/Python3.framework/Versions/3.9/lib/python3.9/site-packages (from python-dateutil>=2.7->matplotlib!=3.0.0,>=2.0.2->yellowbrick) (1.15.0)\n",
      "Requirement already satisfied: threadpoolctl>=2.0.0 in /Users/aorawancraprayoon/Library/Python/3.9/lib/python/site-packages (from scikit-learn>=1.0.0->yellowbrick) (3.2.0)\n",
      "Requirement already satisfied: joblib>=1.1.1 in /Users/aorawancraprayoon/Library/Python/3.9/lib/python/site-packages (from scikit-learn>=1.0.0->yellowbrick) (1.3.2)\n",
      "\u001b[33mWARNING: You are using pip version 21.2.4; however, version 23.3.1 is available.\n",
      "You should consider upgrading via the '/Library/Developer/CommandLineTools/usr/bin/python3 -m pip install --upgrade pip' command.\u001b[0m\n",
      "Note: you may need to restart the kernel to use updated packages.\n"
     ]
    }
   ],
   "source": [
    "pip install yellowbrick"
   ]
  },
  {
   "cell_type": "markdown",
   "id": "8b3a7967",
   "metadata": {},
   "source": [
    "English"
   ]
  },
  {
   "cell_type": "code",
   "execution_count": 30,
   "id": "f27f1c70",
   "metadata": {},
   "outputs": [],
   "source": [
    "# referenced https://towardsdatascience.com/cheat-sheet-to-implementing-7-methods-for-selecting-optimal-number-of-clusters-in-python-898241e1d6ad\n",
    "# Elbow Method for K means\n",
    "# Import ElbowVisualizer\n",
    "# from yellowbrick.cluster import KElbowVisualizer\n",
    "# model = KMeans()\n",
    "# # k is range of number of clusters.\n",
    "# visualizer = KElbowVisualizer(model, k=(2,30), timings= True)\n",
    "# visualizer.fit(en_embeddings)        # Fit data to visualizer\n",
    "# visualizer.show()        # Finalize and render figure"
   ]
  },
  {
   "cell_type": "markdown",
   "id": "2768ba04",
   "metadata": {},
   "source": [
    "Spanish"
   ]
  },
  {
   "cell_type": "code",
   "execution_count": 31,
   "id": "f329f6c6",
   "metadata": {},
   "outputs": [],
   "source": [
    "# referenced https://towardsdatascience.com/cheat-sheet-to-implementing-7-methods-for-selecting-optimal-number-of-clusters-in-python-898241e1d6ad\n",
    "# Elbow Method for K means\n",
    "# Import ElbowVisualizer\n",
    "# from yellowbrick.cluster import KElbowVisualizer\n",
    "# model = KMeans()\n",
    "# # k is range of number of clusters.\n",
    "# visualizer = KElbowVisualizer(model, k=(2,30), timings= True)\n",
    "# visualizer.fit(es_embeddings)        # Fit data to visualizer\n",
    "# visualizer.show()        # Finalize and render figure"
   ]
  },
  {
   "cell_type": "markdown",
   "id": "8869ffc0",
   "metadata": {},
   "source": [
    "#### Silhouette Coefficient Method"
   ]
  },
  {
   "cell_type": "markdown",
   "id": "1a499906",
   "metadata": {},
   "source": [
    "English"
   ]
  },
  {
   "cell_type": "code",
   "execution_count": 32,
   "id": "03f911dc",
   "metadata": {},
   "outputs": [],
   "source": [
    "# Silhouette Score for K means\n",
    "# Import ElbowVisualizer\n",
    "# from yellowbrick.cluster import KElbowVisualizer\n",
    "# model = KMeans()\n",
    "# # k is range of number of clusters.\n",
    "# visualizer = KElbowVisualizer(model, k=(2,30),metric='silhouette', timings= True)\n",
    "# visualizer.fit(en_embeddings)        # Fit the data to the visualizer\n",
    "# visualizer.show()        # Finalize and render the figure"
   ]
  },
  {
   "cell_type": "markdown",
   "id": "911561df",
   "metadata": {},
   "source": [
    "Spanish"
   ]
  },
  {
   "cell_type": "code",
   "execution_count": 33,
   "id": "24f5dc82",
   "metadata": {},
   "outputs": [],
   "source": [
    "# Silhouette Score for K means\n",
    "# Import ElbowVisualizer\n",
    "# from yellowbrick.cluster import KElbowVisualizer\n",
    "# model = KMeans()\n",
    "# # k is range of number of clusters.\n",
    "# visualizer = KElbowVisualizer(model, k=(2,30),metric='silhouette', timings= True)\n",
    "# visualizer.fit(es_embeddings)        # Fit the data to the visualizer\n",
    "# visualizer.show()        # Finalize and render the figure"
   ]
  },
  {
   "cell_type": "markdown",
   "id": "3ab10571",
   "metadata": {},
   "source": [
    "#### Calinski-Harabasz Index"
   ]
  },
  {
   "cell_type": "markdown",
   "id": "13d5ef94",
   "metadata": {},
   "source": [
    "English"
   ]
  },
  {
   "cell_type": "code",
   "execution_count": 34,
   "id": "66e0db3e",
   "metadata": {},
   "outputs": [],
   "source": [
    "# Calinski Harabasz Score for K means\n",
    "# Import ElbowVisualizer\n",
    "# from yellowbrick.cluster import KElbowVisualizer\n",
    "# model = KMeans()\n",
    "# # k is range of number of clusters.\n",
    "# visualizer = KElbowVisualizer(model, k=(2,30),metric='calinski_harabasz', timings= True)\n",
    "# visualizer.fit(en_embeddings)        # Fit the data to the visualizer\n",
    "# visualizer.show()        # Finalize and render the figure"
   ]
  },
  {
   "cell_type": "markdown",
   "id": "182a68a4",
   "metadata": {},
   "source": [
    "Spanish"
   ]
  },
  {
   "cell_type": "code",
   "execution_count": 35,
   "id": "9aedf513",
   "metadata": {},
   "outputs": [
    {
     "data": {
      "image/png": "[encoded data removed]",
      "text/plain": [
       "<Figure size 800x550 with 2 Axes>"
      ]
     },
     "metadata": {},
     "output_type": "display_data"
    },
    {
     "data": {
      "text/plain": [
       "<Axes: title={'center': 'Calinski Harabasz Score Elbow for KMeans Clustering'}, xlabel='k', ylabel='calinski harabasz score'>"
      ]
     },
     "execution_count": 35,
     "metadata": {},
     "output_type": "execute_result"
    }
   ],
   "source": [
    "# Calinski Harabasz Score for K means\n",
    "# Import ElbowVisualizer\n",
    "from yellowbrick.cluster import KElbowVisualizer\n",
    "model = KMeans()\n",
    "# k is range of number of clusters.\n",
    "visualizer = KElbowVisualizer(model, k=(2,30),metric='calinski_harabasz', timings= True)\n",
    "visualizer.fit(es_embeddings)        # Fit the data to the visualizer\n",
    "visualizer.show()        # Finalize and render the figure"
   ]
  },
  {
   "cell_type": "markdown",
   "id": "4e173c7d",
   "metadata": {},
   "source": [
    "### Clustering Functions"
   ]
  },
  {
   "cell_type": "code",
   "execution_count": 36,
   "id": "6812e2ed",
   "metadata": {},
   "outputs": [],
   "source": [
    "# code from https://dylancastillo.co/nlp-snippets-cluster-documents-using-word2vec/\n",
    "def mbkmeans_clusters(\n",
    "\tX, \n",
    "    k, \n",
    "    mb, \n",
    "    print_silhouette_values, \n",
    "):\n",
    "    \"\"\"Generate clusters and print Silhouette metrics using MBKmeans\n",
    "\n",
    "    Args:\n",
    "        X: Matrix of features.\n",
    "        k: Number of clusters.\n",
    "        mb: Size of mini-batches.\n",
    "        print_silhouette_values: Print silhouette values per cluster.\n",
    "\n",
    "    Returns:\n",
    "        Trained clustering model and labels based on X.\n",
    "    \"\"\"\n",
    "    km = MiniBatchKMeans(n_clusters=k, batch_size=mb).fit(X)\n",
    "    print(f\"For n_clusters = {k}\")\n",
    "    print(f\"Silhouette coefficient: {silhouette_score(X, km.labels_):0.2f}\")\n",
    "    print(f\"Inertia:{km.inertia_}\")\n",
    "\n",
    "    if print_silhouette_values:\n",
    "        sample_silhouette_values = silhouette_samples(X, km.labels_)\n",
    "        print(f\"Silhouette values:\")\n",
    "        silhouette_values = []\n",
    "        for i in range(k):\n",
    "            cluster_silhouette_values = sample_silhouette_values[km.labels_ == i]\n",
    "            silhouette_values.append(\n",
    "                (\n",
    "                    i,\n",
    "                    cluster_silhouette_values.shape[0],\n",
    "                    cluster_silhouette_values.mean(),\n",
    "                    cluster_silhouette_values.min(),\n",
    "                    cluster_silhouette_values.max(),\n",
    "                )\n",
    "            )\n",
    "        silhouette_values = sorted(\n",
    "            silhouette_values, key=lambda tup: tup[2], reverse=True\n",
    "        )\n",
    "        for s in silhouette_values:\n",
    "            print(\n",
    "                f\"    Cluster {s[0]}: Size:{s[1]} | Avg:{s[2]:.2f} | Min:{s[3]:.2f} | Max: {s[4]:.2f}\"\n",
    "            )\n",
    "    return km, km.labels_"
   ]
  },
  {
   "cell_type": "code",
   "execution_count": 37,
   "id": "24f6195e",
   "metadata": {},
   "outputs": [],
   "source": [
    "def apply_cluster(lang_embeddings, lang_df, lang_filtered_comments, k):\n",
    "    clustering, cluster_labels = mbkmeans_clusters(\n",
    "        X=lang_embeddings,\n",
    "        k=k,\n",
    "        mb=500,\n",
    "        print_silhouette_values=True,\n",
    "    )\n",
    "    df_clusters = pd.DataFrame({\n",
    "        \"text\": lang_df['text'],\n",
    "        \"tokens\": [\" \".join(text) for text in lang_filtered_comments],\n",
    "        \"cluster\": cluster_labels\n",
    "    })\n",
    "    return df_clusters"
   ]
  },
  {
   "cell_type": "markdown",
   "id": "75b6c6ed",
   "metadata": {},
   "source": [
    "### English Results"
   ]
  },
  {
   "cell_type": "code",
   "execution_count": 38,
   "id": "c8f9b6e6",
   "metadata": {},
   "outputs": [
    {
     "name": "stdout",
     "output_type": "stream",
     "text": [
      "For n_clusters = 11\n",
      "Silhouette coefficient: 0.14\n",
      "Inertia:109.97831318985935\n",
      "Silhouette values:\n",
      "    Cluster 3: Size:15 | Avg:0.46 | Min:0.33 | Max: 0.52\n",
      "    Cluster 4: Size:21 | Avg:0.44 | Min:0.27 | Max: 0.49\n",
      "    Cluster 2: Size:15 | Avg:0.43 | Min:0.14 | Max: 0.49\n",
      "    Cluster 10: Size:5 | Avg:0.42 | Min:0.40 | Max: 0.43\n",
      "    Cluster 5: Size:13 | Avg:0.34 | Min:0.17 | Max: 0.40\n",
      "    Cluster 6: Size:9 | Avg:0.29 | Min:-0.01 | Max: 0.43\n",
      "    Cluster 9: Size:27 | Avg:0.17 | Min:0.03 | Max: 0.30\n",
      "    Cluster 0: Size:66 | Avg:0.07 | Min:-0.06 | Max: 0.18\n",
      "    Cluster 1: Size:45 | Avg:0.04 | Min:-0.09 | Max: 0.16\n",
      "    Cluster 7: Size:26 | Avg:-0.04 | Min:-0.19 | Max: 0.07\n",
      "    Cluster 8: Size:38 | Avg:-0.07 | Min:-0.19 | Max: -0.01\n"
     ]
    }
   ],
   "source": [
    "en_df_clusters = apply_cluster(en_embeddings, en_df, en_filtered_comments, 11)"
   ]
  },
  {
   "cell_type": "markdown",
   "id": "9edfd308",
   "metadata": {},
   "source": [
    "Top 3 English clusters"
   ]
  },
  {
   "cell_type": "code",
   "execution_count": 39,
   "id": "c519a4c0",
   "metadata": {},
   "outputs": [
    {
     "data": {
      "text/plain": [
       "['We love you hazards🔥🔥🔥',\n",
       " 'The France 🇫🇷 is on Fire 🔥',\n",
       " 'dats literally my dad 🔥',\n",
       " 'Best player 🔥🔥',\n",
       " '@pure_sh1thousery we are winer❤️❤️🔥🇮🇷🇮🇷🇮🇷🇮🇷',\n",
       " 'My Favorite team 🔥🔥',\n",
       " '@nadoosh_ku I agreed with you from Saudi Arabia🔥🔥🔥',\n",
       " 'Korea Vs Ghana was far better game 🔥🔥',\n",
       " 'Musiala all the way🔥',\n",
       " 'Rushford 🔥',\n",
       " 'Nice game 🔥',\n",
       " '@beatbox_musicality For real bro🔥🔥🔥',\n",
       " 'Cool🔥',\n",
       " 'Mbappe on another level in this world cup🔥🔥🔥❤️',\n",
       " 'The big and champions France in Qatar2022🔥',\n",
       " '@farzad_1818 I like both team but wowwww Maroccco 🔥',\n",
       " '@m.a.l.e.k.a.n.o_jr Just wait🔥',\n",
       " 'Th rise of asian football ❤️❤️❤️proudly all Asian can say japan is a Asian football country...,🔥🔥🔥',\n",
       " 'So much ❤️❤️❤️❤️ for CR7🔥🔥',\n",
       " 'Go Croatia!!🔥🔥',\n",
       " 'Uff he was the best 🔥🔥😍']"
      ]
     },
     "execution_count": 39,
     "metadata": {},
     "output_type": "execute_result"
    }
   ],
   "source": [
    "en_df_clusters[en_df_clusters['cluster']==4]['text'].tolist()"
   ]
  },
  {
   "cell_type": "code",
   "execution_count": 40,
   "id": "eda7ec52",
   "metadata": {},
   "outputs": [
    {
     "data": {
      "text/plain": [
       "['Best World Cup ever 😍',\n",
       " 'Wow nice moves robo😍😍😍😍😍😍😍😍 challenge accepted 🔥🔥🔥🔥',\n",
       " \"Congrates Ghana!! Great job u guys did.😍 But I still don't understand why did the referee decided that way. 🥲\",\n",
       " 'Missing Italy in the world cup😍😍😍🇮🇹🇮🇹🇮🇹',\n",
       " 'Argentina 3.points win yees❤️😘',\n",
       " 'oooh jungkook and his song 😍And congratulations on the victory of the French',\n",
       " 'Congratulations to Japan, Morocco, Brazil, South Korea and Qatar 😍',\n",
       " 'HE SO FINE OMLL 😍',\n",
       " 'Follow @__footycontent_ 😍',\n",
       " 'France ❤️😍and Argentina 😍❤️❤️',\n",
       " \"Looking forward to Hakimi vs MBappe'😍❤️ May the best win!\",\n",
       " \"@el_dado1004 ya ya ya, croatia lost to spain 6-0 in 2018. You are the kid who couldn't handle the facts and couldnt help yourself but to run your fingers through my comment. Stay mad bestie 😍\",\n",
       " '@hassan.ahmed.07 6 Games 5 goals 3 assist now😍']"
      ]
     },
     "execution_count": 40,
     "metadata": {},
     "output_type": "execute_result"
    }
   ],
   "source": [
    "en_df_clusters[en_df_clusters['cluster']==5]['text'].tolist()"
   ]
  },
  {
   "cell_type": "code",
   "execution_count": 41,
   "id": "454a9ff2",
   "metadata": {},
   "outputs": [
    {
     "data": {
      "text/plain": [
       "['Netherlands👏👏👏 and also cricket',\n",
       " 'Definitely!!! 👏👏👏👏👏',\n",
       " '@pr1ncesa_mar1 never! Korea is much better team! 👏',\n",
       " 'He is completely right! 👏',\n",
       " 'hand ball 👏',\n",
       " 'The Bluetooth goal 👏',\n",
       " '@itsabdelfatah you were right 👏',\n",
       " 'respect 👏',\n",
       " 'The Best goal of the world cup👏👏👏⚽️',\n",
       " 'Just an amazing team great job 👏🏻👏🏻👏🏻👏🏻👏🏻👏🏻👏🏻👏🏻❤️❤️❤️❤️',\n",
       " '@reemasul_r3 there u go I told u guys yall can win too, good job 👏🏻👏🏻 u guys won fair and square, dont feel low for ur team. They are good enough alrdy 👏🏻',\n",
       " '@porti_elias Its True buddy👏👏',\n",
       " 'Best of luck upcoming final game @afaseleccion 👏👏👏🏆',\n",
       " '@fabreezy_ 👏👏👏 this is yours???',\n",
       " '@k.mbappe proud of you👏']"
      ]
     },
     "execution_count": 41,
     "metadata": {},
     "output_type": "execute_result"
    }
   ],
   "source": [
    "en_df_clusters[en_df_clusters['cluster']==3]['text'].tolist()"
   ]
  },
  {
   "cell_type": "markdown",
   "id": "893ad2f7",
   "metadata": {},
   "source": [
    "### Spanish Results"
   ]
  },
  {
   "cell_type": "markdown",
   "id": "e0893b25",
   "metadata": {},
   "source": [
    "Top 3 Spanish clusters"
   ]
  },
  {
   "cell_type": "code",
   "execution_count": 42,
   "id": "e16d0060",
   "metadata": {},
   "outputs": [
    {
     "name": "stdout",
     "output_type": "stream",
     "text": [
      "For n_clusters = 8\n",
      "Silhouette coefficient: 0.25\n",
      "Inertia:105.64491628529683\n",
      "Silhouette values:\n",
      "    Cluster 3: Size:11 | Avg:0.41 | Min:0.17 | Max: 0.47\n",
      "    Cluster 6: Size:35 | Avg:0.39 | Min:0.06 | Max: 0.54\n",
      "    Cluster 4: Size:21 | Avg:0.38 | Min:0.03 | Max: 0.50\n",
      "    Cluster 1: Size:68 | Avg:0.38 | Min:0.02 | Max: 0.45\n",
      "    Cluster 7: Size:13 | Avg:0.37 | Min:0.02 | Max: 0.46\n",
      "    Cluster 5: Size:14 | Avg:0.26 | Min:-0.02 | Max: 0.43\n",
      "    Cluster 0: Size:10 | Avg:0.10 | Min:-0.07 | Max: 0.20\n",
      "    Cluster 2: Size:108 | Avg:0.07 | Min:-0.12 | Max: 0.21\n"
     ]
    }
   ],
   "source": [
    "es_df_clusters = apply_cluster(es_embeddings, es_df, es_filtered_comments, 8)"
   ]
  },
  {
   "cell_type": "code",
   "execution_count": 43,
   "id": "24bb3cfc",
   "metadata": {},
   "outputs": [
    {
     "name": "stdout",
     "output_type": "stream",
     "text": [
      "Defaulting to user installation because normal site-packages is not writeable\n",
      "Requirement already satisfied: translate in /Users/aorawancraprayoon/Library/Python/3.9/lib/python/site-packages (3.6.1)\n",
      "Requirement already satisfied: lxml in /Users/aorawancraprayoon/Library/Python/3.9/lib/python/site-packages (from translate) (4.9.3)\n",
      "Requirement already satisfied: click in /Users/aorawancraprayoon/Library/Python/3.9/lib/python/site-packages (from translate) (8.1.7)\n",
      "Requirement already satisfied: requests in /Users/aorawancraprayoon/Library/Python/3.9/lib/python/site-packages (from translate) (2.31.0)\n",
      "Requirement already satisfied: libretranslatepy==2.1.1 in /Users/aorawancraprayoon/Library/Python/3.9/lib/python/site-packages (from translate) (2.1.1)\n",
      "Requirement already satisfied: charset-normalizer<4,>=2 in /Users/aorawancraprayoon/Library/Python/3.9/lib/python/site-packages (from requests->translate) (3.3.0)\n",
      "Requirement already satisfied: urllib3<3,>=1.21.1 in /Users/aorawancraprayoon/Library/Python/3.9/lib/python/site-packages (from requests->translate) (2.0.5)\n",
      "Requirement already satisfied: idna<4,>=2.5 in /Users/aorawancraprayoon/Library/Python/3.9/lib/python/site-packages (from requests->translate) (2.10)\n",
      "Requirement already satisfied: certifi>=2017.4.17 in /Users/aorawancraprayoon/Library/Python/3.9/lib/python/site-packages (from requests->translate) (2023.7.22)\n",
      "\u001b[33mWARNING: You are using pip version 21.2.4; however, version 23.3.1 is available.\n",
      "You should consider upgrading via the '/Library/Developer/CommandLineTools/usr/bin/python3 -m pip install --upgrade pip' command.\u001b[0m\n",
      "Note: you may need to restart the kernel to use updated packages.\n"
     ]
    }
   ],
   "source": [
    "pip install translate"
   ]
  },
  {
   "cell_type": "code",
   "execution_count": 44,
   "id": "0e7baa5f",
   "metadata": {},
   "outputs": [],
   "source": [
    "from translate import Translator"
   ]
  },
  {
   "cell_type": "code",
   "execution_count": 45,
   "id": "52665cc8",
   "metadata": {},
   "outputs": [],
   "source": [
    "translator = Translator(from_lang=\"es\", to_lang='en')\n",
    "es_df_clusters['translation'] = es_df_clusters['text'].apply(lambda x: translator.translate(x))"
   ]
  },
  {
   "cell_type": "code",
   "execution_count": 46,
   "id": "5f9525d9",
   "metadata": {},
   "outputs": [
    {
     "data": {
      "text/plain": [
       "['Nuestro último partido en un mundial 🇨🇴😢',\n",
       " 'Como molan mis negritos 😢',\n",
       " '@fifaworldcup Ecuador se merecía el pase 😢',\n",
       " 'Que bueno que sos 😭😭😭',\n",
       " 'Aún duele😢',\n",
       " 'y mechico?😢',\n",
       " '@guiguelpaulo 😢',\n",
       " 'Merecias ganar japon 😢',\n",
       " 'Neymar Da Silva Santos Junior 😢',\n",
       " '@mdsojid364 llora brasileño 😢',\n",
       " 'Casillas lloron😢',\n",
       " 'Jamás pensé que un mundial del cuál tantas personas esperaban ver calidad esté siendo tan manipulado y arreglado cómo esté, queríamos ver transparencia con buenos jugadores dejándolo todo en la cancha pero al final solo hemos visto fraude,mentiras y engañó con la mayoría de equipos que han salido, hasta los árbitros parecen comprados porque han pitado penaltis inexistente para favorecer a los equipos que deseaban ver en la final, QUE TRISTEZA ESTÉ MUNDIAL DE QATAR 2022 😢😢😢.',\n",
       " 'La final la juegan 2 equipos......que gran decepción este mundial 😢']"
      ]
     },
     "execution_count": 46,
     "metadata": {},
     "output_type": "execute_result"
    }
   ],
   "source": [
    "es_df_clusters[es_df_clusters['cluster']==7]['translation'].tolist()\n",
    "es_df_clusters[es_df_clusters['cluster']==7]['text'].tolist()"
   ]
  },
  {
   "cell_type": "code",
   "execution_count": 47,
   "id": "bc5ee8c9",
   "metadata": {},
   "outputs": [
    {
     "data": {
      "text/plain": [
       "['With everything maes 🔥🇨🇷',\n",
       " 'The master magician🔥🔥  👏🏻⚡',\n",
       " 'We love you @yosoy8a 🇲🇽🔥',\n",
       " \"Let's go Spain 🔥\",\n",
       " 'Life changes when it starts to focus on you🎶🔥',\n",
       " '@sandra_cariel cameeron 100% éliminer 🔥🔥',\n",
       " \"@hoonjy you guys, if those shots didn't hit the stick uffff🔥\",\n",
       " 'It will be that they break the curse🔥🔥🔥',\n",
       " 'Valencia🔥🔥🔥',\n",
       " 'All my faith for Argentina 🔥',\n",
       " '@pablogavi good luck🔥',\n",
       " \"@deyaneira_ae what a qualification Valencia gave in Senegal's 2nd goal🙌🔥🔥\",\n",
       " \"The MESSIAS is back 🇦🇷🇦🇷🇦🇷🇦🇷🇦🇷🇦🇷 Let's go Selection 🔥🔥🔥\",\n",
       " 'Ronaldo🔥🔥🔥🔥',\n",
       " 'Aidouni🔥❤️',\n",
       " '@hilla_loaiza what level 🔥🔥🔥',\n",
       " 'What a great game from this man🔥',\n",
       " 'Argentina 🔥💚',\n",
       " 'Trioos are always good bro 🔥😉',\n",
       " 'The best in the world! ❤️\\u200d🔥❤️\\u200d🔥',\n",
       " '😍ñ🔥🔥🔥',\n",
       " 'ComOn Argentina..you can do it 🔥❤️🔥',\n",
       " \"Let's go Argentina 🔥🔥\",\n",
       " 'It was an exquisite match 🔥',\n",
       " 'Argentina wins 🔥🔥🔥❤️❤️❤️',\n",
       " '🔥🔥🔥👏🙌 mexico 🇲🇽',\n",
       " 'Argentina, Alvares🔥',\n",
       " '🔥Argentina. 3 🔥 France 1🔥',\n",
       " 'Argentina 😍❤️🔥🔥',\n",
       " 'Roberto 🔥🔥']"
      ]
     },
     "execution_count": 47,
     "metadata": {},
     "output_type": "execute_result"
    }
   ],
   "source": [
    "t7 = ['With everything maes 🔥🇨🇷','The master magician🔥🔥  👏🏻⚡',\n",
    " 'We love you @yosoy8a 🇲🇽🔥',\n",
    " 'Let\\'s go Spain 🔥',\n",
    " 'Life changes when it starts to focus on you🎶🔥',\n",
    " '@sandra_cariel cameeron 100% éliminer 🔥🔥',\n",
    " '@hoonjy you guys, if those shots didn\\'t hit the stick uffff🔥',\n",
    " 'It will be that they break the curse🔥🔥🔥',\n",
    " 'Valencia🔥🔥🔥',\n",
    " 'All my faith for Argentina 🔥',\n",
    " '@pablogavi good luck🔥',\n",
    " '@deyaneira_ae what a qualification Valencia gave in Senegal\\'s 2nd goal🙌🔥🔥',\n",
    " 'The MESSIAS is back 🇦🇷🇦🇷🇦🇷🇦🇷🇦🇷🇦🇷 Let\\'s go Selection 🔥🔥🔥',\n",
    " 'Ronaldo🔥🔥🔥🔥',\n",
    " 'Aidouni🔥❤️',\n",
    " '@hilla_loaiza what level 🔥🔥🔥',\n",
    " 'What a great game from this man🔥',\n",
    " 'Argentina 🔥💚',\n",
    " 'Trioos are always good bro 🔥😉',\n",
    " 'The best in the world! ❤️\\u200d🔥❤️\\u200d🔥',\n",
    " '😍ñ🔥🔥🔥',\n",
    " 'ComOn Argentina..you can do it 🔥❤️🔥',\n",
    " 'Let\\'s go Argentina 🔥🔥',\n",
    " 'It was an exquisite match 🔥',\n",
    " 'Argentina wins 🔥🔥🔥❤️❤️❤️',\n",
    " '🔥🔥🔥👏🙌 mexico 🇲🇽',\n",
    " 'Argentina, Alvares🔥',\n",
    " '🔥Argentina. 3 🔥 France 1🔥',\n",
    " 'Argentina 😍❤️🔥🔥',\n",
    " 'Roberto 🔥🔥']\n",
    "t7"
   ]
  },
  {
   "cell_type": "code",
   "execution_count": 48,
   "id": "3b7d3778",
   "metadata": {},
   "outputs": [
    {
     "data": {
      "text/plain": [
       "['👏👏vamos con todo, strong',\n",
       " 'Felicidades a Ecuador por ganarle a los esclavistas 👏🏼👏🏼',\n",
       " '15 mundiales 👏👏👏',\n",
       " 'El mejor de todos ❤️👏',\n",
       " '👏👏Vamos ticos que si se puede , recurren cuando salieron del grupo de la muerte en el 2014  cuando todos los daban por muertos y los muertos resultaron ser otros . Vamos ticos que aún que mi equipo es USA pero mi corazón se lo ganaron en aquel mundial 2014 . Sino es mi USA son ustedes para mi . ❤️',\n",
       " 'Ecuador presente 🇪🇨👏👏',\n",
       " 'Maradona lo ayudar a Messi para lograr el triunfo ❤️👏👏👏',\n",
       " 'El mejor del mundo 👏🏻 😍',\n",
       " 'El mejor de Portugal 👏👏',\n",
       " 'Orgullo mexicano ❤️👏🏻🇲🇽',\n",
       " 'Mejor que publiquen los momentos de goles anulados 👏👏',\n",
       " '@caro2653 👏👏👏',\n",
       " 'Un grande mi tío RIL O 👏👏👏 @dorian_ybaceta @lopezillo.public @hugo_charcape03 @henrykux03',\n",
       " 'Gracias por todo Cristiano Ronaldo! El mejor jugador y atleta de la Historia de la Humanidad! 👏🏼👏🏼💪🏻💪🏻',\n",
       " 'El mejor centrocampista 👏🏻',\n",
       " 'Doble pechuga 😂👏',\n",
       " '@maxirodriguez11oficial genio!!! 👏👏👏👏💙🤍💙',\n",
       " '@__mati_15 deacuerdo. Es la realidad. La escuela del futbol Concacaf esta cambiando. Lo que no se vale es que jugadores que jamas han jugado en Concacaf inventen. Me gustaria ver cualquier seleccion de comebol contra Curacao, Jamaica incluso Mexico pero um Mexico con escuela propria no de comebol 👏',\n",
       " '@hassan.ahmed.07 y de ellos cuantos penales?? que ni siquiera han sido faltas a el.👏👏',\n",
       " 'Argentina 🇦🇷 Leo 👏👏👏👏',\n",
       " 'Marrocos👏👏👐👐']"
      ]
     },
     "execution_count": 48,
     "metadata": {},
     "output_type": "execute_result"
    }
   ],
   "source": [
    "# es_df_clusters[es_df_clusters['cluster']==1]['translation'].tolist()\n",
    "es_df_clusters[es_df_clusters['cluster']==4]['text'].tolist()"
   ]
  },
  {
   "cell_type": "code",
   "execution_count": 49,
   "id": "166b95fc",
   "metadata": {},
   "outputs": [
    {
     "data": {
      "text/plain": [
       "['Proudly Ecuadorians 😍',\n",
       " '❤️❤️❤️❤️❤️❤️ Ecuadorians 😍😍😍😍😍',\n",
       " '@btito_.avak best goalkeeper in the world, proceeds to lose 7 to 0😍😍😍',\n",
       " 'Eden hazard comes back😍😍😍',\n",
       " 'love banget idola saya portugal - Cristiano Ronaldo.😍',\n",
       " 'I have always liked Ghanaian uniforms😍',\n",
       " 'Love the France shirt 😍😍😍 🇺🇾🇨🇵',\n",
       " 'Lol Casillas!!! 😍😍',\n",
       " 'thank you 😍',\n",
       " '@sebassss_07 our goal is to win the world championships, not to participate 😘',\n",
       " '😍ronaldo']"
      ]
     },
     "execution_count": 49,
     "metadata": {},
     "output_type": "execute_result"
    }
   ],
   "source": [
    "t4 = ['Proudly Ecuadorians 😍',\n",
    " '❤️❤️❤️❤️❤️❤️ Ecuadorians 😍😍😍😍😍',\n",
    " '@btito_.avak best goalkeeper in the world, proceeds to lose 7 to 0😍😍😍',\n",
    " 'Eden hazard comes back😍😍😍',\n",
    " 'love banget idola saya portugal - Cristiano Ronaldo.😍',\n",
    " 'I have always liked Ghanaian uniforms😍',\n",
    " 'Love the France shirt 😍😍😍 🇺🇾🇨🇵',\n",
    " 'Lol Casillas!!! 😍😍',\n",
    " 'thank you 😍',\n",
    " '@sebassss_07 our goal is to win the world championships, not to participate 😘',\n",
    " '😍ronaldo']\n",
    "t4"
   ]
  },
  {
   "cell_type": "code",
   "execution_count": 50,
   "id": "3e3c1b7b",
   "metadata": {},
   "outputs": [
    {
     "data": {
      "text/plain": [
       "['Que seductor el de la segunda foto 😂😂',\n",
       " '@magggitomcruz ya estamos en la copa, se llama USA 🇺🇸 lmao p3nd3j0 😂😂',\n",
       " 'Osea el uno tapa penal el otro hace gol y este es el mejor del partido es lo de ayer Ferrán hizo los 2 goles y grande jugadas y el mejor fue Gavi 😂😂',\n",
       " '@daje_mitico 😂😂',\n",
       " '@lauhernandezchavez La Payasada Les salió caro 😂',\n",
       " 'Poor guy 😂',\n",
       " 'Ecuador los hizo bailar los humilló y supuestamente este quedé como mejor jugador 😂 tras que anulan  un gol legítimo, también meten mano en el mejor jugador cuando todo el mundo se dió cuenta perfectamente que Ecuador los superó, que descarados que son',\n",
       " '😂 Ronaldo',\n",
       " 'Se mueve más una cucaracha con baygon😂',\n",
       " '@jomiguelrivera el gol del siglo se lo hicimos a italia😂',\n",
       " 'Que buen negocio el de nuestra selección 😂',\n",
       " 'Mierda 😂😂😂😂😂😂😂😂',\n",
       " '@bertonrayhs_ 😂😂😂la tenes adentro🇦🇷🇦🇷',\n",
       " 'Los de Arabia Saudí se quieren morir estaban contentos porque nos ganaron el primer partido 😂😂😂 vamos Argentina 🇦🇷🇦🇷',\n",
       " '@chucuzilla la mas grande conquista de Vargentina against Brasil ? 😂👌🏼 Pelé es maior que lá Vargentina 😂',\n",
       " 'Lo re sentamos al polaco😂',\n",
       " '@yer_gamboa irse es irse jaja preguntale a Uruguay jaja crees que les importa irse con la cara en alto jaja se fueron llorando queriendo golpear a los árbitros... Igual cada quien sus aspiraciones jaja ya si Japón es campeón del mundo dirán los ticos que le ganaron😂😂😂',\n",
       " 'Se comieron 11 goles ⚽🥅 los más Goleados del Mundial 😂😂😂😂',\n",
       " '@el_pishuelo Uruguay ni existe en el mapa q es Uruguay?😂😂',\n",
       " '@lucaasperee Texas nos vale pura vrga\\nSomos de los países con mas territorio del mundo\\nPero en las Malvinas se habla inglés 😂😂😂😂',\n",
       " '@diegoo_menendezz no hubo error en el VAR, NO LLOREN DINOS😂😂😂😂',\n",
       " '@_ab_do_r.c.a Marruecos fuera de la fifa el día 6😂😂😂',\n",
       " 'Jajajaja ni ganas de buscar el buscador 😂',\n",
       " 'El equipo que ganó x que Portugal se dejo ganar lo mismo hizo españa😂',\n",
       " '😂😂 cara de perro chihuahua  golazo que iso jaja',\n",
       " '@matt.changa mas pena dió uruWHY y los payasos saliendo del estadio pegando el monitor del VAR. ELIMINADO😂😂😂😂😂',\n",
       " '@salvalopz4 mira las estrellas que tiene cada escudo y despues decime quien es hijo de quien 😂',\n",
       " '@_arabicqueen_ dream😂😂',\n",
       " '@eugenio_9892 😂😂😂Argentino ? ahora ya se porque eres asi pero yo no hablo mal a la gente como tu lo haces  solamente te deseo buena suerte por El resto',\n",
       " '@j_fonse10 😂😂😂yo tambien ati',\n",
       " '@abdan507___ 😂😂😂😂😂😂😂😂😂 mentira!!! Pero repítanlo hasta que se lo crean 😂😂😂',\n",
       " '@miguelz_cunha jajajaja lee bien antes de responder jajajaja antes quiero que pasen los bailes 😂😂 para ver el baile de paquetes 🕺🏻🇧🇷',\n",
       " '@vlz.matthew_ sos muy chico al lado de Uruguay ni al mundial clasificas 😂',\n",
       " \"Y sólo tiene 21 años 😢 yo a los 21 estaba en un McDonald's 😂\",\n",
       " '@romanruizdiazok los argentinos estan tan ilusionados😂',\n",
       " '@sofiaramosfleury ya ahora dilo sin llorar. NO FUE PENAL😂😂😂😂😂😂',\n",
       " '@abderazak_ot vale, el caso es que la derrota era merecida, pero no estas para bromear, repito que Marruecos no tiene ni trofeos ni historia 😂',\n",
       " '@anthony_pv05 Si vosotros hubierais jugado contra Inglaterra, sería  50-0😂',\n",
       " '@_monniiiiiiiiii_ Hay un proverbio marroquí que dice: \"Llorar después de los muertos es una pérdida\".😂',\n",
       " '@stuffbarbdoes lol zero 😂😂😂😂',\n",
       " '@diego_mendivels0 el único latino que no habló en español. Por eso no van a ganar el mundial 😂\\U0001fae3😅',\n",
       " '@vinicius_conrado12 bye bye brazil😂😂😂😂😂😂😂😂😂😅',\n",
       " '@luizhenrique_147  que paso brasil eliminado 😂',\n",
       " 'Croacia 😂😂😂😂😂',\n",
       " '@lorran.fon 😢😢😢😢😢Lo siento ha perdido la partida 😂😂😂😂😂😂😂😂',\n",
       " 'Se mufaron 😂',\n",
       " '@emiliojose_v guarda este comentario. Pedazo de so re te.  En serio que tus padres deben ser hermanos, sino difícil ser tan Bob0😂',\n",
       " 'Que no era que iba a ganar ?? Cristaldo llorando😹😹',\n",
       " '@acdc.jpedro 😂😂😂😂😂',\n",
       " '@dansabras Brasil decime qué se siente tener en casa a tu papá 😂 🇦🇷🇦🇷🇦🇷',\n",
       " '@life_is_sedd como te quedo eso ? 😂',\n",
       " 'Espero apoyen su propia worldcup 😂',\n",
       " 'q pasen el desmadre en Qatar 😂',\n",
       " 'El arquero.😂',\n",
       " 'Ronaldo siempre un genio!! Ronaldo es argentino😂 es de todos!!!',\n",
       " '@sofi_more.mv no es mi país soy chileno, eso porque quiera que argentina perdieran 😂',\n",
       " '@r_cotic27 Tua Croácia levando surra 😂',\n",
       " 'Anda para allá 😂',\n",
       " 'Jajajaja nos vemos en 4 años !!! 😂',\n",
       " 'No funciono fallo el penal gracias 😂😂',\n",
       " '@b.local 😂😂😂👏',\n",
       " 'Lo q paso es q el fenomeno de ahora ya no juega como antes la cago😂😂😂😂',\n",
       " '@swapichi Hacéme esta pues y te creo. 😂',\n",
       " '@ivanalvaradoq menos mal que con el fútbol come toda argentina, ah no, que no lo hace 😂 pd: no soy española 😘',\n",
       " 'Jajajaj y quedaron afueraaa😂😂',\n",
       " 'Primero...no lo hace tan bien, segundo...Brasiiiiiilllll😂😂😂🇦🇷🇦🇷🇦🇷🇦🇷🇦🇷',\n",
       " 'Argentina vs todas las colonias francesas y asociados 😂',\n",
       " 'Como no recordar el cabezazo de Zidane !!! 😂😂😂😂']"
      ]
     },
     "execution_count": 50,
     "metadata": {},
     "output_type": "execute_result"
    }
   ],
   "source": [
    "# es_df_clusters[es_df_clusters['cluster']==8]['translation'].tolist()\n",
    "es_df_clusters[es_df_clusters['cluster']==1]['text'].tolist()"
   ]
  },
  {
   "cell_type": "code",
   "execution_count": 51,
   "id": "6785cad8",
   "metadata": {},
   "outputs": [
    {
     "data": {
      "text/plain": [
       "['How seductive the one in the second photo 😂😂',\n",
       " \"@magggitomcruz we are already in the cup, it's called USA 🇺🇸 lmao p3nd3j0 😂😂\",\n",
       " \"I mean, one blocks a penalty, the other scores a goal and this is the best of the game, it's what happened yesterday, Ferrán scored the 2 goals and great plays and the best was Gavi 😂😂\",\n",
       " '@daje_mitico 😂😂',\n",
       " '@lauhernandezchavez La Payasada was expensive for them 😂',\n",
       " 'Poor guy 😂',\n",
       " 'Ecuador made them dance, humiliated them and supposedly this was the best player 😂 after they annulled a legitimate goal, they also put their hands on the best player when everyone realized perfectly well that Ecuador surpassed them, how shameless they are',\n",
       " '😂Ronaldo',\n",
       " 'A cockroach moves more with baygon😂',\n",
       " '@jomiguelrivera we scored the goal of the century against Italy😂',\n",
       " 'What a good deal for our team 😂',\n",
       " 'Shit 😂😂😂😂😂😂😂😂',\n",
       " '@bertonrayhs_ 😂😂😂you have it inside🇦🇷🇦🇷']"
      ]
     },
     "execution_count": 51,
     "metadata": {},
     "output_type": "execute_result"
    }
   ],
   "source": [
    "t1 = ['How seductive the one in the second photo 😂😂',\n",
    " '@magggitomcruz we are already in the cup, it\\'s called USA 🇺🇸 lmao p3nd3j0 😂😂',\n",
    " 'I mean, one blocks a penalty, the other scores a goal and this is the best of the game, it\\'s what happened yesterday, Ferrán scored the 2 goals and great plays and the best was Gavi 😂😂',\n",
    " '@daje_mitico 😂😂',\n",
    " '@lauhernandezchavez La Payasada was expensive for them 😂',\n",
    " 'Poor guy 😂',\n",
    " 'Ecuador made them dance, humiliated them and supposedly this was the best player 😂 after they annulled a legitimate goal, they also put their hands on the best player when everyone realized perfectly well that Ecuador surpassed them, how shameless they are',\n",
    " '😂Ronaldo',\n",
    " 'A cockroach moves more with baygon😂',\n",
    " '@jomiguelrivera we scored the goal of the century against Italy😂',\n",
    " 'What a good deal for our team 😂',\n",
    " 'Shit 😂😂😂😂😂😂😂😂',\n",
    " '@bertonrayhs_ 😂😂😂you have it inside🇦🇷🇦🇷',]\n",
    "t1"
   ]
  },
  {
   "cell_type": "markdown",
   "id": "ec3221e3",
   "metadata": {},
   "source": [
    "## Clustering with LASER Embeddings on text only"
   ]
  },
  {
   "cell_type": "code",
   "execution_count": 52,
   "id": "71d99e49",
   "metadata": {},
   "outputs": [
    {
     "data": {
      "image/png": "[encoded data removed]",
      "text/plain": [
       "<Figure size 800x550 with 2 Axes>"
      ]
     },
     "metadata": {},
     "output_type": "display_data"
    },
    {
     "data": {
      "text/plain": [
       "<Axes: title={'center': 'Distortion Score Elbow for KMeans Clustering'}, xlabel='k', ylabel='distortion score'>"
      ]
     },
     "execution_count": 52,
     "metadata": {},
     "output_type": "execute_result"
    }
   ],
   "source": [
    "# referenced https://towardsdatascience.com/cheat-sheet-to-implementing-7-methods-for-selecting-optimal-number-of-clusters-in-python-898241e1d6ad\n",
    "# Elbow Method for K means\n",
    "# Import ElbowVisualizer\n",
    "from yellowbrick.cluster import KElbowVisualizer\n",
    "model = KMeans()\n",
    "# k is range of number of clusters.\n",
    "visualizer = KElbowVisualizer(model, k=(2,30), timings= True)\n",
    "visualizer.fit(en_text_array)        # Fit data to visualizer\n",
    "visualizer.show()        # Finalize and render figure"
   ]
  },
  {
   "cell_type": "code",
   "execution_count": 53,
   "id": "2c4790e9",
   "metadata": {},
   "outputs": [
    {
     "name": "stdout",
     "output_type": "stream",
     "text": [
      "For n_clusters = 10\n",
      "Silhouette coefficient: 0.04\n",
      "Inertia:43.13398742675781\n",
      "Silhouette values:\n",
      "    Cluster 3: Size:16 | Avg:0.27 | Min:0.10 | Max: 0.39\n",
      "    Cluster 7: Size:16 | Avg:0.11 | Min:-0.04 | Max: 0.24\n",
      "    Cluster 4: Size:2 | Avg:0.07 | Min:0.07 | Max: 0.08\n",
      "    Cluster 5: Size:90 | Avg:0.05 | Min:-0.06 | Max: 0.11\n",
      "    Cluster 0: Size:42 | Avg:0.03 | Min:-0.03 | Max: 0.11\n",
      "    Cluster 8: Size:10 | Avg:0.02 | Min:-0.01 | Max: 0.06\n",
      "    Cluster 2: Size:1 | Avg:0.00 | Min:0.00 | Max: 0.00\n",
      "    Cluster 9: Size:23 | Avg:-0.01 | Min:-0.07 | Max: 0.04\n",
      "    Cluster 6: Size:54 | Avg:-0.02 | Min:-0.06 | Max: 0.04\n",
      "    Cluster 1: Size:26 | Avg:-0.02 | Min:-0.08 | Max: 0.02\n"
     ]
    }
   ],
   "source": [
    "en_df_clusters_laser = apply_cluster(en_text_array, en_df, en_filtered_comments, 10)"
   ]
  },
  {
   "cell_type": "code",
   "execution_count": 54,
   "id": "83dec129",
   "metadata": {},
   "outputs": [
    {
     "data": {
      "text/plain": [
       "['Son🥺',\n",
       " '@_francechy_ 🤣🤣🤣',\n",
       " '@the_real_thorstinho #onetwo 🤭🤭🤭🤭🤭',\n",
       " 'Definitely!!! 👏👏👏👏👏',\n",
       " 'Rushford 🔥',\n",
       " '@anchan_0722_ 😂😂😂',\n",
       " '@88godiswithme 😂😂😂😂😂😂😂 congratulations!!',\n",
       " 'Congratulations 🔥👏',\n",
       " 'respect 👏',\n",
       " 'Cool🔥',\n",
       " '@spasho05 😂😂😂😂',\n",
       " 'Richarlison 🗿🍷',\n",
       " 'Caption 💯',\n",
       " '@robertmikocevic yes 😉😉🔥',\n",
       " 'Follow @__footycontent_ 😍',\n",
       " '@shreyanshpathak8717 😂']"
      ]
     },
     "execution_count": 54,
     "metadata": {},
     "output_type": "execute_result"
    }
   ],
   "source": [
    "en_df_clusters_laser[en_df_clusters_laser['cluster']==3]['text'].tolist()"
   ]
  },
  {
   "cell_type": "code",
   "execution_count": 55,
   "id": "8eb40c55",
   "metadata": {},
   "outputs": [
    {
     "data": {
      "text/plain": [
       "['Congrats and well done to🇧🇪@belgianreddevils who wins and wish the best and good luck too in the next match against🇲🇦@equipedumaroc and for🇨🇦@canadasoccer ,well done for fights until the end despite lost and wish the best and good luck too in the next match against🇭🇷@hns_cff !👏🙂😀😄😎👍⚽️',\n",
       " \"I'm heartbroken that we didn't do enough to go the next round, but in the end, we fought hard. 💔 And we're gonna continue fighting! They haven't seen the last of Mexico, at all! 🔥 See you all in 2026!! 🇲🇽🇲🇽💯💯\"]"
      ]
     },
     "execution_count": 55,
     "metadata": {},
     "output_type": "execute_result"
    }
   ],
   "source": [
    "en_df_clusters_laser[en_df_clusters_laser['cluster']==4]['text'].tolist()"
   ]
  },
  {
   "cell_type": "code",
   "execution_count": 56,
   "id": "62070f22",
   "metadata": {},
   "outputs": [
    {
     "data": {
      "text/plain": [
       "[\"@ryjpopp yeah says the people who can't Offord a stay in Qatar 😂\",\n",
       " '@glg_sky yeah I’m sure Qatar being ranked financially behind Greece means they’re thriving 🙄',\n",
       " 'Netherlands👏👏👏 and also cricket',\n",
       " 'Nice trophy..smile it..get it..your trophy..🏆✌😄',\n",
       " 'This nikka sick wit it🔥😂',\n",
       " 'Rainbow 🌈🌈🌈 shame on fifa',\n",
       " '@matheusgmezz u are goofy as heck😂',\n",
       " 'Why they burn Eden with the food question? 😂 @albert810 @chelo23',\n",
       " 'But you start to tremble knowing you face Saudi Arabia 🇸🇦 😆',\n",
       " '@exclusivelysania you are complaining in every post get a life 😂',\n",
       " \"Hazard's the only reason im a chelsea fan 🐐💙\",\n",
       " '@audrey_loves_nature_art this is word cup no campaign you region🙏',\n",
       " '@gokselinia they all good, u are the one being racist u woman with cartoon tshirt or I say Karen👩🏻\\u200d🦰',\n",
       " 'Wow nice moves robo😍😍😍😍😍😍😍😍 challenge accepted 🔥🔥🔥🔥',\n",
       " 'Howtf is he the man of the match? 😂',\n",
       " 'African should stop joining FIFA games is such a shame aww😢😢😢😢',\n",
       " '@fxwoke  bravo  usa child killer 👏👏i m proud of you . You r right 😍😍😍😉🙃',\n",
       " \"Congrates Ghana!! Great job u guys did.😍 But I still don't understand why did the referee decided that way. 🥲\",\n",
       " '@tina.f.aoun @gretta.khoury_ bs rebho aalaykun😂😂😂😂😂',\n",
       " \"@gousasmokingoniran I think that Biranvand's feet made Christian Polsic not have children anymore 🤣🤣🤣\",\n",
       " 'The Bluetooth goal 👏',\n",
       " '@mr_yasser25 yeah but u didn’t qualify 😂😂😂😂😂 try again in the next 4yrs 😂😂😂',\n",
       " 'Lol 🙄 buh d ball was taken from him',\n",
       " 'Plzz say one more time \"Where is messi\" 😂',\n",
       " '@bruno.arn You’re not gonna win, Mbappe is coming again 👻👻👻👻👻👻',\n",
       " 'Thought is was sniper’s rifle at first 😂',\n",
       " '@izayahlopez1118 omg so sad an upset little inferior American 😂😂',\n",
       " '@_stevaaa_r_ serbian players are shiit and so are the populist criminals in serbia 😝🥶',\n",
       " 'All out lets add new people\\n\\nWhere is Son?\\nHome💀💀',\n",
       " 'oooh jungkook and his song 😍And congratulations on the victory of the French',\n",
       " 'Gol salto olivier giround,offside😂',\n",
       " '@_anas_hussain__ rip mother and ur sister 🙌🏼',\n",
       " '@farzad_1818 I like both team but wowwww Maroccco 🔥',\n",
       " 'Congratulations to Japan, Morocco, Brazil, South Korea and Qatar 😍',\n",
       " 'Portugal humiliated you Shaq🤣🤣🤣\\n￼',\n",
       " '@__oresec_ yo I’m back, we won against Spain 💀 so good luck against Brazil',\n",
       " '@nanaresty7 💯 hate Neymar though.',\n",
       " '@theonlyzeee__ ahahaha stpid brazil lost 😂😂',\n",
       " '@felipe.bohmann Brazil is out now still laughing even won against You Guys 😂',\n",
       " '@lupaivatrainer champion are early to gone bake home 🛫🏠🏠',\n",
       " '@aliaslam_08 So, Portugal vs Croatia in the final match.😂',\n",
       " '@aashasz Exactly what I said but the blind fans are blaming the referee instead of blaming Harry Kane😢😂😂😂',\n",
       " 'bro peru wasnt even in the wc💀',\n",
       " '@victormosquera it was the back to back matches with PKs for me 😅',\n",
       " '@ludmilamasc someone DIDNT watch the match. shut up bruh💀.',\n",
       " 'I thought that was lil durk for a sec😂',\n",
       " \"It's about class Messi doesn't support LGBTQ 😂?\",\n",
       " '@hassan.ahmed.07 6 Games 5 goals 3 assist now😍',\n",
       " '@_msomali_wao and guess what morocco also lost🤣🤣🤣🤣🤣🤣',\n",
       " \"@bensalma lmao u mad as hell and now you're finna lose against Croatia😈\",\n",
       " '@its.me.anouar_ how about your players would play in their liga and not in the Europa! 😂 they will dream to play FWC',\n",
       " \"@vialard_mathis right when I thought it was getting boring. I hadn't even registered the first goal😂\",\n",
       " 'Now u understand what I mean kid 😂 I say there will be penalty in this match',\n",
       " '@i.am.rsb  Bro Carlos is right Pessy 4 goals all on Penalties, so you hate him for not mentioning a Penalty merchant😂']"
      ]
     },
     "execution_count": 56,
     "metadata": {},
     "output_type": "execute_result"
    }
   ],
   "source": [
    "en_df_clusters_laser[en_df_clusters_laser['cluster']==6]['text'].tolist()"
   ]
  },
  {
   "cell_type": "code",
   "execution_count": 57,
   "id": "90820149",
   "metadata": {},
   "outputs": [
    {
     "data": {
      "image/png": "[encoded data removed]",
      "text/plain": [
       "<Figure size 800x550 with 2 Axes>"
      ]
     },
     "metadata": {},
     "output_type": "display_data"
    },
    {
     "data": {
      "text/plain": [
       "<Axes: title={'center': 'Distortion Score Elbow for KMeans Clustering'}, xlabel='k', ylabel='distortion score'>"
      ]
     },
     "execution_count": 57,
     "metadata": {},
     "output_type": "execute_result"
    }
   ],
   "source": [
    "model = KMeans()\n",
    "# k is range of number of clusters.\n",
    "visualizer = KElbowVisualizer(model, k=(2,30), timings= True)\n",
    "visualizer.fit(es_text_array)        # Fit data to visualizer\n",
    "visualizer.show()     "
   ]
  },
  {
   "cell_type": "code",
   "execution_count": 58,
   "id": "e177293c",
   "metadata": {},
   "outputs": [
    {
     "name": "stdout",
     "output_type": "stream",
     "text": [
      "For n_clusters = 8\n",
      "Silhouette coefficient: 0.04\n",
      "Inertia:36.71879196166992\n",
      "Silhouette values:\n",
      "    Cluster 0: Size:31 | Avg:0.19 | Min:0.04 | Max: 0.32\n",
      "    Cluster 3: Size:15 | Avg:0.14 | Min:-0.04 | Max: 0.32\n",
      "    Cluster 1: Size:39 | Avg:0.08 | Min:0.01 | Max: 0.14\n",
      "    Cluster 6: Size:27 | Avg:0.02 | Min:-0.05 | Max: 0.12\n",
      "    Cluster 2: Size:30 | Avg:0.01 | Min:-0.09 | Max: 0.12\n",
      "    Cluster 5: Size:61 | Avg:0.00 | Min:-0.07 | Max: 0.07\n",
      "    Cluster 4: Size:28 | Avg:-0.00 | Min:-0.10 | Max: 0.05\n",
      "    Cluster 7: Size:49 | Avg:-0.02 | Min:-0.09 | Max: 0.05\n"
     ]
    }
   ],
   "source": [
    "es_df_clusters_laser = apply_cluster(es_text_array, es_df, es_filtered_comments, 8)"
   ]
  },
  {
   "cell_type": "code",
   "execution_count": null,
   "id": "7718c8c6",
   "metadata": {},
   "outputs": [],
   "source": [
    "# es_df_clusters_laser['translation'] = es_df_clusters_laser['text'].apply(lambda x: translator.translate(x))"
   ]
  },
  {
   "cell_type": "code",
   "execution_count": 59,
   "id": "275e6784",
   "metadata": {},
   "outputs": [
    {
     "data": {
      "text/plain": [
       "['Ecuador! 🇪🇨🇪🇨🇪🇨🇪🇨❤❤',\n",
       " 'Ame la camiseta de Francia 😍😍😍 🇺🇾🇨🇵',\n",
       " 'ECUADOR IN DA HOUSE 🔥🔥🔥🔥🔥🔥🇪🇨🇪🇨🇪🇨🇪🇨🇪🇨🇪🇨🇪🇨🙌🙌🙌🙌🙌🙌🙌🙌 #ecuadorarrechohp',\n",
       " '@bertonrayhs_ 😂😂😂la tenes adentro🇦🇷🇦🇷',\n",
       " 'Argentina 🇦🇷🇦🇷🇦🇷🇦🇷🙌',\n",
       " 'Volvió el MESSIAS 🇦🇷🇦🇷🇦🇷🇦🇷🇦🇷🇦🇷 Vamos Selección 🔥🔥🔥',\n",
       " '@tacianebarros_ vamos argentina viva diego 🇦🇷🇦🇷🇦🇷🇦🇷💙💙🏆',\n",
       " 'Argentina 🇦🇷🇦🇷💥💥💙',\n",
       " '@memphisdepay argentina 5 Holanda 1 😎',\n",
       " 'El postre preferido de MESSI 🔟🇦🇷🇦🇷🇦🇷🇦🇷🇦🇷🇦🇷🇦🇷',\n",
       " 'Argentina 🇦🇷🏆🇦🇷❤️',\n",
       " '🔥🔥🔥👏🙌 mexico 🇲🇽',\n",
       " '🔥Argentina.  3 🔥  Francia  1🔥',\n",
       " 'Primero...no lo hace tan bien, segundo...Brasiiiiiilllll😂😂😂🇦🇷🇦🇷🇦🇷🇦🇷🇦🇷',\n",
       " 'Argentina 🇦🇷 Leo 👏👏👏👏']"
      ]
     },
     "execution_count": 59,
     "metadata": {},
     "output_type": "execute_result"
    }
   ],
   "source": [
    "es_df_clusters_laser[es_df_clusters_laser['cluster']==3]['text'].tolist()"
   ]
  },
  {
   "cell_type": "code",
   "execution_count": 60,
   "id": "db105254",
   "metadata": {},
   "outputs": [
    {
     "data": {
      "text/plain": [
       "['Felicidades Ecuador! 🙌',\n",
       " '👏👏vamos con todo, strong',\n",
       " 'Con todo maes 🔥🇨🇷',\n",
       " 'Vamos Perú ❤️',\n",
       " 'Vamos Espana 🙌',\n",
       " 'Vamos Marruecos ❤️',\n",
       " '@bbsitaj ya vamos a ver el 18 de diciembre 😉',\n",
       " 'Te amamos @yosoy8a 🇲🇽🔥',\n",
       " 'Eden ❤️',\n",
       " 'Vamos España 🔥',\n",
       " '@queenfir_ marocco ❤️❤️',\n",
       " '15 mundiales 👏👏👏',\n",
       " 'El mejor de todos ❤️👏',\n",
       " 'Lamentablemente lo vi 😔',\n",
       " '@pablogavi buena suerte🔥',\n",
       " 'El mejor del mundo 👏🏻 😍',\n",
       " 'El mejor de Portugal 👏👏',\n",
       " 'Aidouni🔥❤️',\n",
       " '@fabilleao cállate la boca anda🤫🤫',\n",
       " 'Que bueno que sos 😭😭😭',\n",
       " 'Aún duele😢',\n",
       " '@hilla_loaiza que nivel 🔥🔥🔥',\n",
       " 'Pride? 🏳️\\u200d🌈?',\n",
       " '@qp11_00 Incredible video👍',\n",
       " '@j_fonse10 😂😂😂yo tambien ati',\n",
       " 'Maroc❤️',\n",
       " '@carolinacbarbos Bono🇲🇦👊',\n",
       " '@vinicius_conrado12 bye bye brazil😂😂😂😂😂😂😂😂😂😅',\n",
       " 'Ronaldo❤️❤️❤️',\n",
       " 'Vamos Argentina 🔥🔥',\n",
       " 'Fue un partido exquisito 🔥',\n",
       " 'Cómo planio😂🙌',\n",
       " '@life_is_sedd como te quedo eso ? 😂',\n",
       " 'Anda para allá 😂',\n",
       " 'El mejor centrocampista 👏🏻',\n",
       " '@julietacontento ARE YOU AT HOME NOW 🤔',\n",
       " 'Que dia horrível 😞',\n",
       " 'Argentina 😍❤️🔥🔥',\n",
       " 'Meastro 🙏❤️']"
      ]
     },
     "execution_count": 60,
     "metadata": {},
     "output_type": "execute_result"
    }
   ],
   "source": [
    "es_df_clusters_laser[es_df_clusters_laser['cluster']==1]['text'].tolist()"
   ]
  },
  {
   "cell_type": "markdown",
   "id": "57b3d65c",
   "metadata": {},
   "source": [
    "## Clustering with LASER Embeddings on text + emoji"
   ]
  },
  {
   "cell_type": "code",
   "execution_count": 61,
   "id": "8e801b4d",
   "metadata": {},
   "outputs": [],
   "source": [
    "model = KMeans()\n",
    "# # k is range of number of clusters.\n",
    "# visualizer = KElbowVisualizer(model, k=(2,30), timings= True)\n",
    "# visualizer.fit(en_array)        # Fit data to visualizer\n",
    "# visualizer.show()        # Finalize and render figure"
   ]
  },
  {
   "cell_type": "code",
   "execution_count": 62,
   "id": "b0bfae60",
   "metadata": {},
   "outputs": [
    {
     "name": "stdout",
     "output_type": "stream",
     "text": [
      "For n_clusters = 8\n",
      "Silhouette coefficient: 0.03\n",
      "Inertia:42.29527282714844\n",
      "Silhouette values:\n",
      "    Cluster 5: Size:35 | Avg:0.19 | Min:0.09 | Max: 0.30\n",
      "    Cluster 3: Size:49 | Avg:0.07 | Min:-0.02 | Max: 0.14\n",
      "    Cluster 1: Size:15 | Avg:0.01 | Min:-0.01 | Max: 0.05\n",
      "    Cluster 7: Size:12 | Avg:0.01 | Min:-0.03 | Max: 0.04\n",
      "    Cluster 2: Size:30 | Avg:-0.00 | Min:-0.06 | Max: 0.09\n",
      "    Cluster 4: Size:14 | Avg:-0.01 | Min:-0.04 | Max: 0.03\n",
      "    Cluster 6: Size:68 | Avg:-0.02 | Min:-0.14 | Max: 0.06\n",
      "    Cluster 0: Size:57 | Avg:-0.02 | Min:-0.11 | Max: 0.07\n"
     ]
    }
   ],
   "source": [
    "en_df_clusters_laser_with_emoji = apply_cluster(en_array, en_df, en_filtered_comments, 8)"
   ]
  },
  {
   "cell_type": "code",
   "execution_count": 63,
   "id": "7f17b3aa",
   "metadata": {},
   "outputs": [
    {
     "data": {
      "text/plain": [
       "['no bro many moroccans respect Croatia team, was a game full of fair-play 👌🏽',\n",
       " '@iuchinouen what does that have to do with my overall intelligence ? I would say you are the dump one here for not answering in a full sentence and for minding to girls dating business. You poor thing musst have a boring and sad life 😂',\n",
       " '@aa.09_05 In 2010 Messi  just went to South Africa and let my guy Diego Maradona down, Maradona realised why Ronaldo is superior to Messi after that World Cup 😂',\n",
       " \"Congrates Ghana!! Great job u guys did.😍 But I still don't understand why did the referee decided that way. 🥲\",\n",
       " 'All I watch was pessi missing a pen a 3 big chances in front of the goal 😂😂😂😂👏 small game player',\n",
       " \"I will wait for the Portugal match, and we are very sorry for Portugal's victory for Cristiano Ronaldo, because he will not be able to participate again in the World Cup if he does not win the cup this time 🤍🇵🇹\",\n",
       " 'Man i Park 300 bags of cement in an hour that’s my job so don’t let us talk enjoy your money in peace 😂',\n",
       " '@tonyvieira120 Mate next time if you argue football with me without putting your money. I won’t give a reply.. ffs😂',\n",
       " '@aashasz Exactly what I said but the blind fans are blaming the referee instead of blaming Harry Kane😢😂😂😂',\n",
       " '@bigstern50 nah morocco will win cause of referees VAR FIFA they need messi to win the world cup means more money expect foul calls, penalties , free kicks for morocco calling it now -(professional sports) put money on it while you can you might be rich 😂😂',\n",
       " 'Well played Morocco’s number 7 a good play maker enjoyed his movments 🔥 see you next time fight for 3rd 👏',\n",
       " \"@imgyan07 well you said it it's a prediction. It's still kinda true tho Croatia vs Morocco will still play a match 😂\",\n",
       " \"In the 1998 World Cup in France, it was clear that Belai did not want to fight for third place. The Netherlands was forced to play because of FIFA's threat.🙏👍\",\n",
       " '@its.me.anouar_ how about your players would play in their liga and not in the Europa! 😂 they will dream to play FWC',\n",
       " '@i.am.rsb  Bro Carlos is right Pessy 4 goals all on Penalties, so you hate him for not mentioning a Penalty merchant😂']"
      ]
     },
     "execution_count": 63,
     "metadata": {},
     "output_type": "execute_result"
    }
   ],
   "source": [
    "en_df_clusters_laser_with_emoji[en_df_clusters_laser_with_emoji['cluster']==1]['text'].tolist()"
   ]
  },
  {
   "cell_type": "code",
   "execution_count": 64,
   "id": "af40e7ce",
   "metadata": {},
   "outputs": [
    {
     "data": {
      "text/plain": [
       "['Son🥺',\n",
       " '@_francechy_ 🤣🤣🤣',\n",
       " '@goodthanksyourself nice goal❤️',\n",
       " '@smithswith_ ❤️so good!!',\n",
       " '@jan_schawe to what 😂😂😂😂😂',\n",
       " '@5400.seconds are u there bro? 🤣',\n",
       " 'Italy >>❤️',\n",
       " 'Bro was forced to do it😂😂😂😂😂',\n",
       " 'Mount❤️',\n",
       " 'He is completely right! 👏',\n",
       " '@hana_photographyc 😂 Well done 👏',\n",
       " '@tina.f.aoun @gretta.khoury_ bs rebho aalaykun😂😂😂😂😂',\n",
       " '@realestate_topg what happened 🤣🤣',\n",
       " 'Loveee this ❤️',\n",
       " '@itsabdelfatah you were right 👏',\n",
       " 'Nice game 🔥',\n",
       " '@kourosh_offiziell 🇧🇷🇧🇷🏆🏆🏆🏆🏆 🤫',\n",
       " '@anchan_0722_ 😂😂😂',\n",
       " '@88godiswithme 😂😂😂😂😂😂😂 congratulations!!',\n",
       " 'the last one 💀',\n",
       " 'Congratulations 🔥👏',\n",
       " 'respect 👏',\n",
       " 'Cool🔥',\n",
       " '@spasho05 😂😂😂😂',\n",
       " '@m.a.l.e.k.a.n.o_jr Just wait🔥',\n",
       " '@ash.saalax 😂 what about it now',\n",
       " 'Caption 💯',\n",
       " '@enkiduh how about now 😂😂😂😂😂 ❤️❤️❤️❤️❤️',\n",
       " 'Follow @__footycontent_ 😍',\n",
       " 'They kost💀',\n",
       " '@shreyanshpathak8717 😂',\n",
       " '@guilherme_tornich 💪🇦🇷🇦🇷🇦🇷😂😂',\n",
       " '@fabreezy_ 👏👏👏 this is yours???',\n",
       " '@k.mbappe proud of you👏',\n",
       " '@_fmbe_ What do you say? 😂😂😂🇦🇷🇦🇷🇦🇷🇦🇷']"
      ]
     },
     "execution_count": 64,
     "metadata": {},
     "output_type": "execute_result"
    }
   ],
   "source": [
    "en_df_clusters_laser_with_emoji[en_df_clusters_laser_with_emoji['cluster']==5]['text'].tolist()"
   ]
  },
  {
   "cell_type": "code",
   "execution_count": null,
   "id": "e1c7c22d",
   "metadata": {},
   "outputs": [],
   "source": [
    "# model = KMeans()\n",
    "# # k is range of number of clusters.\n",
    "# visualizer = KElbowVisualizer(model, k=(2,30), timings= True)\n",
    "# visualizer.fit(es_array)        # Fit data to visualizer\n",
    "# visualizer.show()        # Finalize and render figure"
   ]
  },
  {
   "cell_type": "code",
   "execution_count": 66,
   "id": "08be30df",
   "metadata": {},
   "outputs": [
    {
     "name": "stdout",
     "output_type": "stream",
     "text": [
      "For n_clusters = 8\n",
      "Silhouette coefficient: 0.04\n",
      "Inertia:35.43350601196289\n",
      "Silhouette values:\n",
      "    Cluster 4: Size:23 | Avg:0.16 | Min:0.04 | Max: 0.30\n",
      "    Cluster 2: Size:51 | Avg:0.12 | Min:0.02 | Max: 0.22\n",
      "    Cluster 6: Size:5 | Avg:0.06 | Min:0.03 | Max: 0.11\n",
      "    Cluster 1: Size:22 | Avg:0.03 | Min:-0.13 | Max: 0.22\n",
      "    Cluster 5: Size:42 | Avg:0.03 | Min:-0.04 | Max: 0.13\n",
      "    Cluster 0: Size:47 | Avg:0.02 | Min:-0.06 | Max: 0.09\n",
      "    Cluster 3: Size:50 | Avg:-0.02 | Min:-0.11 | Max: 0.07\n",
      "    Cluster 7: Size:40 | Avg:-0.03 | Min:-0.09 | Max: 0.03\n"
     ]
    }
   ],
   "source": [
    "es_df_clusters_laser_with_emoji = apply_cluster(es_array, es_df, es_filtered_comments, 8)"
   ]
  },
  {
   "cell_type": "code",
   "execution_count": 67,
   "id": "8f908c22",
   "metadata": {},
   "outputs": [
    {
     "data": {
      "text/plain": [
       "['@ikercasillasrules No veo donde sale neuer en el video 😮',\n",
       " 'Cambien la bandera, somos Ecuador 🇪🇨☝🏻',\n",
       " 'Nuestro último partido en un mundial 🇨🇴😢',\n",
       " 'I need an ice Pepsi Blue 😋😋😋😋😋 joder, será que este año no la  lanzarán??? 🤔🤔🤔',\n",
       " 'Felicidades a Ecuador por ganarle a los esclavistas 👏🏼👏🏼',\n",
       " '@btito_.avak mejor portero del mundo, procede a perder 7 a 0😍😍😍',\n",
       " 'Nadie va a comentar la facha que destila el DT de la selección? 🌚😈',\n",
       " 'La vida cambia cuando empieza a enfocarse en ti🎶🔥',\n",
       " 'Hola Buena noche es Portugal ⚽️👍🇵🇹',\n",
       " '@hichemourad13 será que sigue pensado igual este individuo?  Ecuador es grande 🇪🇨😉😉',\n",
       " 'Para mi también sería como ver a Papa Noel! Te amamos Leo 🇦🇷⚽️💪🥰',\n",
       " '@borenia grs!!! 🔥🙌❤️ futbol es fútbol',\n",
       " 'Anótalo papi .....Vamos Ecuador 🇪🇨🥰❤️❤️',\n",
       " '\"Maurice ya no puedo moverlo mover moverlo\" ❌🦵😭',\n",
       " '@zeferinooo.ema más que orgullosa de mi país... Cuando sepan lo que pesa una Copa del Mundo podrán hablar de fútbol ✌️🇺🇾',\n",
       " 'Desde ahi nunca se lavó la mano aaa❤️\\u200d🩹',\n",
       " 'Los qe saben saben, llevando un poco de magia del fenómeno Ronii 💪💪😎',\n",
       " '@deyaneira_ae que habilitacion se mando valencia en el 2do gol de Senegal🙌🔥🔥',\n",
       " '@sujo.beatz y nosotros 25 títulos 🏆 somos la selección más copera🇦🇷',\n",
       " 'Aunque les duele el mejor Goleador✍️❤️',\n",
       " 'Maradona lo ayudar a Messi para lograr el triunfo ❤️👏👏👏',\n",
       " 'la araña que pica🤘🏻🕷️',\n",
       " 'y seran los ultimos, contra marruecos españa se ira a casa, bye bye 🛫🛫🛫',\n",
       " 'Se comieron 11 goles ⚽🥅 los más Goleados del Mundial 😂😂😂😂',\n",
       " 'Mejor que publiquen los momentos de goles anulados 👏👏',\n",
       " 'Los trios siempre son buenos bro 🔥😉',\n",
       " 'Esta copa es tuya Leo 🇦🇷🙌',\n",
       " 'No hay otra hinchada igual. La mejor del mundo que orgullo haber nacido en Argentina ❤️🇦🇷🇦🇷',\n",
       " 'El mejor del mundo mundial! ❤️\\u200d🔥❤️\\u200d🔥',\n",
       " '⚽️⚽️⚽️Para seguir informado sobre las últimas noticias del fútbol en español puedes seguirnos, contenido diario de futbol.🔴🔴',\n",
       " '@sebassss_07 nuestro objetivo es ganar los mundiales, no partecipar 😘',\n",
       " '@anthony_pv05 Si vosotros hubierais jugado contra Inglaterra, sería  50-0😂',\n",
       " 'Hermosa actuacion realmente eres increíble JK 💜💜💜',\n",
       " '@diego_mendivels0 el único latino que no habló en español. Por eso no van a ganar el mundial 😂\\U0001fae3😅',\n",
       " 'Ya todo tiene sentido 🤷\\u200d♂️🤣',\n",
       " '@keylor_ch29 hace referencia al equipo IDV del valle 🤦',\n",
       " '@cruzfrancesco3  yo Feliz sembre fuerte fuerza argentina 🇦🇷😉👍🏻',\n",
       " '@ybjinn_ Él mejor del mundo 🇦🇷❤️',\n",
       " 'Que no era que iba a ganar ?? Cristaldo llorando😹😹',\n",
       " 'Está todo cocinado , Messi campeón último mundial 🤑🤫',\n",
       " '@dansabras Brasil decime qué se siente tener en casa a tu papá 😂 🇦🇷🇦🇷🇦🇷',\n",
       " '@ortubiaalexis siendo argentino? Na, lo dudo… Tattoo artist 🤙🏽🤙🏽',\n",
       " 'Q hará Qtar con tantos estadios luego del mundial? 🤔',\n",
       " 'Argentina va por el tercer Mundial 🙌🔥',\n",
       " 'El mejor jugador del mundo 🌎 se llama Messi ❤️🙌',\n",
       " 'Puros troncos defendiendo y otro bien coco 🤷🏽\\u200d♂️.',\n",
       " 'Poesía en fotos, poesía en movimiento🇦🇷🥂',\n",
       " 'Por favor intercedan para q no ejecuten al jugador iraní \"🙏🙏🙏🙏🙏',\n",
       " '@hassan.ahmed.07 y de ellos cuantos penales?? que ni siquiera han sido faltas a el.👏👏',\n",
       " 'La final la juegan 2 equipos......que gran decepción este mundial 😢']"
      ]
     },
     "execution_count": 67,
     "metadata": {},
     "output_type": "execute_result"
    }
   ],
   "source": [
    "es_df_clusters_laser_with_emoji[es_df_clusters_laser_with_emoji['cluster']==3]['text'].tolist()"
   ]
  },
  {
   "cell_type": "code",
   "execution_count": 68,
   "id": "75da8893",
   "metadata": {},
   "outputs": [
    {
     "data": {
      "text/plain": [
       "['@daje_mitico 😂😂',\n",
       " 'Eden ❤️',\n",
       " 'Lamentablemente lo vi 😔',\n",
       " 'gracias 😍',\n",
       " '@luisitorres_ sí 🥵',\n",
       " 'Mierda 😂😂😂😂😂😂😂😂',\n",
       " '@pablogavi buena suerte🔥',\n",
       " '@fabilleao cállate la boca anda🤫🤫',\n",
       " 'Aún duele😢',\n",
       " '@guiguelpaulo 😢',\n",
       " '@caro2653 👏👏👏',\n",
       " '@_arabicqueen_ dream😂😂',\n",
       " '@j_fonse10 😂😂😂yo tambien ati',\n",
       " '😍ñ🔥🔥🔥',\n",
       " '@vinicius_conrado12 bye bye brazil😂😂😂😂😂😂😂😂😂😅',\n",
       " 'Croacia 😂😂😂😂😂',\n",
       " 'Paquetá 🥵',\n",
       " '@acdc.jpedro 😂😂😂😂😂',\n",
       " '@liga_profesional_de_truco 👍🏻',\n",
       " '@lovely_angel_kh no te entiendo pero, ok🙌',\n",
       " '@b.local 😂😂😂👏',\n",
       " 'Que dia horrível 😞',\n",
       " '@laparra_1 👀']"
      ]
     },
     "execution_count": 68,
     "metadata": {},
     "output_type": "execute_result"
    }
   ],
   "source": [
    "es_df_clusters_laser_with_emoji[es_df_clusters_laser_with_emoji['cluster']==4]['text'].tolist()"
   ]
  },
  {
   "cell_type": "code",
   "execution_count": null,
   "id": "c4812147",
   "metadata": {},
   "outputs": [],
   "source": []
  },
  {
   "cell_type": "markdown",
   "id": "a4b0b521",
   "metadata": {},
   "source": [
    "# Visualize Clusters 🎨"
   ]
  },
  {
   "cell_type": "code",
   "execution_count": 69,
   "id": "efbe7f20",
   "metadata": {},
   "outputs": [],
   "source": [
    "from sklearn.decomposition import PCA\n",
    "from sklearn.manifold import TSNE"
   ]
  },
  {
   "cell_type": "markdown",
   "id": "e0263eab",
   "metadata": {},
   "source": [
    "### PCA -> TSNE"
   ]
  },
  {
   "cell_type": "markdown",
   "id": "ae2c8668",
   "metadata": {},
   "source": [
    "#### English"
   ]
  },
  {
   "cell_type": "code",
   "execution_count": 195,
   "id": "07ef61ac",
   "metadata": {},
   "outputs": [],
   "source": [
    "pca = PCA(n_components=50)\n",
    "principalComponents = pca.fit_transform(en_embeddings)\n",
    "\n",
    "tsne = TSNE(n_components=2, verbose=0, perplexity=40, n_iter=300)\n",
    "tsne_pca_results = tsne.fit_transform(principalComponents)\n",
    "\n",
    "en_df_clusters = en_df_clusters.reset_index()\n",
    "en_df_clusters = en_df_clusters.drop(['index'], axis=1)\n",
    "\n",
    "tsne_df = en_df_clusters\n",
    "tsne_df['PC1'] = tsne_pca_results[:,0]\n",
    "tsne_df['PC2'] = tsne_pca_results[:,1]\n",
    "\n",
    "tsne_df_en = tsne_df.copy()"
   ]
  },
  {
   "cell_type": "code",
   "execution_count": 75,
   "id": "f934145a",
   "metadata": {},
   "outputs": [
    {
     "data": {
      "text/plain": [
       "<Axes: xlabel='PC1', ylabel='PC2'>"
      ]
     },
     "execution_count": 75,
     "metadata": {},
     "output_type": "execute_result"
    },
    {
     "data": {
      "image/png": "[encoded data removed]",
      "text/plain": [
       "<Figure size 1200x1200 with 1 Axes>"
      ]
     },
     "metadata": {},
     "output_type": "display_data"
    }
   ],
   "source": [
    "sns.set(rc={'figure.figsize':(12,12)})\n",
    "sns.scatterplot(data=tsne_df_en, x='PC1', y='PC2', hue='cluster', palette=sns.color_palette(\"hls\",10), legend=\"full\")"
   ]
  },
  {
   "cell_type": "markdown",
   "id": "cff8d047",
   "metadata": {},
   "source": [
    "#### Spanish"
   ]
  },
  {
   "cell_type": "code",
   "execution_count": 196,
   "id": "9d420c57",
   "metadata": {},
   "outputs": [],
   "source": [
    "pca = PCA(n_components=50)\n",
    "principalComponents = pca.fit_transform(es_embeddings)\n",
    "\n",
    "tsne = TSNE(n_components=2, verbose=0, perplexity=40, n_iter=300)\n",
    "tsne_pca_results = tsne.fit_transform(principalComponents)\n",
    "\n",
    "es_df_clusters = es_df_clusters.reset_index()\n",
    "es_df_clusters = es_df_clusters.drop(['index'], axis=1)\n",
    "\n",
    "tsne_df = es_df_clusters\n",
    "tsne_df['PC1'] = tsne_pca_results[:,0]\n",
    "tsne_df['PC2'] = tsne_pca_results[:,1]\n",
    "\n",
    "tsne_df_es = tsne_df.copy()"
   ]
  },
  {
   "cell_type": "code",
   "execution_count": 77,
   "id": "79191176",
   "metadata": {},
   "outputs": [
    {
     "data": {
      "text/plain": [
       "<Axes: xlabel='PC1', ylabel='PC2'>"
      ]
     },
     "execution_count": 77,
     "metadata": {},
     "output_type": "execute_result"
    },
    {
     "data": {
      "image/png": "[encoded data removed]",
      "text/plain": [
       "<Figure size 1200x1200 with 1 Axes>"
      ]
     },
     "metadata": {},
     "output_type": "display_data"
    }
   ],
   "source": [
    "sns.set(rc={'figure.figsize':(12,12)})\n",
    "sns.scatterplot(data=tsne_df_es, x='PC1', y='PC2', hue='cluster', palette=sns.color_palette(\"hls\",10), legend=\"full\")"
   ]
  },
  {
   "cell_type": "markdown",
   "id": "d5705aa3",
   "metadata": {},
   "source": [
    "#### Both Embeddings"
   ]
  },
  {
   "cell_type": "code",
   "execution_count": 124,
   "id": "f9f65661",
   "metadata": {},
   "outputs": [
    {
     "data": {
      "text/plain": [
       "<Axes: xlabel='PC1', ylabel='PC2'>"
      ]
     },
     "execution_count": 124,
     "metadata": {},
     "output_type": "execute_result"
    },
    {
     "data": {
      "image/png": "[encoded data removed]",
      "text/plain": [
       "<Figure size 1200x1200 with 1 Axes>"
      ]
     },
     "metadata": {},
     "output_type": "display_data"
    }
   ],
   "source": [
    "both_embeddings = np.concatenate((en_embeddings, es_embeddings))\n",
    "\n",
    "pca = PCA(n_components=50)\n",
    "principalComponents = pca.fit_transform(both_embeddings)\n",
    "\n",
    "tsne = TSNE(n_components=2, verbose=0, perplexity=40, n_iter=300)\n",
    "tsne_pca_results = tsne.fit_transform(principalComponents)\n",
    "\n",
    "tsne_df = pd.concat([en_df_clusters, es_df_clusters])\n",
    "tsne_df['PC1'] = tsne_pca_results[:,0]\n",
    "tsne_df['PC2'] = tsne_pca_results[:,1]\n",
    "\n",
    "tsne_df = tsne_df.reset_index()\n",
    "\n",
    "for idx, row in tsne_df.iterrows():\n",
    "    if idx < 280:\n",
    "        tsne_df.at[idx, 'language'] = 'en'\n",
    "    else:\n",
    "        tsne_df.at[idx, 'language'] = 'es'\n",
    "\n",
    "sns.set(rc={'figure.figsize':(12,12)})\n",
    "sns.scatterplot(data=tsne_df, x='PC1', y='PC2', hue='language', palette=sns.color_palette(\"hls\",10), legend=\"full\")"
   ]
  },
  {
   "cell_type": "markdown",
   "id": "e9ddad53",
   "metadata": {},
   "source": [
    "### Interactive Plotly Graphs"
   ]
  },
  {
   "cell_type": "code",
   "execution_count": 72,
   "id": "53a7631a",
   "metadata": {},
   "outputs": [],
   "source": [
    "import plotly.graph_objects as go\n",
    "import pandas as pd\n",
    "import plotly.express as px"
   ]
  },
  {
   "cell_type": "markdown",
   "id": "45e3a929",
   "metadata": {},
   "source": [
    "#### English"
   ]
  },
  {
   "cell_type": "code",
   "execution_count": 219,
   "id": "8e0ae0a4",
   "metadata": {},
   "outputs": [
    {
     "data": {
      "application/vnd.plotly.v1+json": {
       "config": {
        "plotlyServerURL": "https://plot.ly"
       },
       "data": [
        {
         "marker": {
          "color": "#636EFA",
          "size": 10
         },
         "mode": "markers",
         "name": "0",
         "text": [
          "Son🥺",
          "Can't wait for this shitshow to be over and for next world cup. This one is such a waste 🗑 🙄. #nextplease #notoqatar2022 #boicotworldcup",
          "TERANGA boys 🇸🇳🇸🇳❤️",
          "You are the best lady😻🤩🙏👏♥️⚽🤠fifa.",
          "Rainbow 🌈🌈🌈 shame on fifa",
          "Waiting next game..steady team⚽💥🏃",
          "@dhofar_photo 🏳️‍⚧️☪️🏳️‍🌈",
          "@goodthanksyourself nice goal❤️",
          "@smithswith_ ❤️so good!!",
          "@the_real_thorstinho #onetwo 🤭🤭🤭🤭🤭",
          "Gay people, they are my favorite 🌈🌈",
          "Beauty of Qatar ❤️",
          "Hazard's the only reason im a chelsea fan 🐐💙",
          "@gokselinia they all good, u are the one being racist u woman with cartoon tshirt or I say Karen👩🏻‍🦰",
          "Asian's the best🇧🇭🇮🇷🇯🇵🇰🇷🇸🇦🇭🇲😍💪💪💪",
          "Italy >>❤️",
          "Mount❤️",
          "Once a player , always a player .To all such best players 🍷⚽💯💪",
          "Dude… YOUR team was so rude and had poor sportsmanship. This new generation think they are entitled😡 Any other country would have been honored to be in the world cup to play on the same field with these GREAT players from 🇭🇷 \n\nI hope this humbles them. Canada player were acting like little brats. Croatia shut them up and put them on time out. Literally OUT😂💪🏻🇭🇷🇭🇷🇭🇷🇭🇷🇭🇷🇭🇷🏆🏆🏆🏆⚽️⚽️⚽️🇭🇷🇭🇷🇭🇷🇭🇷🇭🇷🇭🇷🇭🇷🇭🇷🇭🇷",
          "@maidenles.s its game not war ☺️",
          "Follow m’y account please ❤️",
          "Morroco is the best 🇲🇦🖤",
          "@siavashsetoodeh1 where’s your freedom? Stay mad 🇺🇸🦅🇺🇸🦅🇺🇸",
          "Proudly Ghanaian 🇬🇭 🇬🇭 🇬🇭 🇬🇭 🇬🇭 ❤️",
          "Casemiro in his sublime form 💯💪🏻⚡⚽💥😎🇧🇷",
          "@kourosh_offiziell who has more has 5 ⭐️⭐️⭐️⭐️⭐️🤫",
          "@zarbassir what I love to ear ❤️",
          "The best version ever ❤️ #qatar @qatar",
          "The second golden age for the socceroos 🇦🇺🟡🟢",
          "Loveee this ❤️",
          "He gave us the best goal of the World Cup so far ❤️",
          "@kourosh_offiziell 🇧🇷🇧🇷🏆🏆🏆🏆🏆 🤫",
          "See the final score for another suprise 😌",
          "@qu_een_ora can and help me to celebrate 🎉 dear sister 🇨🇲🇨🇲🇨🇲🇨🇲🇨🇲🇨🇲🇨🇲🇨🇲",
          "I will wait for the Portugal match, and we are very sorry for Portugal's victory for Cristiano Ronaldo, because he will not be able to participate again in the World Cup if he does not win the cup this time 🤍🇵🇹",
          "the last one 💀",
          "@bruno.arn You’re not gonna win, Mbappe is coming again 👻👻👻👻👻👻",
          "So sweet❤️ Hope Korea and Japan both do our best in the next game☺️",
          "All out lets add new people\n\nWhere is Son?\nHome💀💀",
          "@sonam_la24 in ur dreams... Croatia!!!🇭🇷❤️✌️",
          "@__oresec_ yo I’m back, we won against Spain 💀 so good luck against Brazil",
          "Richarlison 🗿🍷",
          "@chester.was.here Belgium did thier best in 2018 & they were my most supported & favorite team 💙 ❤️.",
          "@nanaresty7 💯 hate Neymar though.",
          "Var 🖥 have another opinion 🤫",
          "@felicitassanto02 we're proud of our team! We still have 5 ⭐️ and nobody can take that away from us! 🇧🇷🇧🇷🇧🇷🇧🇷",
          "@lupaivatrainer champion are early to gone bake home 🛫🏠🏠",
          "Caption 💯",
          "Brazils back that way⬅️",
          "Respect for the drone operator🛐",
          "bro peru wasnt even in the wc💀",
          "@ludmilamasc someone DIDNT watch the match. shut up bruh💀.",
          "Where is ronaldo👨🏻‍🦯😔",
          "The best and only goat 🐐",
          "Hii dear mera name is Hansraj hai main jaipur se hu main apni study ke sath sath online partime work pichhle 2 months se kar raha hu agar aap bhi apni study ke saath saath partime ya full time work karna chahte ho contact me 6375438113 know the details 💯🚀🤔🤔",
          "They kost💀",
          "Where's Korea? Airportttttt ☠️",
          "Who’s that first guy? His answer ✨",
          "@larissa_ashley33 your language tells everything of your Country, how you don't have respect to others and criticise other representations. It's not nice at all. But as said before, I'm Croatian and I have respect to you. We are very, very proud of our players, Livakovic shines this year as well as Modric, Periodic, Gvardiol... We are not sad because they are going to play for the 3. Place, which is AMAZINGG and because they played the best football this World cup. They are winners for us! 🇭🇷 🥇",
          "@symon9001 hello ? 🤟🏽🇦🇷 some body here ?",
          "@mess_91_ @aiden44w home and happy🥳🥳🤌🏻",
          "Proudly Moroccan 🇲🇦🇲🇦🇲🇦🇲🇦❤️❤️❤️❤️",
          "Appreciate to the Admin❤️ who always updated us",
          "@sarou_lifestyle and you were right , they made history ♥️♥️",
          "They are so cute 🥹🥹",
          "@kunchan_13 And that happened... Wht a moment.. Historic... 🏆🐐"
         ],
         "type": "scatter",
         "x": [
          -0.16874386370182037,
          3.0972912311553955,
          1.2213366031646729,
          1.821377158164978,
          7.887165546417236,
          1.868131399154663,
          2.000838279724121,
          0.4160228371620178,
          0.18340474367141724,
          -0.1006021648645401,
          7.887669563293457,
          0.8794877529144287,
          0.9765655398368835,
          -0.21223193407058716,
          3.6149542331695557,
          0.10050542652606964,
          0.11863052845001221,
          2.3153905868530273,
          3.770761013031006,
          0.884784996509552,
          0.443550705909729,
          7.536679267883301,
          -5.504103660583496,
          1.0422252416610718,
          2.2009875774383545,
          -1.8600809574127197,
          0.5517762303352356,
          1.0669291019439697,
          1.2581895589828491,
          0.17690718173980713,
          1.3451101779937744,
          0.35848966240882874,
          -0.41598862409591675,
          4.020333290100098,
          2.157522678375244,
          -1.019409418106079,
          -0.8788242936134338,
          1.6565427780151367,
          -1.0151686668395996,
          1.0860487222671509,
          -1.015550971031189,
          -0.4165174961090088,
          7.423371315002441,
          0.692172646522522,
          -1.2705729007720947,
          -1.8761181831359863,
          1.1738158464431763,
          0.6701387166976929,
          0.3270229995250702,
          1.2427582740783691,
          -1.0134167671203613,
          -1.016247034072876,
          0.10278262197971344,
          0.6926000118255615,
          3.8907032012939453,
          -1.0226222276687622,
          -0.6243062615394592,
          -0.25227200984954834,
          2.4394121170043945,
          0.5295870900154114,
          0.4780331552028656,
          1.4468538761138916,
          0.9017807245254517,
          0.2675374150276184,
          0.3886227011680603,
          0.6392764449119568
         ],
         "y": [
          -5.26455545425415,
          -5.833784580230713,
          -3.5457630157470703,
          -0.6765527725219727,
          -7.1089558601379395,
          0.09938142448663712,
          -2.301424980163574,
          -4.51571798324585,
          -4.652110576629639,
          -5.227451324462891,
          -7.106996059417725,
          -4.624046325683594,
          0.503753662109375,
          -2.2899837493896484,
          0.9263772964477539,
          -4.69026517868042,
          -4.67990255355835,
          0.2218763530254364,
          -0.1873338669538498,
          -4.610489368438721,
          -3.859841823577881,
          -4.152458190917969,
          6.057039260864258,
          -4.046234130859375,
          -0.08188795298337936,
          1.2749531269073486,
          -4.312893867492676,
          -4.332453727722168,
          -3.716245651245117,
          -4.316596508026123,
          -4.61218786239624,
          0.05724392831325531,
          1.5575916767120361,
          0.36834874749183655,
          -4.327178478240967,
          -8.89710521697998,
          -3.0692644119262695,
          -4.4241814613342285,
          -8.900606155395508,
          -3.707393169403076,
          -8.915751457214355,
          -5.942328929901123,
          -4.178507328033447,
          3.498931646347046,
          -4.659974575042725,
          1.3074568510055542,
          -5.819230079650879,
          3.5060150623321533,
          -4.048032760620117,
          -6.318319797515869,
          -8.896188735961914,
          -8.910146713256836,
          -2.1339199542999268,
          0.7452897429466248,
          -0.9422370791435242,
          -8.897854804992676,
          -6.808873176574707,
          -1.1055070161819458,
          -4.3200178146362305,
          -3.75042724609375,
          -4.879183769226074,
          -3.5386557579040527,
          -4.136313438415527,
          -3.9595143795013428,
          -4.965388774871826,
          0.3143887221813202
         ]
        },
        {
         "marker": {
          "color": "#EF553B",
          "size": 10
         },
         "mode": "markers",
         "name": "1",
         "text": [
          "@xidiwldnxjqpspqpskxls morroco is a siblingcountry aswell. 20% of them live in Belgium😂.",
          "@ryjpopp yeah says the people who can't Offord a stay in Qatar 😂",
          "@matheusgmezz u are goofy as heck😂",
          "Yes 2022 is different because Argentina will not go in round of 16 😂",
          "Why they burn Eden with the food question? 😂 @albert810 @chelo23",
          "@exclusivelysania you are complaining in every post get a life 😂",
          "@iuchinouen what does that have to do with my overall intelligence ? I would say you are the dump one here for not answering in a full sentence and for minding to girls dating business. You poor thing musst have a boring and sad life 😂",
          "@mounia.kr__ 😂😂😂 that's the fact about the football.. you people are still too backward(refused) to accept modern changes about modern football.. keep on believing on ancient believes😂😂... No matter the shades, Algeria have not wil never be part of the Qatar world cup😂. NEVER!!. Cameroon is a football giant with Africa and world records. there is nothing you can do about it so chill and enjoy football 😂",
          "@aa.09_05 In 2010 Messi  just went to South Africa and let my guy Diego Maradona down, Maradona realised why Ronaldo is superior to Messi after that World Cup 😂",
          "Howtf is he the man of the match? 😂",
          "@thisiz.a7med you wanted to talk about future?as far as i know marocco won 2-0 to Belgium but Croatia won 4-1 to Canada.Marocco?Whats that?I only know for Loserocco😂",
          "@tina.f.aoun @gretta.khoury_ bs rebho aalaykun😂😂😂😂😂",
          "@samiath_bk 😂keep laughing Senegal is the best",
          "@teodor.luks Argentina beat Poland, Saudi beat Mexico , Argentina,Saudi qualified😂",
          "All I watch was pessi missing a pen a 3 big chances in front of the goal 😂😂😂😂👏 small game player",
          "@mr_yasser25 yeah but u didn’t qualify 😂😂😂😂😂 try again in the next 4yrs 😂😂😂",
          "Plzz say one more time \"Where is messi\" 😂",
          "Thought is was sniper’s rifle at first 😂",
          "@izayahlopez1118 omg so sad an upset little inferior American 😂😂",
          "Man i Park 300 bags of cement in an hour that’s my job so don’t let us talk enjoy your money in peace 😂",
          "Gol salto olivier giround,offside😂",
          "@fine.kln it took you two days to think how to come back at me lol and do you even call this “fine” thing a joke 😂 honey 🤭😂",
          "They themselves said it portugal sui😂😂",
          "@nacho.cagiao imagine riding off the back of a game from 2014 😂😂",
          "@theonlyzeee__ ahahaha stpid brazil lost 😂😂",
          "@felipe.bohmann Brazil is out now still laughing even won against You Guys 😂",
          "@farzad_1818 pretty soon that will be 🫱🏾‍🫲🏽✈️🇳🇱🇧🇷🇪🇸 😂😂😂",
          "@aliaslam_08 So, Portugal vs Croatia in the final match.😂",
          "@tonyvieira120 Mate next time if you argue football with me without putting your money. I won’t give a reply.. ffs😂",
          "@enkiduh how about now 😂😂😂😂😂 ❤️❤️❤️❤️❤️",
          "You people should leave the innocent referee alone.He was paid by the English team to work on their favour by giving them 2 undeserving penalties but the God of French team made sure to expose them and made them lose.Now they are on their way home with their salty fans but crying and blaming the referee. You people should blame Harry Kane for missing that last undeserving penalty 😂😂😂😂",
          "Netherlands has never won anything. Oh wait, maybe a Euro once 😂",
          "@aashasz Exactly what I said but the blind fans are blaming the referee instead of blaming Harry Kane😢😂😂😂",
          "I thought that was lil durk for a sec😂",
          "Pogba always late....A Real African Timer😂😂😂😂❤️",
          "It's about class Messi doesn't support LGBTQ 😂?",
          "@bigstern50 nah morocco will win cause of referees VAR FIFA they need messi to win the world cup means more money expect foul calls, penalties , free kicks for morocco calling it now -(professional sports) put money on it while you can you might be rich 😂😂",
          "@yayatjie09 😂😂 ay y’all praise this guy too much 🤦🏾‍♂️",
          "@imgyan07 well you said it it's a prediction. It's still kinda true tho Croatia vs Morocco will still play a match 😂",
          "@its.me.anouar_ how about your players would play in their liga and not in the Europa! 😂 they will dream to play FWC",
          "@2k7.aa sadly all good things must come to an end but he will be taking this World Cup with him 😝😂",
          "@vialard_mathis right when I thought it was getting boring. I hadn't even registered the first goal😂",
          "😂does age matter?I think messi used to destroy old defenders at that age",
          "Now u understand what I mean kid 😂 I say there will be penalty in this match",
          "@i.am.rsb  Bro Carlos is right Pessy 4 goals all on Penalties, so you hate him for not mentioning a Penalty merchant😂"
         ],
         "type": "scatter",
         "x": [
          -9.932863235473633,
          -9.466862678527832,
          -8.322713851928711,
          -9.510865211486816,
          -7.789671421051025,
          -7.508094310760498,
          -9.845308303833008,
          -10.624486923217773,
          -10.695895195007324,
          -8.670475959777832,
          -10.795846939086914,
          -9.215665817260742,
          -7.978031635284424,
          -10.410175323486328,
          -8.596385955810547,
          -8.099349975585938,
          -8.769095420837402,
          -7.8627519607543945,
          -8.564535140991211,
          -9.217742919921875,
          -10.366679191589355,
          -9.027326583862305,
          -7.735411167144775,
          -7.850760459899902,
          -9.473885536193848,
          -8.226277351379395,
          -5.769880771636963,
          -8.617400169372559,
          -9.044614791870117,
          -6.775615215301514,
          -10.480237007141113,
          -8.2858304977417,
          -9.604307174682617,
          -8.918071746826172,
          -9.780352592468262,
          -9.867340087890625,
          -10.485222816467285,
          -6.757814884185791,
          -10.197765350341797,
          -9.502388000488281,
          -3.1385581493377686,
          -8.57453727722168,
          -8.91004753112793,
          -8.303628921508789,
          -9.39188289642334
         ],
         "y": [
          -0.44058480858802795,
          -0.1534244269132614,
          -1.5273873805999756,
          0.26036491990089417,
          -0.5112343430519104,
          0.029261881485581398,
          1.9130686521530151,
          1.7945667505264282,
          0.8186644911766052,
          -1.2802517414093018,
          1.0744825601577759,
          -1.8713361024856567,
          -0.8787713050842285,
          -0.6135101914405823,
          1.975762963294983,
          0.2684731185436249,
          -0.5499722957611084,
          -0.5378432273864746,
          -0.8499811291694641,
          1.398219108581543,
          -1.3676563501358032,
          1.5255829095840454,
          -1.2460176944732666,
          0.23685935139656067,
          -1.5023729801177979,
          0.6336958408355713,
          0.3359440565109253,
          -1.3947722911834717,
          1.290371298789978,
          0.3798534870147705,
          1.841712236404419,
          0.5372963547706604,
          1.1408967971801758,
          -0.7012471556663513,
          -1.1805052757263184,
          -0.5972473621368408,
          1.5243744850158691,
          1.6147174835205078,
          0.7358314394950867,
          1.0127625465393066,
          -1.300922155380249,
          0.6309598684310913,
          0.10385919362306595,
          0.8318157196044922,
          1.2678565979003906
         ]
        },
        {
         "marker": {
          "color": "#00CC96",
          "size": 10
         },
         "mode": "markers",
         "name": "2",
         "text": [
          "@tiago.rendas2 bro I do know football but yesterday match that wasn't an offside lol 🤣🤣🤣what cause the camera showed his leg over the line but have you seen the last defender in the box 🤣🤣🤣go and learn football then come back chat to me",
          "@_francechy_ 🤣🤣🤣",
          "@5400.seconds are u there bro? 🤣",
          "@gousasmokingoniran I think that Biranvand's feet made Christian Polsic not have children anymore 🤣🤣🤣",
          "@realestate_topg what happened 🤣🤣",
          "@mitchellpolak  it was lucky win.... Argentine will destroy you 🤣🤣",
          "Priceless!! 🇨🇲\n🤣🤣🤣",
          "Did he score in this video 🤣",
          "Portugal humiliated you Shaq🤣🤣🤣\n￼",
          "@pictures_for_stickers Brazil 🇧🇷🛫🏠🤣🤣🤣🤣",
          "Yep, ney is gone🤣",
          "@goborm hehe Habibi🤣🤣",
          "@leobrajkovic2 Airport, this way ✈️🤣",
          "@twinty_999  airport this way 🤣👍🏻",
          "@_msomali_wao and guess what morocco also lost🤣🤣🤣🤣🤣🤣"
         ],
         "type": "scatter",
         "x": [
          -3.538896322250366,
          -2.2113423347473145,
          -2.621081590652466,
          -3.297912359237671,
          -2.4527246952056885,
          -3.1195454597473145,
          -2.6018455028533936,
          -2.7718677520751953,
          -3.0315048694610596,
          -2.27583646774292,
          -2.8459415435791016,
          -2.7777554988861084,
          -2.713623523712158,
          -2.012981653213501,
          -2.983616352081299
         ],
         "y": [
          8.6012544631958,
          8.605023384094238,
          8.385336875915527,
          8.583024024963379,
          8.46340560913086,
          8.45435619354248,
          8.401585578918457,
          8.322446823120117,
          8.540332794189453,
          8.00263786315918,
          8.472743034362793,
          8.661415100097656,
          8.165655136108398,
          7.569740295410156,
          8.545839309692383
         ]
        },
        {
         "marker": {
          "color": "#AB63FA",
          "size": 10
         },
         "mode": "markers",
         "name": "3",
         "text": [
          "Netherlands👏👏👏 and also cricket",
          "Definitely!!! 👏👏👏👏👏",
          "@pr1ncesa_mar1 never! Korea is much better team! 👏",
          "He is completely right! 👏",
          "hand ball 👏",
          "The Bluetooth goal 👏",
          "@itsabdelfatah you were right 👏",
          "respect 👏",
          "The Best goal of the world cup👏👏👏⚽️",
          "Just an amazing team great job 👏🏻👏🏻👏🏻👏🏻👏🏻👏🏻👏🏻👏🏻❤️❤️❤️❤️",
          "@reemasul_r3 there u go I told u guys yall can win too, good job 👏🏻👏🏻 u guys won fair and square, dont feel low for ur team. They are good enough alrdy 👏🏻",
          "@porti_elias Its True buddy👏👏",
          "Best of luck upcoming final game @afaseleccion 👏👏👏🏆",
          "@fabreezy_ 👏👏👏 this is yours???",
          "@k.mbappe proud of you👏"
         ],
         "type": "scatter",
         "x": [
          5.314929008483887,
          4.653878688812256,
          5.226387023925781,
          4.703229904174805,
          5.036398410797119,
          5.458309650421143,
          4.59996223449707,
          4.655823230743408,
          5.2352423667907715,
          5.49315071105957,
          5.85178279876709,
          5.009958744049072,
          5.116644382476807,
          4.662327766418457,
          4.731041431427002
         ],
         "y": [
          7.006796836853027,
          7.138326168060303,
          6.635944366455078,
          6.784483432769775,
          6.904557704925537,
          7.103992462158203,
          6.840190410614014,
          7.123305797576904,
          6.03776216506958,
          6.5880961418151855,
          6.809896469116211,
          6.842759132385254,
          6.133875370025635,
          6.852272033691406,
          6.907627105712891
         ]
        },
        {
         "marker": {
          "color": "#FFA15A",
          "size": 10
         },
         "mode": "markers",
         "name": "4",
         "text": [
          "We love you hazards🔥🔥🔥",
          "The France 🇫🇷 is on Fire 🔥",
          "dats literally my dad 🔥",
          "Best player 🔥🔥",
          "@pure_sh1thousery we are winer❤️❤️🔥🇮🇷🇮🇷🇮🇷🇮🇷",
          "My Favorite team 🔥🔥",
          "@nadoosh_ku I agreed with you from Saudi Arabia🔥🔥🔥",
          "Korea Vs Ghana was far better game 🔥🔥",
          "Musiala all the way🔥",
          "Rushford 🔥",
          "Nice game 🔥",
          "@beatbox_musicality For real bro🔥🔥🔥",
          "Cool🔥",
          "Mbappe on another level in this world cup🔥🔥🔥❤️",
          "The big and champions France in Qatar2022🔥",
          "@farzad_1818 I like both team but wowwww Maroccco 🔥",
          "@m.a.l.e.k.a.n.o_jr Just wait🔥",
          "Th rise of asian football ❤️❤️❤️proudly all Asian can say japan is a Asian football country...,🔥🔥🔥",
          "So much ❤️❤️❤️❤️ for CR7🔥🔥",
          "Go Croatia!!🔥🔥",
          "Uff he was the best 🔥🔥😍"
         ],
         "type": "scatter",
         "x": [
          9.48689079284668,
          9.877203941345215,
          9.60894775390625,
          9.790882110595703,
          10.02514934539795,
          9.66739273071289,
          10.030529975891113,
          9.234818458557129,
          9.521439552307129,
          10.421021461486816,
          9.934853553771973,
          9.933723449707031,
          10.386453628540039,
          9.289651870727539,
          9.58012580871582,
          9.271448135375977,
          10.125364303588867,
          9.221360206604004,
          9.673714637756348,
          10.248588562011719,
          8.332087516784668
         ],
         "y": [
          3.2097439765930176,
          3.950683116912842,
          3.491459369659424,
          2.9326207637786865,
          4.464663028717041,
          2.9917750358581543,
          3.7269580364227295,
          3.6161015033721924,
          3.2118709087371826,
          3.450592041015625,
          2.920628070831299,
          3.292771577835083,
          3.0254690647125244,
          3.9664688110351562,
          4.325749397277832,
          3.813671350479126,
          3.040027618408203,
          4.255430698394775,
          4.1125006675720215,
          3.5168538093566895,
          2.292882204055786
         ]
        },
        {
         "marker": {
          "color": "#19D3F3",
          "size": 10
         },
         "mode": "markers",
         "name": "5",
         "text": [
          "Best World Cup ever 😍",
          "Wow nice moves robo😍😍😍😍😍😍😍😍 challenge accepted 🔥🔥🔥🔥",
          "Congrates Ghana!! Great job u guys did.😍 But I still don't understand why did the referee decided that way. 🥲",
          "Missing Italy in the world cup😍😍😍🇮🇹🇮🇹🇮🇹",
          "Argentina 3.points win yees❤️😘",
          "oooh jungkook and his song 😍And congratulations on the victory of the French",
          "Congratulations to Japan, Morocco, Brazil, South Korea and Qatar 😍",
          "HE SO FINE OMLL 😍",
          "Follow @__footycontent_ 😍",
          "France ❤️😍and Argentina 😍❤️❤️",
          "Looking forward to Hakimi vs MBappe'😍❤️ May the best win!",
          "@el_dado1004 ya ya ya, croatia lost to spain 6-0 in 2018. You are the kid who couldn't handle the facts and couldnt help yourself but to run your fingers through my comment. Stay mad bestie 😍",
          "@hassan.ahmed.07 6 Games 5 goals 3 assist now😍"
         ],
         "type": "scatter",
         "x": [
          7.964749336242676,
          7.101075649261475,
          7.4154486656188965,
          7.776222229003906,
          6.017144680023193,
          7.474163055419922,
          7.551629543304443,
          7.915987014770508,
          8.271251678466797,
          7.821202754974365,
          7.523018836975098,
          7.297201156616211,
          7.668647289276123
         ],
         "y": [
          -0.7868857979774475,
          0.32148003578186035,
          -0.5388898849487305,
          -1.007728099822998,
          -1.1138070821762085,
          -0.6318232417106628,
          -0.8173692226409912,
          -0.7307550311088562,
          -0.8348015546798706,
          -0.9562667608261108,
          -0.6089682579040527,
          -0.5288886427879333,
          -0.7260575294494629
         ]
        },
        {
         "marker": {
          "color": "#FF6692",
          "size": 10
         },
         "mode": "markers",
         "name": "6",
         "text": [
          "@_hey.its.sup_ we did it 😉🙌",
          "CR7 ❤️🙌",
          "Japanese team was so good 😮🙌❤️",
          "@joyce_pecky they were well played🙌🏻🙌🏻",
          "@_anas_hussain__ rip mother and ur sister 🙌🏼",
          "We Respect Japan 🙌🙌🙌🔥🔥",
          "Meet you in final🙌🏻",
          "@areez.kxn go watch all the games 🙌😂",
          "Messi 🙌 🇦🇷 will win"
         ],
         "type": "scatter",
         "x": [
          4.373030662536621,
          5.467458724975586,
          5.09235954284668,
          5.424293041229248,
          5.487604141235352,
          5.622183799743652,
          5.470632553100586,
          -4.446451663970947,
          5.492537498474121
         ],
         "y": [
          -2.781245231628418,
          -3.7237496376037598,
          -3.113765001296997,
          -3.620222806930542,
          -3.766934394836426,
          -2.983644485473633,
          -3.689765453338623,
          -2.0218358039855957,
          -3.7975220680236816
         ]
        },
        {
         "marker": {
          "color": "#B6E880",
          "size": 10
         },
         "mode": "markers",
         "name": "7",
         "text": [
          "@fatenalshoubaki respecting cultures goes both ways, i won't invite a muslim man to my house and force him to eat pork because \"it's in my culture to eat pork\", both hosts and guests should be able to respect eachother 👍",
          "@itisjuanderful AAJAA POR NO PERMITIR GAYS EN LA COPA MUNDIAL YO LO VEO EXCELENTE👏🔥",
          "@glg_sky yeah I’m sure Qatar being ranked financially behind Greece means they’re thriving 🙄",
          "This nikka sick wit it🔥😂",
          "He is our Nr 1 🇨🇭👍👍🇨🇭",
          "no bro many moroccans respect Croatia team, was a game full of fair-play 👌🏽",
          "Congrats and well done to🇧🇪@belgianreddevils who wins and wish the best and good luck too in the next match against🇲🇦@equipedumaroc and for🇨🇦@canadasoccer ,well done for fights until the end despite lost and wish the best and good luck too in the next match against🇭🇷@hns_cff !👏🙂😀😄😎👍⚽️",
          "@audrey_loves_nature_art this is word cup no campaign you region🙏",
          "Brilliant player 👏🔥",
          "Shout out to my boy @richarlison with the best goal in this world cup 2022👏🔥🇧🇷🇧🇷🇧🇷🇧🇷",
          "BRAZIL VS SERBIA....THE GAME BRAZIL PLAYED AGAINST A TEAM LIKE SERBIA WHICH HAD SUCH AN AMAZING DEFENCE🔥❤️ EVEN THOUGH I'M NOT A BRAZIL FAN😍 BUT WHATEVER FRANCE🔥❤️MY TEAMMMM😍MBAPPE 💗",
          "I'm heartbroken that we didn't do enough to go the next round, but in the end, we fought hard. 💔 And we're gonna continue fighting! They haven't seen the last of Mexico, at all! 🔥 See you all in 2026!! 🇲🇽🇲🇽💯💯",
          "🇹🇳 ❤️🔥 should be proud 👏",
          "Wow very gorgeous ❤️🔥😍",
          "Lol 🙄 buh d ball was taken from him",
          "the real blue lock🙌🔥🔥😍",
          "That throw was lit👏🔥",
          "Congratulations 🔥👏",
          "@eugeneolderman ...dear sunshine under the profile name *hillquiaswhatever* kindly be informed that by definition I do not reply to any private account in Instagram like yours for example...Moreover because I do not speak your language I would kindly ask you to stand a little out of my sun ☀️...PS. by the way it is not either polite or civilized to block in advance the reply to the person on whom you have addressed a comment...👎🕳️",
          "@afaseleccion come back match💥💥💥",
          "Thank you for entertaining me Japan, I'm waiting for the excitement again in four years👏❤️‍🔥🇯🇵🇯🇵❤️‍🔥",
          "Mashallah 🙌❤️🇲🇦🇲🇦🇲🇦A forever pride 👏💪",
          "Messi wins the this exciting wc!!! 👏🔥❤️‍🔥",
          "Argentina vs France 👏🔥👏🔥👏 Greatest rivalry",
          "Well played Morocco’s number 7 a good play maker enjoyed his movments 🔥 see you next time fight for 3rd 👏",
          "In the 1998 World Cup in France, it was clear that Belai did not want to fight for third place. The Netherlands was forced to play because of FIFA's threat.🙏👍"
         ],
         "type": "scatter",
         "x": [
          9.772193908691406,
          6.891538143157959,
          3.5886192321777344,
          7.530806541442871,
          9.850541114807129,
          2.5760157108306885,
          3.2978761196136475,
          6.095648765563965,
          6.851160526275635,
          7.040464401245117,
          6.7366719245910645,
          4.352029323577881,
          6.913647651672363,
          7.676828384399414,
          3.594188690185547,
          7.69499397277832,
          6.879044532775879,
          6.841837406158447,
          3.4575884342193604,
          1.9128952026367188,
          7.644989490509033,
          3.4676430225372314,
          7.686721324920654,
          6.507359504699707,
          6.88874626159668,
          6.14389705657959
         ],
         "y": [
          -4.050233840942383,
          4.119716167449951,
          -6.421854496002197,
          2.0315139293670654,
          -3.875739097595215,
          1.1892293691635132,
          -0.7539020776748657,
          -5.987008571624756,
          4.5817365646362305,
          3.8334567546844482,
          0.7575578689575195,
          0.2761630713939667,
          4.3461012840271,
          1.593620777130127,
          -6.433208465576172,
          1.9717738628387451,
          4.391593933105469,
          4.8460307121276855,
          -4.559569358825684,
          0.7936473488807678,
          3.854029655456543,
          0.6414446234703064,
          3.9087331295013428,
          4.490889549255371,
          3.95559024810791,
          -5.88577938079834
         ]
        },
        {
         "marker": {
          "color": "#FF97FF",
          "size": 10
         },
         "mode": "markers",
         "name": "8",
         "text": [
          "We are ready 💛💙❤️",
          "👏😄 next game please..⚽🏃",
          "Fantastis group..✌😄",
          "Nice trophy..smile it..get it..your trophy..🏆✌😄",
          "Wtf Mbappe wasn’t even the man of the match 🤦🏻‍♂️",
          "@shintia97s love over hate !! I'm sorry that you've got so much anger inside for another human. But I forgive you and send you love and support. 🫂🫂🤗🤗😘😘🏳️‍🌈🏳️‍🌈",
          "But you start to tremble knowing you face Saudi Arabia 🇸🇦 😆",
          "This is an insult\nWe lost because of their support🤦‍♂️",
          "I really wanna join them but I’m a Chinese😭😭😭",
          "@fxwoke  bravo  usa child killer 👏👏i m proud of you . You r right 😍😍😍😉🙃",
          "@yessin99 in the round of 16 after beating tunisia and denmark 💚💛🇦🇺🇦🇺🇦🇺🇦🇺🇮🇱🦘🦘",
          "@blueblink5254 dude also, I am embarrassed FOR YOU! 🤦‍♀️",
          "After 12 year of madness y’all couldn’t complete a simple penalty 🤦🏾‍♂️🤦🏾‍♂️",
          "Why do they always ask this question 🤦🏻‍♂️ Anyway everyone gives the same answer - \"I would give it to the whole team\" Are there any other questions?",
          "@whathappenedin1983 Mexico would have lost 6-0 to France, so Mexico still didn’t deserve to advance 😉",
          "@_stevaaa_r_ serbian players are shiit and so are the populist criminals in serbia 😝🥶",
          "@memphis is a lion 🦁🦁🦁",
          "Morata is second 😱",
          "Love Moroccan team ❤️💚",
          "@mr.talls.rainbow.world you look at this lolman😅 a man fallin' love to women, make 'happy family, and absolutely for 'future, and this reality from the God.. Don't be stupid human with the lol+stupid+destroy thingked😅😅😅",
          "Boys 🇧🇷❤️🍻",
          "@robertmikocevic yes 😉😉🔥",
          "Pakistan🇵🇰 and indian 🇮🇳 flags is together 🤝",
          "@victormosquera it was the back to back matches with PKs for me 😅",
          "I know for sure I’ll be missing the World Cup , No game days already feel weird 😒",
          "@yousselhak ok will see with France 😝😘",
          "Cancel this game. 😒😒",
          "Maybe a 6:1 hurts for a MOMENT, but the feeling when you lost AGAIN was amazing!!! trust me🙈🙈🙈🥹",
          "@manas.f.rollins bruh that's the Belgium flag 🤦",
          "@fifaworldcup shame on you 👎👎👎👎🤬",
          "@crocodile_bw \"no hate allowed\" ?🤫😉",
          "@the_rgzone thanks, greetings from Brazil🇧🇷🙌🏻🤝🏻😉",
          "Kids that never have to worries about money…..🤘🏻😆",
          "@_pierolb_ « I learned to think all by myself » 🤓😰",
          "@bensalma lmao u mad as hell and now you're finna lose against Croatia😈",
          "@planinic_ivana Your opinion is irrelevant now. They won🇦🇷🇦🇷🇦🇷 Something your country couldn't do lmaoooo hahaaaaaaa cry in misery😄",
          "Bye bye France!! 👋🏼👋🏼✈️ ✈️",
          "@anthonyengel7111 Are you still sure?😅😅😅😅"
         ],
         "type": "scatter",
         "x": [
          7.420766353607178,
          1.6969592571258545,
          -1.5578348636627197,
          0.43528127670288086,
          -4.958803653717041,
          2.815145254135132,
          -2.0533556938171387,
          -4.9484782218933105,
          -8.980929374694824,
          5.495301723480225,
          7.577756404876709,
          -4.943476676940918,
          -4.9599103927612305,
          -4.963593006134033,
          3.7043087482452393,
          -2.8660528659820557,
          1.4237515926361084,
          -0.005279747769236565,
          7.593560695648193,
          2.4132792949676514,
          -0.15507131814956665,
          3.9494736194610596,
          -2.309354782104492,
          2.408658504486084,
          -4.53217887878418,
          5.566413402557373,
          -4.52665901184082,
          2.592406988143921,
          -4.932590961456299,
          9.890791893005371,
          3.7681829929351807,
          3.9883882999420166,
          1.3309087753295898,
          1.2092432975769043,
          1.345413088798523,
          -1.61844801902771,
          2.9797885417938232,
          2.406432628631592
         ],
         "y": [
          -4.037618160247803,
          -0.35726064443588257,
          -0.2821180820465088,
          -0.271390438079834,
          3.947375774383545,
          -1.5593681335449219,
          -0.6781643629074097,
          3.936347246170044,
          -3.985910415649414,
          -0.4743533134460449,
          -2.9649112224578857,
          3.940728187561035,
          3.929476737976074,
          3.9296061992645264,
          -3.0174386501312256,
          -1.5520216226577759,
          -7.4737067222595215,
          -1.8863023519515991,
          -3.0579164028167725,
          3.6164002418518066,
          1.7268502712249756,
          -2.866516590118408,
          -4.257425308227539,
          3.618429660797119,
          -5.982091426849365,
          -1.1759881973266602,
          -5.9772138595581055,
          -1.3438313007354736,
          3.942533016204834,
          -3.5281968116760254,
          -2.998868942260742,
          -2.312624454498291,
          -1.1151959896087646,
          -1.3349413871765137,
          -1.1622554063796997,
          -0.2791874408721924,
          -1.935890793800354,
          3.6151130199432373
         ]
        },
        {
         "marker": {
          "color": "#FECB52",
          "size": 10
         },
         "mode": "markers",
         "name": "9",
         "text": [
          "@bf_steve Who do you think I cheer for 😂",
          "@jan_schawe to what 😂😂😂😂😂",
          "@dashotb the comment I was looking for 😂",
          "One Love 🌈✖ 😂😂😂 one two ✔ 🤭🤭🤭",
          "@afdhalulrizki42 😂 Stupid Football yes 😂",
          "@the_queen_of_adventure Haya bina ila lmondial 😂🇨🇲😍",
          "Bro was forced to do it😂😂😂😂😂",
          "De Paul always with him 😂",
          "@hamedsoltaniiiii67 take us out yourselves by winning 😂",
          "@hana_photographyc 😂 Well done 👏",
          "@anchan_0722_ 😂😂😂",
          "@88godiswithme 😂😂😂😂😂😂😂 congratulations!!",
          "@rya._.ntz23 and now denmark are out 😂",
          "@ban_all_mondays verpiss dich goodbye😂",
          "Right back at you 😂😂",
          "@spasho05 😂😂😂😂",
          "@richard.escobarc by 😂😂🇲🇦💪",
          "Wow so much fun 😂",
          "@marley4reall all that just to tie with the us😂",
          "@lucascosmepdm what happened my friend 😂😂🇦🇷🥱",
          "@ash.saalax 😂 what about it now",
          "@thecollective.conscious Hey ! Still crying ? 😂🇲🇦",
          "Keep crying england 😂😂😂😂",
          "You can’t drink tho😂",
          "@shreyanshpathak8717 😂",
          "@guilherme_tornich 💪🇦🇷🇦🇷🇦🇷😂😂",
          "@_fmbe_ What do you say? 😂😂😂🇦🇷🇦🇷🇦🇷🇦🇷"
         ],
         "type": "scatter",
         "x": [
          -6.903233528137207,
          -6.253848075866699,
          -6.4995503425598145,
          -5.215193748474121,
          -7.815521717071533,
          -4.412324905395508,
          -6.928164958953857,
          -6.712503910064697,
          -6.785728931427002,
          3.312101364135742,
          -6.2363057136535645,
          -6.420744895935059,
          -7.2253241539001465,
          -6.714253902435303,
          -6.363791465759277,
          -6.243620872497559,
          -4.469027996063232,
          -7.0584940910339355,
          -7.173177242279053,
          -6.032085418701172,
          -6.254550457000732,
          -6.100668430328369,
          -7.276005744934082,
          -6.93321418762207,
          -6.233560085296631,
          -4.457206726074219,
          -5.698308944702148
         ],
         "y": [
          -0.6685776710510254,
          -2.247676134109497,
          -1.3257886171340942,
          -1.5719777345657349,
          -1.823060154914856,
          -0.02906167134642601,
          -1.2348535060882568,
          -1.1347737312316895,
          -0.9964077472686768,
          5.951543807983398,
          -3.3093903064727783,
          -3.0916011333465576,
          -1.4570313692092896,
          -2.045281410217285,
          -1.7588276863098145,
          -3.3082807064056396,
          -0.6989567279815674,
          -1.9317537546157837,
          -0.8208284378051758,
          -0.38895338773727417,
          -1.8251467943191528,
          -0.4577785134315491,
          -1.390258550643921,
          -1.4925423860549927,
          -3.3079426288604736,
          -0.7096396684646606,
          0.17577441036701202
         ]
        }
       ],
       "layout": {
        "autosize": false,
        "height": 1500,
        "legend": {
         "title": {
          "text": "Cluster"
         }
        },
        "template": {
         "data": {
          "bar": [
           {
            "error_x": {
             "color": "#2a3f5f"
            },
            "error_y": {
             "color": "#2a3f5f"
            },
            "marker": {
             "line": {
              "color": "#E5ECF6",
              "width": 0.5
             },
             "pattern": {
              "fillmode": "overlay",
              "size": 10,
              "solidity": 0.2
             }
            },
            "type": "bar"
           }
          ],
          "barpolar": [
           {
            "marker": {
             "line": {
              "color": "#E5ECF6",
              "width": 0.5
             },
             "pattern": {
              "fillmode": "overlay",
              "size": 10,
              "solidity": 0.2
             }
            },
            "type": "barpolar"
           }
          ],
          "carpet": [
           {
            "aaxis": {
             "endlinecolor": "#2a3f5f",
             "gridcolor": "white",
             "linecolor": "white",
             "minorgridcolor": "white",
             "startlinecolor": "#2a3f5f"
            },
            "baxis": {
             "endlinecolor": "#2a3f5f",
             "gridcolor": "white",
             "linecolor": "white",
             "minorgridcolor": "white",
             "startlinecolor": "#2a3f5f"
            },
            "type": "carpet"
           }
          ],
          "choropleth": [
           {
            "colorbar": {
             "outlinewidth": 0,
             "ticks": ""
            },
            "type": "choropleth"
           }
          ],
          "contour": [
           {
            "colorbar": {
             "outlinewidth": 0,
             "ticks": ""
            },
            "colorscale": [
             [
              0,
              "#0d0887"
             ],
             [
              0.1111111111111111,
              "#46039f"
             ],
             [
              0.2222222222222222,
              "#7201a8"
             ],
             [
              0.3333333333333333,
              "#9c179e"
             ],
             [
              0.4444444444444444,
              "#bd3786"
             ],
             [
              0.5555555555555556,
              "#d8576b"
             ],
             [
              0.6666666666666666,
              "#ed7953"
             ],
             [
              0.7777777777777778,
              "#fb9f3a"
             ],
             [
              0.8888888888888888,
              "#fdca26"
             ],
             [
              1,
              "#f0f921"
             ]
            ],
            "type": "contour"
           }
          ],
          "contourcarpet": [
           {
            "colorbar": {
             "outlinewidth": 0,
             "ticks": ""
            },
            "type": "contourcarpet"
           }
          ],
          "heatmap": [
           {
            "colorbar": {
             "outlinewidth": 0,
             "ticks": ""
            },
            "colorscale": [
             [
              0,
              "#0d0887"
             ],
             [
              0.1111111111111111,
              "#46039f"
             ],
             [
              0.2222222222222222,
              "#7201a8"
             ],
             [
              0.3333333333333333,
              "#9c179e"
             ],
             [
              0.4444444444444444,
              "#bd3786"
             ],
             [
              0.5555555555555556,
              "#d8576b"
             ],
             [
              0.6666666666666666,
              "#ed7953"
             ],
             [
              0.7777777777777778,
              "#fb9f3a"
             ],
             [
              0.8888888888888888,
              "#fdca26"
             ],
             [
              1,
              "#f0f921"
             ]
            ],
            "type": "heatmap"
           }
          ],
          "heatmapgl": [
           {
            "colorbar": {
             "outlinewidth": 0,
             "ticks": ""
            },
            "colorscale": [
             [
              0,
              "#0d0887"
             ],
             [
              0.1111111111111111,
              "#46039f"
             ],
             [
              0.2222222222222222,
              "#7201a8"
             ],
             [
              0.3333333333333333,
              "#9c179e"
             ],
             [
              0.4444444444444444,
              "#bd3786"
             ],
             [
              0.5555555555555556,
              "#d8576b"
             ],
             [
              0.6666666666666666,
              "#ed7953"
             ],
             [
              0.7777777777777778,
              "#fb9f3a"
             ],
             [
              0.8888888888888888,
              "#fdca26"
             ],
             [
              1,
              "#f0f921"
             ]
            ],
            "type": "heatmapgl"
           }
          ],
          "histogram": [
           {
            "marker": {
             "pattern": {
              "fillmode": "overlay",
              "size": 10,
              "solidity": 0.2
             }
            },
            "type": "histogram"
           }
          ],
          "histogram2d": [
           {
            "colorbar": {
             "outlinewidth": 0,
             "ticks": ""
            },
            "colorscale": [
             [
              0,
              "#0d0887"
             ],
             [
              0.1111111111111111,
              "#46039f"
             ],
             [
              0.2222222222222222,
              "#7201a8"
             ],
             [
              0.3333333333333333,
              "#9c179e"
             ],
             [
              0.4444444444444444,
              "#bd3786"
             ],
             [
              0.5555555555555556,
              "#d8576b"
             ],
             [
              0.6666666666666666,
              "#ed7953"
             ],
             [
              0.7777777777777778,
              "#fb9f3a"
             ],
             [
              0.8888888888888888,
              "#fdca26"
             ],
             [
              1,
              "#f0f921"
             ]
            ],
            "type": "histogram2d"
           }
          ],
          "histogram2dcontour": [
           {
            "colorbar": {
             "outlinewidth": 0,
             "ticks": ""
            },
            "colorscale": [
             [
              0,
              "#0d0887"
             ],
             [
              0.1111111111111111,
              "#46039f"
             ],
             [
              0.2222222222222222,
              "#7201a8"
             ],
             [
              0.3333333333333333,
              "#9c179e"
             ],
             [
              0.4444444444444444,
              "#bd3786"
             ],
             [
              0.5555555555555556,
              "#d8576b"
             ],
             [
              0.6666666666666666,
              "#ed7953"
             ],
             [
              0.7777777777777778,
              "#fb9f3a"
             ],
             [
              0.8888888888888888,
              "#fdca26"
             ],
             [
              1,
              "#f0f921"
             ]
            ],
            "type": "histogram2dcontour"
           }
          ],
          "mesh3d": [
           {
            "colorbar": {
             "outlinewidth": 0,
             "ticks": ""
            },
            "type": "mesh3d"
           }
          ],
          "parcoords": [
           {
            "line": {
             "colorbar": {
              "outlinewidth": 0,
              "ticks": ""
             }
            },
            "type": "parcoords"
           }
          ],
          "pie": [
           {
            "automargin": true,
            "type": "pie"
           }
          ],
          "scatter": [
           {
            "fillpattern": {
             "fillmode": "overlay",
             "size": 10,
             "solidity": 0.2
            },
            "type": "scatter"
           }
          ],
          "scatter3d": [
           {
            "line": {
             "colorbar": {
              "outlinewidth": 0,
              "ticks": ""
             }
            },
            "marker": {
             "colorbar": {
              "outlinewidth": 0,
              "ticks": ""
             }
            },
            "type": "scatter3d"
           }
          ],
          "scattercarpet": [
           {
            "marker": {
             "colorbar": {
              "outlinewidth": 0,
              "ticks": ""
             }
            },
            "type": "scattercarpet"
           }
          ],
          "scattergeo": [
           {
            "marker": {
             "colorbar": {
              "outlinewidth": 0,
              "ticks": ""
             }
            },
            "type": "scattergeo"
           }
          ],
          "scattergl": [
           {
            "marker": {
             "colorbar": {
              "outlinewidth": 0,
              "ticks": ""
             }
            },
            "type": "scattergl"
           }
          ],
          "scattermapbox": [
           {
            "marker": {
             "colorbar": {
              "outlinewidth": 0,
              "ticks": ""
             }
            },
            "type": "scattermapbox"
           }
          ],
          "scatterpolar": [
           {
            "marker": {
             "colorbar": {
              "outlinewidth": 0,
              "ticks": ""
             }
            },
            "type": "scatterpolar"
           }
          ],
          "scatterpolargl": [
           {
            "marker": {
             "colorbar": {
              "outlinewidth": 0,
              "ticks": ""
             }
            },
            "type": "scatterpolargl"
           }
          ],
          "scatterternary": [
           {
            "marker": {
             "colorbar": {
              "outlinewidth": 0,
              "ticks": ""
             }
            },
            "type": "scatterternary"
           }
          ],
          "surface": [
           {
            "colorbar": {
             "outlinewidth": 0,
             "ticks": ""
            },
            "colorscale": [
             [
              0,
              "#0d0887"
             ],
             [
              0.1111111111111111,
              "#46039f"
             ],
             [
              0.2222222222222222,
              "#7201a8"
             ],
             [
              0.3333333333333333,
              "#9c179e"
             ],
             [
              0.4444444444444444,
              "#bd3786"
             ],
             [
              0.5555555555555556,
              "#d8576b"
             ],
             [
              0.6666666666666666,
              "#ed7953"
             ],
             [
              0.7777777777777778,
              "#fb9f3a"
             ],
             [
              0.8888888888888888,
              "#fdca26"
             ],
             [
              1,
              "#f0f921"
             ]
            ],
            "type": "surface"
           }
          ],
          "table": [
           {
            "cells": {
             "fill": {
              "color": "#EBF0F8"
             },
             "line": {
              "color": "white"
             }
            },
            "header": {
             "fill": {
              "color": "#C8D4E3"
             },
             "line": {
              "color": "white"
             }
            },
            "type": "table"
           }
          ]
         },
         "layout": {
          "annotationdefaults": {
           "arrowcolor": "#2a3f5f",
           "arrowhead": 0,
           "arrowwidth": 1
          },
          "autotypenumbers": "strict",
          "coloraxis": {
           "colorbar": {
            "outlinewidth": 0,
            "ticks": ""
           }
          },
          "colorscale": {
           "diverging": [
            [
             0,
             "#8e0152"
            ],
            [
             0.1,
             "#c51b7d"
            ],
            [
             0.2,
             "#de77ae"
            ],
            [
             0.3,
             "#f1b6da"
            ],
            [
             0.4,
             "#fde0ef"
            ],
            [
             0.5,
             "#f7f7f7"
            ],
            [
             0.6,
             "#e6f5d0"
            ],
            [
             0.7,
             "#b8e186"
            ],
            [
             0.8,
             "#7fbc41"
            ],
            [
             0.9,
             "#4d9221"
            ],
            [
             1,
             "#276419"
            ]
           ],
           "sequential": [
            [
             0,
             "#0d0887"
            ],
            [
             0.1111111111111111,
             "#46039f"
            ],
            [
             0.2222222222222222,
             "#7201a8"
            ],
            [
             0.3333333333333333,
             "#9c179e"
            ],
            [
             0.4444444444444444,
             "#bd3786"
            ],
            [
             0.5555555555555556,
             "#d8576b"
            ],
            [
             0.6666666666666666,
             "#ed7953"
            ],
            [
             0.7777777777777778,
             "#fb9f3a"
            ],
            [
             0.8888888888888888,
             "#fdca26"
            ],
            [
             1,
             "#f0f921"
            ]
           ],
           "sequentialminus": [
            [
             0,
             "#0d0887"
            ],
            [
             0.1111111111111111,
             "#46039f"
            ],
            [
             0.2222222222222222,
             "#7201a8"
            ],
            [
             0.3333333333333333,
             "#9c179e"
            ],
            [
             0.4444444444444444,
             "#bd3786"
            ],
            [
             0.5555555555555556,
             "#d8576b"
            ],
            [
             0.6666666666666666,
             "#ed7953"
            ],
            [
             0.7777777777777778,
             "#fb9f3a"
            ],
            [
             0.8888888888888888,
             "#fdca26"
            ],
            [
             1,
             "#f0f921"
            ]
           ]
          },
          "colorway": [
           "#636efa",
           "#EF553B",
           "#00cc96",
           "#ab63fa",
           "#FFA15A",
           "#19d3f3",
           "#FF6692",
           "#B6E880",
           "#FF97FF",
           "#FECB52"
          ],
          "font": {
           "color": "#2a3f5f"
          },
          "geo": {
           "bgcolor": "white",
           "lakecolor": "white",
           "landcolor": "#E5ECF6",
           "showlakes": true,
           "showland": true,
           "subunitcolor": "white"
          },
          "hoverlabel": {
           "align": "left"
          },
          "hovermode": "closest",
          "mapbox": {
           "style": "light"
          },
          "paper_bgcolor": "white",
          "plot_bgcolor": "#E5ECF6",
          "polar": {
           "angularaxis": {
            "gridcolor": "white",
            "linecolor": "white",
            "ticks": ""
           },
           "bgcolor": "#E5ECF6",
           "radialaxis": {
            "gridcolor": "white",
            "linecolor": "white",
            "ticks": ""
           }
          },
          "scene": {
           "xaxis": {
            "backgroundcolor": "#E5ECF6",
            "gridcolor": "white",
            "gridwidth": 2,
            "linecolor": "white",
            "showbackground": true,
            "ticks": "",
            "zerolinecolor": "white"
           },
           "yaxis": {
            "backgroundcolor": "#E5ECF6",
            "gridcolor": "white",
            "gridwidth": 2,
            "linecolor": "white",
            "showbackground": true,
            "ticks": "",
            "zerolinecolor": "white"
           },
           "zaxis": {
            "backgroundcolor": "#E5ECF6",
            "gridcolor": "white",
            "gridwidth": 2,
            "linecolor": "white",
            "showbackground": true,
            "ticks": "",
            "zerolinecolor": "white"
           }
          },
          "shapedefaults": {
           "line": {
            "color": "#2a3f5f"
           }
          },
          "ternary": {
           "aaxis": {
            "gridcolor": "white",
            "linecolor": "white",
            "ticks": ""
           },
           "baxis": {
            "gridcolor": "white",
            "linecolor": "white",
            "ticks": ""
           },
           "bgcolor": "#E5ECF6",
           "caxis": {
            "gridcolor": "white",
            "linecolor": "white",
            "ticks": ""
           }
          },
          "title": {
           "x": 0.05
          },
          "xaxis": {
           "automargin": true,
           "gridcolor": "white",
           "linecolor": "white",
           "ticks": "",
           "title": {
            "standoff": 15
           },
           "zerolinecolor": "white",
           "zerolinewidth": 2
          },
          "yaxis": {
           "automargin": true,
           "gridcolor": "white",
           "linecolor": "white",
           "ticks": "",
           "title": {
            "standoff": 15
           },
           "zerolinecolor": "white",
           "zerolinewidth": 2
          }
         }
        },
        "width": 1500,
        "xaxis": {
         "title": {
          "text": "PCA1"
         }
        },
        "yaxis": {
         "title": {
          "text": "PCA2"
         }
        }
       }
      }
     },
     "metadata": {},
     "output_type": "display_data"
    }
   ],
   "source": [
    "color_map = {i:px.colors.qualitative.Plotly[i] for i in range(10)}\n",
    "lang = tsne_df_en['cluster'].map(color_map)\n",
    "\n",
    "fig = go.Figure()\n",
    "\n",
    "for cluster_value, cluster_color in color_map.items():\n",
    "    cluster_data = tsne_df_en[tsne_df_en['cluster'] == cluster_value]\n",
    "    fig.add_trace(go.Scatter(\n",
    "        x=cluster_data['PC1'],\n",
    "        y=cluster_data['PC2'],\n",
    "        mode='markers',\n",
    "        marker=dict(color=cluster_color, size=10),\n",
    "        text=cluster_data['text'],\n",
    "        name=cluster_value,\n",
    "    ))\n",
    "\n",
    "fig.update_layout(\n",
    "    autosize=False,\n",
    "    width=1500,\n",
    "    height=1500,\n",
    "    legend=dict(title='Cluster'),\n",
    "    xaxis_title='PC1',\n",
    "    yaxis_title='PC2'\n",
    ")\n",
    "\n",
    "fig.show()"
   ]
  },
  {
   "cell_type": "markdown",
   "id": "f5737d1d",
   "metadata": {},
   "source": [
    "#### Spanish"
   ]
  },
  {
   "cell_type": "code",
   "execution_count": 224,
   "id": "3bed04d4",
   "metadata": {},
   "outputs": [
    {
     "data": {
      "application/vnd.plotly.v1+json": {
       "config": {
        "plotlyServerURL": "https://plot.ly"
       },
       "data": [
        {
         "marker": {
          "color": "#636EFA",
          "size": 10
         },
         "mode": "markers",
         "name": "0",
         "text": [
          "@bbsitaj we'll see on December 18 😉",
          "@hichemourad13 will it be that this individual is still thought the same?  Ecuador is great 🇪🇨😉😉",
          "@charlywolfph naaaaa, it is just an opinion that follows from logic and common sense... I am not interested in being a DT although I thank you very much... \"machine\" 👍🏼😏",
          "Hey man ,why did they disqualify Ecuador? Were they afraid, cowards? Perfectly, you already know the truth 😉",
          "@qp11_00 Incredible video👍",
          "$$$$$$$$$$$$$$$$$$👎👎, disaster, scammers!!! $$$$$$$$$$",
          "@cruzfrancesco3  I happy sembre strong Argentine strength 🇦🇷😉👍🏻",
          "@ trick_pro_league 👍🏻",
          "@ amberpeeters97and Spain doesn't even know how to play 😀",
          "I don't like this guy he's very dismissive!!! 👎"
         ],
         "type": "scatter",
         "x": [
          -4.714154243469238,
          -4.700913906097412,
          -3.375572919845581,
          -4.730581760406494,
          -4.574978828430176,
          -4.364968776702881,
          -3.97373104095459,
          -4.626662731170654,
          -2.170823574066162,
          -4.3428425788879395
         ],
         "y": [
          -0.5813121199607849,
          -0.5713068246841431,
          0.5531935095787048,
          -0.6150634288787842,
          1.7115479707717896,
          1.2998054027557373,
          0.33154556155204773,
          1.7764780521392822,
          -4.142512798309326,
          1.2564408779144287
         ]
        },
        {
         "marker": {
          "color": "#EF553B",
          "size": 10
         },
         "mode": "markers",
         "name": "1",
         "text": [
          "How seductive the one in the second photo 😂😂",
          "@magggitomcruz we are already in the cup, it is called USA 🇺🇸 lmao p3nd3j0 😂😂",
          "That is, one cap penalty, the other scores a goal and this is the best of the game. Yesterday Ferran scored 2 goals and made great plays and the best was Gavi. 😂😂",
          "@daje_mitico 😂😂",
          "@lauhernandezchavez La Payasada They found it expensive 😂",
          "Poor guy 😂",
          "Ecuador made them dance, humiliated them and supposedly this was the best player 😂 after they cancel  a legitimate goal, they also get their hands on the best player when everyone perfectly realized that Ecuador surpassed them, that they are shameless",
          "Ronaldo",
          "A cockroach with a baygon moves more😂",
          "@jomiguelrivera the goal of the century we did it to Italy😂",
          "What a good deal for our selection 😂",
          "Shit",
          "@bertonrayhs_😂😂😂it's in you🇦🇷🇦🇷",
          "Those from Saudi Arabia who want to die were happy because they won the first game, 😂😂😂 come on Argentina 🇦🇷🇦🇷",
          "@chucuzilla Vargentina's greatest conquest against Brazil ? 😂👌🏼 Pelé is greater than the Vargentina 😂",
          "We re-sit it to the Polish😂",
          "@yer_gamboa leaving is leaving haha ask Uruguay haha you think they care to leave with their faces held high haha they left crying wanting to hit the referees... Just like everyone's aspirations haha and if Japan is world champion they will say the Ticos who beat them😂😂😂",
          "11 goals were eaten, ⚽🥅 the most scored in the World Cup 😂😂😂😂",
          "@el_pishuelo Uruguay does not exist on the map which is Uruguay?😂😂",
          "@lucaasperee Texas is worth to us pura vrga\nWe are one of the countries with the most territory in the world\nBut English is spoken in the Falklands 😂😂😂😂",
          "@diegoo_menendezz there was no error in the VAR, DO not CRY TELL US😂😂😂😂",
          "@_ab_do_r.c.a Morocco out of FIFA on day 6😂😂😂",
          "Hahahaha no desire to search the search engine 😂",
          "The team that won x that Portugal let itself be won did the same in Spain😂",
          "golazo chihuahua dog😂😂 face that iso haha",
          "@matt.changa plus penalty gave uruWHY and the clowns leaving the stadium hitting the monitor of the VAR. ELIMINATED😂😂😂😂😂",
          "@salvalopz4 look at the stars that each shield has and then tell me who is the child of who 😂",
          "@_arabicqueen_ dream😂😂",
          "@eugenio_9892 😂😂😂Argentino ? now I know why you are like this but I don't speak badly to people like you do I just wish you good luck for the rest",
          "@j_fonse10 😂😂😂yo también ati",
          "@abdan507___ 😂😂😂😂😂😂😂😂😂 lie!!! But repeat it until you believe it 😂😂😂",
          "@miguelz_cunha hahaha read well before answering hahaha before I want you to pass the dances 😂😂 to see the package dance 🕺🏻🇧🇷",
          "@vlz.matthew_ you're too young next to Uruguay or the World Cup qualifiers 😂",
          "And he's only 21 😢 I was at a McDonald's when I was 21 😂",
          "@romanruizdiazok Argentines are so excited😂",
          "@sofiaramosfleury now say it without crying. IT WASN 'T CRIMINAL😂😂😂😂😂😂",
          "@Abderazak_ot ok, the fact is that the defeat was deserved, but you are not joking, I repeat that Morocco has neither trophies nor history 😂",
          "@anthony_pv05 If you guys had played England, it would be  50-0😂",
          "@_monniiiiiiiiii_ There is a Moroccan proverb that says, “Crying after the dead is a loss.”😂",
          "@stuffbarbdoes lol zero 😂😂😂😂",
          "@diego_mendivels0 the only Latino who did not speak Spanish. That's why they're not going to win the World Cup 😂🫣😅",
          "@vinicius_conrado12 bye bye brazil😂😂😂😂😂😂😂😂😂😅",
          "@luizhenrique_147  that passed Brazil eliminated 😂",
          "Croatia",
          "@lorran.fon 😢😢😢😢😢Sorry you lost the game 😂😂😂😂😂😂😂😂",
          "They mufaron 😂",
          "@emiliojose_v save this comment. Piece of so re te.  Seriously, your parents must be brothers, but difficult to be so Bob0😂",
          "That it wasn't that he was going to win ?? Crying Cristaldo😹😹",
          "@acdc.jpedro 😂😂😂😂😂",
          "@dansabras Brazil tell me what it feels like to have your dad at home 😂 🇦🇷🇦🇷🇦🇷",
          "@life_is_sedd how's that for you? 😂",
          "I hope you support your own worldcup 😂",
          "that they pass the mess in Qatar 😂",
          "Peppy",
          "Ronaldo is always a genius!! Ronaldo😂 is Argentine, he belongs to everyone!!!",
          "@sofi_more.mv it's not my country I'm Chilean, that's because I want Argentina to lose 😂",
          "@r_cotic27 Your Croatia lifting surra 😂",
          "Go there 😂",
          "Hahahaha see you in 4 years !!! 😂",
          "I didn't work I failed the penalty thanks 😂😂",
          "@b.local 😂😂😂👏",
          "What happened is that the phenomenon of now no longer plays like before the cago😂😂😂😂",
          "@ swapichiMake me this one and I'll believe you. 😂",
          "@ivanalvaradoq good thing that with football he eats all of Argentina, ah no, he doesn't 😂 pd: I'm not Spanish 😘",
          "Hahahaha and they were left outsideaa😂😂",
          "First... he doesn't do so well, second...Brasiiiiiilllll😂😂😂🇦🇷🇦🇷🇦🇷🇦🇷🇦🇷",
          "Argentina vs all French colonies and associates 😂",
          "How not to remember Zidane's headbutt!!! 😂😂😂😂"
         ],
         "type": "scatter",
         "x": [
          -2.6514999866485596,
          -1.499677062034607,
          -0.5061483383178711,
          -1.2527201175689697,
          -2.461294174194336,
          -2.1842429637908936,
          -0.3510133922100067,
          -2.0786612033843994,
          -1.921586275100708,
          -2.5108306407928467,
          -2.748032331466675,
          -1.7141642570495605,
          -4.235679626464844,
          -1.0158799886703491,
          -1.041824221611023,
          -2.5046677589416504,
          -0.4112773537635803,
          -3.2942898273468018,
          -2.092172861099243,
          -1.1715260744094849,
          -2.564540147781372,
          -2.410270929336548,
          -2.171067714691162,
          -1.6701035499572754,
          -1.1596546173095703,
          -1.2107821702957153,
          -1.4994759559631348,
          -1.8140186071395874,
          -0.15701629221439362,
          -2.7302145957946777,
          -3.0886104106903076,
          -0.5986317992210388,
          -1.930365800857544,
          -5.029610633850098,
          -3.24172306060791,
          -3.1131110191345215,
          -0.6388134956359863,
          -2.5710723400115967,
          -1.4772272109985352,
          -1.8865032196044922,
          -2.039518117904663,
          -3.2873313426971436,
          -2.03841495513916,
          -1.9924219846725464,
          -4.458530426025391,
          -2.2120838165283203,
          -0.9090389013290405,
          -4.016423225402832,
          -1.2527201175689697,
          -2.777573585510254,
          -2.866229772567749,
          -2.2937049865722656,
          -1.8148897886276245,
          -2.058072566986084,
          -1.821770191192627,
          -2.111858606338501,
          -2.3648765087127686,
          -2.6868042945861816,
          -3.315408229827881,
          -2.8938465118408203,
          -1.0477238893508911,
          -1.8095446825027466,
          -3.0331122875213623,
          0.9930903911590576,
          -1.9847356081008911,
          -4.467337131500244,
          -2.6579437255859375,
          -2.0070250034332275
         ],
         "y": [
          -8.024487495422363,
          -5.680957794189453,
          -6.392521381378174,
          -10.592951774597168,
          -8.607315063476562,
          -9.52724552154541,
          -6.333556175231934,
          -10.591158866882324,
          -7.991170883178711,
          -7.595330715179443,
          -8.164437294006348,
          -10.362424850463867,
          -7.622964382171631,
          -5.945698261260986,
          -5.212954044342041,
          -8.094724655151367,
          -6.232008457183838,
          -6.138568878173828,
          -6.157694339752197,
          -6.39992618560791,
          -7.455284595489502,
          -7.214727878570557,
          -8.1015625,
          -6.454655170440674,
          -7.668096542358398,
          -6.7763285636901855,
          -7.103323459625244,
          -10.342997550964355,
          -7.06442928314209,
          -9.50268840789795,
          -8.254681587219238,
          -5.03369140625,
          -6.528151988983154,
          -9.304410934448242,
          -7.906261444091797,
          -7.433330059051514,
          -6.780654430389404,
          -7.250314712524414,
          -7.303738117218018,
          -9.372346878051758,
          -4.582792282104492,
          -9.939440727233887,
          -8.46573257446289,
          -10.298093795776367,
          -9.059417724609375,
          -9.501564979553223,
          -6.619656562805176,
          -6.80244255065918,
          -10.592951774597168,
          -6.670233249664307,
          -9.195260047912598,
          -7.880425930023193,
          -8.195416450500488,
          -9.76645565032959,
          -5.874774932861328,
          -6.460786819458008,
          -8.572660446166992,
          -9.441169738769531,
          -8.746291160583496,
          -8.068371772766113,
          -10.584671974182129,
          -7.268718719482422,
          -8.760680198669434,
          -5.458369255065918,
          -8.573966026306152,
          -7.433197498321533,
          -6.574734210968018,
          -7.927059173583984
         ]
        },
        {
         "marker": {
          "color": "#00CC96",
          "size": 10
         },
         "mode": "markers",
         "name": "2",
         "text": [
          "We go with everything 🇨🇷♥️⚽️",
          "@carlos_arte24 I don't know why but I love the jersey 🥶",
          "@alvarodnl If we don't watch the World Cup, Qatar loses money it won by letting people die 🙃",
          "Ecuador",
          "Corruption",
          "@ikercasillasrules I don't see where neuer appears in the video 😮",
          "Change the flag, we are Ecuador 🇪🇨☝🏻",
          "@jctorr130 1-1🤫🤫🤫🤫",
          "I need an ice Pepsi Blue 😋😋😋😋😋 fuck, maybe this year they won't launch it??? 🤔🤔🤔",
          "Go Ecuador 🇪🇨❤️",
          "🤫 tranki just, it's not all said yet",
          "Let's go Peru ❤️",
          "Let's go Ecuador ❤️❤️",
          "Come on Morocco ❤️",
          "the cucho is already old ☹☹",
          "But they didn't do anything today…What a boring match 😒",
          "No one is going to comment on the facade that the coach distills from the selection? 🌚😈",
          "Eden ❤️",
          "Mechico 🤏🏼",
          "@jl5759600 sico towel 🤫🤐",
          "Vamooo Falcon 🦅 🇺🇾",
          "Hello Good evening is Portugal ⚽️👍🇵🇹",
          "@queenfir_ marocco ❤️❤️",
          "Ufff that Uruguayan ❤️",
          "@axl_slash3 I don't do arg. I am. But we are talking about Ecuador, right? The selection today is 💙 Win or Die.",
          "@fifaworldcup 🇪🇨 played much better 😎 he was canceled a legitimate goal 😠 he should have won the game 👏 but let's go my 🇪🇨 Yes You Can and You Can Always 💪",
          "For me it would also be like seeing Santa Claus! We love you Leo 🇦🇷⚽️💪🥰",
          "Write it down daddy .....Let's go Ecuador 🇪🇨🥰❤️❤️",
          "@mindimalist here we are mana, supporting them to the end ❤️",
          "Unfortunately I saw it 😔",
          "_Marocoo🇲🇦🫀_",
          "North Korean Won",
          "Goal of the Century 🇨🇷🫡",
          "\"Maurice I can no longer move it move it\" ❌🦵😭",
          "@zeferinooo.ema more than proud of my country... When you know what a World Cup weighs you can talk about football ✌️🇺🇾",
          "From there he never washed his hand aaa❤️‍🩹",
          "#YNWA we love you Captain ❤️",
          "Those who know know know, carrying a little magic of the Ronii phenomenon 💪💪😎",
          "Ecuador 🇪🇨 ❤️#win",
          "The goals he screamed and cried the most are with Argentina! I think it is the dream of every Argentinian to move their country forward, and we are in very good hands!! #afaseleccion 👏👏👏👏🔥🔥🔥🔥🙌 #messi 🙌👏👏👏👏🔥🔥🔥🔥🔥🔥🔥💪🏼💪🏼💪🏼💪🏼💪🏼💪🏼💪🏼🇦🇷🇦🇷🇦🇷🇦🇷🇦🇷🇦🇷🇦🇷",
          "@luisitorres_ yes 🥵",
          "@sujo.beatz and we 25 titles 🏆 are the best selection🇦🇷",
          "Although the best goalscorer hurts them✍️❤️",
          "🕸️🤟🏻🇦🇷 The spider that bites @juliaanalvarez 🔥⚽💙",
          "equator: Witchcraft 🤬🤬🤬😨😨😓😥😥😭😭😭😭",
          "the biting spider🤘🏻🕷️",
          "That Japan, outside Germany ❤️",
          "@fabilleao shut your mouth anda🤫🤫",
          "@ezebtm luck brother albiceleste here we bank on leo and riquelme!!!🙏🏼❤️let's go Argentina! greetings and successes from ❤️🇨🇷Pura Vida",
          "@lucaasperee you would already like to be in Texas that from echol Eats Super Good and Earns a lot $$ $& I recommend it and that you are in a recession/ Inflation that %80 🥵",
          "@lucaasperee state narco hahahahah You can see how misinformed ... and Mexican gastronomy does not envy the Italian one at all so it is considered one of the Best and let alone Its landscapes and Beautiful Beaches so it is in the Top 3 of Touring Cars 😇😇😇 And thank God I live in Texas My company generates very well $ $$$$ and I spend my time traveling through Mexico and wherever I want thanks to God 🙏🏾",
          "and they will be the last, against Morocco Spain will go home, bye bye 🛫🛫🛫",
          "@hugoalejandrobm you had to be Mexican HAHA, only Mexico and Chile supported Poland🤣🤫.",
          "I don't see any Argentines 🙄",
          "Pride?🏳️‍🌈?",
          "Boee so the World Cup is not over yet, see if there is another better goal, let's hope it ends first 🤙",
          "@tacianebarros_ Vamos Argentina Viva Diego 🇦🇷🇦🇷🇦🇷🇦🇷💙💙🏆",
          "@chevy_laffitte 🤣🤣this is how they learn what it means to be robbed this way",
          "come on guys we have to continue trusting in every game we play and not trust the opponent, we have to trust our squad and dt💙",
          "Largest",
          "FIFA give me football back!!🙏",
          "No other crowd is the same. The best in the world that I'm proud to have been born in Argentina ❤️🇦🇷🇦🇷",
          "Aguante Argentima !!!!! Vamos carajp❤️❤️",
          "⚽️⚽️⚽️To stay informed about the latest football news in Spanish you can follow us, daily football content.🔴🔴",
          "Argentina",
          "Beautiful performance you really are amazing JK 💜💜💜",
          "Brazil is going to win the Cathar scribe today, their friend and colleague Yoangela Arminda Gonzalez tells them today 12/08/2022🇻🇪💚💚💚💚💚 from Venezuela🔥🔥🔥🔥🙌🙌🙌,🇧🇷🇧🇷🇧🇷🇧🇷🇧🇷🇧🇷",
          "@memphisdepay Argentina 5 Netherlands 1 😎",
          "Maroc❤️",
          "@carolinacbarbos Bonus🇲🇦👊",
          "Everything already makes sense 🤷‍♂️🤣",
          "England falls to pieces🥱, the Falklands are Argentine salami",
          "Ronaldo❤️❤️❤️",
          "@bcaudana22 I wait until the World Cups of all the teams of the American continent are equal to or less than the titles of Brazil 🫡",
          "@jonathannardi_ the cold chest 🥶 is coming soon",
          "Nanicos⭐⭐🤏",
          "Package 🥵",
          "The best , the  highest representative of🇵🇹 and this coach clinging to leave him on the bench Mr. Santos !  He@wants  to play not only watching from the bench ,... He is not worth doing that to him 😡😡😡 and in his own country 😡",
          "@keylor_ch29 refers to the valley IDV team 🤦",
          "MESSI's favorite dessert 🔟🇦🇷🇦🇷🇦🇷🇦🇷🇦🇷🇦🇷🇦🇷",
          "i 🤏🤏🤏🤏🤏 didn't want to lose the level..",
          "Ronaldo",
          "@ybjinn_ The best in the world 🇦🇷❤️",
          "Argentina 🇦🇷🏆🇦🇷❤️",
          "It's all cooked up , Messi last world champion 🤑🤫",
          "You're great 🇦🇷❤️",
          "@lovely_angel_kh I don't understand you but de chilll🤙",
          "🇦🇷♥️❤️To the airport, Modric.",
          "@ortubiaalexis being Argentinian? Na, I doubt it... Tattoo artist 🤙🏽🤙🏽",
          "#vamosargentina #todosjuntos 🌎🇦🇷🏆🙏👏",
          "Come on Uruguay bro!!!!❤️❤️",
          "Q will Qtar with so many stadiums after the World Cup? 🤔",
          "Pele 3 Mundial Argentina 2 🤣🤣🤣",
          "Hahahaha... what you say is called fanaticism, but in the end, there is no worse blind person than the one who does not want to see. So God bless you and love and peace ✌🏼",
          "Pure trunks defending and another good coconut🤷🏽‍♂️.",
          "@julietacontento ARE YOU AT HOME NOW 🤔",
          "Poetry in photos, poetry in motion🇦🇷🥂",
          "Please intercede so that the Iranian player is not executed. \"🙏🙏🙏🙏🙏",
          "how big is Lukita 🇭🇷❤",
          "❤️ that good steam it frncia",
          "What a horrible day 😞",
          "@_official__Alejandro who is the best, keep celebrating ahead of time 🤫",
          "Meastro 🙏❤️",
          "Argentina ❤️❤️❤️❤️",
          "@soroor96  Here we are all on the street singing that song ❤️❤️",
          "@laparra_1 👀",
          "Julian & Enzo 🇦🇷💙",
          "@emiliojose_v Ecuadorian resentful, Argentina world 🇦🇷 champion🏆. Messi is the best player in the world and in history. Now you can cry quietly"
         ],
         "type": "scatter",
         "x": [
          1.6995675563812256,
          3.7611031532287598,
          2.4874706268310547,
          4.893496990203857,
          1.9159430265426636,
          4.52750825881958,
          4.146352291107178,
          5.49617338180542,
          2.8576083183288574,
          5.008358478546143,
          3.981740713119507,
          4.985422611236572,
          5.216710090637207,
          5.379706382751465,
          1.5462099313735962,
          -6.231006145477295,
          1.3051259517669678,
          5.173607349395752,
          6.119292736053467,
          2.421427011489868,
          6.92323112487793,
          1.4311771392822266,
          5.636659622192383,
          5.300237655639648,
          -0.6067432761192322,
          -0.310283362865448,
          1.5241851806640625,
          4.3957014083862305,
          4.133088111877441,
          -5.22835636138916,
          5.8420844078063965,
          4.529156684875488,
          4.7581868171691895,
          1.7609996795654297,
          3.4802298545837402,
          3.752777576446533,
          4.4427924156188965,
          -0.09188193082809448,
          4.864410877227783,
          -0.8904317617416382,
          5.697937965393066,
          -1.7178908586502075,
          5.930662155151367,
          1.1420100927352905,
          -5.48045539855957,
          1.4462121725082397,
          4.7725372314453125,
          4.672261714935303,
          -3.1329760551452637,
          3.160388231277466,
          -2.6442782878875732,
          6.560017108917236,
          -7.829739093780518,
          2.3420472145080566,
          1.4342780113220215,
          7.467814922332764,
          -0.15616516768932343,
          -7.819093704223633,
          -0.6174613237380981,
          5.366399765014648,
          -3.1689746379852295,
          3.6018810272216797,
          4.533956527709961,
          1.664489507675171,
          0.24390067160129547,
          0.4028889834880829,
          -0.8696037530899048,
          -2.9790968894958496,
          5.679831504821777,
          5.335137844085693,
          4.520864963531494,
          3.5964431762695312,
          5.370815277099609,
          3.4811606407165527,
          3.9271252155303955,
          6.789140224456787,
          5.81576681137085,
          0.9828612804412842,
          1.382784128189087,
          4.48974084854126,
          4.352619647979736,
          3.5072693824768066,
          4.435455322265625,
          -1.7152773141860962,
          1.8952118158340454,
          4.565276145935059,
          7.469149112701416,
          5.1869964599609375,
          7.467512130737305,
          -1.2993934154510498,
          4.985405921936035,
          8.490351676940918,
          -7.825546741485596,
          2.970991849899292,
          4.573195457458496,
          8.490159034729004,
          -1.8698025941848755,
          -3.1611499786376953,
          4.378335952758789,
          4.393511772155762,
          -5.89361047744751,
          3.948187828063965,
          -3.174475908279419,
          5.571805477142334,
          3.98691987991333,
          5.985538005828857,
          -0.5148938298225403,
          -1.7171616554260254
         ],
         "y": [
          3.907505512237549,
          2.0451409816741943,
          1.9549314975738525,
          3.8205809593200684,
          5.869847774505615,
          6.647335529327393,
          3.379857301712036,
          1.222165584564209,
          1.0803325176239014,
          3.3872551918029785,
          1.9566900730133057,
          2.2037582397460938,
          2.560044288635254,
          2.314702272415161,
          0.8283284902572632,
          -4.403728008270264,
          1.983775019645691,
          1.8187662363052368,
          1.5791682004928589,
          6.528646945953369,
          2.7208669185638428,
          3.800205945968628,
          2.391038179397583,
          2.8798282146453857,
          4.963917255401611,
          2.436901092529297,
          3.7733657360076904,
          3.4513745307922363,
          2.3227379322052,
          -4.352200508117676,
          2.4700887203216553,
          6.647436618804932,
          3.224574327468872,
          -0.0034096594899892807,
          3.3722405433654785,
          2.4847540855407715,
          2.365325689315796,
          2.7800545692443848,
          3.327609062194824,
          7.425415515899658,
          0.870870053768158,
          3.185234308242798,
          4.659226417541504,
          3.6447651386260986,
          -4.490407466888428,
          2.0753021240234375,
          2.641279458999634,
          1.515302300453186,
          -2.596176862716675,
          3.105409860610962,
          -0.33409446477890015,
          3.8779547214508057,
          -1.0995264053344727,
          5.059107780456543,
          1.0616148710250854,
          6.059692859649658,
          5.177446365356445,
          -1.098750114440918,
          4.955601215362549,
          1.3207910060882568,
          -2.641345262527466,
          3.7037289142608643,
          2.5142087936401367,
          3.8616511821746826,
          5.3035712242126465,
          1.4179115295410156,
          7.5482354164123535,
          -1.131632924079895,
          2.139852285385132,
          5.4437127113342285,
          -0.8113411068916321,
          2.8895857334136963,
          2.527855157852173,
          3.2246344089508057,
          1.9462629556655884,
          1.0892016887664795,
          1.2863459587097168,
          -2.141847848892212,
          -0.8699430823326111,
          4.704034328460693,
          1.5698388814926147,
          0.030564740300178528,
          3.705073595046997,
          3.1890065670013428,
          5.859757423400879,
          3.3656439781188965,
          6.0555291175842285,
          3.318570613861084,
          6.059199333190918,
          2.0617289543151855,
          2.707629919052124,
          3.008986234664917,
          -1.094326376914978,
          2.7385289669036865,
          -0.8585065603256226,
          3.005983591079712,
          1.878949522972107,
          -2.6454570293426514,
          3.0286545753479004,
          1.9261685609817505,
          -4.48576021194458,
          2.0511391162872314,
          -2.631390333175659,
          2.973729372024536,
          2.623534917831421,
          0.007906768471002579,
          5.020051002502441,
          3.18955397605896
         ]
        },
        {
         "marker": {
          "color": "#AB63FA",
          "size": 10
         },
         "mode": "markers",
         "name": "3",
         "text": [
          "Proudly Ecuadorian 😍",
          "❤️❤️❤️❤️❤️❤️ Ecuadorians 😍😍😍😍😍",
          "@btito_.avak best goalkeeper in the world, proceeds to lose 7 to 0😍😍😍",
          "Eden hazard comes back😍😍😍",
          "love banget idola saya portugal - Cristiano ronaldo.😍",
          "I've always liked ghana uniforms😍",
          "Love the French T-shirt 😍😍😍 🇺🇾🇨🇵",
          "Lol Casillas!!! 😍😍",
          "THANK YOU",
          "@sebassss_07 our goal is to win the World Cup, not to participate 😘",
          "Ronaldo"
         ],
         "type": "scatter",
         "x": [
          3.836716413497925,
          3.7990872859954834,
          3.7151520252227783,
          3.836677074432373,
          3.7858104705810547,
          3.7884445190429688,
          3.764921188354492,
          3.866257667541504,
          4.032353401184082,
          2.0400121212005615,
          3.997293710708618
         ],
         "y": [
          -6.063431739807129,
          -6.040828704833984,
          -6.011080741882324,
          -6.065096378326416,
          -6.053234100341797,
          -6.045743465423584,
          -6.029160976409912,
          -6.083747386932373,
          -6.149392127990723,
          -5.392341613769531,
          -6.135087966918945
         ]
        },
        {
         "marker": {
          "color": "#FFA15A",
          "size": 10
         },
         "mode": "markers",
         "name": "4",
         "text": [
          "👏👏we go with everything, strong",
          "Congratulations to Ecuador for beating the slavers 👏🏼👏🏼",
          "15 Worldwide 👏👏👏",
          "The best ever",
          "👏👏Let's go ticos who, if possible , resort when they left the death group in 2014  when they were all presumed dead and the dead turned out to be others . Come on guys, even though my team is USA, they won my heart in that 2014 World Cup. Otherwise, it is my USA, you are for me . ❤️",
          "Ecuador present 🇪🇨👏👏",
          "Maradona helping Messi to win ❤️👏👏👏",
          "The best in the world, ",
          "Best of Portugal 👏👏",
          "Mexican Pride ❤️👏🏻🇲🇽",
          "Better that they publish the moments of nullified goals 👏👏",
          "@caro2653 👏👏👏",
          "A great my uncle RIL O 👏👏👏 @dorian_ybaceta @lopezillo.public @hugo_charcape03 @henrykux03",
          "Thank you for everything Cristiano Ronaldo! The best player and athlete in the history of mankind! 👏🏼👏🏼💪🏻💪🏻",
          "The best midfielder 👏🏻",
          "Double breast 😂👏",
          "@maxirodriguez11oficial genius!!! 👏👏👏👏💙🤍💙",
          "@__mati_15agree. It's reality. The Concacaf soccer school is changing. What is not worth it is that players who have never played in Concacaf invent. I would like to see any comebol selection against Curacao, Jamaica even Mexico but um Mexico with its own school not comebol 👏",
          "@hassan.ahmed.07 and of them how many penalties?? that have not even been fouls to him.👏👏",
          "Argentina 🇦🇷 Leo 👏👏👏👏",
          "Palestinian Authority of the West Bank and Gaza Strip"
         ],
         "type": "scatter",
         "x": [
          -5.02686882019043,
          -5.243644714355469,
          -5.037651062011719,
          -4.971365928649902,
          -5.483700752258301,
          -5.2511677742004395,
          -5.238400459289551,
          -3.9290390014648438,
          -4.980372428894043,
          -5.290946006774902,
          -5.129910945892334,
          -5.21345329284668,
          -5.021954536437988,
          -0.4270796477794647,
          -4.940229415893555,
          -3.5887393951416016,
          -4.226212024688721,
          -5.487883567810059,
          -5.1773858070373535,
          -5.4420671463012695,
          -3.8735511302948
         ],
         "y": [
          4.683538436889648,
          5.186812877655029,
          4.447701930999756,
          4.744832992553711,
          5.693082332611084,
          4.629961967468262,
          5.209112167358398,
          3.6066911220550537,
          4.563778877258301,
          4.714132785797119,
          5.086923599243164,
          4.109816074371338,
          4.848154067993164,
          2.901262044906616,
          4.677419662475586,
          2.965197801589966,
          4.126965045928955,
          5.711018085479736,
          5.107450008392334,
          4.6612019538879395,
          3.760404348373413
         ]
        },
        {
         "marker": {
          "color": "#19D3F3",
          "size": 10
         },
         "mode": "markers",
         "name": "5",
         "text": [
          "Congratulations Ecuador! 🙌",
          "Ecuador",
          "let's go to Spain",
          "@ letigallo my respect for women everywhere🙌 💕",
          "ECUADOR IN DA HOUSE 🔥🔥🔥🔥🔥🔥🇪🇨🇪🇨🇪🇨🇪🇨🇪🇨🇪🇨🇪🇨🙌🙌🙌🙌🙌🙌🙌🙌 #ecuadorarrechohp",
          "@andamente huge 🙌🏼",
          "Argentina",
          "Plastic",
          "Great mathematician.🙌🏽👏🏽",
          "This cup is yours Leo 🇦🇷🙌",
          "Who would say that the same defender would be part of the coaching staff that would leave them out 24 years later 🙌",
          "How to planio😂🙌",
          "@lovely_angel_kh I don't get you but, ok🙌",
          "The best player in the world 🌎 is called Messi ❤️🙌"
         ],
         "type": "scatter",
         "x": [
          -0.9591138958930969,
          -3.6455211639404297,
          -0.9492862820625305,
          -0.848897397518158,
          -0.7494466304779053,
          -1.0265575647354126,
          -0.44868966937065125,
          -0.9797509908676147,
          -3.5832390785217285,
          -0.8436176776885986,
          -0.8705758452415466,
          -1.0243029594421387,
          -0.9227477312088013,
          -0.6221108436584473
         ],
         "y": [
          -0.44208309054374695,
          3.466890335083008,
          -0.4842801094055176,
          0.29431039094924927,
          7.759875774383545,
          -0.5893145203590393,
          -0.6713280081748962,
          -0.5128004550933838,
          3.3073205947875977,
          -0.4212113618850708,
          -0.31757301092147827,
          -1.8240206241607666,
          -0.4903358817100525,
          0.5175739526748657
         ]
        },
        {
         "marker": {
          "color": "#FF6692",
          "size": 10
         },
         "mode": "markers",
         "name": "6",
         "text": [
          "With all Maes 🔥🇨🇷",
          "Ronaldo",
          "The Master Magician!🔥🔥🤍👏🏻⚡",
          "We love you @yosoy8a 🇲🇽🔥",
          "Ta Ta Spain",
          "Life changes when it starts focusing on you🎶🔥",
          "@sandra_cariel came 100% éliminer 🔥🔥",
          "@hoonjy you, if those shots didn't boil stuck on the stick uffff🔥",
          "Seraaa breaking the curse🔥🔥🔥",
          "Valencia",
          "All my faith for Argentina 🔥",
          "@borenia grs!!! 🔥🙌❤️ football is football",
          "@pablogavi good luck🔥",
          "@deyaneira_ae que habilitacion se mando valencia en el 2do gol de Senegal🙌🔥🔥",
          "MESSIAS 🇦🇷🇦🇷🇦🇷🇦🇷🇦🇷🇦🇷 Vamos Selección is back 🔥🔥🔥",
          "Ronaldo",
          "Aidouni🔥❤️",
          "@hilla_loaiza what level 🔥🔥🔥",
          "That I support this gentleman's🔥",
          "Argentina",
          "Threesomes are always good bro 🔥😉",
          "@marqu3si yo bro chill 👏🔥",
          "The best in the world! ❤️‍🔥❤️‍🔥",
          "",
          "Goncalo Ramos 🔥🔥👏👏",
          "ComOn argentina..you can do it 🔥❤️🔥",
          "Let's go Argentina.",
          "It was an exquisite match 🔥",
          "Gano Argentina 🔥🔥🔥❤️❤️❤️",
          "Mexico",
          "Argentina is going for the third World Cup 🙌🔥",
          "Argentina, Alvares🔥",
          "🔥Argentina.  3 🔥  France  1🔥",
          "Argentina 😍❤️🔥🔥",
          "Roberto"
         ],
         "type": "scatter",
         "x": [
          1.5889984369277954,
          0.4997222423553467,
          1.2922815084457397,
          1.9333794116973877,
          1.8741182088851929,
          1.5630064010620117,
          1.0944433212280273,
          0.9801894426345825,
          1.4790632724761963,
          2.212852954864502,
          1.4243515729904175,
          0.396151602268219,
          2.2547740936279297,
          0.6120367646217346,
          1.1221694946289062,
          2.392220973968506,
          1.8675028085708618,
          2.1220221519470215,
          1.7491471767425537,
          1.9081538915634155,
          1.5675809383392334,
          0.8742660284042358,
          1.3989698886871338,
          1.8672759532928467,
          0.7887188792228699,
          1.0367417335510254,
          1.6748337745666504,
          1.827328085899353,
          1.0917274951934814,
          1.0520799160003662,
          0.4858226478099823,
          1.3878740072250366,
          1.0832726955413818,
          1.6859673261642456,
          2.3060030937194824
         ],
         "y": [
          11.095900535583496,
          9.179952621459961,
          8.477056503295898,
          11.18749713897705,
          10.67758560180664,
          8.360892295837402,
          11.078017234802246,
          11.375908851623535,
          11.29644775390625,
          10.508148193359375,
          10.70422077178955,
          9.109426498413086,
          11.238490104675293,
          9.562397003173828,
          11.41989517211914,
          10.586709022521973,
          10.829183578491211,
          11.034294128417969,
          11.287116050720215,
          9.44015884399414,
          8.629761695861816,
          8.202892303466797,
          11.432365417480469,
          9.919682502746582,
          8.171608924865723,
          10.82612419128418,
          10.551277160644531,
          11.18908405303955,
          10.71565055847168,
          9.240914344787598,
          9.163472175598145,
          10.548643112182617,
          10.762765884399414,
          9.699769020080566,
          10.562023162841797
         ]
        },
        {
         "marker": {
          "color": "#B6E880",
          "size": 10
         },
         "mode": "markers",
         "name": "7",
         "text": [
          "Our last match in a World Cup 🇨🇴😢",
          "How my niggers cool 😢",
          "@fifaworldcup Ecuador deserved the pass 😢",
          "Glad you're 😭😭😭",
          "It still hurts😢",
          "and mech?😢",
          "@guiguelpaulo 😢",
          "You Deserved to Win Japan 😢",
          "Neymar Da Silva Santos Junior 😢",
          "@mdsojid364 cries Brazilian 😢",
          "Cryboxes😢",
          "I never thought that a World Cup from which so many people expected to see quality is being so manipulated and fixed as it is, we wanted to see transparency with good players leaving everything on the court but in the end we have only seen fraud,lies and cheating with most of the teams that have come out, even the referees seem bought because they have taken non-existent penalties to favor the teams they wanted to see in the final, WHAT A SADNESS IT IS WORLD CUP QATAR 2022😢😢😢.",
          "The final is played by 2 teams......what a great disappointment this World Cup 😢"
         ],
         "type": "scatter",
         "x": [
          -6.3605570793151855,
          -6.324679851531982,
          -6.3347578048706055,
          -5.420418739318848,
          -6.2262067794799805,
          -6.315393924713135,
          -6.03424072265625,
          -6.3083062171936035,
          -6.565822601318359,
          -6.299888610839844,
          -6.305280685424805,
          -6.721004009246826,
          -6.444653511047363
         ],
         "y": [
          -11.073083877563477,
          -11.304255485534668,
          -11.272491455078125,
          -4.575505256652832,
          -11.405940055847168,
          -11.45213794708252,
          -11.7022123336792,
          -11.289056777954102,
          -11.278341293334961,
          -11.357088088989258,
          -11.345767974853516,
          -10.59316635131836,
          -11.027687072753906
         ]
        },
        {
         "marker": {
          "color": "#FF97FF",
          "size": 10
         },
         "mode": "markers",
         "name": "8",
         "text": [],
         "type": "scatter",
         "x": [],
         "y": []
        },
        {
         "marker": {
          "color": "#FECB52",
          "size": 10
         },
         "mode": "markers",
         "name": "9",
         "text": [],
         "type": "scatter",
         "x": [],
         "y": []
        }
       ],
       "layout": {
        "autosize": false,
        "height": 1500,
        "legend": {
         "title": {
          "text": "Cluster"
         }
        },
        "template": {
         "data": {
          "bar": [
           {
            "error_x": {
             "color": "#2a3f5f"
            },
            "error_y": {
             "color": "#2a3f5f"
            },
            "marker": {
             "line": {
              "color": "#E5ECF6",
              "width": 0.5
             },
             "pattern": {
              "fillmode": "overlay",
              "size": 10,
              "solidity": 0.2
             }
            },
            "type": "bar"
           }
          ],
          "barpolar": [
           {
            "marker": {
             "line": {
              "color": "#E5ECF6",
              "width": 0.5
             },
             "pattern": {
              "fillmode": "overlay",
              "size": 10,
              "solidity": 0.2
             }
            },
            "type": "barpolar"
           }
          ],
          "carpet": [
           {
            "aaxis": {
             "endlinecolor": "#2a3f5f",
             "gridcolor": "white",
             "linecolor": "white",
             "minorgridcolor": "white",
             "startlinecolor": "#2a3f5f"
            },
            "baxis": {
             "endlinecolor": "#2a3f5f",
             "gridcolor": "white",
             "linecolor": "white",
             "minorgridcolor": "white",
             "startlinecolor": "#2a3f5f"
            },
            "type": "carpet"
           }
          ],
          "choropleth": [
           {
            "colorbar": {
             "outlinewidth": 0,
             "ticks": ""
            },
            "type": "choropleth"
           }
          ],
          "contour": [
           {
            "colorbar": {
             "outlinewidth": 0,
             "ticks": ""
            },
            "colorscale": [
             [
              0,
              "#0d0887"
             ],
             [
              0.1111111111111111,
              "#46039f"
             ],
             [
              0.2222222222222222,
              "#7201a8"
             ],
             [
              0.3333333333333333,
              "#9c179e"
             ],
             [
              0.4444444444444444,
              "#bd3786"
             ],
             [
              0.5555555555555556,
              "#d8576b"
             ],
             [
              0.6666666666666666,
              "#ed7953"
             ],
             [
              0.7777777777777778,
              "#fb9f3a"
             ],
             [
              0.8888888888888888,
              "#fdca26"
             ],
             [
              1,
              "#f0f921"
             ]
            ],
            "type": "contour"
           }
          ],
          "contourcarpet": [
           {
            "colorbar": {
             "outlinewidth": 0,
             "ticks": ""
            },
            "type": "contourcarpet"
           }
          ],
          "heatmap": [
           {
            "colorbar": {
             "outlinewidth": 0,
             "ticks": ""
            },
            "colorscale": [
             [
              0,
              "#0d0887"
             ],
             [
              0.1111111111111111,
              "#46039f"
             ],
             [
              0.2222222222222222,
              "#7201a8"
             ],
             [
              0.3333333333333333,
              "#9c179e"
             ],
             [
              0.4444444444444444,
              "#bd3786"
             ],
             [
              0.5555555555555556,
              "#d8576b"
             ],
             [
              0.6666666666666666,
              "#ed7953"
             ],
             [
              0.7777777777777778,
              "#fb9f3a"
             ],
             [
              0.8888888888888888,
              "#fdca26"
             ],
             [
              1,
              "#f0f921"
             ]
            ],
            "type": "heatmap"
           }
          ],
          "heatmapgl": [
           {
            "colorbar": {
             "outlinewidth": 0,
             "ticks": ""
            },
            "colorscale": [
             [
              0,
              "#0d0887"
             ],
             [
              0.1111111111111111,
              "#46039f"
             ],
             [
              0.2222222222222222,
              "#7201a8"
             ],
             [
              0.3333333333333333,
              "#9c179e"
             ],
             [
              0.4444444444444444,
              "#bd3786"
             ],
             [
              0.5555555555555556,
              "#d8576b"
             ],
             [
              0.6666666666666666,
              "#ed7953"
             ],
             [
              0.7777777777777778,
              "#fb9f3a"
             ],
             [
              0.8888888888888888,
              "#fdca26"
             ],
             [
              1,
              "#f0f921"
             ]
            ],
            "type": "heatmapgl"
           }
          ],
          "histogram": [
           {
            "marker": {
             "pattern": {
              "fillmode": "overlay",
              "size": 10,
              "solidity": 0.2
             }
            },
            "type": "histogram"
           }
          ],
          "histogram2d": [
           {
            "colorbar": {
             "outlinewidth": 0,
             "ticks": ""
            },
            "colorscale": [
             [
              0,
              "#0d0887"
             ],
             [
              0.1111111111111111,
              "#46039f"
             ],
             [
              0.2222222222222222,
              "#7201a8"
             ],
             [
              0.3333333333333333,
              "#9c179e"
             ],
             [
              0.4444444444444444,
              "#bd3786"
             ],
             [
              0.5555555555555556,
              "#d8576b"
             ],
             [
              0.6666666666666666,
              "#ed7953"
             ],
             [
              0.7777777777777778,
              "#fb9f3a"
             ],
             [
              0.8888888888888888,
              "#fdca26"
             ],
             [
              1,
              "#f0f921"
             ]
            ],
            "type": "histogram2d"
           }
          ],
          "histogram2dcontour": [
           {
            "colorbar": {
             "outlinewidth": 0,
             "ticks": ""
            },
            "colorscale": [
             [
              0,
              "#0d0887"
             ],
             [
              0.1111111111111111,
              "#46039f"
             ],
             [
              0.2222222222222222,
              "#7201a8"
             ],
             [
              0.3333333333333333,
              "#9c179e"
             ],
             [
              0.4444444444444444,
              "#bd3786"
             ],
             [
              0.5555555555555556,
              "#d8576b"
             ],
             [
              0.6666666666666666,
              "#ed7953"
             ],
             [
              0.7777777777777778,
              "#fb9f3a"
             ],
             [
              0.8888888888888888,
              "#fdca26"
             ],
             [
              1,
              "#f0f921"
             ]
            ],
            "type": "histogram2dcontour"
           }
          ],
          "mesh3d": [
           {
            "colorbar": {
             "outlinewidth": 0,
             "ticks": ""
            },
            "type": "mesh3d"
           }
          ],
          "parcoords": [
           {
            "line": {
             "colorbar": {
              "outlinewidth": 0,
              "ticks": ""
             }
            },
            "type": "parcoords"
           }
          ],
          "pie": [
           {
            "automargin": true,
            "type": "pie"
           }
          ],
          "scatter": [
           {
            "fillpattern": {
             "fillmode": "overlay",
             "size": 10,
             "solidity": 0.2
            },
            "type": "scatter"
           }
          ],
          "scatter3d": [
           {
            "line": {
             "colorbar": {
              "outlinewidth": 0,
              "ticks": ""
             }
            },
            "marker": {
             "colorbar": {
              "outlinewidth": 0,
              "ticks": ""
             }
            },
            "type": "scatter3d"
           }
          ],
          "scattercarpet": [
           {
            "marker": {
             "colorbar": {
              "outlinewidth": 0,
              "ticks": ""
             }
            },
            "type": "scattercarpet"
           }
          ],
          "scattergeo": [
           {
            "marker": {
             "colorbar": {
              "outlinewidth": 0,
              "ticks": ""
             }
            },
            "type": "scattergeo"
           }
          ],
          "scattergl": [
           {
            "marker": {
             "colorbar": {
              "outlinewidth": 0,
              "ticks": ""
             }
            },
            "type": "scattergl"
           }
          ],
          "scattermapbox": [
           {
            "marker": {
             "colorbar": {
              "outlinewidth": 0,
              "ticks": ""
             }
            },
            "type": "scattermapbox"
           }
          ],
          "scatterpolar": [
           {
            "marker": {
             "colorbar": {
              "outlinewidth": 0,
              "ticks": ""
             }
            },
            "type": "scatterpolar"
           }
          ],
          "scatterpolargl": [
           {
            "marker": {
             "colorbar": {
              "outlinewidth": 0,
              "ticks": ""
             }
            },
            "type": "scatterpolargl"
           }
          ],
          "scatterternary": [
           {
            "marker": {
             "colorbar": {
              "outlinewidth": 0,
              "ticks": ""
             }
            },
            "type": "scatterternary"
           }
          ],
          "surface": [
           {
            "colorbar": {
             "outlinewidth": 0,
             "ticks": ""
            },
            "colorscale": [
             [
              0,
              "#0d0887"
             ],
             [
              0.1111111111111111,
              "#46039f"
             ],
             [
              0.2222222222222222,
              "#7201a8"
             ],
             [
              0.3333333333333333,
              "#9c179e"
             ],
             [
              0.4444444444444444,
              "#bd3786"
             ],
             [
              0.5555555555555556,
              "#d8576b"
             ],
             [
              0.6666666666666666,
              "#ed7953"
             ],
             [
              0.7777777777777778,
              "#fb9f3a"
             ],
             [
              0.8888888888888888,
              "#fdca26"
             ],
             [
              1,
              "#f0f921"
             ]
            ],
            "type": "surface"
           }
          ],
          "table": [
           {
            "cells": {
             "fill": {
              "color": "#EBF0F8"
             },
             "line": {
              "color": "white"
             }
            },
            "header": {
             "fill": {
              "color": "#C8D4E3"
             },
             "line": {
              "color": "white"
             }
            },
            "type": "table"
           }
          ]
         },
         "layout": {
          "annotationdefaults": {
           "arrowcolor": "#2a3f5f",
           "arrowhead": 0,
           "arrowwidth": 1
          },
          "autotypenumbers": "strict",
          "coloraxis": {
           "colorbar": {
            "outlinewidth": 0,
            "ticks": ""
           }
          },
          "colorscale": {
           "diverging": [
            [
             0,
             "#8e0152"
            ],
            [
             0.1,
             "#c51b7d"
            ],
            [
             0.2,
             "#de77ae"
            ],
            [
             0.3,
             "#f1b6da"
            ],
            [
             0.4,
             "#fde0ef"
            ],
            [
             0.5,
             "#f7f7f7"
            ],
            [
             0.6,
             "#e6f5d0"
            ],
            [
             0.7,
             "#b8e186"
            ],
            [
             0.8,
             "#7fbc41"
            ],
            [
             0.9,
             "#4d9221"
            ],
            [
             1,
             "#276419"
            ]
           ],
           "sequential": [
            [
             0,
             "#0d0887"
            ],
            [
             0.1111111111111111,
             "#46039f"
            ],
            [
             0.2222222222222222,
             "#7201a8"
            ],
            [
             0.3333333333333333,
             "#9c179e"
            ],
            [
             0.4444444444444444,
             "#bd3786"
            ],
            [
             0.5555555555555556,
             "#d8576b"
            ],
            [
             0.6666666666666666,
             "#ed7953"
            ],
            [
             0.7777777777777778,
             "#fb9f3a"
            ],
            [
             0.8888888888888888,
             "#fdca26"
            ],
            [
             1,
             "#f0f921"
            ]
           ],
           "sequentialminus": [
            [
             0,
             "#0d0887"
            ],
            [
             0.1111111111111111,
             "#46039f"
            ],
            [
             0.2222222222222222,
             "#7201a8"
            ],
            [
             0.3333333333333333,
             "#9c179e"
            ],
            [
             0.4444444444444444,
             "#bd3786"
            ],
            [
             0.5555555555555556,
             "#d8576b"
            ],
            [
             0.6666666666666666,
             "#ed7953"
            ],
            [
             0.7777777777777778,
             "#fb9f3a"
            ],
            [
             0.8888888888888888,
             "#fdca26"
            ],
            [
             1,
             "#f0f921"
            ]
           ]
          },
          "colorway": [
           "#636efa",
           "#EF553B",
           "#00cc96",
           "#ab63fa",
           "#FFA15A",
           "#19d3f3",
           "#FF6692",
           "#B6E880",
           "#FF97FF",
           "#FECB52"
          ],
          "font": {
           "color": "#2a3f5f"
          },
          "geo": {
           "bgcolor": "white",
           "lakecolor": "white",
           "landcolor": "#E5ECF6",
           "showlakes": true,
           "showland": true,
           "subunitcolor": "white"
          },
          "hoverlabel": {
           "align": "left"
          },
          "hovermode": "closest",
          "mapbox": {
           "style": "light"
          },
          "paper_bgcolor": "white",
          "plot_bgcolor": "#E5ECF6",
          "polar": {
           "angularaxis": {
            "gridcolor": "white",
            "linecolor": "white",
            "ticks": ""
           },
           "bgcolor": "#E5ECF6",
           "radialaxis": {
            "gridcolor": "white",
            "linecolor": "white",
            "ticks": ""
           }
          },
          "scene": {
           "xaxis": {
            "backgroundcolor": "#E5ECF6",
            "gridcolor": "white",
            "gridwidth": 2,
            "linecolor": "white",
            "showbackground": true,
            "ticks": "",
            "zerolinecolor": "white"
           },
           "yaxis": {
            "backgroundcolor": "#E5ECF6",
            "gridcolor": "white",
            "gridwidth": 2,
            "linecolor": "white",
            "showbackground": true,
            "ticks": "",
            "zerolinecolor": "white"
           },
           "zaxis": {
            "backgroundcolor": "#E5ECF6",
            "gridcolor": "white",
            "gridwidth": 2,
            "linecolor": "white",
            "showbackground": true,
            "ticks": "",
            "zerolinecolor": "white"
           }
          },
          "shapedefaults": {
           "line": {
            "color": "#2a3f5f"
           }
          },
          "ternary": {
           "aaxis": {
            "gridcolor": "white",
            "linecolor": "white",
            "ticks": ""
           },
           "baxis": {
            "gridcolor": "white",
            "linecolor": "white",
            "ticks": ""
           },
           "bgcolor": "#E5ECF6",
           "caxis": {
            "gridcolor": "white",
            "linecolor": "white",
            "ticks": ""
           }
          },
          "title": {
           "x": 0.05
          },
          "xaxis": {
           "automargin": true,
           "gridcolor": "white",
           "linecolor": "white",
           "ticks": "",
           "title": {
            "standoff": 15
           },
           "zerolinecolor": "white",
           "zerolinewidth": 2
          },
          "yaxis": {
           "automargin": true,
           "gridcolor": "white",
           "linecolor": "white",
           "ticks": "",
           "title": {
            "standoff": 15
           },
           "zerolinecolor": "white",
           "zerolinewidth": 2
          }
         }
        },
        "width": 1500,
        "xaxis": {
         "title": {
          "text": "PC1"
         }
        },
        "yaxis": {
         "title": {
          "text": "PC2"
         }
        }
       }
      }
     },
     "metadata": {},
     "output_type": "display_data"
    }
   ],
   "source": [
    "color_map = {i:px.colors.qualitative.Plotly[i] for i in range(10)}\n",
    "lang = tsne_df_es['cluster'].map(color_map)\n",
    "\n",
    "fig = go.Figure()\n",
    "\n",
    "for cluster_value, cluster_color in color_map.items():\n",
    "    cluster_data = tsne_df_es[tsne_df_es['cluster'] == cluster_value]\n",
    "    fig.add_trace(go.Scatter(\n",
    "        x=cluster_data['PC1'],\n",
    "        y=cluster_data['PC2'],\n",
    "        mode='markers',\n",
    "        marker=dict(color=cluster_color, size=10),\n",
    "        text=cluster_data['translation'],\n",
    "        name=cluster_value,\n",
    "    ))\n",
    "\n",
    "fig.update_layout(\n",
    "    autosize=False,\n",
    "    width=1500,\n",
    "    height=1500,\n",
    "    legend=dict(title='Cluster'),\n",
    "    xaxis_title='PC1',\n",
    "    yaxis_title='PC2'\n",
    ")\n",
    "\n",
    "fig.show()"
   ]
  },
  {
   "cell_type": "markdown",
   "id": "4d614ab1",
   "metadata": {},
   "source": [
    "#### Both Embeddings"
   ]
  },
  {
   "cell_type": "code",
   "execution_count": 116,
   "id": "140e8ce7",
   "metadata": {},
   "outputs": [],
   "source": [
    "def set_value(row):\n",
    "    return 1 if row['language'] == 'en' else 2\n",
    "\n",
    "def set_translation(row):\n",
    "    return row['translation'] if pd.notnull(row['translation']) else row['text']\n"
   ]
  },
  {
   "cell_type": "code",
   "execution_count": 123,
   "id": "2a212fb5",
   "metadata": {},
   "outputs": [
    {
     "data": {
      "text/plain": [
       "language\n",
       "1    280\n",
       "2    280\n",
       "Name: count, dtype: int64"
      ]
     },
     "execution_count": 123,
     "metadata": {},
     "output_type": "execute_result"
    }
   ],
   "source": [
    "data=tsne_df.copy()\n",
    "data['language'] = data.apply(set_value, axis=1)\n",
    "data['text'] = data.apply(set_translation, axis=1)"
   ]
  },
  {
   "cell_type": "code",
   "execution_count": 194,
   "id": "7e7ab027",
   "metadata": {},
   "outputs": [
    {
     "data": {
      "application/vnd.plotly.v1+json": {
       "config": {
        "plotlyServerURL": "https://plot.ly"
       },
       "data": [
        {
         "marker": {
          "color": "red",
          "size": 10
         },
         "mode": "markers",
         "name": "en",
         "text": [
          "@xidiwldnxjqpspqpskxls morroco is a siblingcountry aswell. 20% of them live in Belgium😂.",
          "Son🥺",
          "We are ready 💛💙❤️",
          "Can't wait for this shitshow to be over and for next world cup. This one is such a waste 🗑 🙄. #nextplease #notoqatar2022 #boicotworldcup",
          "@bf_steve Who do you think I cheer for 😂",
          "TERANGA boys 🇸🇳🇸🇳❤️",
          "You are the best lady😻🤩🙏👏♥️⚽🤠fifa.",
          "@fatenalshoubaki respecting cultures goes both ways, i won't invite a muslim man to my house and force him to eat pork because \"it's in my culture to eat pork\", both hosts and guests should be able to respect eachother 👍",
          "@itisjuanderful AAJAA POR NO PERMITIR GAYS EN LA COPA MUNDIAL YO LO VEO EXCELENTE👏🔥",
          "@tiago.rendas2 bro I do know football but yesterday match that wasn't an offside lol 🤣🤣🤣what cause the camera showed his leg over the line but have you seen the last defender in the box 🤣🤣🤣go and learn football then come back chat to me",
          "👏😄 next game please..⚽🏃",
          "@ryjpopp yeah says the people who can't Offord a stay in Qatar 😂",
          "@glg_sky yeah I’m sure Qatar being ranked financially behind Greece means they’re thriving 🙄",
          "Fantastis group..✌😄",
          "Netherlands👏👏👏 and also cricket",
          "Nice trophy..smile it..get it..your trophy..🏆✌😄",
          "This nikka sick wit it🔥😂",
          "Rainbow 🌈🌈🌈 shame on fifa",
          "Waiting next game..steady team⚽💥🏃",
          "@dhofar_photo 🏳️‍⚧️☪️🏳️‍🌈",
          "@_francechy_ 🤣🤣🤣",
          "@goodthanksyourself nice goal❤️",
          "@smithswith_ ❤️so good!!",
          "@matheusgmezz u are goofy as heck😂",
          "@jan_schawe to what 😂😂😂😂😂",
          "Yes 2022 is different because Argentina will not go in round of 16 😂",
          "@5400.seconds are u there bro? 🤣",
          "@dashotb the comment I was looking for 😂",
          "One Love 🌈✖ 😂😂😂 one two ✔ 🤭🤭🤭",
          "We love you hazards🔥🔥🔥",
          "He is our Nr 1 🇨🇭👍👍🇨🇭",
          "no bro many moroccans respect Croatia team, was a game full of fair-play 👌🏽",
          "Congrats and well done to🇧🇪@belgianreddevils who wins and wish the best and good luck too in the next match against🇲🇦@equipedumaroc and for🇨🇦@canadasoccer ,well done for fights until the end despite lost and wish the best and good luck too in the next match against🇭🇷@hns_cff !👏🙂😀😄😎👍⚽️",
          "@the_real_thorstinho #onetwo 🤭🤭🤭🤭🤭",
          "Gay people, they are my favorite 🌈🌈",
          "Best World Cup ever 😍",
          "Wtf Mbappe wasn’t even the man of the match 🤦🏻‍♂️",
          "Beauty of Qatar ❤️",
          "@shintia97s love over hate !! I'm sorry that you've got so much anger inside for another human. But I forgive you and send you love and support. 🫂🫂🤗🤗😘😘🏳️‍🌈🏳️‍🌈",
          "Definitely!!! 👏👏👏👏👏",
          "Why they burn Eden with the food question? 😂 @albert810 @chelo23",
          "But you start to tremble knowing you face Saudi Arabia 🇸🇦 😆",
          "@exclusivelysania you are complaining in every post get a life 😂",
          "@afdhalulrizki42 😂 Stupid Football yes 😂",
          "Hazard's the only reason im a chelsea fan 🐐💙",
          "The France 🇫🇷 is on Fire 🔥",
          "@audrey_loves_nature_art this is word cup no campaign you region🙏",
          "@gokselinia they all good, u are the one being racist u woman with cartoon tshirt or I say Karen👩🏻‍🦰",
          "Asian's the best🇧🇭🇮🇷🇯🇵🇰🇷🇸🇦🇭🇲😍💪💪💪",
          "@the_queen_of_adventure Haya bina ila lmondial 😂🇨🇲😍",
          "This is an insult\nWe lost because of their support🤦‍♂️",
          "Italy >>❤️",
          "Bro was forced to do it😂😂😂😂😂",
          "Wow nice moves robo😍😍😍😍😍😍😍😍 challenge accepted 🔥🔥🔥🔥",
          "@pr1ncesa_mar1 never! Korea is much better team! 👏",
          "@iuchinouen what does that have to do with my overall intelligence ? I would say you are the dump one here for not answering in a full sentence and for minding to girls dating business. You poor thing musst have a boring and sad life 😂",
          "@mounia.kr__ 😂😂😂 that's the fact about the football.. you people are still too backward(refused) to accept modern changes about modern football.. keep on believing on ancient believes😂😂... No matter the shades, Algeria have not wil never be part of the Qatar world cup😂. NEVER!!. Cameroon is a football giant with Africa and world records. there is nothing you can do about it so chill and enjoy football 😂",
          "@aa.09_05 In 2010 Messi  just went to South Africa and let my guy Diego Maradona down, Maradona realised why Ronaldo is superior to Messi after that World Cup 😂",
          "Howtf is he the man of the match? 😂",
          "Mount❤️",
          "dats literally my dad 🔥",
          "Best player 🔥🔥",
          "De Paul always with him 😂",
          "VAR only works for certain countries it seems 😢",
          "@thisiz.a7med you wanted to talk about future?as far as i know marocco won 2-0 to Belgium but Croatia won 4-1 to Canada.Marocco?Whats that?I only know for Loserocco😂",
          "@pure_sh1thousery we are winer❤️❤️🔥🇮🇷🇮🇷🇮🇷🇮🇷",
          "He is completely right! 👏",
          "Once a player , always a player .To all such best players 🍷⚽💯💪",
          "African should stop joining FIFA games is such a shame aww😢😢😢😢",
          "I really wanna join them but I’m a Chinese😭😭😭",
          "@hamedsoltaniiiii67 take us out yourselves by winning 😂",
          "Brilliant player 👏🔥",
          "My Favorite team 🔥🔥",
          "Dude… YOUR team was so rude and had poor sportsmanship. This new generation think they are entitled😡 Any other country would have been honored to be in the world cup to play on the same field with these GREAT players from 🇭🇷 \n\nI hope this humbles them. Canada player were acting like little brats. Croatia shut them up and put them on time out. Literally OUT😂💪🏻🇭🇷🇭🇷🇭🇷🇭🇷🇭🇷🇭🇷🏆🏆🏆🏆⚽️⚽️⚽️🇭🇷🇭🇷🇭🇷🇭🇷🇭🇷🇭🇷🇭🇷🇭🇷🇭🇷",
          "@maidenles.s its game not war ☺️",
          "Follow m’y account please ❤️",
          "@fxwoke  bravo  usa child killer 👏👏i m proud of you . You r right 😍😍😍😉🙃",
          "Morroco is the best 🇲🇦🖤",
          "@nadoosh_ku I agreed with you from Saudi Arabia🔥🔥🔥",
          "Shout out to my boy @richarlison with the best goal in this world cup 2022👏🔥🇧🇷🇧🇷🇧🇷🇧🇷",
          "@hana_photographyc 😂 Well done 👏",
          "@siavashsetoodeh1 where’s your freedom? Stay mad 🇺🇸🦅🇺🇸🦅🇺🇸",
          "Korea Vs Ghana was far better game 🔥🔥",
          "Proudly Ghanaian 🇬🇭 🇬🇭 🇬🇭 🇬🇭 🇬🇭 ❤️",
          "@_hey.its.sup_ we did it 😉🙌",
          "Congrates Ghana!! Great job u guys did.😍 But I still don't understand why did the referee decided that way. 🥲",
          "@tina.f.aoun @gretta.khoury_ bs rebho aalaykun😂😂😂😂😂",
          "@samiath_bk 😂keep laughing Senegal is the best",
          "Musiala all the way🔥",
          "hand ball 👏",
          "@gousasmokingoniran I think that Biranvand's feet made Christian Polsic not have children anymore 🤣🤣🤣",
          "Rushford 🔥",
          "Casemiro in his sublime form 💯💪🏻⚡⚽💥😎🇧🇷",
          "The Bluetooth goal 👏",
          "@teodor.luks Argentina beat Poland, Saudi beat Mexico , Argentina,Saudi qualified😂",
          "@kourosh_offiziell who has more has 5 ⭐️⭐️⭐️⭐️⭐️🤫",
          "@realestate_topg what happened 🤣🤣",
          "@zarbassir what I love to ear ❤️",
          "BRAZIL VS SERBIA....THE GAME BRAZIL PLAYED AGAINST A TEAM LIKE SERBIA WHICH HAD SUCH AN AMAZING DEFENCE🔥❤️ EVEN THOUGH I'M NOT A BRAZIL FAN😍 BUT WHATEVER FRANCE🔥❤️MY TEAMMMM😍MBAPPE 💗",
          "The best version ever ❤️ #qatar @qatar",
          "The second golden age for the socceroos 🇦🇺🟡🟢",
          "Loveee this ❤️",
          "@itsabdelfatah you were right 👏",
          "CR7 ❤️🙌",
          "@yessin99 in the round of 16 after beating tunisia and denmark 💚💛🇦🇺🇦🇺🇦🇺🇦🇺🇮🇱🦘🦘",
          "Nice game 🔥",
          "Missing Italy in the world cup😍😍😍🇮🇹🇮🇹🇮🇹",
          "He gave us the best goal of the World Cup so far ❤️",
          "@beatbox_musicality For real bro🔥🔥🔥",
          "I'm heartbroken that we didn't do enough to go the next round, but in the end, we fought hard. 💔 And we're gonna continue fighting! They haven't seen the last of Mexico, at all! 🔥 See you all in 2026!! 🇲🇽🇲🇽💯💯",
          "@mitchellpolak  it was lucky win.... Argentine will destroy you 🤣🤣",
          "@kourosh_offiziell 🇧🇷🇧🇷🏆🏆🏆🏆🏆 🤫",
          "🇹🇳 ❤️🔥 should be proud 👏",
          "All I watch was pessi missing a pen a 3 big chances in front of the goal 😂😂😂😂👏 small game player",
          "Wow very gorgeous ❤️🔥😍",
          "@blueblink5254 dude also, I am embarrassed FOR YOU! 🤦‍♀️",
          "Priceless!! 🇨🇲\n🤣🤣🤣",
          "See the final score for another suprise 😌",
          "@mr_yasser25 yeah but u didn’t qualify 😂😂😂😂😂 try again in the next 4yrs 😂😂😂",
          "@qu_een_ora can and help me to celebrate 🎉 dear sister 🇨🇲🇨🇲🇨🇲🇨🇲🇨🇲🇨🇲🇨🇲🇨🇲",
          "I will wait for the Portugal match, and we are very sorry for Portugal's victory for Cristiano Ronaldo, because he will not be able to participate again in the World Cup if he does not win the cup this time 🤍🇵🇹",
          "Lol 🙄 buh d ball was taken from him",
          "@anchan_0722_ 😂😂😂",
          "@88godiswithme 😂😂😂😂😂😂😂 congratulations!!",
          "Plzz say one more time \"Where is messi\" 😂",
          "@rya._.ntz23 and now denmark are out 😂",
          "the real blue lock🙌🔥🔥😍",
          "Argentina 3.points win yees❤️😘",
          "@ban_all_mondays verpiss dich goodbye😂",
          "the last one 💀",
          "After 12 year of madness y’all couldn’t complete a simple penalty 🤦🏾‍♂️🤦🏾‍♂️",
          "Why do they always ask this question 🤦🏻‍♂️ Anyway everyone gives the same answer - \"I would give it to the whole team\" Are there any other questions?",
          "@bruno.arn You’re not gonna win, Mbappe is coming again 👻👻👻👻👻👻",
          "That throw was lit👏🔥",
          "Congratulations 🔥👏",
          "Thought is was sniper’s rifle at first 😂",
          "respect 👏",
          "@whathappenedin1983 Mexico would have lost 6-0 to France, so Mexico still didn’t deserve to advance 😉",
          "@izayahlopez1118 omg so sad an upset little inferior American 😂😂",
          "Japanese team was so good 😮🙌❤️",
          "@_stevaaa_r_ serbian players are shiit and so are the populist criminals in serbia 😝🥶",
          "@joyce_pecky they were well played🙌🏻🙌🏻",
          "Cool🔥",
          "Mbappe on another level in this world cup🔥🔥🔥❤️",
          "Man i Park 300 bags of cement in an hour that’s my job so don’t let us talk enjoy your money in peace 😂",
          "So sweet❤️ Hope Korea and Japan both do our best in the next game☺️",
          "All out lets add new people\n\nWhere is Son?\nHome💀💀",
          "Right back at you 😂😂",
          "@memphis is a lion 🦁🦁🦁",
          "oooh jungkook and his song 😍And congratulations on the victory of the French",
          "Gol salto olivier giround,offside😂",
          "The Best goal of the world cup👏👏👏⚽️",
          "@_anas_hussain__ rip mother and ur sister 🙌🏼",
          "@fine.kln it took you two days to think how to come back at me lol and do you even call this “fine” thing a joke 😂 honey 🤭😂",
          "The big and champions France in Qatar2022🔥",
          "@farzad_1818 I like both team but wowwww Maroccco 🔥",
          "Congratulations to Japan, Morocco, Brazil, South Korea and Qatar 😍",
          "@spasho05 😂😂😂😂",
          "They themselves said it portugal sui😂😂",
          "@richard.escobarc by 😂😂🇲🇦💪",
          "Morata is second 😱",
          "@eugeneolderman ...dear sunshine under the profile name *hillquiaswhatever* kindly be informed that by definition I do not reply to any private account in Instagram like yours for example...Moreover because I do not speak your language I would kindly ask you to stand a little out of my sun ☀️...PS. by the way it is not either polite or civilized to block in advance the reply to the person on whom you have addressed a comment...👎🕳️",
          "@afaseleccion come back match💥💥💥",
          "@sonam_la24 in ur dreams... Croatia!!!🇭🇷❤️✌️",
          "Did he score in this video 🤣",
          "Thank you for entertaining me Japan, I'm waiting for the excitement again in four years👏❤️‍🔥🇯🇵🇯🇵❤️‍🔥",
          "Wow so much fun 😂",
          "Portugal humiliated you Shaq🤣🤣🤣\n￼",
          "@nacho.cagiao imagine riding off the back of a game from 2014 😂😂",
          "@__oresec_ yo I’m back, we won against Spain 💀 so good luck against Brazil",
          "@m.a.l.e.k.a.n.o_jr Just wait🔥",
          "Love Moroccan team ❤️💚",
          "Richarlison 🗿🍷",
          "HE SO FINE OMLL 😍",
          "@chester.was.here Belgium did thier best in 2018 & they were my most supported & favorite team 💙 ❤️.",
          "@nanaresty7 💯 hate Neymar though.",
          "Japan played better 😢",
          "Var 🖥 have another opinion 🤫",
          "@mr.talls.rainbow.world you look at this lolman😅 a man fallin' love to women, make 'happy family, and absolutely for 'future, and this reality from the God.. Don't be stupid human with the lol+stupid+destroy thingked😅😅😅",
          "Boys 🇧🇷❤️🍻",
          "Th rise of asian football ❤️❤️❤️proudly all Asian can say japan is a Asian football country...,🔥🔥🔥",
          "@theonlyzeee__ ahahaha stpid brazil lost 😂😂",
          "@felipe.bohmann Brazil is out now still laughing even won against You Guys 😂",
          "@pictures_for_stickers Brazil 🇧🇷🛫🏠🤣🤣🤣🤣",
          "@its_romay 😢 me rn",
          "@felicitassanto02 we're proud of our team! We still have 5 ⭐️ and nobody can take that away from us! 🇧🇷🇧🇷🇧🇷🇧🇷",
          "@farzad_1818 pretty soon that will be 🫱🏾‍🫲🏽✈️🇳🇱🇧🇷🇪🇸 😂😂😂",
          "@lupaivatrainer champion are early to gone bake home 🛫🏠🏠",
          "Just an amazing team great job 👏🏻👏🏻👏🏻👏🏻👏🏻👏🏻👏🏻👏🏻❤️❤️❤️❤️",
          "@aliaslam_08 So, Portugal vs Croatia in the final match.😂",
          "@marley4reall all that just to tie with the us😂",
          "@lucascosmepdm what happened my friend 😂😂🇦🇷🥱",
          "Yep, ney is gone🤣",
          "@reemasul_r3 there u go I told u guys yall can win too, good job 👏🏻👏🏻 u guys won fair and square, dont feel low for ur team. They are good enough alrdy 👏🏻",
          "@ash.saalax 😂 what about it now",
          "@ziyad_hemmi got me there 😢 that penalty man",
          "Caption 💯",
          "Mashallah 🙌❤️🇲🇦🇲🇦🇲🇦A forever pride 👏💪",
          "@tonyvieira120 Mate next time if you argue football with me without putting your money. I won’t give a reply.. ffs😂",
          "@enkiduh how about now 😂😂😂😂😂 ❤️❤️❤️❤️❤️",
          "Brazils back that way⬅️",
          "You people should leave the innocent referee alone.He was paid by the English team to work on their favour by giving them 2 undeserving penalties but the God of French team made sure to expose them and made them lose.Now they are on their way home with their salty fans but crying and blaming the referee. You people should blame Harry Kane for missing that last undeserving penalty 😂😂😂😂",
          "Respect for the drone operator🛐",
          "@robertmikocevic yes 😉😉🔥",
          "Netherlands has never won anything. Oh wait, maybe a Euro once 😂",
          "Pakistan🇵🇰 and indian 🇮🇳 flags is together 🤝",
          "@thecollective.conscious Hey ! Still crying ? 😂🇲🇦",
          "So much ❤️❤️❤️❤️ for CR7🔥🔥",
          "We Respect Japan 🙌🙌🙌🔥🔥",
          "@aashasz Exactly what I said but the blind fans are blaming the referee instead of blaming Harry Kane😢😂😂😂",
          "bro peru wasnt even in the wc💀",
          "Keep crying england 😂😂😂😂",
          "@victormosquera it was the back to back matches with PKs for me 😅",
          "Follow @__footycontent_ 😍",
          "@goborm hehe Habibi🤣🤣",
          "@ludmilamasc someone DIDNT watch the match. shut up bruh💀.",
          "I thought that was lil durk for a sec😂",
          "France ❤️😍and Argentina 😍❤️❤️",
          "Pogba always late....A Real African Timer😂😂😂😂❤️",
          "You can’t drink tho😂",
          "Where is ronaldo👨🏻‍🦯😔",
          "The best and only goat 🐐",
          "I know for sure I’ll be missing the World Cup , No game days already feel weird 😒",
          "Hii dear mera name is Hansraj hai main jaipur se hu main apni study ke sath sath online partime work pichhle 2 months se kar raha hu agar aap bhi apni study ke saath saath partime ya full time work karna chahte ho contact me 6375438113 know the details 💯🚀🤔🤔",
          "Meet you in final🙌🏻",
          "@yousselhak ok will see with France 😝😘",
          "@leobrajkovic2 Airport, this way ✈️🤣",
          "Messi wins the this exciting wc!!! 👏🔥❤️‍🔥",
          "It's about class Messi doesn't support LGBTQ 😂?",
          "Cancel this game. 😒😒",
          "Looking forward to Hakimi vs MBappe'😍❤️ May the best win!",
          "They kost💀",
          "@el_dado1004 ya ya ya, croatia lost to spain 6-0 in 2018. You are the kid who couldn't handle the facts and couldnt help yourself but to run your fingers through my comment. Stay mad bestie 😍",
          "Where's Korea? Airportttttt ☠️",
          "Argentina vs France 👏🔥👏🔥👏 Greatest rivalry",
          "Who’s that first guy? His answer ✨",
          "@bigstern50 nah morocco will win cause of referees VAR FIFA they need messi to win the world cup means more money expect foul calls, penalties , free kicks for morocco calling it now -(professional sports) put money on it while you can you might be rich 😂😂",
          "@hassan.ahmed.07 6 Games 5 goals 3 assist now😍",
          "Well played Morocco’s number 7 a good play maker enjoyed his movments 🔥 see you next time fight for 3rd 👏",
          "@larissa_ashley33 your language tells everything of your Country, how you don't have respect to others and criticise other representations. It's not nice at all. But as said before, I'm Croatian and I have respect to you. We are very, very proud of our players, Livakovic shines this year as well as Modric, Periodic, Gvardiol... We are not sad because they are going to play for the 3. Place, which is AMAZINGG and because they played the best football this World cup. They are winners for us! 🇭🇷 🥇",
          "@twinty_999  airport this way 🤣👍🏻",
          "@symon9001 hello ? 🤟🏽🇦🇷 some body here ?",
          "@shreyanshpathak8717 😂",
          "@guilherme_tornich 💪🇦🇷🇦🇷🇦🇷😂😂",
          "@yayatjie09 😂😂 ay y’all praise this guy too much 🤦🏾‍♂️",
          "Maybe a 6:1 hurts for a MOMENT, but the feeling when you lost AGAIN was amazing!!! trust me🙈🙈🙈🥹",
          "@imgyan07 well you said it it's a prediction. It's still kinda true tho Croatia vs Morocco will still play a match 😂",
          "@mess_91_ @aiden44w home and happy🥳🥳🤌🏻",
          "@manas.f.rollins bruh that's the Belgium flag 🤦",
          "@fifaworldcup shame on you 👎👎👎👎🤬",
          "@crocodile_bw \"no hate allowed\" ?🤫😉",
          "@_msomali_wao and guess what morocco also lost🤣🤣🤣🤣🤣🤣",
          "@porti_elias Its True buddy👏👏",
          "Proudly Moroccan 🇲🇦🇲🇦🇲🇦🇲🇦❤️❤️❤️❤️",
          "@the_rgzone thanks, greetings from Brazil🇧🇷🙌🏻🤝🏻😉",
          "Best of luck upcoming final game @afaseleccion 👏👏👏🏆",
          "Appreciate to the Admin❤️ who always updated us",
          "@sarou_lifestyle and you were right , they made history ♥️♥️",
          "They are so cute 🥹🥹",
          "@areez.kxn go watch all the games 🙌😂",
          "Go Croatia!!🔥🔥",
          "@fabreezy_ 👏👏👏 this is yours???",
          "@k.mbappe proud of you👏",
          "Kids that never have to worries about money…..🤘🏻😆",
          "@_pierolb_ « I learned to think all by myself » 🤓😰",
          "Messi 🙌 🇦🇷 will win",
          "Uff he was the best 🔥🔥😍",
          "In the 1998 World Cup in France, it was clear that Belai did not want to fight for third place. The Netherlands was forced to play because of FIFA's threat.🙏👍",
          "@bensalma lmao u mad as hell and now you're finna lose against Croatia😈",
          "@its.me.anouar_ how about your players would play in their liga and not in the Europa! 😂 they will dream to play FWC",
          "@2k7.aa sadly all good things must come to an end but he will be taking this World Cup with him 😝😂",
          "@vialard_mathis right when I thought it was getting boring. I hadn't even registered the first goal😂",
          "@_fmbe_ What do you say? 😂😂😂🇦🇷🇦🇷🇦🇷🇦🇷",
          "@planinic_ivana Your opinion is irrelevant now. They won🇦🇷🇦🇷🇦🇷 Something your country couldn't do lmaoooo hahaaaaaaa cry in misery😄",
          "😂does age matter?I think messi used to destroy old defenders at that age",
          "Now u understand what I mean kid 😂 I say there will be penalty in this match",
          "Bye bye France!! 👋🏼👋🏼✈️ ✈️",
          "@kunchan_13 And that happened... Wht a moment.. Historic... 🏆🐐",
          "@anthonyengel7111 Are you still sure?😅😅😅😅",
          "@i.am.rsb  Bro Carlos is right Pessy 4 goals all on Penalties, so you hate him for not mentioning a Penalty merchant😂"
         ],
         "type": "scatter",
         "x": [
          9.553207397460938,
          -3.300997734069824,
          -4.796265602111816,
          -7.9811787605285645,
          6.568594455718994,
          -6.507474422454834,
          -2.982330799102783,
          -0.624128520488739,
          -6.491262435913086,
          2.58624529838562,
          -3.209822416305542,
          8.553720474243164,
          -8.358637809753418,
          2.1885273456573486,
          -3.2981934547424316,
          -1.904741644859314,
          -5.474607467651367,
          -2.187116861343384,
          -3.65311861038208,
          -1.9880512952804565,
          1.688875436782837,
          -4.2137603759765625,
          -3.6475250720977783,
          8.911324501037598,
          6.9611616134643555,
          9.029961585998535,
          1.9602867364883423,
          6.842998027801514,
          5.800895690917969,
          -9.440890312194824,
          -0.9100883603096008,
          -2.1966655254364014,
          -0.9614083170890808,
          -3.6345033645629883,
          -2.185474157333374,
          3.0646636486053467,
          5.809494972229004,
          -4.780473232269287,
          -0.8225607872009277,
          -2.8308775424957275,
          7.40221643447876,
          2.5725674629211426,
          6.83472204208374,
          8.258620262145996,
          -4.010060787200928,
          -10.329047203063965,
          1.482408881187439,
          -0.614565908908844,
          -2.6200363636016846,
          4.759861469268799,
          5.804702281951904,
          -4.618532180786133,
          7.123876571655273,
          1.9992642402648926,
          -3.6518666744232178,
          7.301697731018066,
          7.74959659576416,
          8.29378890991211,
          8.935449600219727,
          -4.25481653213501,
          -9.67493724822998,
          -8.949514389038086,
          7.1876654624938965,
          14.100373268127441,
          8.103267669677734,
          -11.087138175964355,
          -3.174365282058716,
          -3.4401674270629883,
          14.02900218963623,
          2.171827554702759,
          6.849735736846924,
          -6.478307723999023,
          -9.11025619506836,
          -4.911186695098877,
          -4.009223937988281,
          -3.887963056564331,
          -0.7581109404563904,
          -4.2352166175842285,
          -9.907858848571777,
          -6.37830924987793,
          -1.454820990562439,
          -9.539855003356934,
          -9.831356048583984,
          -5.393840312957764,
          0.298423707485199,
          2.496626377105713,
          9.904888153076172,
          8.315629959106445,
          -9.498580932617188,
          -3.153874397277832,
          2.390754461288452,
          -9.502021789550781,
          -3.4229793548583984,
          -3.207681894302368,
          9.666519165039062,
          -8.773700714111328,
          1.8851017951965332,
          -4.107702732086182,
          -3.9940848350524902,
          -4.688697814941406,
          -6.0588483810424805,
          -4.227899551391602,
          -3.0359880924224854,
          -1.4405372142791748,
          -4.225953102111816,
          -8.985689163208008,
          2.9642534255981445,
          -4.132778167724609,
          -9.333329200744629,
          -5.625676155090332,
          2.250741720199585,
          -6.211098670959473,
          -6.456009864807129,
          6.059876441955566,
          -5.97302770614624,
          5.802322864532471,
          1.9690872430801392,
          0.4713895916938782,
          7.211034297943115,
          -4.558804035186768,
          -5.073759078979492,
          -8.365334510803223,
          7.48381233215332,
          7.556897163391113,
          8.717830657958984,
          7.815064907073975,
          -5.4640889167785645,
          2.148961067199707,
          7.316760540008545,
          -5.126196384429932,
          5.8092474937438965,
          5.809946537017822,
          -0.5678238272666931,
          -6.470453262329102,
          -6.599772930145264,
          7.607184886932373,
          -2.8473429679870605,
          2.162071704864502,
          8.57422924041748,
          -1.847355842590332,
          3.3199305534362793,
          -1.3190966844558716,
          -8.978875160217285,
          -10.157670974731445,
          7.200522422790527,
          -4.738344669342041,
          -5.131883144378662,
          6.728315353393555,
          -0.6602667570114136,
          2.578571319580078,
          10.319445610046387,
          -4.170163631439209,
          -1.4847697019577026,
          7.018531799316406,
          -10.512816429138184,
          -9.904090881347656,
          2.6715781688690186,
          7.48381233215332,
          8.333268165588379,
          4.933849334716797,
          -0.4435560703277588,
          -0.37571001052856445,
          -6.621165752410889,
          -6.123691558837891,
          2.031949281692505,
          -6.608252048492432,
          7.518282890319824,
          2.1949193477630615,
          7.435720443725586,
          -5.135837554931641,
          -9.114494323730469,
          -4.025971412658691,
          -3.7132604122161865,
          3.071101665496826,
          -5.1082892417907715,
          -10.076545715332031,
          14.167524337768555,
          -4.78183126449585,
          3.86684250831604,
          -1.9664115905761719,
          -10.317636489868164,
          9.91759204864502,
          6.857460975646973,
          1.6691325902938843,
          14.230393409729004,
          -8.775867462158203,
          10.38908576965332,
          -6.5439453125,
          -3.9539742469787598,
          9.246225357055664,
          7.393487453460693,
          9.652070999145508,
          2.083890676498413,
          -4.074633598327637,
          6.823709011077881,
          14.129165649414062,
          -10.084427833557129,
          -2.302353858947754,
          7.006591320037842,
          10.006965637207031,
          -4.424032211303711,
          7.641523838043213,
          -6.660843849182129,
          1.4867604970932007,
          6.858242034912109,
          0.2544085383415222,
          9.592180252075195,
          -10.376703262329102,
          -3.9865992069244385,
          7.1038923263549805,
          -5.128966331481934,
          7.9491705894470215,
          3.8519976139068604,
          3.4239184856414795,
          2.097698211669922,
          -5.132208347320557,
          8.931655883789062,
          3.2011425495147705,
          9.886293411254883,
          7.250797748565674,
          -0.3191272020339966,
          -2.6630423069000244,
          1.5431679487228394,
          -3.9461517333984375,
          -1.3095440864562988,
          2.0209388732910156,
          1.9754972457885742,
          -6.649730682373047,
          9.495233535766602,
          1.5318069458007812,
          2.603468656539917,
          -5.125850677490234,
          2.348227024078369,
          -4.866464138031006,
          -6.551328182220459,
          -8.610586166381836,
          7.758749008178711,
          2.8522274494171143,
          -6.488702774047852,
          -4.929383277893066,
          1.5673531293869019,
          -5.367195129394531,
          7.483631610870361,
          4.931267261505127,
          5.920910358428955,
          -0.7692484855651855,
          7.722238540649414,
          -3.560027599334717,
          5.80029821395874,
          -1.6476212739944458,
          2.086909532546997,
          2.158231019973755,
          -3.2576117515563965,
          -6.837268352508545,
          0.21166813373565674,
          -4.097994804382324,
          -4.011646747589111,
          -3.8107097148895264,
          -3.269289255142212,
          0.32777512073516846,
          -9.658711433410645,
          -3.0468366146087646,
          -3.084540367126465,
          -0.01884172484278679,
          0.11984046548604965,
          -1.5887069702148438,
          -6.334719657897949,
          0.29255151748657227,
          -0.6056020259857178,
          7.317716121673584,
          3.9018163681030273,
          6.958963871002197,
          10.33923625946045,
          2.253282308578491,
          7.816887378692627,
          6.858695983886719,
          0.4169254004955292,
          -2.6504087448120117,
          3.8054144382476807,
          7.308524131774902
         ],
         "y": [
          -1.0900527238845825,
          -9.264663696289062,
          -0.15051254630088806,
          -2.3390257358551025,
          2.344590425491333,
          -6.00368070602417,
          -1.4490931034088135,
          0.9747386574745178,
          3.636056661605835,
          -11.348817825317383,
          -1.6674423217773438,
          -0.9738453030586243,
          -1.9569233655929565,
          -1.5719419717788696,
          10.683309555053711,
          -1.8315789699554443,
          5.450020790100098,
          -4.5752973556518555,
          -1.7531850337982178,
          -4.488244533538818,
          -11.34204387664795,
          -7.756341457366943,
          -7.972665309906006,
          1.291099190711975,
          4.285768032073975,
          -2.1153910160064697,
          -11.100991249084473,
          2.9265875816345215,
          3.4427332878112793,
          5.690791130065918,
          1.737986445426941,
          -1.1410024166107178,
          -0.6118385791778564,
          -9.364530563354492,
          -4.572999000549316,
          9.170456886291504,
          -6.933937072753906,
          -7.285017013549805,
          -0.926354169845581,
          9.8388090133667,
          0.8521766662597656,
          -1.6755911111831665,
          0.3869655132293701,
          3.090505838394165,
          -0.8521527051925659,
          5.670531749725342,
          0.25343677401542664,
          -5.709064960479736,
          -0.1420808732509613,
          5.5381550788879395,
          -6.936484336853027,
          -8.295883178710938,
          2.7158584594726562,
          8.489097595214844,
          10.422882080078125,
          -3.144084930419922,
          -3.7863540649414062,
          -3.4788107872009277,
          0.41322553157806396,
          -8.17601203918457,
          5.703747749328613,
          6.109278678894043,
          3.009471893310547,
          0.03686562925577164,
          -3.551121950149536,
          5.331888675689697,
          10.038121223449707,
          -1.7019503116607666,
          -0.2043391913175583,
          -4.524830341339111,
          2.4917633533477783,
          4.200448989868164,
          5.987392425537109,
          1.4223307371139526,
          -6.704255104064941,
          -6.177248001098633,
          0.054370615631341934,
          0.2555866539478302,
          5.991640567779541,
          3.0859315395355225,
          7.651143550872803,
          -7.548661708831787,
          5.0892720222473145,
          -6.519291877746582,
          3.8166661262512207,
          9.128145217895508,
          0.8661753535270691,
          0.9486522674560547,
          5.804324150085449,
          10.208547592163086,
          -11.302322387695312,
          6.999754428863525,
          -1.5490142107009888,
          10.975234985351562,
          -1.7678236961364746,
          -5.1717915534973145,
          -11.145112037658691,
          -6.820361137390137,
          3.1463301181793213,
          -6.7413835525512695,
          -5.741970062255859,
          -7.654835224151611,
          9.977080345153809,
          5.073594570159912,
          1.3785955905914307,
          6.211883068084717,
          8.852216720581055,
          -5.653857707977295,
          6.0841474533081055,
          1.4445388317108154,
          -11.245332717895508,
          -2.1480515003204346,
          3.948228597640991,
          -2.389295816421509,
          5.755598545074463,
          -6.941737174987793,
          -11.131564140319824,
          -3.1117026805877686,
          -0.36512112617492676,
          2.1774280071258545,
          -4.472080707550049,
          -1.9550546407699585,
          6.175901412963867,
          5.711452484130859,
          0.09129972755908966,
          2.7823898792266846,
          5.253635406494141,
          6.567225933074951,
          3.539849042892456,
          -12.013625144958496,
          -6.9294867515563965,
          -6.926424980163574,
          -3.8962185382843018,
          4.043290615081787,
          4.405509948730469,
          0.942138135433197,
          9.852367401123047,
          2.757464647293091,
          0.559344470500946,
          3.8141531944274902,
          -2.743021011352539,
          5.0043511390686035,
          6.863893508911133,
          4.865183353424072,
          -2.392010450363159,
          -5.004640102386475,
          -12.013973236083984,
          3.643616199493408,
          -4.023697853088379,
          9.192850112915039,
          -0.7059540152549744,
          10.036635398864746,
          5.012760162353516,
          -2.401841640472412,
          5.079755783081055,
          4.82614803314209,
          9.350794792175293,
          6.175901412963867,
          1.7484437227249146,
          4.2674174308776855,
          -4.552229881286621,
          -0.451578825712204,
          -0.14855876564979553,
          -6.230996608734131,
          -11.123479843139648,
          3.128993272781372,
          3.47831654548645,
          -11.237776756286621,
          -0.09489094465970993,
          -12.023165702819824,
          6.288412570953369,
          1.1553566455841064,
          -9.823070526123047,
          9.281999588012695,
          -0.23266324400901794,
          -0.9026288390159607,
          0.17984804511070251,
          -9.57129955291748,
          -1.0165975093841553,
          -3.0353713035583496,
          4.593163013458252,
          0.2704041600227356,
          -1.0689834356307983,
          -10.807279586791992,
          0.3035373091697693,
          -5.2139387130737305,
          3.914121389389038,
          -8.68665599822998,
          10.662056922912598,
          0.9622613191604614,
          2.089003086090088,
          3.75557804107666,
          -11.176137924194336,
          11.347663879394531,
          3.801967144012451,
          0.08636779338121414,
          -0.9012930989265442,
          -0.022906813770532608,
          -2.0197410583496094,
          2.0483033657073975,
          -7.15864372253418,
          -3.719179630279541,
          -8.776054382324219,
          3.3125762939453125,
          -0.8370453119277954,
          1.920782208442688,
          3.7433080673217773,
          5.340928554534912,
          4.9822258949279785,
          -2.048280954360962,
          -11.999531745910645,
          2.5056357383728027,
          -0.992547869682312,
          9.627819061279297,
          -11.227593421936035,
          -12.013026237487793,
          -0.06931226700544357,
          9.115427017211914,
          -0.32850363850593567,
          2.698793649673462,
          -5.129669189453125,
          -2.4367496967315674,
          -6.455321311950684,
          -3.8717095851898193,
          5.026067733764648,
          6.144487380981445,
          -11.054433822631836,
          3.7274580001831055,
          -0.7509521842002869,
          -6.430366516113281,
          9.125972747802734,
          -12.012643814086914,
          9.145532608032227,
          -10.675118446350098,
          3.6963624954223633,
          -4.635777950286865,
          -3.6253466606140137,
          9.0326509475708,
          3.38638973236084,
          -4.302053928375244,
          -10.365256309509277,
          -6.447741508483887,
          6.1760334968566895,
          4.245380878448486,
          -0.49929165840148926,
          -1.4625824689865112,
          -2.835278034210205,
          -7.944446563720703,
          -6.947296619415283,
          2.0599303245544434,
          2.868494987487793,
          -11.21688461303711,
          10.204691886901855,
          -5.826791286468506,
          2.064302682876587,
          10.031455039978027,
          -6.130342960357666,
          -6.351200580596924,
          -7.917960166931152,
          4.361963748931885,
          6.612479209899902,
          10.036171913146973,
          10.095841407775879,
          -2.393829345703125,
          -2.9067301750183105,
          5.049121856689453,
          5.755429267883301,
          0.2357683628797531,
          -2.7473137378692627,
          -2.1519615650177,
          -2.445253610610962,
          -1.2396951913833618,
          3.9404211044311523,
          -1.582240343093872,
          -0.9769425392150879,
          -1.0337538719177246,
          1.8953355550765991,
          -2.141963481903076,
          -0.9597835540771484,
          -2.5091917514801025
         ]
        },
        {
         "marker": {
          "color": "orange",
          "size": 10
         },
         "mode": "markers",
         "name": "es",
         "text": [
          "Proudly Ecuadorian 😍",
          "We go with everything 🇨🇷♥️⚽️",
          "@carlos_arte24 I don't know why but I love the jersey 🥶",
          "Congratulations Ecuador! 🙌",
          "@alvarodnl If we don't watch the World Cup, Qatar loses money it won by letting people die 🙃",
          "👏👏we go with everything, strong",
          "Ecuador",
          "Corruption",
          "@ikercasillasrules I don't see where neuer appears in the video 😮",
          "❤️❤️❤️❤️❤️❤️ Ecuadorians 😍😍😍😍😍",
          "Change the flag, we are Ecuador 🇪🇨☝🏻",
          "How seductive the one in the second photo 😂😂",
          "With all Maes 🔥🇨🇷",
          "Ecuador",
          "@jctorr130 1-1🤫🤫🤫🤫",
          "Our last match in a World Cup 🇨🇴😢",
          "I need an ice Pepsi Blue 😋😋😋😋😋 fuck, maybe this year they won't launch it??? 🤔🤔🤔",
          "How my niggers cool 😢",
          "Go Ecuador 🇪🇨❤️",
          "Congratulations to Ecuador for beating the slavers 👏🏼👏🏼",
          "@btito_.avak best goalkeeper in the world, proceeds to lose 7 to 0😍😍😍",
          "Ronaldo",
          "Eden hazard comes back😍😍😍",
          "🤫 tranki just, it's not all said yet",
          "The Master Magician!🔥🔥🤍👏🏻⚡",
          "Let's go Peru ❤️",
          "Let's go Ecuador ❤️❤️",
          "love banget idola saya portugal - Cristiano ronaldo.😍",
          "let's go to Spain",
          "@magggitomcruz we are already in the cup, it is called USA 🇺🇸 lmao p3nd3j0 😂😂",
          "Come on Morocco ❤️",
          "the cucho is already old ☹☹",
          "But they didn't do anything today…What a boring match 😒",
          "I've always liked ghana uniforms😍",
          "@bbsitaj we'll see on December 18 😉",
          "That is, one cap penalty, the other scores a goal and this is the best of the game. Yesterday Ferran scored 2 goals and made great plays and the best was Gavi. 😂😂",
          "@daje_mitico 😂😂",
          "We love you @yosoy8a 🇲🇽🔥",
          "No one is going to comment on the facade that the coach distills from the selection? 🌚😈",
          "Eden ❤️",
          "Ta Ta Spain",
          "Mechico 🤏🏼",
          "@jl5759600 sico towel 🤫🤐",
          "Life changes when it starts focusing on you🎶🔥",
          "@lauhernandezchavez La Payasada They found it expensive 😂",
          "Vamooo Falcon 🦅 🇺🇾",
          "Hello Good evening is Portugal ⚽️👍🇵🇹",
          "Love the French T-shirt 😍😍😍 🇺🇾🇨🇵",
          "@queenfir_ marocco ❤️❤️",
          "@sandra_cariel came 100% éliminer 🔥🔥",
          "Poor guy 😂",
          "Ufff that Uruguayan ❤️",
          "@axl_slash3 I don't do arg. I am. But we are talking about Ecuador, right? The selection today is 💙 Win or Die.",
          "Ecuador made them dance, humiliated them and supposedly this was the best player 😂 after they cancel  a legitimate goal, they also get their hands on the best player when everyone perfectly realized that Ecuador surpassed them, that they are shameless",
          "15 Worldwide 👏👏👏",
          "@hoonjy you, if those shots didn't boil stuck on the stick uffff🔥",
          "Ronaldo",
          "The best ever",
          "@hichemourad13 will it be that this individual is still thought the same?  Ecuador is great 🇪🇨😉😉",
          "@fifaworldcup 🇪🇨 played much better 😎 he was canceled a legitimate goal 😠 he should have won the game 👏 but let's go my 🇪🇨 Yes You Can and You Can Always 💪",
          "Seraaa breaking the curse🔥🔥🔥",
          "Valencia",
          "All my faith for Argentina 🔥",
          "A cockroach with a baygon moves more😂",
          "For me it would also be like seeing Santa Claus! We love you Leo 🇦🇷⚽️💪🥰",
          "@borenia grs!!! 🔥🙌❤️ football is football",
          "Write it down daddy .....Let's go Ecuador 🇪🇨🥰❤️❤️",
          "@ letigallo my respect for women everywhere🙌 💕",
          "@mindimalist here we are mana, supporting them to the end ❤️",
          "Lol Casillas!!! 😍😍",
          "Unfortunately I saw it 😔",
          "@jomiguelrivera the goal of the century we did it to Italy😂",
          "@charlywolfph naaaaa, it is just an opinion that follows from logic and common sense... I am not interested in being a DT although I thank you very much... \"machine\" 👍🏼😏",
          "_Marocoo🇲🇦🫀_",
          "What a good deal for our selection 😂",
          "North Korean Won",
          "👏👏Let's go ticos who, if possible , resort when they left the death group in 2014  when they were all presumed dead and the dead turned out to be others . Come on guys, even though my team is USA, they won my heart in that 2014 World Cup. Otherwise, it is my USA, you are for me . ❤️",
          "Ecuador present 🇪🇨👏👏",
          "ECUADOR IN DA HOUSE 🔥🔥🔥🔥🔥🔥🇪🇨🇪🇨🇪🇨🇪🇨🇪🇨🇪🇨🇪🇨🙌🙌🙌🙌🙌🙌🙌🙌 #ecuadorarrechohp",
          "Goal of the Century 🇨🇷🫡",
          "\"Maurice I can no longer move it move it\" ❌🦵😭",
          "@andamente huge 🙌🏼",
          "@zeferinooo.ema more than proud of my country... When you know what a World Cup weighs you can talk about football ✌️🇺🇾",
          "From there he never washed his hand aaa❤️‍🩹",
          "#YNWA we love you Captain ❤️",
          "THANK YOU",
          "Those who know know know, carrying a little magic of the Ronii phenomenon 💪💪😎",
          "Ecuador 🇪🇨 ❤️#win",
          "The goals he screamed and cried the most are with Argentina! I think it is the dream of every Argentinian to move their country forward, and we are in very good hands!! #afaseleccion 👏👏👏👏🔥🔥🔥🔥🙌 #messi 🙌👏👏👏👏🔥🔥🔥🔥🔥🔥🔥💪🏼💪🏼💪🏼💪🏼💪🏼💪🏼💪🏼🇦🇷🇦🇷🇦🇷🇦🇷🇦🇷🇦🇷🇦🇷",
          "@luisitorres_ yes 🥵",
          "@fifaworldcup Ecuador deserved the pass 😢",
          "Shit",
          "@pablogavi good luck🔥",
          "@deyaneira_ae que habilitacion se mando valencia en el 2do gol de Senegal🙌🔥🔥",
          "@bertonrayhs_😂😂😂it's in you🇦🇷🇦🇷",
          "@sujo.beatz and we 25 titles 🏆 are the best selection🇦🇷",
          "Although the best goalscorer hurts them✍️❤️",
          "Maradona helping Messi to win ❤️👏👏👏",
          "Those from Saudi Arabia who want to die were happy because they won the first game, 😂😂😂 come on Argentina 🇦🇷🇦🇷",
          "Argentina",
          "🕸️🤟🏻🇦🇷 The spider that bites @juliaanalvarez 🔥⚽💙",
          "equator: Witchcraft 🤬🤬🤬😨😨😓😥😥😭😭😭😭",
          "MESSIAS 🇦🇷🇦🇷🇦🇷🇦🇷🇦🇷🇦🇷 Vamos Selección is back 🔥🔥🔥",
          "The best in the world, ",
          "the biting spider🤘🏻🕷️",
          "Hey man ,why did they disqualify Ecuador? Were they afraid, cowards? Perfectly, you already know the truth 😉",
          "Best of Portugal 👏👏",
          "@chucuzilla Vargentina's greatest conquest against Brazil ? 😂👌🏼 Pelé is greater than the Vargentina 😂",
          "Ronaldo",
          "That Japan, outside Germany ❤️",
          "Aidouni🔥❤️",
          "We re-sit it to the Polish😂",
          "@fabilleao shut your mouth anda🤫🤫",
          "@yer_gamboa leaving is leaving haha ask Uruguay haha you think they care to leave with their faces held high haha they left crying wanting to hit the referees... Just like everyone's aspirations haha and if Japan is world champion they will say the Ticos who beat them😂😂😂",
          "@ezebtm luck brother albiceleste here we bank on leo and riquelme!!!🙏🏼❤️let's go Argentina! greetings and successes from ❤️🇨🇷Pura Vida",
          "Plastic",
          "Mexican Pride ❤️👏🏻🇲🇽",
          "@lucaasperee you would already like to be in Texas that from echol Eats Super Good and Earns a lot $$ $& I recommend it and that you are in a recession/ Inflation that %80 🥵",
          "@lucaasperee state narco hahahahah You can see how misinformed ... and Mexican gastronomy does not envy the Italian one at all so it is considered one of the Best and let alone Its landscapes and Beautiful Beaches so it is in the Top 3 of Touring Cars 😇😇😇 And thank God I live in Texas My company generates very well $ $$$$ and I spend my time traveling through Mexico and wherever I want thanks to God 🙏🏾",
          "Glad you're 😭😭😭",
          "It still hurts😢",
          "and they will be the last, against Morocco Spain will go home, bye bye 🛫🛫🛫",
          "11 goals were eaten, ⚽🥅 the most scored in the World Cup 😂😂😂😂",
          "@hilla_loaiza what level 🔥🔥🔥",
          "@el_pishuelo Uruguay does not exist on the map which is Uruguay?😂😂",
          "and mech?😢",
          "@guiguelpaulo 😢",
          "That I support this gentleman's🔥",
          "@hugoalejandrobm you had to be Mexican HAHA, only Mexico and Chile supported Poland🤣🤫.",
          "Better that they publish the moments of nullified goals 👏👏",
          "@lucaasperee Texas is worth to us pura vrga\nWe are one of the countries with the most territory in the world\nBut English is spoken in the Falklands 😂😂😂😂",
          "@diegoo_menendezz there was no error in the VAR, DO not CRY TELL US😂😂😂😂",
          "I don't see any Argentines 🙄",
          "Argentina",
          "@_ab_do_r.c.a Morocco out of FIFA on day 6😂😂😂",
          "Pride?🏳️‍🌈?",
          "Threesomes are always good bro 🔥😉",
          "Hahahaha no desire to search the search engine 😂",
          "Boee so the World Cup is not over yet, see if there is another better goal, let's hope it ends first 🤙",
          "@marqu3si yo bro chill 👏🔥",
          "The team that won x that Portugal let itself be won did the same in Spain😂",
          "golazo chihuahua dog😂😂 face that iso haha",
          "@caro2653 👏👏👏",
          "@qp11_00 Incredible video👍",
          "@matt.changa plus penalty gave uruWHY and the clowns leaving the stadium hitting the monitor of the VAR. ELIMINATED😂😂😂😂😂",
          "@salvalopz4 look at the stars that each shield has and then tell me who is the child of who 😂",
          "@_arabicqueen_ dream😂😂",
          "@tacianebarros_ Vamos Argentina Viva Diego 🇦🇷🇦🇷🇦🇷🇦🇷💙💙🏆",
          "@chevy_laffitte 🤣🤣this is how they learn what it means to be robbed this way",
          "Great mathematician.🙌🏽👏🏽",
          "come on guys we have to continue trusting in every game we play and not trust the opponent, we have to trust our squad and dt💙",
          "This cup is yours Leo 🇦🇷🙌",
          "Largest",
          "FIFA give me football back!!🙏",
          "No other crowd is the same. The best in the world that I'm proud to have been born in Argentina ❤️🇦🇷🇦🇷",
          "Aguante Argentima !!!!! Vamos carajp❤️❤️",
          "@eugenio_9892 😂😂😂Argentino ? now I know why you are like this but I don't speak badly to people like you do I just wish you good luck for the rest",
          "@j_fonse10 😂😂😂yo también ati",
          "A great my uncle RIL O 👏👏👏 @dorian_ybaceta @lopezillo.public @hugo_charcape03 @henrykux03",
          "The best in the world! ❤️‍🔥❤️‍🔥",
          "@abdan507___ 😂😂😂😂😂😂😂😂😂 lie!!! But repeat it until you believe it 😂😂😂",
          "@miguelz_cunha hahaha read well before answering hahaha before I want you to pass the dances 😂😂 to see the package dance 🕺🏻🇧🇷",
          "@vlz.matthew_ you're too young next to Uruguay or the World Cup qualifiers 😂",
          "And he's only 21 😢 I was at a McDonald's when I was 21 😂",
          "⚽️⚽️⚽️To stay informed about the latest football news in Spanish you can follow us, daily football content.🔴🔴",
          "@romanruizdiazok Argentines are so excited😂",
          "Argentina",
          "",
          "Goncalo Ramos 🔥🔥👏👏",
          "@sofiaramosfleury now say it without crying. IT WASN 'T CRIMINAL😂😂😂😂😂😂",
          "@sebassss_07 our goal is to win the World Cup, not to participate 😘",
          "@Abderazak_ot ok, the fact is that the defeat was deserved, but you are not joking, I repeat that Morocco has neither trophies nor history 😂",
          "@anthony_pv05 If you guys had played England, it would be  50-0😂",
          "Beautiful performance you really are amazing JK 💜💜💜",
          "Brazil is going to win the Cathar scribe today, their friend and colleague Yoangela Arminda Gonzalez tells them today 12/08/2022🇻🇪💚💚💚💚💚 from Venezuela🔥🔥🔥🔥🙌🙌🙌,🇧🇷🇧🇷🇧🇷🇧🇷🇧🇷🇧🇷",
          "You Deserved to Win Japan 😢",
          "@memphisdepay Argentina 5 Netherlands 1 😎",
          "Maroc❤️",
          "$$$$$$$$$$$$$$$$$$👎👎, disaster, scammers!!! $$$$$$$$$$",
          "@_monniiiiiiiiii_ There is a Moroccan proverb that says, “Crying after the dead is a loss.”😂",
          "@stuffbarbdoes lol zero 😂😂😂😂",
          "@diego_mendivels0 the only Latino who did not speak Spanish. That's why they're not going to win the World Cup 😂🫣😅",
          "@carolinacbarbos Bonus🇲🇦👊",
          "@vinicius_conrado12 bye bye brazil😂😂😂😂😂😂😂😂😂😅",
          "Everything already makes sense 🤷‍♂️🤣",
          "@luizhenrique_147  that passed Brazil eliminated 😂",
          "England falls to pieces🥱, the Falklands are Argentine salami",
          "Croatia",
          "Ronaldo❤️❤️❤️",
          "@lorran.fon 😢😢😢😢😢Sorry you lost the game 😂😂😂😂😂😂😂😂",
          "They mufaron 😂",
          "@bcaudana22 I wait until the World Cups of all the teams of the American continent are equal to or less than the titles of Brazil 🫡",
          "@emiliojose_v save this comment. Piece of so re te.  Seriously, your parents must be brothers, but difficult to be so Bob0😂",
          "@jonathannardi_ the cold chest 🥶 is coming soon",
          "Nanicos⭐⭐🤏",
          "Package 🥵",
          "ComOn argentina..you can do it 🔥❤️🔥",
          "The best , the  highest representative of🇵🇹 and this coach clinging to leave him on the bench Mr. Santos !  He@wants  to play not only watching from the bench ,... He is not worth doing that to him 😡😡😡 and in his own country 😡",
          "Thank you for everything Cristiano Ronaldo! The best player and athlete in the history of mankind! 👏🏼👏🏼💪🏻💪🏻",
          "@keylor_ch29 refers to the valley IDV team 🤦",
          "MESSI's favorite dessert 🔟🇦🇷🇦🇷🇦🇷🇦🇷🇦🇷🇦🇷🇦🇷",
          "Who would say that the same defender would be part of the coaching staff that would leave them out 24 years later 🙌",
          "Let's go Argentina.",
          "@cruzfrancesco3  I happy sembre strong Argentine strength 🇦🇷😉👍🏻",
          "It was an exquisite match 🔥",
          "i 🤏🤏🤏🤏🤏 didn't want to lose the level..",
          "Neymar Da Silva Santos Junior 😢",
          "Ronaldo",
          "@ybjinn_ The best in the world 🇦🇷❤️",
          "Argentina 🇦🇷🏆🇦🇷❤️",
          "That it wasn't that he was going to win ?? Crying Cristaldo😹😹",
          "It's all cooked up , Messi last world champion 🤑🤫",
          "@acdc.jpedro 😂😂😂😂😂",
          "How to planio😂🙌",
          "@dansabras Brazil tell me what it feels like to have your dad at home 😂 🇦🇷🇦🇷🇦🇷",
          "@life_is_sedd how's that for you? 😂",
          "I hope you support your own worldcup 😂",
          "that they pass the mess in Qatar 😂",
          "You're great 🇦🇷❤️",
          "Peppy",
          "@mdsojid364 cries Brazilian 😢",
          "Ronaldo is always a genius!! Ronaldo😂 is Argentine, he belongs to everyone!!!",
          "Gano Argentina 🔥🔥🔥❤️❤️❤️",
          "@sofi_more.mv it's not my country I'm Chilean, that's because I want Argentina to lose 😂",
          "@r_cotic27 Your Croatia lifting surra 😂",
          "Go there 😂",
          "@ trick_pro_league 👍🏻",
          "@lovely_angel_kh I don't get you but, ok🙌",
          "@lovely_angel_kh I don't understand you but de chilll🤙",
          "🇦🇷♥️❤️To the airport, Modric.",
          "@ortubiaalexis being Argentinian? Na, I doubt it... Tattoo artist 🤙🏽🤙🏽",
          "Mexico",
          "#vamosargentina #todosjuntos 🌎🇦🇷🏆🙏👏",
          "Ronaldo",
          "Cryboxes😢",
          "Hahahaha see you in 4 years !!! 😂",
          "The best midfielder 👏🏻",
          "Come on Uruguay bro!!!!❤️❤️",
          "Q will Qtar with so many stadiums after the World Cup? 🤔",
          "Argentina is going for the third World Cup 🙌🔥",
          "Pele 3 Mundial Argentina 2 🤣🤣🤣",
          "Hahahaha... what you say is called fanaticism, but in the end, there is no worse blind person than the one who does not want to see. So God bless you and love and peace ✌🏼",
          "The best player in the world 🌎 is called Messi ❤️🙌",
          "Pure trunks defending and another good coconut🤷🏽‍♂️.",
          "I didn't work I failed the penalty thanks 😂😂",
          "@b.local 😂😂😂👏",
          "@julietacontento ARE YOU AT HOME NOW 🤔",
          "I never thought that a World Cup from which so many people expected to see quality is being so manipulated and fixed as it is, we wanted to see transparency with good players leaving everything on the court but in the end we have only seen fraud,lies and cheating with most of the teams that have come out, even the referees seem bought because they have taken non-existent penalties to favor the teams they wanted to see in the final, WHAT A SADNESS IT IS WORLD CUP QATAR 2022😢😢😢.",
          "What happened is that the phenomenon of now no longer plays like before the cago😂😂😂😂",
          "Poetry in photos, poetry in motion🇦🇷🥂",
          "Double breast 😂👏",
          "@ swapichiMake me this one and I'll believe you. 😂",
          "@ivanalvaradoq good thing that with football he eats all of Argentina, ah no, he doesn't 😂 pd: I'm not Spanish 😘",
          "Argentina, Alvares🔥",
          "@ amberpeeters97and Spain doesn't even know how to play 😀",
          "Please intercede so that the Iranian player is not executed. \"🙏🙏🙏🙏🙏",
          "🔥Argentina.  3 🔥  France  1🔥",
          "@maxirodriguez11oficial genius!!! 👏👏👏👏💙🤍💙",
          "Hahahaha and they were left outsideaa😂😂",
          "First... he doesn't do so well, second...Brasiiiiiilllll😂😂😂🇦🇷🇦🇷🇦🇷🇦🇷🇦🇷",
          "@__mati_15agree. It's reality. The Concacaf soccer school is changing. What is not worth it is that players who have never played in Concacaf invent. I would like to see any comebol selection against Curacao, Jamaica even Mexico but um Mexico with its own school not comebol 👏",
          "Argentina vs all French colonies and associates 😂",
          "@hassan.ahmed.07 and of them how many penalties?? that have not even been fouls to him.👏👏",
          "How not to remember Zidane's headbutt!!! 😂😂😂😂",
          "how big is Lukita 🇭🇷❤",
          "I don't like this guy he's very dismissive!!! 👎",
          "❤️ that good steam it frncia",
          "Argentina 🇦🇷 Leo 👏👏👏👏",
          "What a horrible day 😞",
          "Palestinian Authority of the West Bank and Gaza Strip",
          "@_official__Alejandro who is the best, keep celebrating ahead of time 🤫",
          "Argentina 😍❤️🔥🔥",
          "Meastro 🙏❤️",
          "The final is played by 2 teams......what a great disappointment this World Cup 😢",
          "Argentina ❤️❤️❤️❤️",
          "@soroor96  Here we are all on the street singing that song ❤️❤️",
          "Roberto",
          "@laparra_1 👀",
          "Julian & Enzo 🇦🇷💙",
          "@emiliojose_v Ecuadorian resentful, Argentina world 🇦🇷 champion🏆. Messi is the best player in the world and in history. Now you can cry quietly"
         ],
         "type": "scatter",
         "x": [
          3.108494758605957,
          -4.232563495635986,
          -3.473942995071411,
          -1.405532717704773,
          2.8940911293029785,
          -3.303532600402832,
          -6.397720813751221,
          -10.53711986541748,
          -7.385911464691162,
          3.108962297439575,
          -5.759787559509277,
          7.4537506103515625,
          -9.992733001708984,
          -2.534693956375122,
          -3.251455545425415,
          14.060155868530273,
          -3.411400318145752,
          14.164692878723145,
          -6.188630104064941,
          -3.6565804481506348,
          2.872802495956421,
          -4.482777118682861,
          2.984468936920166,
          -3.7137210369110107,
          -6.259171962738037,
          -4.568009853363037,
          -5.0403947830200195,
          2.6913113594055176,
          -1.3744128942489624,
          10.100512504577637,
          -4.857100486755371,
          -1.4899625778198242,
          1.5360815525054932,
          2.9675769805908203,
          2.0848608016967773,
          7.34225606918335,
          7.483631134033203,
          -9.653876304626465,
          -0.6249114871025085,
          -4.136045932769775,
          -9.585617065429688,
          -3.7355735301971436,
          -2.621798515319824,
          -6.004805088043213,
          7.813934803009033,
          -9.538058280944824,
          -3.8285272121429443,
          3.0529966354370117,
          -4.964962005615234,
          -9.87053108215332,
          7.871904373168945,
          -5.156686782836914,
          -5.136463642120361,
          7.480913162231445,
          -2.9721193313598633,
          -9.924713134765625,
          8.179061889648438,
          -3.5959525108337402,
          2.1283066272735596,
          -1.3287880420684814,
          -9.59848403930664,
          -9.435986518859863,
          -10.149678230285645,
          8.203529357910156,
          -3.9969751834869385,
          -4.616211891174316,
          -5.990025043487549,
          -1.4930962324142456,
          -4.011768817901611,
          2.994196891784668,
          1.292513132095337,
          8.248800277709961,
          -0.5793163776397705,
          -6.124186038970947,
          7.291823863983154,
          -7.387020111083984,
          -4.130108833312988,
          -2.9482569694519043,
          -4.6289472579956055,
          -6.020825386047363,
          1.1355934143066406,
          -1.2518516778945923,
          -5.132388114929199,
          -4.475729465484619,
          -4.400571823120117,
          3.492236852645874,
          -2.489656448364258,
          -6.044285297393799,
          -5.306478500366211,
          -3.0193557739257812,
          14.156045913696289,
          7.626410007476807,
          -8.891639709472656,
          -4.994874477386475,
          10.196430206298828,
          -6.187466144561768,
          -2.050917148590088,
          -3.7364487648010254,
          8.630819320678711,
          -2.0719809532165527,
          -4.053332805633545,
          1.6818958520889282,
          -10.68056869506836,
          -1.695733666419983,
          -0.7333665490150452,
          2.1767282485961914,
          -3.329710006713867,
          5.500070571899414,
          -9.454285621643066,
          -5.018997669219971,
          -9.43694019317627,
          8.110956192016602,
          -3.293140172958374,
          7.589186191558838,
          1.3435336351394653,
          -1.3502460718154907,
          -3.09517765045166,
          -4.939791202545166,
          0.05382339283823967,
          2.0824975967407227,
          14.227336883544922,
          -6.654308795928955,
          5.955609321594238,
          -9.080947875976562,
          9.197576522827148,
          14.232105255126953,
          14.358113288879395,
          -9.460251808166504,
          2.365936040878296,
          -3.694373369216919,
          7.730286121368408,
          6.7633209228515625,
          -8.403095245361328,
          -7.073188781738281,
          9.315170288085938,
          -1.971761703491211,
          -5.630733966827393,
          7.576313495635986,
          -8.099294662475586,
          -6.502607345581055,
          8.090149879455566,
          9.577096939086914,
          -2.5634028911590576,
          -0.9995147585868835,
          7.563843250274658,
          7.130422592163086,
          7.695640563964844,
          -5.348893165588379,
          2.1160430908203125,
          -2.490302324295044,
          -5.150618553161621,
          -1.516853928565979,
          -3.397773504257202,
          1.513625979423523,
          -5.437233924865723,
          -4.818126201629639,
          6.948381423950195,
          7.017348766326904,
          -3.378265380859375,
          -10.521102905273438,
          6.5211005210876465,
          5.716516494750977,
          8.901777267456055,
          11.876203536987305,
          -4.1413726806640625,
          8.725066184997559,
          -6.421842575073242,
          -7.811732769012451,
          -6.606280326843262,
          6.433283805847168,
          2.1342525482177734,
          7.250126838684082,
          7.6954874992370605,
          -4.159870147705078,
          -4.689835548400879,
          14.170595169067383,
          0.8856150507926941,
          -4.729007720947266,
          -1.635483741760254,
          7.408598899841309,
          8.208980560302734,
          4.840391159057617,
          -1.4654756784439087,
          8.762322425842285,
          1.1043620109558105,
          8.42276382446289,
          -5.097020626068115,
          7.885296821594238,
          -5.101247787475586,
          11.657912254333496,
          7.75484561920166,
          -5.089360237121582,
          7.331396579742432,
          -3.575784921646118,
          -8.786578178405762,
          -3.4325952529907227,
          -10.340962409973145,
          -0.23603302240371704,
          -2.309964418411255,
          5.801759719848633,
          -7.184383392333984,
          -1.4531666040420532,
          -9.995390892028809,
          0.1544189453125,
          -9.202088356018066,
          -3.238097667694092,
          14.110834121704102,
          -0.3953709006309509,
          -6.2056450843811035,
          -6.212299346923828,
          5.825809478759766,
          -10.534149169921875,
          7.483811378479004,
          0.340422123670578,
          8.103209495544434,
          6.878103733062744,
          7.971734046936035,
          8.911783218383789,
          -6.07357931137085,
          7.769275665283203,
          14.19924259185791,
          9.520334243774414,
          -10.622467041015625,
          8.843833923339844,
          8.019415855407715,
          6.898219585418701,
          -0.9988386631011963,
          -1.351993441581726,
          -8.09407901763916,
          -6.202019214630127,
          -8.096405982971191,
          -5.97470760345459,
          -2.763211250305176,
          3.293262004852295,
          14.189289093017578,
          9.418737411499023,
          -3.5228569507598877,
          -5.07651424407959,
          -8.158940315246582,
          -4.63510274887085,
          2.15203857421875,
          -4.810710906982422,
          -1.7552489042282104,
          0.44794565439224243,
          6.953829765319824,
          7.263115406036377,
          -8.163220405578613,
          13.85545825958252,
          6.943052291870117,
          -1.9087203741073608,
          -1.4808588027954102,
          6.7344255447387695,
          5.363603115081787,
          -10.3148832321167,
          2.22792911529541,
          1.4709378480911255,
          -10.671714782714844,
          -2.7208685874938965,
          8.64217758178711,
          10.474357604980469,
          -4.122021198272705,
          9.460208892822266,
          -3.598205089569092,
          8.275091171264648,
          -5.830719470977783,
          -1.630720615386963,
          -3.7948670387268066,
          -2.888904333114624,
          1.7543044090270996,
          -2.598210334777832,
          -3.712512731552124,
          -7.122842311859131,
          1.532029390335083,
          14.05435562133789,
          -5.4211859703063965,
          -4.227324962615967,
          -9.339509010314941,
          -2.2779996395111084,
          -5.117745876312256,
          -6.189575672149658
         ],
         "y": [
          9.383706092834473,
          -2.4870388507843018,
          -6.458479404449463,
          5.130893707275391,
          -3.0759878158569336,
          10.172889709472656,
          -6.9205641746521,
          -4.1294050216674805,
          -3.6900155544281006,
          9.180462837219238,
          -5.9723968505859375,
          1.5591953992843628,
          5.964944362640381,
          7.771131992340088,
          -9.003703117370605,
          0.04831475391983986,
          -3.6908657550811768,
          0.16810044646263123,
          -6.656765937805176,
          10.805913925170898,
          9.042916297912598,
          5.113020896911621,
          9.35515022277832,
          -6.638352394104004,
          4.356071949005127,
          -7.767833709716797,
          -7.807529449462891,
          9.290340423583984,
          5.062616348266602,
          -1.00911545753479,
          -8.033918380737305,
          -4.374323844909668,
          -6.428973197937012,
          9.25246810913086,
          2.8435096740722656,
          -3.3798789978027344,
          6.176033973693848,
          6.260021209716797,
          -2.9352967739105225,
          -8.276978492736816,
          6.44041633605957,
          -9.380592346191406,
          1.2930753231048584,
          4.110062599182129,
          2.403989553451538,
          -7.5533127784729,
          -2.0549094676971436,
          8.882026672363281,
          -8.177695274353027,
          5.262616157531738,
          4.255852222442627,
          -7.34522008895874,
          -0.236212357878685,
          -3.5115368366241455,
          10.229004859924316,
          4.848017692565918,
          5.301399230957031,
          10.173833847045898,
          2.7664918899536133,
          -0.6646978855133057,
          5.539084434509277,
          7.085418701171875,
          6.162238121032715,
          1.1963140964508057,
          -2.1980233192443848,
          4.8936357498168945,
          -5.972682952880859,
          4.2051215171813965,
          -6.399033546447754,
          9.490924835205078,
          -4.835113048553467,
          1.218265414237976,
          -0.23883286118507385,
          -7.501903057098389,
          1.795540452003479,
          -3.690127372741699,
          11.435739517211914,
          10.62680435180664,
          2.738490581512451,
          -6.642974376678467,
          -4.389794826507568,
          5.235345363616943,
          -4.9363203048706055,
          -6.037973880767822,
          -6.854823589324951,
          9.676328659057617,
          -0.4440464973449707,
          -6.575809478759766,
          2.2543625831604004,
          -9.212038040161133,
          0.15139064192771912,
          5.69847297668457,
          6.448917388916016,
          4.876845836639404,
          3.9023149013519287,
          -2.1497204303741455,
          -6.0269598960876465,
          10.884565353393555,
          -2.4217658042907715,
          5.0425214767456055,
          -1.1017136573791504,
          -4.543157577514648,
          5.381479263305664,
          8.142718315124512,
          -3.634155750274658,
          2.757169485092163,
          10.132574081420898,
          -2.6024694442749023,
          7.190779685974121,
          -7.18558931350708,
          6.313681602478027,
          1.8959403038024902,
          -7.850183486938477,
          -3.5081281661987305,
          0.20260043442249298,
          5.136023998260498,
          10.725342750549316,
          -4.560554027557373,
          -0.4936599135398865,
          -4.550895690917969,
          0.3190004825592041,
          -8.757203102111816,
          0.5129736065864563,
          6.337601184844971,
          -0.9097215533256531,
          0.2871111035346985,
          0.6367226839065552,
          5.84476375579834,
          -11.295418739318848,
          10.606073379516602,
          -2.1165220737457275,
          0.9224424958229065,
          -1.928073525428772,
          6.069698810577393,
          0.9528985619544983,
          -4.490356922149658,
          5.484898090362549,
          1.5717365741729736,
          -9.737250328063965,
          4.095959186553955,
          -1.381614089012146,
          -0.003170706331729889,
          9.79748821258545,
          1.8361687660217285,
          -1.6268866062164307,
          -0.9689125418663025,
          5.577306270599365,
          -0.024204572662711143,
          -11.171968460083008,
          7.6687421798706055,
          -0.24031099677085876,
          5.005753040313721,
          -8.790117263793945,
          0.26930636167526245,
          -4.930957794189453,
          -7.096966743469238,
          -2.895756721496582,
          4.018693447113037,
          10.57707405090332,
          5.571158409118652,
          2.1334753036499023,
          -2.8274993896484375,
          -0.558029055595398,
          0.8959622979164124,
          -2.355372190475464,
          2.400712013244629,
          -0.15365175902843475,
          6.166079044342041,
          4.04224967956543,
          1.074211835861206,
          6.522679328918457,
          -2.6401078701019287,
          0.5829289555549622,
          -0.2580452561378479,
          2.306746482849121,
          0.18331092596054077,
          -1.9956384897232056,
          -8.385251998901367,
          2.0514514446258545,
          -0.7776412963867188,
          4.145789623260498,
          -1.1872081756591797,
          1.0214289426803589,
          3.368149518966675,
          -10.215963363647461,
          2.2466025352478027,
          -5.470829486846924,
          5.361451625823975,
          -7.824648380279541,
          1.1673858165740967,
          4.360614776611328,
          -5.045454978942871,
          -2.3398561477661133,
          -6.726692199707031,
          -5.222901821136475,
          -9.224122047424316,
          5.570201873779297,
          -1.24065101146698,
          -0.05240778625011444,
          -6.94478702545166,
          -5.572086334228516,
          4.8924641609191895,
          6.612994194030762,
          1.8979114294052124,
          5.834174633026123,
          -7.318080425262451,
          -0.051089320331811905,
          -5.283029079437256,
          -6.471908092498779,
          -2.147725820541382,
          1.0709997415542603,
          -4.11697244644165,
          6.175900459289551,
          4.369881629943848,
          -0.29328858852386475,
          3.6713297367095947,
          1.2880349159240723,
          1.4842960834503174,
          -6.479423999786377,
          4.703190326690674,
          0.24010583758354187,
          -1.2157745361328125,
          5.9603657722473145,
          -1.850771427154541,
          2.4656481742858887,
          3.9933712482452393,
          1.924009084701538,
          5.0116353034973145,
          -9.73861026763916,
          -6.147592067718506,
          -9.737153053283691,
          4.742120742797852,
          -1.4159331321716309,
          9.695331573486328,
          0.21960650384426117,
          1.6740171909332275,
          10.15452766418457,
          -7.347268581390381,
          -7.302760601043701,
          4.925413131713867,
          -11.191132545471191,
          -4.459490776062012,
          3.949296474456787,
          -9.704426765441895,
          1.819861888885498,
          6.340933799743652,
          -7.317172527313232,
          -0.6390553116798401,
          -0.29015135765075684,
          -2.9221296310424805,
          7.631163597106934,
          2.9234867095947266,
          -2.4070281982421875,
          6.607806205749512,
          -1.580553650856018,
          0.25280117988586426,
          6.158820152282715,
          9.151053428649902,
          1.9584808349609375,
          3.9433236122131348,
          11.443976402282715,
          -1.7142307758331299,
          10.67384147644043,
          1.3220503330230713,
          -6.566382884979248,
          2.0287773609161377,
          -7.070018768310547,
          10.845779418945312,
          -4.899296283721924,
          8.418390274047852,
          -6.308452606201172,
          6.015913963317871,
          0.28533533215522766,
          -0.07774630934000015,
          -7.962368488311768,
          -6.12949800491333,
          7.091808795928955,
          -9.419017791748047,
          -0.17896923422813416,
          -2.1413791179656982
         ]
        }
       ],
       "layout": {
        "autosize": false,
        "height": 1500,
        "legend": {
         "title": {
          "text": "Language"
         }
        },
        "template": {
         "data": {
          "bar": [
           {
            "error_x": {
             "color": "#2a3f5f"
            },
            "error_y": {
             "color": "#2a3f5f"
            },
            "marker": {
             "line": {
              "color": "#E5ECF6",
              "width": 0.5
             },
             "pattern": {
              "fillmode": "overlay",
              "size": 10,
              "solidity": 0.2
             }
            },
            "type": "bar"
           }
          ],
          "barpolar": [
           {
            "marker": {
             "line": {
              "color": "#E5ECF6",
              "width": 0.5
             },
             "pattern": {
              "fillmode": "overlay",
              "size": 10,
              "solidity": 0.2
             }
            },
            "type": "barpolar"
           }
          ],
          "carpet": [
           {
            "aaxis": {
             "endlinecolor": "#2a3f5f",
             "gridcolor": "white",
             "linecolor": "white",
             "minorgridcolor": "white",
             "startlinecolor": "#2a3f5f"
            },
            "baxis": {
             "endlinecolor": "#2a3f5f",
             "gridcolor": "white",
             "linecolor": "white",
             "minorgridcolor": "white",
             "startlinecolor": "#2a3f5f"
            },
            "type": "carpet"
           }
          ],
          "choropleth": [
           {
            "colorbar": {
             "outlinewidth": 0,
             "ticks": ""
            },
            "type": "choropleth"
           }
          ],
          "contour": [
           {
            "colorbar": {
             "outlinewidth": 0,
             "ticks": ""
            },
            "colorscale": [
             [
              0,
              "#0d0887"
             ],
             [
              0.1111111111111111,
              "#46039f"
             ],
             [
              0.2222222222222222,
              "#7201a8"
             ],
             [
              0.3333333333333333,
              "#9c179e"
             ],
             [
              0.4444444444444444,
              "#bd3786"
             ],
             [
              0.5555555555555556,
              "#d8576b"
             ],
             [
              0.6666666666666666,
              "#ed7953"
             ],
             [
              0.7777777777777778,
              "#fb9f3a"
             ],
             [
              0.8888888888888888,
              "#fdca26"
             ],
             [
              1,
              "#f0f921"
             ]
            ],
            "type": "contour"
           }
          ],
          "contourcarpet": [
           {
            "colorbar": {
             "outlinewidth": 0,
             "ticks": ""
            },
            "type": "contourcarpet"
           }
          ],
          "heatmap": [
           {
            "colorbar": {
             "outlinewidth": 0,
             "ticks": ""
            },
            "colorscale": [
             [
              0,
              "#0d0887"
             ],
             [
              0.1111111111111111,
              "#46039f"
             ],
             [
              0.2222222222222222,
              "#7201a8"
             ],
             [
              0.3333333333333333,
              "#9c179e"
             ],
             [
              0.4444444444444444,
              "#bd3786"
             ],
             [
              0.5555555555555556,
              "#d8576b"
             ],
             [
              0.6666666666666666,
              "#ed7953"
             ],
             [
              0.7777777777777778,
              "#fb9f3a"
             ],
             [
              0.8888888888888888,
              "#fdca26"
             ],
             [
              1,
              "#f0f921"
             ]
            ],
            "type": "heatmap"
           }
          ],
          "heatmapgl": [
           {
            "colorbar": {
             "outlinewidth": 0,
             "ticks": ""
            },
            "colorscale": [
             [
              0,
              "#0d0887"
             ],
             [
              0.1111111111111111,
              "#46039f"
             ],
             [
              0.2222222222222222,
              "#7201a8"
             ],
             [
              0.3333333333333333,
              "#9c179e"
             ],
             [
              0.4444444444444444,
              "#bd3786"
             ],
             [
              0.5555555555555556,
              "#d8576b"
             ],
             [
              0.6666666666666666,
              "#ed7953"
             ],
             [
              0.7777777777777778,
              "#fb9f3a"
             ],
             [
              0.8888888888888888,
              "#fdca26"
             ],
             [
              1,
              "#f0f921"
             ]
            ],
            "type": "heatmapgl"
           }
          ],
          "histogram": [
           {
            "marker": {
             "pattern": {
              "fillmode": "overlay",
              "size": 10,
              "solidity": 0.2
             }
            },
            "type": "histogram"
           }
          ],
          "histogram2d": [
           {
            "colorbar": {
             "outlinewidth": 0,
             "ticks": ""
            },
            "colorscale": [
             [
              0,
              "#0d0887"
             ],
             [
              0.1111111111111111,
              "#46039f"
             ],
             [
              0.2222222222222222,
              "#7201a8"
             ],
             [
              0.3333333333333333,
              "#9c179e"
             ],
             [
              0.4444444444444444,
              "#bd3786"
             ],
             [
              0.5555555555555556,
              "#d8576b"
             ],
             [
              0.6666666666666666,
              "#ed7953"
             ],
             [
              0.7777777777777778,
              "#fb9f3a"
             ],
             [
              0.8888888888888888,
              "#fdca26"
             ],
             [
              1,
              "#f0f921"
             ]
            ],
            "type": "histogram2d"
           }
          ],
          "histogram2dcontour": [
           {
            "colorbar": {
             "outlinewidth": 0,
             "ticks": ""
            },
            "colorscale": [
             [
              0,
              "#0d0887"
             ],
             [
              0.1111111111111111,
              "#46039f"
             ],
             [
              0.2222222222222222,
              "#7201a8"
             ],
             [
              0.3333333333333333,
              "#9c179e"
             ],
             [
              0.4444444444444444,
              "#bd3786"
             ],
             [
              0.5555555555555556,
              "#d8576b"
             ],
             [
              0.6666666666666666,
              "#ed7953"
             ],
             [
              0.7777777777777778,
              "#fb9f3a"
             ],
             [
              0.8888888888888888,
              "#fdca26"
             ],
             [
              1,
              "#f0f921"
             ]
            ],
            "type": "histogram2dcontour"
           }
          ],
          "mesh3d": [
           {
            "colorbar": {
             "outlinewidth": 0,
             "ticks": ""
            },
            "type": "mesh3d"
           }
          ],
          "parcoords": [
           {
            "line": {
             "colorbar": {
              "outlinewidth": 0,
              "ticks": ""
             }
            },
            "type": "parcoords"
           }
          ],
          "pie": [
           {
            "automargin": true,
            "type": "pie"
           }
          ],
          "scatter": [
           {
            "fillpattern": {
             "fillmode": "overlay",
             "size": 10,
             "solidity": 0.2
            },
            "type": "scatter"
           }
          ],
          "scatter3d": [
           {
            "line": {
             "colorbar": {
              "outlinewidth": 0,
              "ticks": ""
             }
            },
            "marker": {
             "colorbar": {
              "outlinewidth": 0,
              "ticks": ""
             }
            },
            "type": "scatter3d"
           }
          ],
          "scattercarpet": [
           {
            "marker": {
             "colorbar": {
              "outlinewidth": 0,
              "ticks": ""
             }
            },
            "type": "scattercarpet"
           }
          ],
          "scattergeo": [
           {
            "marker": {
             "colorbar": {
              "outlinewidth": 0,
              "ticks": ""
             }
            },
            "type": "scattergeo"
           }
          ],
          "scattergl": [
           {
            "marker": {
             "colorbar": {
              "outlinewidth": 0,
              "ticks": ""
             }
            },
            "type": "scattergl"
           }
          ],
          "scattermapbox": [
           {
            "marker": {
             "colorbar": {
              "outlinewidth": 0,
              "ticks": ""
             }
            },
            "type": "scattermapbox"
           }
          ],
          "scatterpolar": [
           {
            "marker": {
             "colorbar": {
              "outlinewidth": 0,
              "ticks": ""
             }
            },
            "type": "scatterpolar"
           }
          ],
          "scatterpolargl": [
           {
            "marker": {
             "colorbar": {
              "outlinewidth": 0,
              "ticks": ""
             }
            },
            "type": "scatterpolargl"
           }
          ],
          "scatterternary": [
           {
            "marker": {
             "colorbar": {
              "outlinewidth": 0,
              "ticks": ""
             }
            },
            "type": "scatterternary"
           }
          ],
          "surface": [
           {
            "colorbar": {
             "outlinewidth": 0,
             "ticks": ""
            },
            "colorscale": [
             [
              0,
              "#0d0887"
             ],
             [
              0.1111111111111111,
              "#46039f"
             ],
             [
              0.2222222222222222,
              "#7201a8"
             ],
             [
              0.3333333333333333,
              "#9c179e"
             ],
             [
              0.4444444444444444,
              "#bd3786"
             ],
             [
              0.5555555555555556,
              "#d8576b"
             ],
             [
              0.6666666666666666,
              "#ed7953"
             ],
             [
              0.7777777777777778,
              "#fb9f3a"
             ],
             [
              0.8888888888888888,
              "#fdca26"
             ],
             [
              1,
              "#f0f921"
             ]
            ],
            "type": "surface"
           }
          ],
          "table": [
           {
            "cells": {
             "fill": {
              "color": "#EBF0F8"
             },
             "line": {
              "color": "white"
             }
            },
            "header": {
             "fill": {
              "color": "#C8D4E3"
             },
             "line": {
              "color": "white"
             }
            },
            "type": "table"
           }
          ]
         },
         "layout": {
          "annotationdefaults": {
           "arrowcolor": "#2a3f5f",
           "arrowhead": 0,
           "arrowwidth": 1
          },
          "autotypenumbers": "strict",
          "coloraxis": {
           "colorbar": {
            "outlinewidth": 0,
            "ticks": ""
           }
          },
          "colorscale": {
           "diverging": [
            [
             0,
             "#8e0152"
            ],
            [
             0.1,
             "#c51b7d"
            ],
            [
             0.2,
             "#de77ae"
            ],
            [
             0.3,
             "#f1b6da"
            ],
            [
             0.4,
             "#fde0ef"
            ],
            [
             0.5,
             "#f7f7f7"
            ],
            [
             0.6,
             "#e6f5d0"
            ],
            [
             0.7,
             "#b8e186"
            ],
            [
             0.8,
             "#7fbc41"
            ],
            [
             0.9,
             "#4d9221"
            ],
            [
             1,
             "#276419"
            ]
           ],
           "sequential": [
            [
             0,
             "#0d0887"
            ],
            [
             0.1111111111111111,
             "#46039f"
            ],
            [
             0.2222222222222222,
             "#7201a8"
            ],
            [
             0.3333333333333333,
             "#9c179e"
            ],
            [
             0.4444444444444444,
             "#bd3786"
            ],
            [
             0.5555555555555556,
             "#d8576b"
            ],
            [
             0.6666666666666666,
             "#ed7953"
            ],
            [
             0.7777777777777778,
             "#fb9f3a"
            ],
            [
             0.8888888888888888,
             "#fdca26"
            ],
            [
             1,
             "#f0f921"
            ]
           ],
           "sequentialminus": [
            [
             0,
             "#0d0887"
            ],
            [
             0.1111111111111111,
             "#46039f"
            ],
            [
             0.2222222222222222,
             "#7201a8"
            ],
            [
             0.3333333333333333,
             "#9c179e"
            ],
            [
             0.4444444444444444,
             "#bd3786"
            ],
            [
             0.5555555555555556,
             "#d8576b"
            ],
            [
             0.6666666666666666,
             "#ed7953"
            ],
            [
             0.7777777777777778,
             "#fb9f3a"
            ],
            [
             0.8888888888888888,
             "#fdca26"
            ],
            [
             1,
             "#f0f921"
            ]
           ]
          },
          "colorway": [
           "#636efa",
           "#EF553B",
           "#00cc96",
           "#ab63fa",
           "#FFA15A",
           "#19d3f3",
           "#FF6692",
           "#B6E880",
           "#FF97FF",
           "#FECB52"
          ],
          "font": {
           "color": "#2a3f5f"
          },
          "geo": {
           "bgcolor": "white",
           "lakecolor": "white",
           "landcolor": "#E5ECF6",
           "showlakes": true,
           "showland": true,
           "subunitcolor": "white"
          },
          "hoverlabel": {
           "align": "left"
          },
          "hovermode": "closest",
          "mapbox": {
           "style": "light"
          },
          "paper_bgcolor": "white",
          "plot_bgcolor": "#E5ECF6",
          "polar": {
           "angularaxis": {
            "gridcolor": "white",
            "linecolor": "white",
            "ticks": ""
           },
           "bgcolor": "#E5ECF6",
           "radialaxis": {
            "gridcolor": "white",
            "linecolor": "white",
            "ticks": ""
           }
          },
          "scene": {
           "xaxis": {
            "backgroundcolor": "#E5ECF6",
            "gridcolor": "white",
            "gridwidth": 2,
            "linecolor": "white",
            "showbackground": true,
            "ticks": "",
            "zerolinecolor": "white"
           },
           "yaxis": {
            "backgroundcolor": "#E5ECF6",
            "gridcolor": "white",
            "gridwidth": 2,
            "linecolor": "white",
            "showbackground": true,
            "ticks": "",
            "zerolinecolor": "white"
           },
           "zaxis": {
            "backgroundcolor": "#E5ECF6",
            "gridcolor": "white",
            "gridwidth": 2,
            "linecolor": "white",
            "showbackground": true,
            "ticks": "",
            "zerolinecolor": "white"
           }
          },
          "shapedefaults": {
           "line": {
            "color": "#2a3f5f"
           }
          },
          "ternary": {
           "aaxis": {
            "gridcolor": "white",
            "linecolor": "white",
            "ticks": ""
           },
           "baxis": {
            "gridcolor": "white",
            "linecolor": "white",
            "ticks": ""
           },
           "bgcolor": "#E5ECF6",
           "caxis": {
            "gridcolor": "white",
            "linecolor": "white",
            "ticks": ""
           }
          },
          "title": {
           "x": 0.05
          },
          "xaxis": {
           "automargin": true,
           "gridcolor": "white",
           "linecolor": "white",
           "ticks": "",
           "title": {
            "standoff": 15
           },
           "zerolinecolor": "white",
           "zerolinewidth": 2
          },
          "yaxis": {
           "automargin": true,
           "gridcolor": "white",
           "linecolor": "white",
           "ticks": "",
           "title": {
            "standoff": 15
           },
           "zerolinecolor": "white",
           "zerolinewidth": 2
          }
         }
        },
        "width": 1500,
        "xaxis": {
         "title": {
          "text": "PCA1"
         }
        },
        "yaxis": {
         "title": {
          "text": "PCA2"
         }
        }
       }
      }
     },
     "metadata": {},
     "output_type": "display_data"
    }
   ],
   "source": [
    "import plotly.graph_objects as go\n",
    "\n",
    "color_map = {'en': 'red', 'es': 'orange'}\n",
    "lang = data['language'].map(color_map)\n",
    "\n",
    "fig = go.Figure()\n",
    "\n",
    "for lang_value, lang_color in color_map.items():\n",
    "    lang_data = data[data['language'] == lang_value]\n",
    "    fig.add_trace(go.Scatter(\n",
    "        x=lang_data['PC1'],\n",
    "        y=lang_data['PC2'],\n",
    "        mode='markers',\n",
    "        marker=dict(color=lang_color, size=10),\n",
    "        text=lang_data['text'],\n",
    "        name=lang_value,\n",
    "    ))\n",
    "\n",
    "fig.update_layout(\n",
    "    autosize=False,\n",
    "    width=1500,\n",
    "    height=1500,\n",
    "    legend=dict(title='Language'),\n",
    "    xaxis_title='PCA1',\n",
    "    yaxis_title='PCA2'\n",
    ")\n",
    "\n",
    "fig.show()\n"
   ]
  },
  {
   "cell_type": "code",
   "execution_count": null,
   "id": "c517eb97",
   "metadata": {},
   "outputs": [],
   "source": []
  }
 ],
 "metadata": {
  "kernelspec": {
   "display_name": "Python 3 (ipykernel)",
   "language": "python",
   "name": "python3"
  },
  "language_info": {
   "codemirror_mode": {
    "name": "ipython",
    "version": 3
   },
   "file_extension": ".py",
   "mimetype": "text/x-python",
   "name": "python",
   "nbconvert_exporter": "python",
   "pygments_lexer": "ipython3",
   "version": "3.9.6"
  }
 },
 "nbformat": 4,
 "nbformat_minor": 5
}
