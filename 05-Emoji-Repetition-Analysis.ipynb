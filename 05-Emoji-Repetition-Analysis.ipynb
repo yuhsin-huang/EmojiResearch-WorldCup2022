{
 "cells": [
  {
   "cell_type": "markdown",
   "id": "2d4ef972",
   "metadata": {},
   "source": [
    "## \"Repeated emoji\" refers to instance where the same emoji is used multiple times consecutively within a coment. For example, 😀😀😀. This do not count: 😀🥲😀."
   ]
  },
  {
   "cell_type": "code",
   "execution_count": 1,
   "id": "ed8d848d",
   "metadata": {},
   "outputs": [],
   "source": [
    "import pandas as pd\n",
    "from langdetect import detect\n",
    "import matplotlib.pyplot as plt\n",
    "import emoji\n",
    "import seaborn as sns\n",
    "import warnings\n",
    "import numpy as np"
   ]
  },
  {
   "cell_type": "code",
   "execution_count": 2,
   "id": "4cb52cb7",
   "metadata": {},
   "outputs": [],
   "source": [
    "warnings.filterwarnings('ignore')"
   ]
  },
  {
   "cell_type": "code",
   "execution_count": 3,
   "id": "c7ab8226",
   "metadata": {},
   "outputs": [],
   "source": [
    "df = pd.read_csv(\"Data/cleaned_by_language.csv\")"
   ]
  },
  {
   "cell_type": "code",
   "execution_count": 4,
   "id": "03e235f9",
   "metadata": {},
   "outputs": [],
   "source": [
    "en_df = df[df['language'] == 'en']\n",
    "es_df = df[df['language'] == 'es']"
   ]
  },
  {
   "cell_type": "markdown",
   "id": "72ab44ca",
   "metadata": {},
   "source": [
    "## Maximum Repetition Count of Each Emoji: the highest number of times a specific emoji  is repeated within a comment"
   ]
  },
  {
   "cell_type": "code",
   "execution_count": 5,
   "id": "8089c06b",
   "metadata": {},
   "outputs": [],
   "source": [
    "def get_repetition_count(lang_df):\n",
    "    repetition = {}\n",
    "    repetition_list = lang_df['emoji repetition list'].tolist()\n",
    "    new_repetition_list = []\n",
    "    \n",
    "    for i in repetition_list:\n",
    "        if i != '[]':\n",
    "            new_repetition_list.append(i[2:-2].split(\"', '\"))\n",
    "    \n",
    "    tnew_repetition_list = []\n",
    "    for i in new_repetition_list:\n",
    "        tnew_repetition_list += i\n",
    "    \n",
    "    for ele in tnew_repetition_list:\n",
    "        repetition[ele] = repetition.setdefault(ele, 0) + 1\n",
    "        \n",
    "    emoji_repetition_arr = []\n",
    "    for key, value in repetition.items():\n",
    "        emoji_repetition_arr.append([key, value])\n",
    "        \n",
    "    emoji_repetition_df = pd.DataFrame(emoji_repetition_arr, columns=['emoji repetition','count'])\n",
    "    emoji_repetition_df = emoji_repetition_df.sort_values(by='count', ascending = False)\n",
    "    \n",
    "    return emoji_repetition_df"
   ]
  },
  {
   "cell_type": "code",
   "execution_count": 6,
   "id": "085a950c",
   "metadata": {},
   "outputs": [],
   "source": [
    "en_df_repetition_count = get_repetition_count(en_df)\n",
    "es_df_repetition_count = get_repetition_count(es_df)"
   ]
  },
  {
   "cell_type": "code",
   "execution_count": 7,
   "id": "c5b08475",
   "metadata": {},
   "outputs": [],
   "source": [
    "def get_emoji(df):\n",
    "    return df['emoji repetition'][0]\n",
    "en_df_repetition_count['emoji'] = en_df_repetition_count.apply(get_emoji, axis=1)\n",
    "es_df_repetition_count['emoji'] = es_df_repetition_count.apply(get_emoji, axis=1)\n",
    "\n",
    "def get_repetition(df):\n",
    "    return len(df['emoji repetition'])\n",
    "en_df_repetition_count['repetition'] = en_df_repetition_count.apply(get_repetition, axis=1)\n",
    "es_df_repetition_count['repetition'] = es_df_repetition_count.apply(get_repetition, axis=1)"
   ]
  },
  {
   "cell_type": "code",
   "execution_count": 8,
   "id": "a9d487d9",
   "metadata": {},
   "outputs": [],
   "source": [
    "es_max_emoji_repetition = es_df_repetition_count.groupby('emoji')['repetition'].max()\n",
    "es_max_emoji_repetition = es_max_emoji_repetition.drop('\\\\')\n",
    "\n",
    "en_max_emoji_repetition = en_df_repetition_count.groupby('emoji')['repetition'].max()\n",
    "en_max_emoji_repetition = en_max_emoji_repetition.drop('\\\\')"
   ]
  },
  {
   "cell_type": "code",
   "execution_count": 10,
   "id": "61a0da4e",
   "metadata": {},
   "outputs": [
    {
     "data": {
      "image/png": "[encoded data removed]",
      "text/plain": [
       "<Figure size 864x432 with 1 Axes>"
      ]
     },
     "metadata": {
      "needs_background": "light"
     },
     "output_type": "display_data"
    },
    {
     "data": {
      "text/plain": [
       "Index(['😂', '🤣', '🙄', '🔥', '🙌', '👎', '😍', '😡', '😅', '👏', '😠', '🙏', '🥱', '💯',\n",
       "       '😮', '😢', '😉', '💀', '🥰', '🌹'],\n",
       "      dtype='object', name='emoji')"
      ]
     },
     "execution_count": 10,
     "metadata": {},
     "output_type": "execute_result"
    }
   ],
   "source": [
    "en_max_emoji_repetition = en_max_emoji_repetition.sort_values(ascending=False)\n",
    "en_emojis = en_max_emoji_repetition.index\n",
    "en_max_repetition = en_max_emoji_repetition.values\n",
    "log_en_max_repetition = np.log(en_max_repetition)\n",
    "\n",
    "plt.figure(figsize=(12, 6))\n",
    "plt.bar(en_emojis, log_en_max_repetition)\n",
    "plt.xlabel('Emoji')\n",
    "# plt.yscale('log')\n",
    "plt.ylabel('Maximum Repetition Count')\n",
    "plt.title('Log - Maximum Repetition Count for Each Emoji (English)')\n",
    "plt.xticks(rotation=90)\n",
    "plt.tight_layout()\n",
    "plt.show()\n",
    "en_emojis"
   ]
  },
  {
   "cell_type": "code",
   "execution_count": 11,
   "id": "36e81278",
   "metadata": {},
   "outputs": [
    {
     "data": {
      "image/png": "[encoded data removed]",
      "text/plain": [
       "<Figure size 864x432 with 1 Axes>"
      ]
     },
     "metadata": {
      "needs_background": "light"
     },
     "output_type": "display_data"
    },
    {
     "data": {
      "text/plain": [
       "Index(['😂', '🙌', '👏', '🔥', '🙏', '💚', '😍', '😋', '🥳', '😭', '💰', '😇', '🤬', '🤔',\n",
       "       '😡', '🥺', '💜', '💙', '💔', '💀', '❤', '💪', '😥', '😨', '😹', '👎', '👋', '🤣',\n",
       "       '🤩', '🐐', '⭐', '☹'],\n",
       "      dtype='object', name='emoji')"
      ]
     },
     "execution_count": 11,
     "metadata": {},
     "output_type": "execute_result"
    }
   ],
   "source": [
    "es_max_emoji_repetition = es_max_emoji_repetition.sort_values(ascending=False)\n",
    "es_emojis = es_max_emoji_repetition.index\n",
    "es_max_repetition = es_max_emoji_repetition.values\n",
    "log_es_max_repetition = np.log(es_max_repetition)\n",
    "\n",
    "plt.figure(figsize=(12, 6))\n",
    "plt.bar(es_emojis, log_es_max_repetition)\n",
    "plt.xlabel('Emoji')\n",
    "# plt.yscale('log')\n",
    "plt.ylabel('Maximum Repetition Count')\n",
    "plt.title('Log - Maximum Repetition Count for Each Emoji (Spanish)')\n",
    "plt.xticks(rotation=90)\n",
    "plt.tight_layout()\n",
    "plt.show()\n",
    "es_emojis"
   ]
  },
  {
   "cell_type": "code",
   "execution_count": 12,
   "id": "856e0dd1",
   "metadata": {},
   "outputs": [
    {
     "data": {
      "image/png": "[encoded data removed]",
      "text/plain": [
       "<Figure size 576x432 with 1 Axes>"
      ]
     },
     "metadata": {
      "needs_background": "light"
     },
     "output_type": "display_data"
    },
    {
     "data": {
      "text/plain": [
       "2     🙄\n",
       "1     🤣\n",
       "8     😅\n",
       "10    😠\n",
       "12    🥱\n",
       "13    💯\n",
       "0     😂\n",
       "19    🌹\n",
       "18    🥰\n",
       "16    😉\n",
       "15    😢\n",
       "14    😮\n",
       "5     👎\n",
       "7     😡\n",
       "3     🔥\n",
       "6     😍\n",
       "9     👏\n",
       "17    💀\n",
       "11    🙏\n",
       "4     🙌\n",
       "37    👋\n",
       "34    😥\n",
       "35    😨\n",
       "36    😹\n",
       "40    ⭐\n",
       "38    🤩\n",
       "39    🐐\n",
       "32    ❤\n",
       "33    💪\n",
       "41    ☹\n",
       "30    💙\n",
       "31    💔\n",
       "29    💜\n",
       "28    🥺\n",
       "27    🤔\n",
       "26    🤬\n",
       "25    😇\n",
       "24    💰\n",
       "23    😭\n",
       "22    🥳\n",
       "20    💚\n",
       "21    😋\n",
       "Name: Emoji, dtype: object"
      ]
     },
     "execution_count": 12,
     "metadata": {},
     "output_type": "execute_result"
    }
   ],
   "source": [
    "# Get the unique union of emojis from both data frames\n",
    "emojis_union = sorted(set(en_max_emoji_repetition.index) | set(es_max_emoji_repetition.index))\n",
    "\n",
    "# Create DataFrames from the data\n",
    "en_df = pd.DataFrame({'Emoji': en_max_emoji_repetition.index, 'Max Repetition (English)': np.log(en_max_emoji_repetition.values)})\n",
    "es_df = pd.DataFrame({'Emoji': es_max_emoji_repetition.index, 'Max Repetition (Spanish)': np.log(es_max_emoji_repetition.values)})\n",
    "\n",
    "# Merge DataFrames on 'Emoji' to ensure data alignment\n",
    "merged_df = pd.merge(en_df, es_df, on='Emoji', how='outer')\n",
    "merged_df = merged_df.fillna(0) \n",
    "\n",
    "merged_df['Max Repetition Difference'] = merged_df['Max Repetition (English)'].sub(merged_df['Max Repetition (Spanish)'], axis = 0) \n",
    "merged_df = merged_df.sort_values(by='Max Repetition Difference', ascending=False)\n",
    "merged_df\n",
    "\n",
    "\n",
    "# Create a bar chart on Max Repetition Difference\n",
    "plt.figure(figsize=(8, 6))\n",
    "plt.bar(merged_df['Emoji'], merged_df['Max Repetition Difference'], color=['g' if x >= 0 else 'r' for x in merged_df['Max Repetition Difference']])\n",
    "plt.xlabel('Emoji')\n",
    "plt.ylabel('Max Repetition Difference')\n",
    "plt.title(\"Logarithmic Max Repetition Difference: English - Spanish (Emojis)\")\n",
    "plt.axhline(0, color='black', linewidth=0.5)  # Add a horizontal line at y=0\n",
    "plt.xticks(rotation=45)  # Rotate the x-axis labels for better readability\n",
    "plt.tight_layout()\n",
    "plt.show()\n",
    "merged_df['Emoji']\n"
   ]
  },
  {
   "cell_type": "markdown",
   "id": "03f24405",
   "metadata": {},
   "source": [
    "## Results:\n",
    "### Top 11 in English: 😂🤣🙄🔥🙌👎😍😡😅👏😠\n",
    "### Top 11 in Spanish: 😂🙌👏🔥🙏💚😍😋🥳😭💰\n",
    "### 😂🔥🙌😍👏 are repeated more times/comment in both languages\n",
    "###   🙄🤣😅😠🥱💯are repeated more times/comment, while 💰😭🥳💚😋 are repeated more times/comment in Spanish\n",
    "### Most emojis are repeated 2-5 times in one comment\n"
   ]
  },
  {
   "cell_type": "markdown",
   "id": "1ac6b7dc",
   "metadata": {},
   "source": [
    "# Emoji Repetition Frequency: how frequently each emoji is repeated in each dataset"
   ]
  },
  {
   "cell_type": "code",
   "execution_count": 13,
   "id": "4aee40d7",
   "metadata": {},
   "outputs": [],
   "source": [
    "es_emoji_repetition_count = es_df_repetition_count.groupby('emoji')['count'].sum()\n",
    "en_emoji_repetition_count = en_df_repetition_count.groupby('emoji')['count'].sum()"
   ]
  },
  {
   "cell_type": "code",
   "execution_count": 14,
   "id": "f895741b",
   "metadata": {},
   "outputs": [
    {
     "data": {
      "image/png": "[encoded data removed]",
      "text/plain": [
       "<Figure size 864x432 with 1 Axes>"
      ]
     },
     "metadata": {
      "needs_background": "light"
     },
     "output_type": "display_data"
    },
    {
     "data": {
      "text/plain": [
       "Index(['😂', '👏', '🤣', '🔥', '😍', '😢', '👎', '🙌', '😮'], dtype='object', name='emoji')"
      ]
     },
     "execution_count": 14,
     "metadata": {},
     "output_type": "execute_result"
    }
   ],
   "source": [
    "en_df_repetition_count = en_emoji_repetition_count.sort_values(ascending=False)\n",
    "en_emojis2 = en_df_repetition_count.index\n",
    "en_repetition_count = en_df_repetition_count.values\n",
    "log_en_repetition_count = np.log(en_repetition_count)\n",
    "\n",
    "plt.figure(figsize=(12, 6))\n",
    "plt.bar(en_emojis2, log_en_repetition_count)\n",
    "plt.xlabel('Emoji')\n",
    "plt.ylabel('Repetition Count')\n",
    "plt.title('Log - Repetition Count for Each Emoji (English)')\n",
    "plt.xticks(rotation=90)\n",
    "plt.tight_layout()\n",
    "plt.show()\n",
    "en_emojis2[:9]"
   ]
  },
  {
   "cell_type": "code",
   "execution_count": 15,
   "id": "4871d3fc",
   "metadata": {},
   "outputs": [
    {
     "data": {
      "image/png": "[encoded data removed]",
      "text/plain": [
       "<Figure size 864x432 with 1 Axes>"
      ]
     },
     "metadata": {
      "needs_background": "light"
     },
     "output_type": "display_data"
    },
    {
     "data": {
      "text/plain": [
       "Index(['😂', '👏', '🔥', '😍', '🙌', '🤣', '😭', '💔'], dtype='object', name='emoji')"
      ]
     },
     "execution_count": 15,
     "metadata": {},
     "output_type": "execute_result"
    }
   ],
   "source": [
    "es_df_repetition_count = es_emoji_repetition_count.sort_values(ascending=False)\n",
    "es_emojis2 = es_df_repetition_count.index\n",
    "es_repetition_count = es_df_repetition_count.values\n",
    "log_es_repetition_count = np.log(es_repetition_count)\n",
    "\n",
    "plt.figure(figsize=(12, 6))\n",
    "plt.bar(es_emojis2, log_es_repetition_count)\n",
    "plt.xlabel('Emoji')\n",
    "plt.ylabel('Repetition Count')\n",
    "plt.title('Log - Repetition Count for Each Emoji (Spanish)')\n",
    "plt.xticks(rotation=90)\n",
    "plt.tight_layout()\n",
    "plt.show()\n",
    "es_emojis2[:8]"
   ]
  },
  {
   "cell_type": "code",
   "execution_count": 16,
   "id": "d07e5563",
   "metadata": {},
   "outputs": [
    {
     "data": {
      "image/png": "[encoded data removed]",
      "text/plain": [
       "<Figure size 576x432 with 1 Axes>"
      ]
     },
     "metadata": {
      "needs_background": "light"
     },
     "output_type": "display_data"
    },
    {
     "data": {
      "text/plain": [
       "2     🤣\n",
       "5     😢\n",
       "6     👎\n",
       "8     😮\n",
       "0     😂\n",
       "33    💰\n",
       "26    😋\n",
       "27    😹\n",
       "28    😨\n",
       "29    😥\n",
       "30    🥳\n",
       "31    😇\n",
       "32    ☹\n",
       "36    💚\n",
       "34    💪\n",
       "35    💜\n",
       "24    🤔\n",
       "37    💙\n",
       "38    👋\n",
       "39    🐐\n",
       "40    ⭐\n",
       "41    ❤\n",
       "25    🤬\n",
       "42    🥺\n",
       "23    🤩\n",
       "15    🌹\n",
       "4     😍\n",
       "9     🥰\n",
       "10    🙏\n",
       "11    🙄\n",
       "12    \\\n",
       "13    😡\n",
       "14    😠\n",
       "16    😉\n",
       "17    😅\n",
       "18    💯\n",
       "19    💀\n",
       "20    🥱\n",
       "1     👏\n",
       "3     🔥\n",
       "22    💔\n",
       "7     🙌\n",
       "21    😭\n",
       "Name: Emoji, dtype: object"
      ]
     },
     "execution_count": 16,
     "metadata": {},
     "output_type": "execute_result"
    }
   ],
   "source": [
    "# Get the unique union of emojis from both data frames\n",
    "emojis_union2 = sorted(set(en_emojis2) | set(es_emojis2))\n",
    "\n",
    "# Create DataFrames from the data\n",
    "en_df2 = pd.DataFrame({'Emoji': en_df_repetition_count.index, 'Repetition Count (English)': np.log(en_df_repetition_count.values)})\n",
    "es_df2 = pd.DataFrame({'Emoji': es_df_repetition_count.index, 'Repetition Count (Spanish)': np.log(es_df_repetition_count.values)})\n",
    "\n",
    "# Merge DataFrames on 'Emoji' to ensure data alignment\n",
    "merged_df2 = pd.merge(en_df2, es_df2, on='Emoji', how='outer')\n",
    "merged_df2 = merged_df2.fillna(0) \n",
    "\n",
    "merged_df2['Count Difference'] = merged_df2['Repetition Count (English)'].sub(merged_df2['Repetition Count (Spanish)'], axis = 0) \n",
    "merged_df2 = merged_df2.sort_values(by='Count Difference', ascending=False)\n",
    "# merged_df2 = merged_df2[merged_df2['Count Difference'] != 0]\n",
    "\n",
    "\n",
    "# Create a bar chart on Count Difference\n",
    "plt.figure(figsize=(8, 6))\n",
    "plt.bar(merged_df2['Emoji'], merged_df2['Count Difference'], color=['g' if x >= 0 else 'r' for x in merged_df2['Count Difference']])\n",
    "plt.xlabel('Emoji')\n",
    "plt.ylabel('Count Difference')\n",
    "plt.title(\"Logarithmic Count Difference: English - Spanish (Emojis)\")\n",
    "plt.axhline(0, color='black', linewidth=0.5)  # Add a horizontal line at y=0\n",
    "plt.xticks(rotation=45)  # Rotate the x-axis labels for better readability\n",
    "plt.tight_layout()\n",
    "plt.show()\n",
    "merged_df2['Emoji']\n"
   ]
  },
  {
   "cell_type": "markdown",
   "id": "c32ec894",
   "metadata": {},
   "source": [
    "## Results:\n",
    "### Top 5 in English: 😂👏🤣🔥😍\n",
    "### Top 5 in Spanish: 😂👏🔥😍🙌\n",
    "### 😂👏🔥😍 are repeated a lot in both languages\n",
    "###   🤣😢👎😮 are repeated more in English, while 🔥💔🙌😭😂 are repeated more in Spanish\n"
   ]
  }
 ],
 "metadata": {
  "kernelspec": {
   "display_name": "Python 3 (ipykernel)",
   "language": "python",
   "name": "python3"
  },
  "language_info": {
   "codemirror_mode": {
    "name": "ipython",
    "version": 3
   },
   "file_extension": ".py",
   "mimetype": "text/x-python",
   "name": "python",
   "nbconvert_exporter": "python",
   "pygments_lexer": "ipython3",
   "version": "3.9.12"
  }
 },
 "nbformat": 4,
 "nbformat_minor": 5
}
