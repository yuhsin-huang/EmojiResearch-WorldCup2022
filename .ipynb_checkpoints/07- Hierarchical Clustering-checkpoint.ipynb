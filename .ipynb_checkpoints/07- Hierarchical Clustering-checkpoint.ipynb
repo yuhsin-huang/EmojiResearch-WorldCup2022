{
 "cells": [
  {
   "cell_type": "markdown",
   "id": "6b494cfa",
   "metadata": {},
   "source": [
    "## Imports 📦"
   ]
  },
  {
   "cell_type": "code",
   "execution_count": 1,
   "id": "beeab6c1",
   "metadata": {},
   "outputs": [],
   "source": [
    "import pandas as pd\n",
    "import numpy as np\n",
    "import emoji\n",
    "import warnings\n",
    "import nltk\n",
    "from nltk.corpus import stopwords    \n",
    "import string\n",
    "import statistics"
   ]
  },
  {
   "cell_type": "code",
   "execution_count": 2,
   "id": "5c3ba945",
   "metadata": {},
   "outputs": [],
   "source": [
    "from matplotlib import pyplot as plt"
   ]
  },
  {
   "cell_type": "code",
   "execution_count": 3,
   "id": "599f2b59",
   "metadata": {},
   "outputs": [],
   "source": [
    "warnings.filterwarnings('ignore')"
   ]
  },
  {
   "cell_type": "markdown",
   "id": "01ffdf04",
   "metadata": {},
   "source": [
    "## Load Data 💿"
   ]
  },
  {
   "cell_type": "code",
   "execution_count": 4,
   "id": "f7ec9c23",
   "metadata": {},
   "outputs": [],
   "source": [
    "df = pd.read_csv(\"Data/cleaned_by_language.csv\")"
   ]
  },
  {
   "cell_type": "code",
   "execution_count": 5,
   "id": "5643dbd1",
   "metadata": {},
   "outputs": [],
   "source": [
    "en_df = df[df['language'] == 'en']\n",
    "es_df = df[df['language'] == 'es']"
   ]
  },
  {
   "cell_type": "code",
   "execution_count": 6,
   "id": "61f904a2",
   "metadata": {},
   "outputs": [],
   "source": [
    "en_comment = en_df['text only'].to_list()\n",
    "es_comment = es_df['text only'].to_list()\n",
    "en_comment_with_emoji = en_df['text'].to_list()\n",
    "es_comment_with_emoji = es_df['text'].to_list()"
   ]
  },
  {
   "cell_type": "code",
   "execution_count": 7,
   "id": "2e590f9c",
   "metadata": {},
   "outputs": [
    {
     "name": "stderr",
     "output_type": "stream",
     "text": [
      "[nltk_data] Downloading package punkt to\n",
      "[nltk_data]     /Users/yuhsinhuang/nltk_data...\n",
      "[nltk_data]   Package punkt is already up-to-date!\n",
      "[nltk_data] Downloading package stopwords to\n",
      "[nltk_data]     /Users/yuhsinhuang/nltk_data...\n",
      "[nltk_data]   Package stopwords is already up-to-date!\n"
     ]
    }
   ],
   "source": [
    "nltk.download('punkt')\n",
    "nltk.download('stopwords')\n",
    "en_stop_words = set(stopwords.words('english'))\n",
    "es_stop_words = set(stopwords.words('spanish'))\n",
    "\n",
    "def filter_comments(comment_list, stop_words):\n",
    "    filtered_comments = []\n",
    "\n",
    "    for comment in comment_list:\n",
    "        # remove word starts with @\n",
    "        comment = \" \".join(filter(lambda x:x[0]!='@', comment.split()))\n",
    "    \n",
    "        # remove punctuations\n",
    "        comment = comment.translate(str.maketrans('', '', string.punctuation))\n",
    "\n",
    "        # remove stopwords\n",
    "        words = nltk.word_tokenize(comment)\n",
    "        filtered_comment = [word for word in words if word.lower() not in stop_words]\n",
    "        filtered_comment = ' '.join(filtered_comment)\n",
    "        filtered_comment = comment\n",
    "        filtered_comments.append(filtered_comment)\n",
    "    return filtered_comments"
   ]
  },
  {
   "cell_type": "code",
   "execution_count": 8,
   "id": "e40fcfb6",
   "metadata": {},
   "outputs": [],
   "source": [
    "en_filtered_comments = filter_comments(en_comment, en_stop_words)\n",
    "es_filtered_comments = filter_comments(es_comment, es_stop_words)\n",
    "en_with_emoji_filtered_comments = filter_comments(en_comment_with_emoji, en_stop_words)\n",
    "es_with_emoji_filtered_comments = filter_comments(es_comment_with_emoji, es_stop_words)"
   ]
  },
  {
   "cell_type": "markdown",
   "id": "4a0bbac5",
   "metadata": {},
   "source": [
    "## Text Embeddings using LASER - this pretrained model supports cross-lingual tasks and embeds in setence-level"
   ]
  },
  {
   "cell_type": "code",
   "execution_count": 9,
   "id": "8f42c3c5",
   "metadata": {},
   "outputs": [
    {
     "name": "stdout",
     "output_type": "stream",
     "text": [
      "Requirement already satisfied: laserembeddings in /opt/anaconda3/lib/python3.9/site-packages (1.1.2)\n",
      "Requirement already satisfied: subword-nmt<0.4.0,>=0.3.6 in /opt/anaconda3/lib/python3.9/site-packages (from laserembeddings) (0.3.8)\n",
      "Requirement already satisfied: sacremoses==0.0.35 in /opt/anaconda3/lib/python3.9/site-packages (from laserembeddings) (0.0.35)\n",
      "Requirement already satisfied: torch<2.0.0,>=1.0.1.post2 in /opt/anaconda3/lib/python3.9/site-packages (from laserembeddings) (1.11.0)\n",
      "Requirement already satisfied: transliterate==1.10.2 in /opt/anaconda3/lib/python3.9/site-packages (from laserembeddings) (1.10.2)\n",
      "Requirement already satisfied: numpy<2.0.0,>=1.15.4 in /opt/anaconda3/lib/python3.9/site-packages (from laserembeddings) (1.21.5)\n",
      "Requirement already satisfied: click in /opt/anaconda3/lib/python3.9/site-packages (from sacremoses==0.0.35->laserembeddings) (8.1.7)\n",
      "Requirement already satisfied: six in /opt/anaconda3/lib/python3.9/site-packages (from sacremoses==0.0.35->laserembeddings) (1.16.0)\n",
      "Requirement already satisfied: joblib in /opt/anaconda3/lib/python3.9/site-packages (from sacremoses==0.0.35->laserembeddings) (1.1.0)\n",
      "Requirement already satisfied: tqdm in /opt/anaconda3/lib/python3.9/site-packages (from sacremoses==0.0.35->laserembeddings) (4.63.0)\n",
      "Requirement already satisfied: mock in /opt/anaconda3/lib/python3.9/site-packages (from subword-nmt<0.4.0,>=0.3.6->laserembeddings) (4.0.3)\n",
      "Requirement already satisfied: typing-extensions in /opt/anaconda3/lib/python3.9/site-packages (from torch<2.0.0,>=1.0.1.post2->laserembeddings) (4.8.0)\n",
      "Note: you may need to restart the kernel to use updated packages.\n"
     ]
    }
   ],
   "source": [
    "pip install laserembeddings"
   ]
  },
  {
   "cell_type": "code",
   "execution_count": 10,
   "id": "76baf3ec",
   "metadata": {},
   "outputs": [],
   "source": [
    "# run this in terminal first: python -m laserembeddings download-models\n",
    "from laserembeddings import Laser\n",
    "\n",
    "laser = Laser()\n",
    "en_text_array = laser.embed_sentences(en_filtered_comments, lang='en')\n",
    "es_text_array = laser.embed_sentences(es_filtered_comments, lang='es')\n",
    "en_array = laser.embed_sentences(en_with_emoji_filtered_comments, lang='en')\n",
    "es_array = laser.embed_sentences(es_with_emoji_filtered_comments, lang='es')"
   ]
  },
  {
   "cell_type": "code",
   "execution_count": 11,
   "id": "20bb8e62",
   "metadata": {},
   "outputs": [
    {
     "data": {
      "text/plain": [
       "(280, 1024)"
      ]
     },
     "execution_count": 11,
     "metadata": {},
     "output_type": "execute_result"
    }
   ],
   "source": [
    "en_text_array.shape"
   ]
  },
  {
   "cell_type": "markdown",
   "id": "8fa49700",
   "metadata": {},
   "source": [
    "## Emoji Embeddings using Emoji2Vec"
   ]
  },
  {
   "cell_type": "code",
   "execution_count": 12,
   "id": "34140b1b",
   "metadata": {},
   "outputs": [],
   "source": [
    "from gensim.models import KeyedVectors\n",
    "\n",
    "# Load pretrained emoji embeddings\n",
    "emoji_model = KeyedVectors.load_word2vec_format('emoji2vec.bin', binary=True)\n",
    "\n",
    "def emoji_embedding(df):\n",
    "    emoji_list_list = df['emoji list'].to_list()\n",
    "\n",
    "    # Initialize a list to store emoji embeddings\n",
    "    emoji_embedding = []\n",
    "\n",
    "    for emoji_list in emoji_list_list:\n",
    "        emoji_list_embedding = []  # Initialize a list for embeddings of each emoji list\n",
    "        for emoji in emoji_list:\n",
    "            try:\n",
    "                emoji_list_embedding.append(emoji_model[emoji])\n",
    "                \n",
    "            except KeyError:\n",
    "                pass\n",
    "\n",
    "            # if len(emoji_list_embedding) != 0:\n",
    "            # emoji_list_embedding = np.concatenate(emoji_list_embedding, axis=0)\n",
    "        emoji_embedding.append(emoji_list_embedding)\n",
    "    \n",
    "    # average\n",
    "    res = []\n",
    "    for embeddings in emoji_embedding:\n",
    "        average_embedding = np.mean(embeddings, axis=0)\n",
    "        # padded arrays with zero emojis with a length 300 array filled with zeros\n",
    "        if average_embedding is None or np.isnan(average_embedding).all():\n",
    "            res.append(np.zeros(300))\n",
    "        else:\n",
    "            res.append(average_embedding)\n",
    "    \n",
    "    return np.array(res)\n",
    "\n",
    "# en_max_size = max(len(arr) for arr in en_emoji_embedding)\n",
    "# en_padded_arrays = [np.pad(arr, (0, en_max_size - len(arr)), 'constant') for arr in en_emoji_embedding]\n",
    "# en_emoji_array = np.vstack(en_padded_arrays)"
   ]
  },
  {
   "cell_type": "code",
   "execution_count": 13,
   "id": "30cb1234",
   "metadata": {},
   "outputs": [],
   "source": [
    "en_emoji_array = emoji_embedding(en_df)\n",
    "es_emoji_array = emoji_embedding(es_df)"
   ]
  },
  {
   "cell_type": "code",
   "execution_count": 14,
   "id": "d93c4f2f",
   "metadata": {},
   "outputs": [
    {
     "data": {
      "text/plain": [
       "(280, 300)"
      ]
     },
     "execution_count": 14,
     "metadata": {},
     "output_type": "execute_result"
    }
   ],
   "source": [
    "es_emoji_array.shape"
   ]
  },
  {
   "cell_type": "markdown",
   "id": "c6fdd17f",
   "metadata": {},
   "source": [
    "## Concatenate the text embeddings and emoji embeddings "
   ]
  },
  {
   "cell_type": "code",
   "execution_count": 15,
   "id": "300cbd40",
   "metadata": {},
   "outputs": [],
   "source": [
    "# Concatenate along columns (horizontally)\n",
    "en_embeddings = np.concatenate((en_text_array, en_emoji_array), axis=1)\n",
    "es_embeddings = np.concatenate((es_text_array, es_emoji_array), axis=1)"
   ]
  },
  {
   "cell_type": "code",
   "execution_count": 16,
   "id": "a729cd83",
   "metadata": {},
   "outputs": [
    {
     "data": {
      "text/plain": [
       "(280, 1324)"
      ]
     },
     "execution_count": 16,
     "metadata": {},
     "output_type": "execute_result"
    }
   ],
   "source": [
    "en_embeddings.shape"
   ]
  },
  {
   "cell_type": "markdown",
   "id": "58d31e61",
   "metadata": {},
   "source": [
    "## Variable names 📇\n",
    "- en_text_array: LASER embeddings on text only (shape:280x1024)\n",
    "- en_emoji_array: emoji2vec embeddings on emoji only (shape: 280x300)\n",
    "- en_embeddings: concatenate en_text_array and en_emoji_array (shape: 280, 1324)\n",
    "- en_array: LASER embeddings on text+emoji (shape: 280x1024)\n",
    "- (replace en by es to get result from Spanish dataset)"
   ]
  },
  {
   "cell_type": "markdown",
   "id": "ff717f22",
   "metadata": {},
   "source": [
    "## Hierarchical Clustering 🪜"
   ]
  },
  {
   "cell_type": "code",
   "execution_count": 51,
   "id": "178bf605",
   "metadata": {},
   "outputs": [],
   "source": [
    "from scipy.cluster.hierarchy import linkage, fcluster\n",
    "from sklearn.metrics import silhouette_samples\n",
    "\n",
    "\n",
    "def apply_hierarchical_clustering(lang_embeddings, lang_df):\n",
    "    # also try method = 'single', 'complete', 'average' and see which one has better results\n",
    "    linkage_matrix = linkage(lang_embeddings, method='ward')\n",
    "    # can try different thresholds and criterion\n",
    "    cluster_labels = fcluster(linkage_matrix, t=3, criterion='distance')\n",
    "\n",
    "    silhouette_scores = silhouette_samples(lang_embeddings, cluster_labels)\n",
    "\n",
    "    df_clusters = pd.DataFrame({\n",
    "        \"text\": lang_df['text'],\n",
    "        \"cluster\": cluster_labels,\n",
    "        \"silhouette_score\": silhouette_scores\n",
    "    })\n",
    "\n",
    "    cluster_mean_silhouette = df_clusters.groupby('cluster')['silhouette_score'].mean().reset_index()\n",
    "    df_clusters = df_clusters.merge(cluster_mean_silhouette, on='cluster', suffixes=('', '_mean'))\n",
    "    df_clusters = df_clusters.sort_values(by='silhouette_score_mean', ascending=False).drop('silhouette_score_mean', axis=1)\n",
    "\n",
    "    return df_clusters, cluster_mean_silhouette\n"
   ]
  },
  {
   "cell_type": "code",
   "execution_count": 52,
   "id": "02e9e046",
   "metadata": {},
   "outputs": [
    {
     "data": {
      "text/html": [
       "<div>\n",
       "<style scoped>\n",
       "    .dataframe tbody tr th:only-of-type {\n",
       "        vertical-align: middle;\n",
       "    }\n",
       "\n",
       "    .dataframe tbody tr th {\n",
       "        vertical-align: top;\n",
       "    }\n",
       "\n",
       "    .dataframe thead th {\n",
       "        text-align: right;\n",
       "    }\n",
       "</style>\n",
       "<table border=\"1\" class=\"dataframe\">\n",
       "  <thead>\n",
       "    <tr style=\"text-align: right;\">\n",
       "      <th></th>\n",
       "      <th>text</th>\n",
       "      <th>cluster</th>\n",
       "      <th>silhouette_score</th>\n",
       "    </tr>\n",
       "  </thead>\n",
       "  <tbody>\n",
       "    <tr>\n",
       "      <th>279</th>\n",
       "      <td>They kost💀</td>\n",
       "      <td>5</td>\n",
       "      <td>0.496161</td>\n",
       "    </tr>\n",
       "    <tr>\n",
       "      <th>278</th>\n",
       "      <td>@ludmilamasc someone DIDNT watch the match. sh...</td>\n",
       "      <td>5</td>\n",
       "      <td>0.512258</td>\n",
       "    </tr>\n",
       "    <tr>\n",
       "      <th>277</th>\n",
       "      <td>bro peru wasnt even in the wc💀</td>\n",
       "      <td>5</td>\n",
       "      <td>0.509701</td>\n",
       "    </tr>\n",
       "    <tr>\n",
       "      <th>276</th>\n",
       "      <td>@__oresec_ yo I’m back, we won against Spain 💀...</td>\n",
       "      <td>5</td>\n",
       "      <td>0.468551</td>\n",
       "    </tr>\n",
       "    <tr>\n",
       "      <th>275</th>\n",
       "      <td>All out lets add new people\\n\\nWhere is Son?\\n...</td>\n",
       "      <td>5</td>\n",
       "      <td>0.501797</td>\n",
       "    </tr>\n",
       "    <tr>\n",
       "      <th>...</th>\n",
       "      <td>...</td>\n",
       "      <td>...</td>\n",
       "      <td>...</td>\n",
       "    </tr>\n",
       "    <tr>\n",
       "      <th>162</th>\n",
       "      <td>@lupaivatrainer champion are early to gone bak...</td>\n",
       "      <td>8</td>\n",
       "      <td>-0.237944</td>\n",
       "    </tr>\n",
       "    <tr>\n",
       "      <th>163</th>\n",
       "      <td>Caption 💯</td>\n",
       "      <td>8</td>\n",
       "      <td>-0.123070</td>\n",
       "    </tr>\n",
       "    <tr>\n",
       "      <th>164</th>\n",
       "      <td>Mashallah 🙌❤️🇲🇦🇲🇦🇲🇦A forever pride 👏💪</td>\n",
       "      <td>8</td>\n",
       "      <td>-0.157364</td>\n",
       "    </tr>\n",
       "    <tr>\n",
       "      <th>165</th>\n",
       "      <td>Respect for the drone operator🛐</td>\n",
       "      <td>8</td>\n",
       "      <td>-0.176191</td>\n",
       "    </tr>\n",
       "    <tr>\n",
       "      <th>140</th>\n",
       "      <td>Lol 🙄 buh d ball was taken from him</td>\n",
       "      <td>8</td>\n",
       "      <td>-0.102557</td>\n",
       "    </tr>\n",
       "  </tbody>\n",
       "</table>\n",
       "<p>280 rows × 3 columns</p>\n",
       "</div>"
      ],
      "text/plain": [
       "                                                  text  cluster  \\\n",
       "279                                         They kost💀        5   \n",
       "278  @ludmilamasc someone DIDNT watch the match. sh...        5   \n",
       "277                     bro peru wasnt even in the wc💀        5   \n",
       "276  @__oresec_ yo I’m back, we won against Spain 💀...        5   \n",
       "275  All out lets add new people\\n\\nWhere is Son?\\n...        5   \n",
       "..                                                 ...      ...   \n",
       "162  @lupaivatrainer champion are early to gone bak...        8   \n",
       "163                                          Caption 💯        8   \n",
       "164              Mashallah 🙌❤️🇲🇦🇲🇦🇲🇦A forever pride 👏💪        8   \n",
       "165                    Respect for the drone operator🛐        8   \n",
       "140                Lol 🙄 buh d ball was taken from him        8   \n",
       "\n",
       "     silhouette_score  \n",
       "279          0.496161  \n",
       "278          0.512258  \n",
       "277          0.509701  \n",
       "276          0.468551  \n",
       "275          0.501797  \n",
       "..                ...  \n",
       "162         -0.237944  \n",
       "163         -0.123070  \n",
       "164         -0.157364  \n",
       "165         -0.176191  \n",
       "140         -0.102557  \n",
       "\n",
       "[280 rows x 3 columns]"
      ]
     },
     "execution_count": 52,
     "metadata": {},
     "output_type": "execute_result"
    }
   ],
   "source": [
    "# Perform hierarchical clustering\n",
    "en_linkage_matrix, en_mean_silhouette = apply_hierarchical_clustering(en_embeddings, en_df)\n",
    "en_linkage_matrix"
   ]
  },
  {
   "cell_type": "code",
   "execution_count": 54,
   "id": "dd945916",
   "metadata": {},
   "outputs": [
    {
     "data": {
      "text/html": [
       "<div>\n",
       "<style scoped>\n",
       "    .dataframe tbody tr th:only-of-type {\n",
       "        vertical-align: middle;\n",
       "    }\n",
       "\n",
       "    .dataframe tbody tr th {\n",
       "        vertical-align: top;\n",
       "    }\n",
       "\n",
       "    .dataframe thead th {\n",
       "        text-align: right;\n",
       "    }\n",
       "</style>\n",
       "<table border=\"1\" class=\"dataframe\">\n",
       "  <thead>\n",
       "    <tr style=\"text-align: right;\">\n",
       "      <th></th>\n",
       "      <th>cluster</th>\n",
       "      <th>silhouette_score</th>\n",
       "    </tr>\n",
       "  </thead>\n",
       "  <tbody>\n",
       "    <tr>\n",
       "      <th>0</th>\n",
       "      <td>1</td>\n",
       "      <td>0.346112</td>\n",
       "    </tr>\n",
       "    <tr>\n",
       "      <th>1</th>\n",
       "      <td>2</td>\n",
       "      <td>0.224781</td>\n",
       "    </tr>\n",
       "    <tr>\n",
       "      <th>2</th>\n",
       "      <td>3</td>\n",
       "      <td>0.476288</td>\n",
       "    </tr>\n",
       "    <tr>\n",
       "      <th>3</th>\n",
       "      <td>4</td>\n",
       "      <td>0.417821</td>\n",
       "    </tr>\n",
       "    <tr>\n",
       "      <th>4</th>\n",
       "      <td>5</td>\n",
       "      <td>0.498986</td>\n",
       "    </tr>\n",
       "    <tr>\n",
       "      <th>5</th>\n",
       "      <td>6</td>\n",
       "      <td>0.485666</td>\n",
       "    </tr>\n",
       "    <tr>\n",
       "      <th>6</th>\n",
       "      <td>7</td>\n",
       "      <td>0.422899</td>\n",
       "    </tr>\n",
       "    <tr>\n",
       "      <th>7</th>\n",
       "      <td>8</td>\n",
       "      <td>-0.124502</td>\n",
       "    </tr>\n",
       "  </tbody>\n",
       "</table>\n",
       "</div>"
      ],
      "text/plain": [
       "   cluster  silhouette_score\n",
       "0        1          0.346112\n",
       "1        2          0.224781\n",
       "2        3          0.476288\n",
       "3        4          0.417821\n",
       "4        5          0.498986\n",
       "5        6          0.485666\n",
       "6        7          0.422899\n",
       "7        8         -0.124502"
      ]
     },
     "execution_count": 54,
     "metadata": {},
     "output_type": "execute_result"
    }
   ],
   "source": [
    "en_mean_silhouette"
   ]
  },
  {
   "cell_type": "code",
   "execution_count": 55,
   "id": "242085d7",
   "metadata": {},
   "outputs": [
    {
     "data": {
      "text/plain": [
       "['They kost💀',\n",
       " '@ludmilamasc someone DIDNT watch the match. shut up bruh💀.',\n",
       " 'bro peru wasnt even in the wc💀',\n",
       " '@__oresec_ yo I’m back, we won against Spain 💀 so good luck against Brazil',\n",
       " 'All out lets add new people\\n\\nWhere is Son?\\nHome💀💀',\n",
       " 'the last one 💀']"
      ]
     },
     "execution_count": 55,
     "metadata": {},
     "output_type": "execute_result"
    }
   ],
   "source": [
    "en_linkage_matrix[en_linkage_matrix['cluster'] == 5]['text'].tolist()"
   ]
  },
  {
   "cell_type": "code",
   "execution_count": 56,
   "id": "b8154636",
   "metadata": {},
   "outputs": [
    {
     "data": {
      "text/plain": [
       "['Italy >>❤️',\n",
       " 'Proudly Ghanaian 🇬🇭 🇬🇭 🇬🇭 🇬🇭 🇬🇭 ❤️',\n",
       " 'Follow m’y account please ❤️',\n",
       " '@maidenles.s its game not war ☺️',\n",
       " 'Mount❤️',\n",
       " '@smithswith_ ❤️so good!!',\n",
       " 'Beauty of Qatar ❤️',\n",
       " '@the_real_thorstinho #onetwo 🤭🤭🤭🤭🤭',\n",
       " 'The best version ever ❤️ #qatar @qatar',\n",
       " '@goodthanksyourself nice goal❤️',\n",
       " '@zarbassir what I love to ear ❤️',\n",
       " 'He gave us the best goal of the World Cup so far ❤️',\n",
       " 'The second golden age for the socceroos 🇦🇺🟡🟢',\n",
       " 'Loveee this ❤️',\n",
       " 'Son🥺',\n",
       " 'They are so cute \\U0001f979\\U0001f979',\n",
       " '@sarou_lifestyle and you were right , they made history ♥️♥️',\n",
       " 'Appreciate to the Admin❤️ who always updated us',\n",
       " 'Proudly Moroccan 🇲🇦🇲🇦🇲🇦🇲🇦❤️❤️❤️❤️',\n",
       " '@mess_91_ @aiden44w home and happy🥳🥳🤌🏻',\n",
       " '@symon9001 hello ? 🤟🏽🇦🇷 some body here ?',\n",
       " 'Brazils back that way⬅️',\n",
       " 'TERANGA boys 🇸🇳🇸🇳❤️',\n",
       " '@sonam_la24 in ur dreams... Croatia!!!🇭🇷❤️✌️',\n",
       " 'So sweet❤️ Hope Korea and Japan both do our best in the next game☺️']"
      ]
     },
     "execution_count": 56,
     "metadata": {},
     "output_type": "execute_result"
    }
   ],
   "source": [
    "en_linkage_matrix[en_linkage_matrix['cluster'] == 6]['text'].tolist()"
   ]
  },
  {
   "cell_type": "code",
   "execution_count": 57,
   "id": "aa2689d1",
   "metadata": {},
   "outputs": [
    {
     "data": {
      "text/plain": [
       "['@pr1ncesa_mar1 never! Korea is much better team! 👏',\n",
       " 'Just an amazing team great job 👏🏻👏🏻👏🏻👏🏻👏🏻👏🏻👏🏻👏🏻❤️❤️❤️❤️',\n",
       " '@k.mbappe proud of you👏',\n",
       " 'Definitely!!! 👏👏👏👏👏',\n",
       " 'Best of luck upcoming final game @afaseleccion 👏👏👏🏆',\n",
       " '@porti_elias Its True buddy👏👏',\n",
       " '@reemasul_r3 there u go I told u guys yall can win too, good job 👏🏻👏🏻 u guys won fair and square, dont feel low for ur team. They are good enough alrdy 👏🏻',\n",
       " '@fabreezy_ 👏👏👏 this is yours???',\n",
       " 'The Best goal of the world cup👏👏👏⚽️',\n",
       " 'He is completely right! 👏',\n",
       " 'respect 👏',\n",
       " 'Netherlands👏👏👏 and also cricket',\n",
       " 'hand ball 👏',\n",
       " 'The Bluetooth goal 👏',\n",
       " '@itsabdelfatah you were right 👏']"
      ]
     },
     "execution_count": 57,
     "metadata": {},
     "output_type": "execute_result"
    }
   ],
   "source": [
    "en_linkage_matrix[en_linkage_matrix['cluster'] == 3]['text'].tolist()"
   ]
  },
  {
   "cell_type": "code",
   "execution_count": 67,
   "id": "6dac9719",
   "metadata": {},
   "outputs": [
    {
     "data": {
      "text/plain": [
       "['Best World Cup ever 😍',\n",
       " \"Congrates Ghana!! Great job u guys did.😍 But I still don't understand why did the referee decided that way. 🥲\",\n",
       " 'Missing Italy in the world cup😍😍😍🇮🇹🇮🇹🇮🇹',\n",
       " 'Congratulations to Japan, Morocco, Brazil, South Korea and Qatar 😍',\n",
       " 'HE SO FINE OMLL 😍',\n",
       " 'Follow @__footycontent_ 😍',\n",
       " 'France ❤️😍and Argentina 😍❤️❤️',\n",
       " \"Looking forward to Hakimi vs MBappe'😍❤️ May the best win!\",\n",
       " \"@el_dado1004 ya ya ya, croatia lost to spain 6-0 in 2018. You are the kid who couldn't handle the facts and couldnt help yourself but to run your fingers through my comment. Stay mad bestie 😍\",\n",
       " '@hassan.ahmed.07 6 Games 5 goals 3 assist now😍',\n",
       " 'oooh jungkook and his song 😍And congratulations on the victory of the French']"
      ]
     },
     "execution_count": 67,
     "metadata": {},
     "output_type": "execute_result"
    }
   ],
   "source": [
    "en_linkage_matrix[en_linkage_matrix['cluster'] == 7]['text'].tolist()"
   ]
  },
  {
   "cell_type": "code",
   "execution_count": 68,
   "id": "197089e3",
   "metadata": {},
   "outputs": [
    {
     "data": {
      "text/plain": [
       "['Yep, ney is gone🤣',\n",
       " 'Did he score in this video 🤣',\n",
       " '@twinty_999  airport this way 🤣👍🏻',\n",
       " '@_francechy_ 🤣🤣🤣',\n",
       " '@5400.seconds are u there bro? 🤣',\n",
       " \"@gousasmokingoniran I think that Biranvand's feet made Christian Polsic not have children anymore 🤣🤣🤣\",\n",
       " '@realestate_topg what happened 🤣🤣',\n",
       " '@mitchellpolak  it was lucky win.... Argentine will destroy you 🤣🤣',\n",
       " 'Priceless!! 🇨🇲\\n🤣🤣🤣',\n",
       " \"@tiago.rendas2 bro I do know football but yesterday match that wasn't an offside lol 🤣🤣🤣what cause the camera showed his leg over the line but have you seen the last defender in the box 🤣🤣🤣go and learn football then come back chat to me\",\n",
       " 'Portugal humiliated you Shaq🤣🤣🤣\\n￼',\n",
       " '@pictures_for_stickers Brazil 🇧🇷🛫🏠🤣🤣🤣🤣',\n",
       " '@_msomali_wao and guess what morocco also lost🤣🤣🤣🤣🤣🤣',\n",
       " '@goborm hehe Habibi🤣🤣',\n",
       " '@leobrajkovic2 Airport, this way ✈️🤣']"
      ]
     },
     "execution_count": 68,
     "metadata": {},
     "output_type": "execute_result"
    }
   ],
   "source": [
    "en_linkage_matrix[en_linkage_matrix['cluster'] == 4]['text'].tolist()"
   ]
  },
  {
   "cell_type": "markdown",
   "id": "012a2788",
   "metadata": {},
   "source": [
    "## Spanish"
   ]
  },
  {
   "cell_type": "code",
   "execution_count": 58,
   "id": "009162ce",
   "metadata": {},
   "outputs": [
    {
     "name": "stdout",
     "output_type": "stream",
     "text": [
      "Requirement already satisfied: googletrans==4.0.0-rc1 in /opt/anaconda3/lib/python3.9/site-packages (4.0.0rc1)\n",
      "Requirement already satisfied: httpx==0.13.3 in /opt/anaconda3/lib/python3.9/site-packages (from googletrans==4.0.0-rc1) (0.13.3)\n",
      "Requirement already satisfied: certifi in /opt/anaconda3/lib/python3.9/site-packages (from httpx==0.13.3->googletrans==4.0.0-rc1) (2023.7.22)\n",
      "Requirement already satisfied: rfc3986<2,>=1.3 in /opt/anaconda3/lib/python3.9/site-packages (from httpx==0.13.3->googletrans==4.0.0-rc1) (1.5.0)\n",
      "Requirement already satisfied: httpcore==0.9.* in /opt/anaconda3/lib/python3.9/site-packages (from httpx==0.13.3->googletrans==4.0.0-rc1) (0.9.1)\n",
      "Requirement already satisfied: hstspreload in /opt/anaconda3/lib/python3.9/site-packages (from httpx==0.13.3->googletrans==4.0.0-rc1) (2023.1.1)\n",
      "Requirement already satisfied: chardet==3.* in /opt/anaconda3/lib/python3.9/site-packages (from httpx==0.13.3->googletrans==4.0.0-rc1) (3.0.4)\n",
      "Requirement already satisfied: sniffio in /opt/anaconda3/lib/python3.9/site-packages (from httpx==0.13.3->googletrans==4.0.0-rc1) (1.3.0)\n",
      "Requirement already satisfied: idna==2.* in /opt/anaconda3/lib/python3.9/site-packages (from httpx==0.13.3->googletrans==4.0.0-rc1) (2.10)\n",
      "Requirement already satisfied: h2==3.* in /opt/anaconda3/lib/python3.9/site-packages (from httpcore==0.9.*->httpx==0.13.3->googletrans==4.0.0-rc1) (3.2.0)\n",
      "Requirement already satisfied: h11<0.10,>=0.8 in /opt/anaconda3/lib/python3.9/site-packages (from httpcore==0.9.*->httpx==0.13.3->googletrans==4.0.0-rc1) (0.9.0)\n",
      "Requirement already satisfied: hyperframe<6,>=5.2.0 in /opt/anaconda3/lib/python3.9/site-packages (from h2==3.*->httpcore==0.9.*->httpx==0.13.3->googletrans==4.0.0-rc1) (5.2.0)\n",
      "Requirement already satisfied: hpack<4,>=3.0 in /opt/anaconda3/lib/python3.9/site-packages (from h2==3.*->httpcore==0.9.*->httpx==0.13.3->googletrans==4.0.0-rc1) (3.0.0)\n",
      "Note: you may need to restart the kernel to use updated packages.\n"
     ]
    }
   ],
   "source": [
    "pip install googletrans==4.0.0-rc1"
   ]
  },
  {
   "cell_type": "code",
   "execution_count": 59,
   "id": "fc51099c",
   "metadata": {},
   "outputs": [],
   "source": [
    "from googletrans import Translator\n",
    "\n",
    "# Initialize the translator\n",
    "translator = Translator()\n",
    "\n",
    "# Function to translate a text\n",
    "def translate_text(text, target_language='en'):\n",
    "    try:\n",
    "        translation = translator.translate(text, dest=target_language)\n",
    "        return translation.text\n",
    "    except Exception as e:\n",
    "        return str(e)"
   ]
  },
  {
   "cell_type": "code",
   "execution_count": 60,
   "id": "d125ef14",
   "metadata": {},
   "outputs": [
    {
     "data": {
      "text/html": [
       "<div>\n",
       "<style scoped>\n",
       "    .dataframe tbody tr th:only-of-type {\n",
       "        vertical-align: middle;\n",
       "    }\n",
       "\n",
       "    .dataframe tbody tr th {\n",
       "        vertical-align: top;\n",
       "    }\n",
       "\n",
       "    .dataframe thead th {\n",
       "        text-align: right;\n",
       "    }\n",
       "</style>\n",
       "<table border=\"1\" class=\"dataframe\">\n",
       "  <thead>\n",
       "    <tr style=\"text-align: right;\">\n",
       "      <th></th>\n",
       "      <th>text</th>\n",
       "      <th>cluster</th>\n",
       "      <th>silhouette_score</th>\n",
       "      <th>translated_text</th>\n",
       "    </tr>\n",
       "  </thead>\n",
       "  <tbody>\n",
       "    <tr>\n",
       "      <th>0</th>\n",
       "      <td>Orgullosamente Ecuatorianos 😍</td>\n",
       "      <td>6</td>\n",
       "      <td>0.502996</td>\n",
       "      <td>Proudly Ecuadorians 😍</td>\n",
       "    </tr>\n",
       "    <tr>\n",
       "      <th>2</th>\n",
       "      <td>@btito_.avak mejor portero del mundo, procede ...</td>\n",
       "      <td>6</td>\n",
       "      <td>0.443004</td>\n",
       "      <td>@Btito_.Avak Best goalkeeper in the world, pro...</td>\n",
       "    </tr>\n",
       "    <tr>\n",
       "      <th>3</th>\n",
       "      <td>Eden hazard comes back😍😍😍</td>\n",
       "      <td>6</td>\n",
       "      <td>0.480451</td>\n",
       "      <td>Eden hazard comes back😍😍😍</td>\n",
       "    </tr>\n",
       "    <tr>\n",
       "      <th>4</th>\n",
       "      <td>love banget idola saya portugal - cristiano ro...</td>\n",
       "      <td>6</td>\n",
       "      <td>0.451412</td>\n",
       "      <td>I really love my idol Portugal - Cristiano Ron...</td>\n",
       "    </tr>\n",
       "    <tr>\n",
       "      <th>5</th>\n",
       "      <td>Siempre me han gustado lo uniformes de ghana😍</td>\n",
       "      <td>6</td>\n",
       "      <td>0.472199</td>\n",
       "      <td>I have always liked Ghana's uniforms😍</td>\n",
       "    </tr>\n",
       "    <tr>\n",
       "      <th>...</th>\n",
       "      <td>...</td>\n",
       "      <td>...</td>\n",
       "      <td>...</td>\n",
       "      <td>...</td>\n",
       "    </tr>\n",
       "    <tr>\n",
       "      <th>45</th>\n",
       "      <td>El Plástico 🙌</td>\n",
       "      <td>7</td>\n",
       "      <td>-0.021197</td>\n",
       "      <td>The plastic 🙌</td>\n",
       "    </tr>\n",
       "    <tr>\n",
       "      <th>44</th>\n",
       "      <td>@ezebtm suerte hermano albiceleste acá bancamo...</td>\n",
       "      <td>7</td>\n",
       "      <td>-0.047228</td>\n",
       "      <td>@Ezebtm Lucky Brother Albiceleste here we bank...</td>\n",
       "    </tr>\n",
       "    <tr>\n",
       "      <th>43</th>\n",
       "      <td>Oye man ,porque descalificaron a ecuador? Tení...</td>\n",
       "      <td>7</td>\n",
       "      <td>-0.100248</td>\n",
       "      <td>Hey Man, why did they disqualify Ecuador?They ...</td>\n",
       "    </tr>\n",
       "    <tr>\n",
       "      <th>42</th>\n",
       "      <td>la araña que pica🤘🏻🕷️</td>\n",
       "      <td>7</td>\n",
       "      <td>-0.154299</td>\n",
       "      <td>The spider that Pica🤘🏻🕷️</td>\n",
       "    </tr>\n",
       "    <tr>\n",
       "      <th>22</th>\n",
       "      <td>Vamooo Halcón 🦅 🇺🇾</td>\n",
       "      <td>7</td>\n",
       "      <td>-0.158111</td>\n",
       "      <td>VAMOOO HALCON 🦅 🇺🇾</td>\n",
       "    </tr>\n",
       "  </tbody>\n",
       "</table>\n",
       "<p>280 rows × 4 columns</p>\n",
       "</div>"
      ],
      "text/plain": [
       "                                                 text  cluster  \\\n",
       "0                       Orgullosamente Ecuatorianos 😍        6   \n",
       "2   @btito_.avak mejor portero del mundo, procede ...        6   \n",
       "3                           Eden hazard comes back😍😍😍        6   \n",
       "4   love banget idola saya portugal - cristiano ro...        6   \n",
       "5       Siempre me han gustado lo uniformes de ghana😍        6   \n",
       "..                                                ...      ...   \n",
       "45                                      El Plástico 🙌        7   \n",
       "44  @ezebtm suerte hermano albiceleste acá bancamo...        7   \n",
       "43  Oye man ,porque descalificaron a ecuador? Tení...        7   \n",
       "42                              la araña que pica🤘🏻🕷️        7   \n",
       "22                                 Vamooo Halcón 🦅 🇺🇾        7   \n",
       "\n",
       "    silhouette_score                                    translated_text  \n",
       "0           0.502996                              Proudly Ecuadorians 😍  \n",
       "2           0.443004  @Btito_.Avak Best goalkeeper in the world, pro...  \n",
       "3           0.480451                          Eden hazard comes back😍😍😍  \n",
       "4           0.451412  I really love my idol Portugal - Cristiano Ron...  \n",
       "5           0.472199              I have always liked Ghana's uniforms😍  \n",
       "..               ...                                                ...  \n",
       "45         -0.021197                                      The plastic 🙌  \n",
       "44         -0.047228  @Ezebtm Lucky Brother Albiceleste here we bank...  \n",
       "43         -0.100248  Hey Man, why did they disqualify Ecuador?They ...  \n",
       "42         -0.154299                           The spider that Pica🤘🏻🕷️  \n",
       "22         -0.158111                                 VAMOOO HALCON 🦅 🇺🇾  \n",
       "\n",
       "[280 rows x 4 columns]"
      ]
     },
     "execution_count": 60,
     "metadata": {},
     "output_type": "execute_result"
    }
   ],
   "source": [
    "es_linkage_matrix, es_mean_silhouette = apply_hierarchical_clustering(es_embeddings, es_df)\n",
    "\n",
    "es_linkage_matrix['translated_text'] = es_linkage_matrix['text'].apply(translate_text, target_language='en')\n",
    "\n",
    "es_linkage_matrix"
   ]
  },
  {
   "cell_type": "code",
   "execution_count": 61,
   "id": "b40a4711",
   "metadata": {},
   "outputs": [
    {
     "data": {
      "text/html": [
       "<div>\n",
       "<style scoped>\n",
       "    .dataframe tbody tr th:only-of-type {\n",
       "        vertical-align: middle;\n",
       "    }\n",
       "\n",
       "    .dataframe tbody tr th {\n",
       "        vertical-align: top;\n",
       "    }\n",
       "\n",
       "    .dataframe thead th {\n",
       "        text-align: right;\n",
       "    }\n",
       "</style>\n",
       "<table border=\"1\" class=\"dataframe\">\n",
       "  <thead>\n",
       "    <tr style=\"text-align: right;\">\n",
       "      <th></th>\n",
       "      <th>cluster</th>\n",
       "      <th>silhouette_score</th>\n",
       "    </tr>\n",
       "  </thead>\n",
       "  <tbody>\n",
       "    <tr>\n",
       "      <th>0</th>\n",
       "      <td>1</td>\n",
       "      <td>0.428671</td>\n",
       "    </tr>\n",
       "    <tr>\n",
       "      <th>1</th>\n",
       "      <td>2</td>\n",
       "      <td>0.379912</td>\n",
       "    </tr>\n",
       "    <tr>\n",
       "      <th>2</th>\n",
       "      <td>3</td>\n",
       "      <td>0.388194</td>\n",
       "    </tr>\n",
       "    <tr>\n",
       "      <th>3</th>\n",
       "      <td>4</td>\n",
       "      <td>0.413665</td>\n",
       "    </tr>\n",
       "    <tr>\n",
       "      <th>4</th>\n",
       "      <td>5</td>\n",
       "      <td>0.394112</td>\n",
       "    </tr>\n",
       "    <tr>\n",
       "      <th>5</th>\n",
       "      <td>6</td>\n",
       "      <td>0.468130</td>\n",
       "    </tr>\n",
       "    <tr>\n",
       "      <th>6</th>\n",
       "      <td>7</td>\n",
       "      <td>-0.103273</td>\n",
       "    </tr>\n",
       "  </tbody>\n",
       "</table>\n",
       "</div>"
      ],
      "text/plain": [
       "   cluster  silhouette_score\n",
       "0        1          0.428671\n",
       "1        2          0.379912\n",
       "2        3          0.388194\n",
       "3        4          0.413665\n",
       "4        5          0.394112\n",
       "5        6          0.468130\n",
       "6        7         -0.103273"
      ]
     },
     "execution_count": 61,
     "metadata": {},
     "output_type": "execute_result"
    }
   ],
   "source": [
    "es_mean_silhouette"
   ]
  },
  {
   "cell_type": "code",
   "execution_count": 71,
   "id": "e246e445",
   "metadata": {},
   "outputs": [
    {
     "data": {
      "text/plain": [
       "['Proudly Ecuadorians 😍',\n",
       " '@Btito_.Avak Best goalkeeper in the world, proceeds to lose 7 to 0😍😍😍',\n",
       " 'Eden hazard comes back😍😍😍',\n",
       " 'I really love my idol Portugal - Cristiano Ronaldo.😍',\n",
       " \"I have always liked Ghana's uniforms😍\",\n",
       " 'Love the France shirt 😍😍😍 🇺🇾🇨🇵',\n",
       " 'Lol Casillas!!! 😍😍',\n",
       " 'gracias 😍',\n",
       " '😍ronaldo',\n",
       " '❤️❤️❤️ located Ecuadorians 😍😍😍😍😍']"
      ]
     },
     "execution_count": 71,
     "metadata": {},
     "output_type": "execute_result"
    }
   ],
   "source": [
    "es_linkage_matrix[es_linkage_matrix['cluster'] == 6]['translated_text'].tolist()"
   ]
  },
  {
   "cell_type": "code",
   "execution_count": 63,
   "id": "f9c786af",
   "metadata": {},
   "outputs": [
    {
     "data": {
      "text/plain": [
       "['@guiguelpaulo 😢',\n",
       " 'How are my blacks shit 😢',\n",
       " '@fifaworldcup Ecuador deserved the pass 😢',\n",
       " 'It still hurts',\n",
       " 'and mechico? 😢',\n",
       " 'I never thought that a World Cup from which so many people expected to see quality is being so manipulated and fixed how it is, we wantedOut, even the referees seem bought because they have been a non -existent penalty to favor the teams they wanted to see in the final, how sad is the world of Qatar 2022 😢😢😢.',\n",
       " 'You deserved to win Japan 😢',\n",
       " 'Neymar da Silva Santos Junior 😢',\n",
       " '@mdsojid364 cries Brazilian 😢',\n",
       " 'Casillas Lloron😢',\n",
       " 'Our last game in a World Cup 🇨🇴😢',\n",
       " 'The final is played by 2 teams ...... What great disappointment this World Cup 😢']"
      ]
     },
     "execution_count": 63,
     "metadata": {},
     "output_type": "execute_result"
    }
   ],
   "source": [
    "es_linkage_matrix[es_linkage_matrix['cluster'] == 1]['translated_text'].tolist()"
   ]
  },
  {
   "cell_type": "code",
   "execution_count": 64,
   "id": "54b37776",
   "metadata": {},
   "outputs": [
    {
     "data": {
      "text/plain": [
       "['@_Ompoficial__Alejandro who is the best, continue to celebrate ahead of time 🤫',\n",
       " 'the eldest 🤩🤩',\n",
       " 'Ecuador 🇪🇨 ❤️#win',\n",
       " '@Luisitorres_ Yes 🥵',\n",
       " 'That Japan, outside Germany ❤️',\n",
       " '@fabilleao Shock your mouth go',\n",
       " '@lucaasperee you would already want to be in Texas that Echol eats super good and you earn a lot $$$ & I recommend it and that you are in a recession/ inflation that %80 🥵',\n",
       " 'Boee so that the World Cup is still not over if there is another better goal we hope first than end 🤙',\n",
       " 'There is no other fans the same.The best in the world that proud to have been born in Argentina ❤️🇦🇷🇦🇷',\n",
       " 'From there the hand was washed AAA❤️\\u200d🩹',\n",
       " \"Argentina feed !!!!!Let's fuck bla ining\",\n",
       " 'Morocco❤️',\n",
       " 'England falls to pieces 🥱, the Malvinas are Argentinas Salames',\n",
       " 'Ronaldo❤️❤️❤️',\n",
       " '@bcaudana22 I wait until the World Cups of all the American continent selections somados less equal to the titles of Brazil \\U0001fae1',\n",
       " '@jonathanardi_ The friad chest is coming 🥶 little is missing',\n",
       " '#Ynwa we love you Captain ❤️',\n",
       " '@Zeferinooo.Ama more than proud of my country ... when they know what a World Cup weighs can talk about football ✌️🇺🇾',\n",
       " \"🤏🤏🤏🤏🤏 I didn't want to lose the level ..\",\n",
       " \"Let's go Morocco ❤️\",\n",
       " 'Change the flag, we are Ecuador 🇪🇨☝🏻',\n",
       " '@ Jctorr130 1-1🤫🤫🤫🤫',\n",
       " 'Go Ecuador 🇪🇨❤️',\n",
       " '🤫 traki just, everything is still said',\n",
       " \"Let's go Peru ❤️\",\n",
       " \"Let's go Ecuador ❤️❤️\",\n",
       " 'Eden ❤️',\n",
       " 'The goal of the century 🇨🇷\\U0001fae1',\n",
       " 'Mechanic 🤏🏼',\n",
       " '@queenfir_ Morocco ❤️❤️',\n",
       " 'Ufff that Uruguayan ❤️',\n",
       " 'Anótalo Papi ..... Come Ecuador 🇪🇨🥰❤️❤️',\n",
       " '@mindimalist here we are mana, supporting them until the end ❤️',\n",
       " '_Marocoo🇲🇦🫀_',\n",
       " 'Paquetá 🥵',\n",
       " '@ybjinn_ the best in the world 🇦🇷❤️',\n",
       " \"@Carlos_Arte24 I don't know why but i love the jersey 🥶\",\n",
       " '@julietacontento ARE YOU AT HOME NOW 🤔',\n",
       " 'You are great 🇦🇷❤️',\n",
       " '@soroor96 Here we are all on the street singing that song ❤️❤️',\n",
       " 'Argentina ❤️❤️❤️❤️',\n",
       " '❤️ What good steam France',\n",
       " 'How big is Lukita 🇭🇷❤',\n",
       " 'Ecuador! 🇪🇨🇪🇨🇪🇨🇪🇨❤❤',\n",
       " 'Hahaha .. what you say, but in short, there is no worse blind than the one who does not want to see.So God bless you and love and peace ✌🏼',\n",
       " 'Come on Uruguay Brother !!!! ❤️❤️',\n",
       " '@ortubiaalexis being Argentine?Na, I doubt ... tattoo artist 🤙🏽🤙🏽',\n",
       " '🇦🇷 ♥ ️❤️ Airport, Modric.',\n",
       " \"@lovely_angel_kh I don't understand you but Chill🤙\",\n",
       " 'What will Qatar do with so many stages after the World Cup?🤔']"
      ]
     },
     "execution_count": 64,
     "metadata": {},
     "output_type": "execute_result"
    }
   ],
   "source": [
    "es_linkage_matrix[es_linkage_matrix['cluster'] == 4]['translated_text'].tolist()"
   ]
  },
  {
   "cell_type": "code",
   "execution_count": 65,
   "id": "122e49c0",
   "metadata": {},
   "outputs": [
    {
     "data": {
      "text/plain": [
       "['@caro2653 👏👏👏',\n",
       " 'Moroccos👏👏👐👐',\n",
       " 'Argentina 🇦🇷 Leo 👏👏👏👏',\n",
       " '@hassan.ahmed.07 And how many penalties?that they have not even been fouls to El.👏👏',\n",
       " \"@__ mati_15 agreement.It's reality.The Concacaf Soccer School is changing.What is not worth is that players who have never played in Concacaf invent.I would like to see any comebol selection against Curacao, Jamaica even Mexico but um mexico with School propria no de comebol 👏\",\n",
       " '@Maxirodriguez11Oficial genius !!!👏👏👏👏💙🤍💙',\n",
       " 'Double breast 😂👏',\n",
       " 'The best midfielder 👏🏻',\n",
       " 'A great my uncle Ril or 👏👏👏 @dorian_ybaceta @lopezillo.public @hugo_charcape03 @hanrykux03',\n",
       " 'Great the mathematician',\n",
       " 'The best in Portugal 👏👏',\n",
       " 'Better publish the moments of canceled goals 👏👏',\n",
       " 'Mexican pride ❤️👏🏻🇲🇽',\n",
       " 'Maradona help Messi to achieve triumph ❤️👏👏👏',\n",
       " 'Ecuador present 🇪🇨👏👏',\n",
       " \"We are thicerly that if one can, they turn to when they left the death group in 2014 when they all gave them for dead and the dead turned out to be others.Let's go even if my team is USA but my heart won it in that 2014 World Cup.But it is my USA are you for me.❤️\",\n",
       " '15 World Cups 👏👏👏',\n",
       " 'Congratulations to Ecuador for winning the slaves 👏🏼👏🏼',\n",
       " '👏👏🙌🙌Ecuador',\n",
       " '👏👏We go with everything, Strong',\n",
       " 'The best of all ❤️👏',\n",
       " 'The best in the world 👏🏻 😍']"
      ]
     },
     "execution_count": 65,
     "metadata": {},
     "output_type": "execute_result"
    }
   ],
   "source": [
    "es_linkage_matrix[es_linkage_matrix['cluster'] == 5]['translated_text'].tolist()"
   ]
  },
  {
   "cell_type": "code",
   "execution_count": 66,
   "id": "273afa34",
   "metadata": {},
   "outputs": [
    {
     "data": {
      "text/plain": [
       "['All my faith for Argentina 🔥',\n",
       " '@Borenia Grs !!!🔥🙌❤️ Soccer is football',\n",
       " '@marqu3si yo bro chill 👏🔥',\n",
       " 'Argentina 🔥💚',\n",
       " \"What's up the one of this lord🔥\",\n",
       " '@hilla_loaiza what level 🔥🔥🔥',\n",
       " 'Aidoun 🔥❤️',\n",
       " 'Ronaldo🔥🔥🔥🔥',\n",
       " \"Messias returned 🇦🇷🇦🇷🇦🇷🇦🇷🇦🇷🇦🇷 Let's go selection 🔥🔥🔥\",\n",
       " '@deyaneira_ae to enable Valencia in the 2nd goal of Senegal🙌🔥🔥',\n",
       " '@pablogavi good luck🔥',\n",
       " 'Valencia🔥🔥🔥',\n",
       " '😍ñ🔥🔥🔥',\n",
       " 'It will be to break the curse🔥🔥🔥',\n",
       " '@hoonjy you, if those shots did not get stuck in the Uffff stick🔥',\n",
       " '@sandra_cariel camereron 100% 🔥🔥',\n",
       " 'Life changes when it begins to focus on you🎶🔥',\n",
       " \"Let's go Spain 🔥\",\n",
       " 'We love you @yosoy8a 🇲🇽🔥',\n",
       " 'The master magician🔥🔥🤍👏🏻⚡',\n",
       " 'Ronaldo🙌🔥',\n",
       " 'With every teacher 🔥🇨🇷',\n",
       " 'The best in the world!❤️\\u200d🔥❤️\\u200d🔥',\n",
       " 'The trios are always good bro 🔥😉',\n",
       " 'Goncalo Ramos 🔥🔥👏👏',\n",
       " 'Argentina goes for the third World Cup 🙌🔥',\n",
       " 'CommOn argentina..you can do it 🔥❤️🔥',\n",
       " 'Roberto 🔥🔥',\n",
       " '🔥Argentina.3 🔥 France 1🔥',\n",
       " 'Argentina, Alvares🔥',\n",
       " 'Argentina 😍❤️🔥🔥',\n",
       " '🔥🔥🔥👏🙌 mexico 🇲🇽',\n",
       " 'Gano Argentina 🔥🔥🔥❤️❤️❤️',\n",
       " 'It was an exquisite party 🔥',\n",
       " 'Come on Argentina 🔥🔥']"
      ]
     },
     "execution_count": 66,
     "metadata": {},
     "output_type": "execute_result"
    }
   ],
   "source": [
    "es_linkage_matrix[es_linkage_matrix['cluster'] == 3]['translated_text'].tolist()"
   ]
  },
  {
   "cell_type": "code",
   "execution_count": null,
   "id": "2f7a0519",
   "metadata": {},
   "outputs": [],
   "source": []
  }
 ],
 "metadata": {
  "kernelspec": {
   "display_name": "Python 3.9.12 ('base')",
   "language": "python",
   "name": "python3912jvsc74a57bd040d3a090f54c6569ab1632332b64b2c03c39dcf918b08424e98f38b5ae0af88f"
  },
  "language_info": {
   "codemirror_mode": {
    "name": "ipython",
    "version": 3
   },
   "file_extension": ".py",
   "mimetype": "text/x-python",
   "name": "python",
   "nbconvert_exporter": "python",
   "pygments_lexer": "ipython3",
   "version": "3.9.12"
  }
 },
 "nbformat": 4,
 "nbformat_minor": 5
}
