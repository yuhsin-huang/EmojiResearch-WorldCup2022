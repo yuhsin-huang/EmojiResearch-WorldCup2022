{
 "cells": [
  {
   "cell_type": "markdown",
   "id": "58512e21",
   "metadata": {},
   "source": [
    "## Imports 📦"
   ]
  },
  {
   "cell_type": "code",
   "execution_count": 1,
   "id": "03977c0b",
   "metadata": {},
   "outputs": [],
   "source": [
    "import pandas as pd\n",
    "import numpy as np\n",
    "import emoji\n",
    "import warnings\n",
    "import nltk\n",
    "from nltk.corpus import stopwords    \n",
    "import string"
   ]
  },
  {
   "cell_type": "code",
   "execution_count": 2,
   "id": "9b5c8f36",
   "metadata": {},
   "outputs": [],
   "source": [
    "from matplotlib import pyplot as plt"
   ]
  },
  {
   "cell_type": "code",
   "execution_count": 3,
   "id": "54a696f4",
   "metadata": {},
   "outputs": [],
   "source": [
    "warnings.filterwarnings('ignore')"
   ]
  },
  {
   "cell_type": "markdown",
   "id": "ed921e7c",
   "metadata": {},
   "source": [
    "## Load Data 💿"
   ]
  },
  {
   "cell_type": "code",
   "execution_count": 4,
   "id": "7eafc0c2",
   "metadata": {},
   "outputs": [],
   "source": [
    "df = pd.read_csv(\"Data/cleaned_by_language.csv\")"
   ]
  },
  {
   "cell_type": "code",
   "execution_count": 5,
   "id": "fdb35f1c",
   "metadata": {},
   "outputs": [],
   "source": [
    "en_df = df[df['language'] == 'en']\n",
    "es_df = df[df['language'] == 'es']"
   ]
  },
  {
   "cell_type": "code",
   "execution_count": 6,
   "id": "16da499e",
   "metadata": {},
   "outputs": [],
   "source": [
    "en_comment = en_df['text only'].to_list()\n",
    "es_comment = es_df['text only'].to_list()\n",
    "en_comment_with_emoji = en_df['text'].to_list()\n",
    "es_comment_with_emoji = es_df['text'].to_list()"
   ]
  },
  {
   "cell_type": "code",
   "execution_count": 7,
   "id": "96a0ab7b",
   "metadata": {},
   "outputs": [
    {
     "name": "stderr",
     "output_type": "stream",
     "text": [
      "[nltk_data] Downloading package punkt to\n",
      "[nltk_data]     /Users/yuhsinhuang/nltk_data...\n",
      "[nltk_data]   Package punkt is already up-to-date!\n",
      "[nltk_data] Downloading package stopwords to\n",
      "[nltk_data]     /Users/yuhsinhuang/nltk_data...\n",
      "[nltk_data]   Package stopwords is already up-to-date!\n"
     ]
    }
   ],
   "source": [
    "nltk.download('punkt')\n",
    "nltk.download('stopwords')\n",
    "en_stop_words = set(stopwords.words('english'))\n",
    "es_stop_words = set(stopwords.words('spanish'))\n",
    "\n",
    "def filter_comments(comment_list, stop_words):\n",
    "    filtered_comments = []\n",
    "\n",
    "    for comment in comment_list:\n",
    "        # remove word starts with @\n",
    "        comment = \" \".join(filter(lambda x:x[0]!='@', comment.split()))\n",
    "    \n",
    "        # remove punctuations\n",
    "        comment = comment.translate(str.maketrans('', '', string.punctuation))\n",
    "\n",
    "        # remove stopwords\n",
    "        words = nltk.word_tokenize(comment)\n",
    "        filtered_comment = [word for word in words if word.lower() not in stop_words]\n",
    "        filtered_comment = ' '.join(filtered_comment)\n",
    "        filtered_comment = comment\n",
    "        filtered_comments.append(filtered_comment)\n",
    "        return filtered_comments"
   ]
  },
  {
   "cell_type": "code",
   "execution_count": 8,
   "id": "b0edf613",
   "metadata": {},
   "outputs": [],
   "source": [
    "en_filter_comments = filter_comments(en_comment, en_stop_words)\n",
    "es_filter_comments = filter_comments(es_comment, es_stop_words)\n",
    "en_with_emoji_filter_comments = filter_comments(en_comment_with_emoji, en_stop_words)\n",
    "es_with_emoji_filter_comments = filter_comments(es_comment_with_emoji, es_stop_words)"
   ]
  },
  {
   "cell_type": "markdown",
   "id": "d189bc7e",
   "metadata": {},
   "source": [
    "## Text Embeddings using LASER - this pretrained model supports cross-lingual tasks and embeds in setence-level"
   ]
  },
  {
   "cell_type": "code",
   "execution_count": 9,
   "id": "eb8a53ff",
   "metadata": {},
   "outputs": [
    {
     "name": "stdout",
     "output_type": "stream",
     "text": [
      "Requirement already satisfied: laserembeddings in /opt/anaconda3/lib/python3.9/site-packages (1.1.2)\n",
      "Requirement already satisfied: subword-nmt<0.4.0,>=0.3.6 in /opt/anaconda3/lib/python3.9/site-packages (from laserembeddings) (0.3.8)\n",
      "Requirement already satisfied: torch<2.0.0,>=1.0.1.post2 in /opt/anaconda3/lib/python3.9/site-packages (from laserembeddings) (1.11.0)\n",
      "Requirement already satisfied: sacremoses==0.0.35 in /opt/anaconda3/lib/python3.9/site-packages (from laserembeddings) (0.0.35)\n",
      "Requirement already satisfied: transliterate==1.10.2 in /opt/anaconda3/lib/python3.9/site-packages (from laserembeddings) (1.10.2)\n",
      "Requirement already satisfied: numpy<2.0.0,>=1.15.4 in /opt/anaconda3/lib/python3.9/site-packages (from laserembeddings) (1.21.5)\n",
      "Requirement already satisfied: click in /opt/anaconda3/lib/python3.9/site-packages (from sacremoses==0.0.35->laserembeddings) (8.0.4)\n",
      "Requirement already satisfied: joblib in /opt/anaconda3/lib/python3.9/site-packages (from sacremoses==0.0.35->laserembeddings) (1.1.0)\n",
      "Requirement already satisfied: six in /opt/anaconda3/lib/python3.9/site-packages (from sacremoses==0.0.35->laserembeddings) (1.16.0)\n",
      "Requirement already satisfied: tqdm in /opt/anaconda3/lib/python3.9/site-packages (from sacremoses==0.0.35->laserembeddings) (4.63.0)\n",
      "Requirement already satisfied: mock in /opt/anaconda3/lib/python3.9/site-packages (from subword-nmt<0.4.0,>=0.3.6->laserembeddings) (4.0.3)\n",
      "Requirement already satisfied: typing-extensions in /opt/anaconda3/lib/python3.9/site-packages (from torch<2.0.0,>=1.0.1.post2->laserembeddings) (4.7.1)\n",
      "Note: you may need to restart the kernel to use updated packages.\n"
     ]
    }
   ],
   "source": [
    "pip install laserembeddings"
   ]
  },
  {
   "cell_type": "code",
   "execution_count": 10,
   "id": "87ff25d0",
   "metadata": {},
   "outputs": [
    {
     "name": "stdout",
     "output_type": "stream",
     "text": [
      "/Applications/Xcode.app/Contents/Developer/usr/bin/python3: No module named laserembeddings\r\n"
     ]
    }
   ],
   "source": [
    "!/usr/bin/python3 -m laserembeddings download-models"
   ]
  },
  {
   "cell_type": "code",
   "execution_count": 11,
   "id": "814bf8c7",
   "metadata": {},
   "outputs": [],
   "source": [
    "# run this in terminal first: python -m laserembeddings download-models\n",
    "from laserembeddings import Laser\n",
    "\n",
    "laser = Laser()\n",
    "en_text_array = laser.embed_sentences(en_filtered_comments, lang='en')\n",
    "es_text_array = laser.embed_sentences(es_filtered_comments, lang='es')"
   ]
  },
  {
   "cell_type": "markdown",
   "id": "f4dd3f58",
   "metadata": {},
   "source": [
    "## Emoji Count Median/Mean"
   ]
  },
  {
   "cell_type": "code",
   "execution_count": 19,
   "id": "4d27081a",
   "metadata": {},
   "outputs": [
    {
     "ename": "UnboundLocalError",
     "evalue": "local variable 'emoji_list' referenced before assignment",
     "output_type": "error",
     "traceback": [
      "\u001b[0;31m---------------------------------------------------------------------------\u001b[0m",
      "\u001b[0;31mUnboundLocalError\u001b[0m                         Traceback (most recent call last)",
      "Input \u001b[0;32mIn [19]\u001b[0m, in \u001b[0;36m<cell line: 9>\u001b[0;34m()\u001b[0m\n\u001b[1;32m      6\u001b[0m     \u001b[38;5;66;03m# Count the number of emoji strings\u001b[39;00m\n\u001b[1;32m      7\u001b[0m     \u001b[38;5;28;01mreturn\u001b[39;00m \u001b[38;5;28mlen\u001b[39m(emoji_list)\n\u001b[0;32m----> 9\u001b[0m en_emoji_counts \u001b[38;5;241m=\u001b[39m \u001b[43men_df\u001b[49m\u001b[43m[\u001b[49m\u001b[38;5;124;43m'\u001b[39;49m\u001b[38;5;124;43memoji list\u001b[39;49m\u001b[38;5;124;43m'\u001b[39;49m\u001b[43m]\u001b[49m\u001b[38;5;241;43m.\u001b[39;49m\u001b[43mapply\u001b[49m\u001b[43m(\u001b[49m\u001b[43mcount_emojis\u001b[49m\u001b[43m)\u001b[49m\n\u001b[1;32m     10\u001b[0m en_emoji_counts\n",
      "File \u001b[0;32m/opt/anaconda3/lib/python3.9/site-packages/pandas/core/series.py:4433\u001b[0m, in \u001b[0;36mSeries.apply\u001b[0;34m(self, func, convert_dtype, args, **kwargs)\u001b[0m\n\u001b[1;32m   4323\u001b[0m \u001b[38;5;28;01mdef\u001b[39;00m \u001b[38;5;21mapply\u001b[39m(\n\u001b[1;32m   4324\u001b[0m     \u001b[38;5;28mself\u001b[39m,\n\u001b[1;32m   4325\u001b[0m     func: AggFuncType,\n\u001b[0;32m   (...)\u001b[0m\n\u001b[1;32m   4328\u001b[0m     \u001b[38;5;241m*\u001b[39m\u001b[38;5;241m*\u001b[39mkwargs,\n\u001b[1;32m   4329\u001b[0m ) \u001b[38;5;241m-\u001b[39m\u001b[38;5;241m>\u001b[39m DataFrame \u001b[38;5;241m|\u001b[39m Series:\n\u001b[1;32m   4330\u001b[0m     \u001b[38;5;124;03m\"\"\"\u001b[39;00m\n\u001b[1;32m   4331\u001b[0m \u001b[38;5;124;03m    Invoke function on values of Series.\u001b[39;00m\n\u001b[1;32m   4332\u001b[0m \n\u001b[0;32m   (...)\u001b[0m\n\u001b[1;32m   4431\u001b[0m \u001b[38;5;124;03m    dtype: float64\u001b[39;00m\n\u001b[1;32m   4432\u001b[0m \u001b[38;5;124;03m    \"\"\"\u001b[39;00m\n\u001b[0;32m-> 4433\u001b[0m     \u001b[38;5;28;01mreturn\u001b[39;00m \u001b[43mSeriesApply\u001b[49m\u001b[43m(\u001b[49m\u001b[38;5;28;43mself\u001b[39;49m\u001b[43m,\u001b[49m\u001b[43m \u001b[49m\u001b[43mfunc\u001b[49m\u001b[43m,\u001b[49m\u001b[43m \u001b[49m\u001b[43mconvert_dtype\u001b[49m\u001b[43m,\u001b[49m\u001b[43m \u001b[49m\u001b[43margs\u001b[49m\u001b[43m,\u001b[49m\u001b[43m \u001b[49m\u001b[43mkwargs\u001b[49m\u001b[43m)\u001b[49m\u001b[38;5;241;43m.\u001b[39;49m\u001b[43mapply\u001b[49m\u001b[43m(\u001b[49m\u001b[43m)\u001b[49m\n",
      "File \u001b[0;32m/opt/anaconda3/lib/python3.9/site-packages/pandas/core/apply.py:1082\u001b[0m, in \u001b[0;36mSeriesApply.apply\u001b[0;34m(self)\u001b[0m\n\u001b[1;32m   1078\u001b[0m \u001b[38;5;28;01mif\u001b[39;00m \u001b[38;5;28misinstance\u001b[39m(\u001b[38;5;28mself\u001b[39m\u001b[38;5;241m.\u001b[39mf, \u001b[38;5;28mstr\u001b[39m):\n\u001b[1;32m   1079\u001b[0m     \u001b[38;5;66;03m# if we are a string, try to dispatch\u001b[39;00m\n\u001b[1;32m   1080\u001b[0m     \u001b[38;5;28;01mreturn\u001b[39;00m \u001b[38;5;28mself\u001b[39m\u001b[38;5;241m.\u001b[39mapply_str()\n\u001b[0;32m-> 1082\u001b[0m \u001b[38;5;28;01mreturn\u001b[39;00m \u001b[38;5;28;43mself\u001b[39;49m\u001b[38;5;241;43m.\u001b[39;49m\u001b[43mapply_standard\u001b[49m\u001b[43m(\u001b[49m\u001b[43m)\u001b[49m\n",
      "File \u001b[0;32m/opt/anaconda3/lib/python3.9/site-packages/pandas/core/apply.py:1137\u001b[0m, in \u001b[0;36mSeriesApply.apply_standard\u001b[0;34m(self)\u001b[0m\n\u001b[1;32m   1131\u001b[0m         values \u001b[38;5;241m=\u001b[39m obj\u001b[38;5;241m.\u001b[39mastype(\u001b[38;5;28mobject\u001b[39m)\u001b[38;5;241m.\u001b[39m_values\n\u001b[1;32m   1132\u001b[0m         \u001b[38;5;66;03m# error: Argument 2 to \"map_infer\" has incompatible type\u001b[39;00m\n\u001b[1;32m   1133\u001b[0m         \u001b[38;5;66;03m# \"Union[Callable[..., Any], str, List[Union[Callable[..., Any], str]],\u001b[39;00m\n\u001b[1;32m   1134\u001b[0m         \u001b[38;5;66;03m# Dict[Hashable, Union[Union[Callable[..., Any], str],\u001b[39;00m\n\u001b[1;32m   1135\u001b[0m         \u001b[38;5;66;03m# List[Union[Callable[..., Any], str]]]]]\"; expected\u001b[39;00m\n\u001b[1;32m   1136\u001b[0m         \u001b[38;5;66;03m# \"Callable[[Any], Any]\"\u001b[39;00m\n\u001b[0;32m-> 1137\u001b[0m         mapped \u001b[38;5;241m=\u001b[39m \u001b[43mlib\u001b[49m\u001b[38;5;241;43m.\u001b[39;49m\u001b[43mmap_infer\u001b[49m\u001b[43m(\u001b[49m\n\u001b[1;32m   1138\u001b[0m \u001b[43m            \u001b[49m\u001b[43mvalues\u001b[49m\u001b[43m,\u001b[49m\n\u001b[1;32m   1139\u001b[0m \u001b[43m            \u001b[49m\u001b[43mf\u001b[49m\u001b[43m,\u001b[49m\u001b[43m  \u001b[49m\u001b[38;5;66;43;03m# type: ignore[arg-type]\u001b[39;49;00m\n\u001b[1;32m   1140\u001b[0m \u001b[43m            \u001b[49m\u001b[43mconvert\u001b[49m\u001b[38;5;241;43m=\u001b[39;49m\u001b[38;5;28;43mself\u001b[39;49m\u001b[38;5;241;43m.\u001b[39;49m\u001b[43mconvert_dtype\u001b[49m\u001b[43m,\u001b[49m\n\u001b[1;32m   1141\u001b[0m \u001b[43m        \u001b[49m\u001b[43m)\u001b[49m\n\u001b[1;32m   1143\u001b[0m \u001b[38;5;28;01mif\u001b[39;00m \u001b[38;5;28mlen\u001b[39m(mapped) \u001b[38;5;129;01mand\u001b[39;00m \u001b[38;5;28misinstance\u001b[39m(mapped[\u001b[38;5;241m0\u001b[39m], ABCSeries):\n\u001b[1;32m   1144\u001b[0m     \u001b[38;5;66;03m# GH#43986 Need to do list(mapped) in order to get treated as nested\u001b[39;00m\n\u001b[1;32m   1145\u001b[0m     \u001b[38;5;66;03m#  See also GH#25959 regarding EA support\u001b[39;00m\n\u001b[1;32m   1146\u001b[0m     \u001b[38;5;28;01mreturn\u001b[39;00m obj\u001b[38;5;241m.\u001b[39m_constructor_expanddim(\u001b[38;5;28mlist\u001b[39m(mapped), index\u001b[38;5;241m=\u001b[39mobj\u001b[38;5;241m.\u001b[39mindex)\n",
      "File \u001b[0;32m/opt/anaconda3/lib/python3.9/site-packages/pandas/_libs/lib.pyx:2870\u001b[0m, in \u001b[0;36mpandas._libs.lib.map_infer\u001b[0;34m()\u001b[0m\n",
      "Input \u001b[0;32mIn [19]\u001b[0m, in \u001b[0;36mcount_emojis\u001b[0;34m(row)\u001b[0m\n\u001b[1;32m      1\u001b[0m \u001b[38;5;28;01mdef\u001b[39;00m \u001b[38;5;21mcount_emojis\u001b[39m(row):\n\u001b[1;32m      2\u001b[0m     \u001b[38;5;66;03m# Split the string by ',' to get individual emoji strings\u001b[39;00m\n\u001b[0;32m----> 3\u001b[0m     emoji_list \u001b[38;5;241m=\u001b[39m \u001b[43memoji_list\u001b[49m[\u001b[38;5;241m1\u001b[39m,\u001b[38;5;241m-\u001b[39m\u001b[38;5;241m1\u001b[39m]\n\u001b[1;32m      4\u001b[0m     emoji_list \u001b[38;5;241m=\u001b[39m row\u001b[38;5;241m.\u001b[39msplit(\u001b[38;5;124m'\u001b[39m\u001b[38;5;124m, \u001b[39m\u001b[38;5;124m'\u001b[39m)\n\u001b[1;32m      6\u001b[0m     \u001b[38;5;66;03m# Count the number of emoji strings\u001b[39;00m\n",
      "\u001b[0;31mUnboundLocalError\u001b[0m: local variable 'emoji_list' referenced before assignment"
     ]
    }
   ],
   "source": [
    "def count_emojis(row):\n",
    "    # Split the string by ',' to get individual emoji strings\n",
    "    emoji_list = row[1,-1].split(', ')\n",
    "#     emoji_list = row.split(', ')\n",
    "    \n",
    "    # Count the number of emoji strings\n",
    "    return len(emoji_list)\n",
    "\n",
    "en_emoji_counts = en_df['emoji list'].apply(count_emojis)\n",
    "en_emoji_counts"
   ]
  },
  {
   "cell_type": "code",
   "execution_count": 16,
   "id": "9526b378",
   "metadata": {},
   "outputs": [
    {
     "data": {
      "text/plain": [
       "0                               ['😂']\n",
       "1                               ['🥺']\n",
       "2                     ['💛', '💙', '❤']\n",
       "3                          ['🗑', '🙄']\n",
       "4                               ['😂']\n",
       "                    ...              \n",
       "545                             ['😂']\n",
       "546    ['👋', '🏼', '👋', '🏼', '✈', '✈']\n",
       "547                        ['🏆', '🐐']\n",
       "548              ['😅', '😅', '😅', '😅']\n",
       "549                             ['😂']\n",
       "Name: emoji list, Length: 280, dtype: object"
      ]
     },
     "execution_count": 16,
     "metadata": {},
     "output_type": "execute_result"
    }
   ],
   "source": [
    "en_df['emoji list']"
   ]
  },
  {
   "cell_type": "code",
   "execution_count": 15,
   "id": "6bfaf6d1",
   "metadata": {},
   "outputs": [
    {
     "data": {
      "text/plain": [
       "0       5\n",
       "1       5\n",
       "2      15\n",
       "3      10\n",
       "4       5\n",
       "       ..\n",
       "545     5\n",
       "546    30\n",
       "547    10\n",
       "548    20\n",
       "549     5\n",
       "Name: emoji list, Length: 280, dtype: int64"
      ]
     },
     "execution_count": 15,
     "metadata": {},
     "output_type": "execute_result"
    }
   ],
   "source": [
    "emoji_counts = en_df['emoji list'].apply(lambda row: len(row))\n",
    "emoji_counts\n"
   ]
  },
  {
   "cell_type": "markdown",
   "id": "1c7b356d",
   "metadata": {},
   "source": [
    "## Emoji Embeddings using Emoji2Vec"
   ]
  },
  {
   "cell_type": "code",
   "execution_count": 12,
   "id": "c71241e8",
   "metadata": {},
   "outputs": [],
   "source": [
    "from gensim.models import KeyedVectors\n",
    "\n",
    "en_emoji = en_df['emoji list'].to_list()\n",
    "\n",
    "# Load pretrained emoji embeddings\n",
    "emoji_model = KeyedVectors.load_word2vec_format('emoji2vec.bin', binary=True)\n",
    "\n",
    "# Initialize a list to store emoji embeddings\n",
    "en_emoji_embedding = []\n",
    "\n",
    "for emoji_list in en_emoji:\n",
    "    emoji_list_embedding = []  # Initialize a list for embeddings of each emoji list\n",
    "    for emoji in emoji_list:\n",
    "        try:\n",
    "            emoji_list_embedding.append(emoji_model[emoji])\n",
    "        except KeyError:\n",
    "            pass\n",
    "    if len(emoji_list_embedding) != 0:\n",
    "        emoji_list_embedding = np.concatenate(emoji_list_embedding, axis=0)\n",
    "    en_emoji_embedding.append(emoji_list_embedding)\n",
    "\n",
    "\n",
    "en_max_size = max(len(arr) for arr in en_emoji_embedding)\n",
    "en_padded_arrays = [np.pad(arr, (0, en_max_size - len(arr)), 'constant') for arr in en_emoji_embedding]\n",
    "en_emoji_array = np.vstack(en_padded_arrays)"
   ]
  },
  {
   "cell_type": "code",
   "execution_count": 13,
   "id": "17f8995f",
   "metadata": {},
   "outputs": [
    {
     "data": {
      "text/plain": [
       "(280, 3600)"
      ]
     },
     "execution_count": 13,
     "metadata": {},
     "output_type": "execute_result"
    }
   ],
   "source": [
    "en_emoji_array.shape"
   ]
  },
  {
   "cell_type": "code",
   "execution_count": 14,
   "id": "30440c47",
   "metadata": {},
   "outputs": [
    {
     "data": {
      "text/plain": [
       "(280, 1024)"
      ]
     },
     "execution_count": 14,
     "metadata": {},
     "output_type": "execute_result"
    }
   ],
   "source": [
    "en_text_array.shape"
   ]
  },
  {
   "cell_type": "code",
   "execution_count": 15,
   "id": "4421f4de",
   "metadata": {},
   "outputs": [],
   "source": [
    "es_emoji = es_df['emoji list'].to_list()\n",
    "\n",
    "es_emoji_embedding = []\n",
    "\n",
    "for emoji_list in es_emoji:\n",
    "    emoji_list_embedding = []  # Initialize a list for embeddings of each emoji list\n",
    "    for emoji in emoji_list:\n",
    "        try:\n",
    "            emoji_list_embedding.append(emoji_model[emoji])\n",
    "        except KeyError:\n",
    "            pass\n",
    "    if len(emoji_list_embedding) != 0:\n",
    "        emoji_list_embedding = np.concatenate(emoji_list_embedding, axis=0)\n",
    "\n",
    "    es_emoji_embedding.append(emoji_list_embedding)\n",
    "\n",
    "es_max_size = max(len(arr) for arr in es_emoji_embedding)\n",
    "es_padded_arrays = [np.pad(arr, (0, es_max_size - len(arr)), 'constant') for arr in es_emoji_embedding]\n",
    "es_emoji_array = np.vstack(es_padded_arrays)"
   ]
  },
  {
   "cell_type": "markdown",
   "id": "940cccfa",
   "metadata": {},
   "source": [
    "## Concatenate the text embeddings and emoji embeddings (if there are more than one emoji, we concatenate all of them)"
   ]
  },
  {
   "cell_type": "code",
   "execution_count": 16,
   "id": "6d0c33e3",
   "metadata": {},
   "outputs": [],
   "source": [
    "import numpy as np\n",
    "\n",
    "# Concatenate along columns (horizontally)\n",
    "en_embeddings = np.concatenate((en_text_array, en_emoji_array), axis=1)\n",
    "es_embeddings = np.concatenate((es_text_array, es_emoji_array), axis=1)"
   ]
  },
  {
   "cell_type": "markdown",
   "id": "6e6b9108",
   "metadata": {},
   "source": [
    "### Padded_arrays may affect clustering result. What else can we do to normalize data with varying size of embeddings?"
   ]
  },
  {
   "cell_type": "code",
   "execution_count": 17,
   "id": "7a679dd3",
   "metadata": {},
   "outputs": [
    {
     "data": {
      "text/plain": [
       "4624"
      ]
     },
     "execution_count": 17,
     "metadata": {},
     "output_type": "execute_result"
    }
   ],
   "source": [
    "len(en_embeddings[0])"
   ]
  },
  {
   "cell_type": "code",
   "execution_count": 18,
   "id": "908e063d",
   "metadata": {},
   "outputs": [
    {
     "data": {
      "text/plain": [
       "9424"
      ]
     },
     "execution_count": 18,
     "metadata": {},
     "output_type": "execute_result"
    }
   ],
   "source": [
    "len(es_embeddings[0])"
   ]
  },
  {
   "cell_type": "markdown",
   "id": "344979b9",
   "metadata": {},
   "source": [
    "## Try clustering using minibatch Kmeans -- concatenated word + emoji embeddings"
   ]
  },
  {
   "cell_type": "code",
   "execution_count": 24,
   "id": "67ef0aa0",
   "metadata": {},
   "outputs": [],
   "source": [
    "from sklearn.cluster import MiniBatchKMeans\n",
    "from sklearn.cluster import KMeans\n",
    "from sklearn.metrics import silhouette_samples, silhouette_score"
   ]
  },
  {
   "cell_type": "markdown",
   "id": "8c3dce54",
   "metadata": {},
   "source": [
    "### Determine optimal number of clusters"
   ]
  },
  {
   "cell_type": "markdown",
   "id": "2b614d27",
   "metadata": {},
   "source": [
    "#### Distortion Score Elbow\n",
    "- based on calculating the Within-Cluster-Sum of Squared Errors (WSS) for different number of clusters (k) and selecting the k for which change in WSS first starts to diminish."
   ]
  },
  {
   "cell_type": "code",
   "execution_count": 22,
   "id": "9a432855",
   "metadata": {},
   "outputs": [
    {
     "name": "stdout",
     "output_type": "stream",
     "text": [
      "Collecting yellowbrick\n",
      "  Downloading yellowbrick-1.5-py3-none-any.whl (282 kB)\n",
      "\u001b[K     |████████████████████████████████| 282 kB 560 kB/s eta 0:00:01\n",
      "\u001b[?25hRequirement already satisfied: numpy>=1.16.0 in /opt/anaconda3/lib/python3.9/site-packages (from yellowbrick) (1.21.5)\n",
      "Requirement already satisfied: scikit-learn>=1.0.0 in /opt/anaconda3/lib/python3.9/site-packages (from yellowbrick) (1.0.2)\n",
      "Requirement already satisfied: scipy>=1.0.0 in /opt/anaconda3/lib/python3.9/site-packages (from yellowbrick) (1.7.3)\n",
      "Requirement already satisfied: matplotlib!=3.0.0,>=2.0.2 in /opt/anaconda3/lib/python3.9/site-packages (from yellowbrick) (3.5.1)\n",
      "Requirement already satisfied: cycler>=0.10.0 in /opt/anaconda3/lib/python3.9/site-packages (from yellowbrick) (0.11.0)\n",
      "Requirement already satisfied: pyparsing>=2.2.1 in /opt/anaconda3/lib/python3.9/site-packages (from matplotlib!=3.0.0,>=2.0.2->yellowbrick) (3.0.4)\n",
      "Requirement already satisfied: pillow>=6.2.0 in /opt/anaconda3/lib/python3.9/site-packages (from matplotlib!=3.0.0,>=2.0.2->yellowbrick) (9.0.1)\n",
      "Requirement already satisfied: kiwisolver>=1.0.1 in /opt/anaconda3/lib/python3.9/site-packages (from matplotlib!=3.0.0,>=2.0.2->yellowbrick) (1.3.2)\n",
      "Requirement already satisfied: fonttools>=4.22.0 in /opt/anaconda3/lib/python3.9/site-packages (from matplotlib!=3.0.0,>=2.0.2->yellowbrick) (4.25.0)\n",
      "Requirement already satisfied: python-dateutil>=2.7 in /opt/anaconda3/lib/python3.9/site-packages (from matplotlib!=3.0.0,>=2.0.2->yellowbrick) (2.8.2)\n",
      "Requirement already satisfied: packaging>=20.0 in /opt/anaconda3/lib/python3.9/site-packages (from matplotlib!=3.0.0,>=2.0.2->yellowbrick) (21.3)\n",
      "Requirement already satisfied: six>=1.5 in /opt/anaconda3/lib/python3.9/site-packages (from python-dateutil>=2.7->matplotlib!=3.0.0,>=2.0.2->yellowbrick) (1.16.0)\n",
      "Requirement already satisfied: joblib>=0.11 in /opt/anaconda3/lib/python3.9/site-packages (from scikit-learn>=1.0.0->yellowbrick) (1.1.0)\n",
      "Requirement already satisfied: threadpoolctl>=2.0.0 in /opt/anaconda3/lib/python3.9/site-packages (from scikit-learn>=1.0.0->yellowbrick) (2.2.0)\n",
      "Installing collected packages: yellowbrick\n",
      "Successfully installed yellowbrick-1.5\n",
      "Note: you may need to restart the kernel to use updated packages.\n"
     ]
    }
   ],
   "source": [
    "pip install yellowbrick"
   ]
  },
  {
   "cell_type": "code",
   "execution_count": 25,
   "id": "f27f1c70",
   "metadata": {},
   "outputs": [
    {
     "data": {
      "image/png": "[encoded data removed]",
      "text/plain": [
       "<Figure size 576x396 with 2 Axes>"
      ]
     },
     "metadata": {},
     "output_type": "display_data"
    },
    {
     "data": {
      "text/plain": [
       "<AxesSubplot:title={'center':'Distortion Score Elbow for KMeans Clustering'}, xlabel='k', ylabel='distortion score'>"
      ]
     },
     "execution_count": 25,
     "metadata": {},
     "output_type": "execute_result"
    }
   ],
   "source": [
    "# referenced https://towardsdatascience.com/cheat-sheet-to-implementing-7-methods-for-selecting-optimal-number-of-clusters-in-python-898241e1d6ad\n",
    "# Elbow Method for K means\n",
    "# Import ElbowVisualizer\n",
    "from yellowbrick.cluster import KElbowVisualizer\n",
    "model = KMeans()\n",
    "# k is range of number of clusters.\n",
    "visualizer = KElbowVisualizer(model, k=(2,30), timings= True)\n",
    "visualizer.fit(en_embeddings)        # Fit data to visualizer\n",
    "visualizer.show()        # Finalize and render figure"
   ]
  },
  {
   "cell_type": "markdown",
   "id": "8869ffc0",
   "metadata": {},
   "source": [
    "#### Silhouette Coefficient Method"
   ]
  },
  {
   "cell_type": "code",
   "execution_count": 26,
   "id": "03f911dc",
   "metadata": {},
   "outputs": [
    {
     "data": {
      "image/png": "[encoded data removed]",
      "text/plain": [
       "<Figure size 576x396 with 2 Axes>"
      ]
     },
     "metadata": {},
     "output_type": "display_data"
    },
    {
     "data": {
      "text/plain": [
       "<AxesSubplot:title={'center':'Silhouette Score Elbow for KMeans Clustering'}, xlabel='k', ylabel='silhouette score'>"
      ]
     },
     "execution_count": 26,
     "metadata": {},
     "output_type": "execute_result"
    }
   ],
   "source": [
    "# Silhouette Score for K means\n",
    "# Import ElbowVisualizer\n",
    "from yellowbrick.cluster import KElbowVisualizer\n",
    "model = KMeans()\n",
    "# k is range of number of clusters.\n",
    "visualizer = KElbowVisualizer(model, k=(2,30),metric='silhouette', timings= True)\n",
    "visualizer.fit(en_embeddings)        # Fit the data to the visualizer\n",
    "visualizer.show()        # Finalize and render the figure"
   ]
  },
  {
   "cell_type": "markdown",
   "id": "3ab10571",
   "metadata": {},
   "source": [
    "#### Calinski-Harabasz Index"
   ]
  },
  {
   "cell_type": "code",
   "execution_count": 27,
   "id": "66e0db3e",
   "metadata": {},
   "outputs": [
    {
     "data": {
      "image/png": "[encoded data removed]",
      "text/plain": [
       "<Figure size 576x396 with 2 Axes>"
      ]
     },
     "metadata": {},
     "output_type": "display_data"
    },
    {
     "data": {
      "text/plain": [
       "<AxesSubplot:title={'center':'Calinski Harabasz Score Elbow for KMeans Clustering'}, xlabel='k', ylabel='calinski harabasz score'>"
      ]
     },
     "execution_count": 27,
     "metadata": {},
     "output_type": "execute_result"
    }
   ],
   "source": [
    "# Calinski Harabasz Score for K means\n",
    "# Import ElbowVisualizer\n",
    "from yellowbrick.cluster import KElbowVisualizer\n",
    "model = KMeans()\n",
    "# k is range of number of clusters.\n",
    "visualizer = KElbowVisualizer(model, k=(2,30),metric='calinski_harabasz', timings= True)\n",
    "visualizer.fit(en_embeddings)        # Fit the data to the visualizer\n",
    "visualizer.show()        # Finalize and render the figure"
   ]
  },
  {
   "cell_type": "markdown",
   "id": "4e173c7d",
   "metadata": {},
   "source": [
    "### Clustering Functions"
   ]
  },
  {
   "cell_type": "code",
   "execution_count": 28,
   "id": "6812e2ed",
   "metadata": {},
   "outputs": [],
   "source": [
    "# code from https://dylancastillo.co/nlp-snippets-cluster-documents-using-word2vec/\n",
    "def mbkmeans_clusters(\n",
    "\tX, \n",
    "    k, \n",
    "    mb, \n",
    "    print_silhouette_values, \n",
    "):\n",
    "    \"\"\"Generate clusters and print Silhouette metrics using MBKmeans\n",
    "\n",
    "    Args:\n",
    "        X: Matrix of features.\n",
    "        k: Number of clusters.\n",
    "        mb: Size of mini-batches.\n",
    "        print_silhouette_values: Print silhouette values per cluster.\n",
    "\n",
    "    Returns:\n",
    "        Trained clustering model and labels based on X.\n",
    "    \"\"\"\n",
    "    km = MiniBatchKMeans(n_clusters=k, batch_size=mb).fit(X)\n",
    "    print(f\"For n_clusters = {k}\")\n",
    "    print(f\"Silhouette coefficient: {silhouette_score(X, km.labels_):0.2f}\")\n",
    "    print(f\"Inertia:{km.inertia_}\")\n",
    "\n",
    "    if print_silhouette_values:\n",
    "        sample_silhouette_values = silhouette_samples(X, km.labels_)\n",
    "        print(f\"Silhouette values:\")\n",
    "        silhouette_values = []\n",
    "        for i in range(k):\n",
    "            cluster_silhouette_values = sample_silhouette_values[km.labels_ == i]\n",
    "            silhouette_values.append(\n",
    "                (\n",
    "                    i,\n",
    "                    cluster_silhouette_values.shape[0],\n",
    "                    cluster_silhouette_values.mean(),\n",
    "                    cluster_silhouette_values.min(),\n",
    "                    cluster_silhouette_values.max(),\n",
    "                )\n",
    "            )\n",
    "        silhouette_values = sorted(\n",
    "            silhouette_values, key=lambda tup: tup[2], reverse=True\n",
    "        )\n",
    "        for s in silhouette_values:\n",
    "            print(\n",
    "                f\"    Cluster {s[0]}: Size:{s[1]} | Avg:{s[2]:.2f} | Min:{s[3]:.2f} | Max: {s[4]:.2f}\"\n",
    "            )\n",
    "    return km, km.labels_"
   ]
  },
  {
   "cell_type": "code",
   "execution_count": 29,
   "id": "24f6195e",
   "metadata": {},
   "outputs": [],
   "source": [
    "def apply_cluster(lang_embeddings, lang_df, lang_filtered_comments, k):\n",
    "    clustering, cluster_labels = mbkmeans_clusters(\n",
    "        X=lang_embeddings,\n",
    "        k=k,\n",
    "        mb=500,\n",
    "        print_silhouette_values=True,\n",
    "    )\n",
    "    df_clusters = pd.DataFrame({\n",
    "        \"text\": lang_df['text'],\n",
    "        \"tokens\": [\" \".join(text) for text in lang_filtered_comments],\n",
    "        \"cluster\": cluster_labels\n",
    "    })\n",
    "    return df_clusters"
   ]
  },
  {
   "cell_type": "markdown",
   "id": "75b6c6ed",
   "metadata": {},
   "source": [
    "### English Results"
   ]
  },
  {
   "cell_type": "code",
   "execution_count": 30,
   "id": "c8f9b6e6",
   "metadata": {},
   "outputs": [
    {
     "name": "stdout",
     "output_type": "stream",
     "text": [
      "For n_clusters = 11\n",
      "Silhouette coefficient: 0.13\n",
      "Inertia:326.5032438248994\n",
      "Silhouette values:\n",
      "    Cluster 6: Size:2 | Avg:0.65 | Min:0.64 | Max: 0.65\n",
      "    Cluster 2: Size:15 | Avg:0.41 | Min:0.27 | Max: 0.47\n",
      "    Cluster 4: Size:7 | Avg:0.33 | Min:0.17 | Max: 0.40\n",
      "    Cluster 7: Size:3 | Avg:0.32 | Min:0.25 | Max: 0.36\n",
      "    Cluster 10: Size:12 | Avg:0.28 | Min:0.15 | Max: 0.38\n",
      "    Cluster 0: Size:75 | Avg:0.25 | Min:0.07 | Max: 0.35\n",
      "    Cluster 8: Size:13 | Avg:0.17 | Min:-0.00 | Max: 0.32\n",
      "    Cluster 9: Size:19 | Avg:0.10 | Min:0.02 | Max: 0.16\n",
      "    Cluster 5: Size:10 | Avg:0.09 | Min:-0.08 | Max: 0.16\n",
      "    Cluster 3: Size:22 | Avg:0.08 | Min:-0.09 | Max: 0.22\n",
      "    Cluster 1: Size:102 | Avg:-0.03 | Min:-0.16 | Max: 0.03\n"
     ]
    }
   ],
   "source": [
    "en_df_clusters = apply_cluster(en_embeddings, en_df, en_filtered_comments, 11)"
   ]
  },
  {
   "cell_type": "markdown",
   "id": "9edfd308",
   "metadata": {},
   "source": [
    "Top 3 English clusters"
   ]
  },
  {
   "cell_type": "code",
   "execution_count": 31,
   "id": "c519a4c0",
   "metadata": {},
   "outputs": [
    {
     "data": {
      "text/plain": [
       "['@jan_schawe to what 😂😂😂😂😂',\n",
       " 'One Love 🌈✖ 😂😂😂 one two ✔ 🤭🤭🤭',\n",
       " \"@shintia97s love over hate !! I'm sorry that you've got so much anger inside for another human. But I forgive you and send you love and support. 🫂🫂🤗🤗😘😘🏳️\\u200d🌈🏳️\\u200d🌈\",\n",
       " 'Bro was forced to do it😂😂😂😂😂',\n",
       " 'Wow nice moves robo😍😍😍😍😍😍😍😍 challenge accepted 🔥🔥🔥🔥',\n",
       " \"@mounia.kr__ 😂😂😂 that's the fact about the football.. you people are still too backward(refused) to accept modern changes about modern football.. keep on believing on ancient believes😂😂... No matter the shades, Algeria have not wil never be part of the Qatar world cup😂. NEVER!!. Cameroon is a football giant with Africa and world records. there is nothing you can do about it so chill and enjoy football 😂\",\n",
       " 'African should stop joining FIFA games is such a shame aww😢😢😢😢',\n",
       " 'Dude… YOUR team was so rude and had poor sportsmanship. This new generation think they are entitled😡 Any other country would have been honored to be in the world cup to play on the same field with these GREAT players from 🇭🇷 \\n\\nI hope this humbles them. Canada player were acting like little brats. Croatia shut them up and put them on time out. Literally OUT😂💪🏻🇭🇷🇭🇷🇭🇷🇭🇷🇭🇷🇭🇷🏆🏆🏆🏆⚽️⚽️⚽️🇭🇷🇭🇷🇭🇷🇭🇷🇭🇷🇭🇷🇭🇷🇭🇷🇭🇷',\n",
       " '@tina.f.aoun @gretta.khoury_ bs rebho aalaykun😂😂😂😂😂',\n",
       " 'All I watch was pessi missing a pen a 3 big chances in front of the goal 😂😂😂😂👏 small game player',\n",
       " '@mr_yasser25 yeah but u didn’t qualify 😂😂😂😂😂 try again in the next 4yrs 😂😂😂',\n",
       " '@anchan_0722_ 😂😂😂',\n",
       " '@88godiswithme 😂😂😂😂😂😂😂 congratulations!!',\n",
       " '@spasho05 😂😂😂😂',\n",
       " '@farzad_1818 pretty soon that will be \\U0001faf1🏾\\u200d\\U0001faf2🏽✈️🇳🇱🇧🇷🇪🇸 😂😂😂',\n",
       " '@enkiduh how about now 😂😂😂😂😂 ❤️❤️❤️❤️❤️',\n",
       " 'You people should leave the innocent referee alone.He was paid by the English team to work on their favour by giving them 2 undeserving penalties but the God of French team made sure to expose them and made them lose.Now they are on their way home with their salty fans but crying and blaming the referee. You people should blame Harry Kane for missing that last undeserving penalty 😂😂😂😂',\n",
       " '@aashasz Exactly what I said but the blind fans are blaming the referee instead of blaming Harry Kane😢😂😂😂',\n",
       " 'Keep crying england 😂😂😂😂',\n",
       " 'Pogba always late....A Real African Timer😂😂😂😂❤️',\n",
       " '@guilherme_tornich 💪🇦🇷🇦🇷🇦🇷😂😂',\n",
       " '@_fmbe_ What do you say? 😂😂😂🇦🇷🇦🇷🇦🇷🇦🇷']"
      ]
     },
     "execution_count": 31,
     "metadata": {},
     "output_type": "execute_result"
    }
   ],
   "source": [
    "en_df_clusters[en_df_clusters['cluster']==3]['text'].tolist()"
   ]
  },
  {
   "cell_type": "code",
   "execution_count": 32,
   "id": "eda7ec52",
   "metadata": {},
   "outputs": [
    {
     "data": {
      "text/plain": [
       "['This nikka sick wit it🔥😂',\n",
       " 'The France 🇫🇷 is on Fire 🔥',\n",
       " 'dats literally my dad 🔥',\n",
       " '@pure_sh1thousery we are winer❤️❤️🔥🇮🇷🇮🇷🇮🇷🇮🇷',\n",
       " 'Musiala all the way🔥',\n",
       " 'Rushford 🔥',\n",
       " 'Nice game 🔥',\n",
       " '🇹🇳 ❤️🔥 should be proud 👏',\n",
       " 'Wow very gorgeous ❤️🔥😍',\n",
       " 'Congratulations 🔥👏',\n",
       " 'Cool🔥',\n",
       " 'The big and champions France in Qatar2022🔥',\n",
       " '@farzad_1818 I like both team but wowwww Maroccco 🔥',\n",
       " '@m.a.l.e.k.a.n.o_jr Just wait🔥',\n",
       " 'Well played Morocco’s number 7 a good play maker enjoyed his movments 🔥 see you next time fight for 3rd 👏']"
      ]
     },
     "execution_count": 32,
     "metadata": {},
     "output_type": "execute_result"
    }
   ],
   "source": [
    "en_df_clusters[en_df_clusters['cluster']==2]['text'].tolist()"
   ]
  },
  {
   "cell_type": "code",
   "execution_count": 33,
   "id": "454a9ff2",
   "metadata": {},
   "outputs": [
    {
     "data": {
      "text/plain": [
       "['We love you hazards🔥🔥🔥',\n",
       " 'Best player 🔥🔥',\n",
       " 'My Favorite team 🔥🔥',\n",
       " '@nadoosh_ku I agreed with you from Saudi Arabia🔥🔥🔥',\n",
       " 'Korea Vs Ghana was far better game 🔥🔥',\n",
       " \"BRAZIL VS SERBIA....THE GAME BRAZIL PLAYED AGAINST A TEAM LIKE SERBIA WHICH HAD SUCH AN AMAZING DEFENCE🔥❤️ EVEN THOUGH I'M NOT A BRAZIL FAN😍 BUT WHATEVER FRANCE🔥❤️MY TEAMMMM😍MBAPPE 💗\",\n",
       " '@beatbox_musicality For real bro🔥🔥🔥',\n",
       " 'the real blue lock🙌🔥🔥😍',\n",
       " 'Mbappe on another level in this world cup🔥🔥🔥❤️',\n",
       " 'Th rise of asian football ❤️❤️❤️proudly all Asian can say japan is a Asian football country...,🔥🔥🔥',\n",
       " 'So much ❤️❤️❤️❤️ for CR7🔥🔥',\n",
       " 'Go Croatia!!🔥🔥',\n",
       " 'Uff he was the best 🔥🔥😍']"
      ]
     },
     "execution_count": 33,
     "metadata": {},
     "output_type": "execute_result"
    }
   ],
   "source": [
    "en_df_clusters[en_df_clusters['cluster']==8]['text'].tolist()"
   ]
  },
  {
   "cell_type": "markdown",
   "id": "893ad2f7",
   "metadata": {},
   "source": [
    "### Spanish Results"
   ]
  },
  {
   "cell_type": "markdown",
   "id": "e0893b25",
   "metadata": {},
   "source": [
    "Top 3 Spanish clusters"
   ]
  },
  {
   "cell_type": "code",
   "execution_count": 34,
   "id": "e16d0060",
   "metadata": {},
   "outputs": [
    {
     "name": "stdout",
     "output_type": "stream",
     "text": [
      "For n_clusters = 11\n",
      "Silhouette coefficient: 0.11\n",
      "Inertia:308.0577284485828\n",
      "Silhouette values:\n",
      "    Cluster 0: Size:12 | Avg:0.45 | Min:0.14 | Max: 0.52\n",
      "    Cluster 3: Size:12 | Avg:0.32 | Min:0.22 | Max: 0.40\n",
      "    Cluster 5: Size:47 | Avg:0.23 | Min:0.04 | Max: 0.29\n",
      "    Cluster 9: Size:11 | Avg:0.21 | Min:-0.00 | Max: 0.32\n",
      "    Cluster 1: Size:12 | Avg:0.20 | Min:-0.05 | Max: 0.33\n",
      "    Cluster 4: Size:20 | Avg:0.17 | Min:-0.11 | Max: 0.33\n",
      "    Cluster 7: Size:4 | Avg:0.16 | Min:-0.07 | Max: 0.29\n",
      "    Cluster 6: Size:17 | Avg:0.15 | Min:0.04 | Max: 0.23\n",
      "    Cluster 2: Size:135 | Avg:0.00 | Min:-0.19 | Max: 0.09\n",
      "    Cluster 8: Size:1 | Avg:0.00 | Min:0.00 | Max: 0.00\n",
      "    Cluster 10: Size:9 | Avg:-0.12 | Min:-0.33 | Max: -0.02\n"
     ]
    }
   ],
   "source": [
    "es_df_clusters = apply_cluster(es_embeddings, es_df, es_filtered_comments, 11)"
   ]
  },
  {
   "cell_type": "code",
   "execution_count": 36,
   "id": "24bb3cfc",
   "metadata": {},
   "outputs": [
    {
     "name": "stdout",
     "output_type": "stream",
     "text": [
      "Collecting translate\n",
      "  Downloading translate-3.6.1-py2.py3-none-any.whl (12 kB)\n",
      "Collecting libretranslatepy==2.1.1\n",
      "  Downloading libretranslatepy-2.1.1-py3-none-any.whl (3.2 kB)\n",
      "Requirement already satisfied: requests in /opt/anaconda3/lib/python3.9/site-packages (from translate) (2.27.1)\n",
      "Requirement already satisfied: click in /opt/anaconda3/lib/python3.9/site-packages (from translate) (8.0.4)\n",
      "Requirement already satisfied: lxml in /opt/anaconda3/lib/python3.9/site-packages (from translate) (4.8.0)\n",
      "Requirement already satisfied: idna<4,>=2.5 in /opt/anaconda3/lib/python3.9/site-packages (from requests->translate) (3.3)\n",
      "Requirement already satisfied: certifi>=2017.4.17 in /opt/anaconda3/lib/python3.9/site-packages (from requests->translate) (2023.7.22)\n",
      "Requirement already satisfied: urllib3<1.27,>=1.21.1 in /opt/anaconda3/lib/python3.9/site-packages (from requests->translate) (1.26.8)\n",
      "Requirement already satisfied: charset-normalizer~=2.0.0 in /opt/anaconda3/lib/python3.9/site-packages (from requests->translate) (2.0.4)\n",
      "Installing collected packages: libretranslatepy, translate\n",
      "Successfully installed libretranslatepy-2.1.1 translate-3.6.1\n",
      "Note: you may need to restart the kernel to use updated packages.\n"
     ]
    }
   ],
   "source": [
    "pip install translate"
   ]
  },
  {
   "cell_type": "code",
   "execution_count": 37,
   "id": "0e7baa5f",
   "metadata": {},
   "outputs": [],
   "source": [
    "from translate import Translator"
   ]
  },
  {
   "cell_type": "code",
   "execution_count": 38,
   "id": "52665cc8",
   "metadata": {},
   "outputs": [],
   "source": [
    "translator = Translator(from_lang=\"es\", to_lang='en')\n",
    "es_df_clusters['translation'] = es_df_clusters['text'].apply(lambda x: translator.translate(x))"
   ]
  },
  {
   "cell_type": "code",
   "execution_count": 39,
   "id": "5f9525d9",
   "metadata": {},
   "outputs": [
    {
     "data": {
      "text/plain": [
       "['❤️❤️❤️❤️❤️❤️ Ecuadorians 😍😍😍😍😍',\n",
       " \"I need an ice Pepsi Blue 😋😋😋😋😋 fuck, maybe this year they won't launch it??? 🤔🤔🤔\",\n",
       " '@btito_.avak best goalkeeper in the world, proceeds to lose 7 to 0😍😍😍',\n",
       " 'Eden hazard comes back😍😍😍',\n",
       " 'Love the French T-shirt 😍😍😍 🇺🇾🇨🇵',\n",
       " 'Lol Casillas!!! 😍😍',\n",
       " 'equator: Witchcraft 🤬🤬🤬😨😨😓😥😥😭😭😭😭',\n",
       " 'Brazil is going to win the Cathar scribe today, their friend and colleague Yoangela Arminda Gonzalez tells them today 12/08/2022🇻🇪💚💚💚💚💚 from Venezuela🔥🔥🔥🔥🙌🙌🙌,🇧🇷🇧🇷🇧🇷🇧🇷🇧🇷🇧🇷',\n",
       " 'Ronaldo']"
      ]
     },
     "execution_count": 39,
     "metadata": {},
     "output_type": "execute_result"
    }
   ],
   "source": [
    "es_df_clusters[es_df_clusters['cluster']==10]['translation'].tolist()"
   ]
  },
  {
   "cell_type": "code",
   "execution_count": 40,
   "id": "3b7d3778",
   "metadata": {},
   "outputs": [
    {
     "data": {
      "text/plain": [
       "['11 goals were eaten, ⚽🥅 the most scored in the World Cup 😂😂😂😂',\n",
       " '@lucaasperee Texas is worth to us pura vrga\\nWe are one of the countries with the most territory in the world\\nBut English is spoken in the Falklands 😂😂😂😂',\n",
       " '@diegoo_menendezz there was no error in the VAR, DO not CRY TELL US😂😂😂😂',\n",
       " '@matt.changa plus penalty gave uruWHY and the clowns leaving the stadium hitting the monitor of the VAR. ELIMINATED😂😂😂😂😂',\n",
       " \"@sofiaramosfleury now say it without crying. IT WASN 'T CRIMINAL😂😂😂😂😂😂\",\n",
       " '@stuffbarbdoes lol zero 😂😂😂😂',\n",
       " 'Croatia',\n",
       " '@acdc.jpedro 😂😂😂😂😂',\n",
       " 'What happened is that the phenomenon of now no longer plays like before the cago😂😂😂😂',\n",
       " 'Please intercede so that the Iranian player is not executed. \"🙏🙏🙏🙏🙏',\n",
       " \"How not to remember Zidane's headbutt!!! 😂😂😂😂\"]"
      ]
     },
     "execution_count": 40,
     "metadata": {},
     "output_type": "execute_result"
    }
   ],
   "source": [
    "es_df_clusters[es_df_clusters['cluster']==9]['translation'].tolist()"
   ]
  },
  {
   "cell_type": "code",
   "execution_count": 41,
   "id": "3e3c1b7b",
   "metadata": {},
   "outputs": [
    {
     "data": {
      "text/plain": [
       "['How seductive the one in the second photo 😂😂',\n",
       " 'love banget idola saya portugal - Cristiano ronaldo.😍',\n",
       " '@magggitomcruz we are already in the cup, it is called USA 🇺🇸 lmao p3nd3j0 😂😂',\n",
       " 'That is, one cap penalty, the other scores a goal and this is the best of the game. Yesterday Ferran scored 2 goals and made great plays and the best was Gavi. 😂😂',\n",
       " '@daje_mitico 😂😂',\n",
       " '@lauhernandezchavez La Payasada They found it expensive 😂',\n",
       " 'Poor guy 😂',\n",
       " 'Ecuador made them dance, humiliated them and supposedly this was the best player 😂 after they cancel  a legitimate goal, they also get their hands on the best player when everyone perfectly realized that Ecuador surpassed them, that they are shameless',\n",
       " 'Ronaldo',\n",
       " 'A cockroach with a baygon moves more😂',\n",
       " '@jomiguelrivera the goal of the century we did it to Italy😂',\n",
       " 'What a good deal for our selection 😂',\n",
       " 'We re-sit it to the Polish😂',\n",
       " '@el_pishuelo Uruguay does not exist on the map which is Uruguay?😂😂',\n",
       " 'Hahahaha no desire to search the search engine 😂',\n",
       " 'The team that won x that Portugal let itself be won did the same in Spain😂',\n",
       " 'golazo chihuahua dog😂😂 face that iso haha',\n",
       " '@salvalopz4 look at the stars that each shield has and then tell me who is the child of who 😂',\n",
       " '@_arabicqueen_ dream😂😂',\n",
       " \"@vlz.matthew_ you're too young next to Uruguay or the World Cup qualifiers 😂\",\n",
       " '@romanruizdiazok Argentines are so excited😂',\n",
       " '@Abderazak_ot ok, the fact is that the defeat was deserved, but you are not joking, I repeat that Morocco has neither trophies nor history 😂',\n",
       " '@anthony_pv05 If you guys had played England, it would be  50-0😂',\n",
       " '@_monniiiiiiiiii_ There is a Moroccan proverb that says, “Crying after the dead is a loss.”😂',\n",
       " \"@diego_mendivels0 the only Latino who did not speak Spanish. That's why they're not going to win the World Cup 😂\\U0001fae3😅\",\n",
       " '@luizhenrique_147  that passed Brazil eliminated 😂',\n",
       " 'They mufaron 😂',\n",
       " '@emiliojose_v save this comment. Piece of so re te.  Seriously, your parents must be brothers, but difficult to be so Bob0😂',\n",
       " \"That it wasn't that he was going to win ?? Crying Cristaldo😹😹\",\n",
       " 'How to planio😂🙌',\n",
       " '@dansabras Brazil tell me what it feels like to have your dad at home 😂 🇦🇷🇦🇷🇦🇷',\n",
       " \"@life_is_sedd how's that for you? 😂\",\n",
       " 'I hope you support your own worldcup 😂',\n",
       " 'that they pass the mess in Qatar 😂',\n",
       " 'Peppy',\n",
       " 'Ronaldo is always a genius!! Ronaldo😂 is Argentine, he belongs to everyone!!!',\n",
       " \"@sofi_more.mv it's not my country I'm Chilean, that's because I want Argentina to lose 😂\",\n",
       " '@r_cotic27 Your Croatia lifting surra 😂',\n",
       " 'Go there 😂',\n",
       " 'Hahahaha see you in 4 years !!! 😂',\n",
       " \"I didn't work I failed the penalty thanks 😂😂\",\n",
       " 'Double breast 😂👏',\n",
       " \"@ swapichiMake me this one and I'll believe you. 😂\",\n",
       " \"@ivanalvaradoq good thing that with football he eats all of Argentina, ah no, he doesn't 😂 pd: I'm not Spanish 😘\",\n",
       " \"@ amberpeeters97and Spain doesn't even know how to play 😀\",\n",
       " 'Hahahaha and they were left outsideaa😂😂',\n",
       " 'Argentina vs all French colonies and associates 😂']"
      ]
     },
     "execution_count": 41,
     "metadata": {},
     "output_type": "execute_result"
    }
   ],
   "source": [
    "es_df_clusters[es_df_clusters['cluster']==5]['translation'].tolist()"
   ]
  },
  {
   "cell_type": "markdown",
   "id": "ec3221e3",
   "metadata": {},
   "source": [
    "## Clustering with LASER Embeddings on text only"
   ]
  },
  {
   "cell_type": "markdown",
   "id": "55b5431b",
   "metadata": {},
   "source": [
    "Clustering with only the laser embeddings do not seem to work."
   ]
  },
  {
   "cell_type": "code",
   "execution_count": 42,
   "id": "71d99e49",
   "metadata": {},
   "outputs": [
    {
     "data": {
      "image/png": "[encoded data removed]",
      "text/plain": [
       "<Figure size 576x396 with 2 Axes>"
      ]
     },
     "metadata": {},
     "output_type": "display_data"
    },
    {
     "data": {
      "text/plain": [
       "<AxesSubplot:title={'center':'Distortion Score Elbow for KMeans Clustering'}, xlabel='k', ylabel='distortion score'>"
      ]
     },
     "execution_count": 42,
     "metadata": {},
     "output_type": "execute_result"
    }
   ],
   "source": [
    "# referenced https://towardsdatascience.com/cheat-sheet-to-implementing-7-methods-for-selecting-optimal-number-of-clusters-in-python-898241e1d6ad\n",
    "# Elbow Method for K means\n",
    "# Import ElbowVisualizer\n",
    "from yellowbrick.cluster import KElbowVisualizer\n",
    "model = KMeans()\n",
    "# k is range of number of clusters.\n",
    "visualizer = KElbowVisualizer(model, k=(2,30), timings= True)\n",
    "visualizer.fit(en_text_array)        # Fit data to visualizer\n",
    "visualizer.show()        # Finalize and render figure"
   ]
  },
  {
   "cell_type": "code",
   "execution_count": 43,
   "id": "2c4790e9",
   "metadata": {},
   "outputs": [
    {
     "name": "stdout",
     "output_type": "stream",
     "text": [
      "For n_clusters = 10\n",
      "Silhouette coefficient: 0.03\n",
      "Inertia:43.184913635253906\n",
      "Silhouette values:\n",
      "    Cluster 7: Size:16 | Avg:0.25 | Min:0.08 | Max: 0.37\n",
      "    Cluster 5: Size:59 | Avg:0.06 | Min:-0.03 | Max: 0.12\n",
      "    Cluster 9: Size:14 | Avg:0.05 | Min:-0.02 | Max: 0.10\n",
      "    Cluster 3: Size:34 | Avg:0.02 | Min:-0.08 | Max: 0.13\n",
      "    Cluster 6: Size:7 | Avg:0.01 | Min:-0.02 | Max: 0.05\n",
      "    Cluster 2: Size:33 | Avg:0.01 | Min:-0.08 | Max: 0.08\n",
      "    Cluster 4: Size:20 | Avg:0.00 | Min:-0.04 | Max: 0.04\n",
      "    Cluster 0: Size:4 | Avg:-0.01 | Min:-0.05 | Max: 0.01\n",
      "    Cluster 1: Size:28 | Avg:-0.01 | Min:-0.06 | Max: 0.05\n",
      "    Cluster 8: Size:65 | Avg:-0.02 | Min:-0.10 | Max: 0.05\n"
     ]
    }
   ],
   "source": [
    "en_df_clusters_laser = apply_cluster(en_text_array, en_df, en_filtered_comments, 10)"
   ]
  },
  {
   "cell_type": "code",
   "execution_count": 45,
   "id": "83dec129",
   "metadata": {},
   "outputs": [
    {
     "data": {
      "text/plain": [
       "['Son🥺',\n",
       " '@_francechy_ 🤣🤣🤣',\n",
       " '@the_real_thorstinho #onetwo 🤭🤭🤭🤭🤭',\n",
       " 'Definitely!!! 👏👏👏👏👏',\n",
       " 'Rushford 🔥',\n",
       " '@anchan_0722_ 😂😂😂',\n",
       " '@88godiswithme 😂😂😂😂😂😂😂 congratulations!!',\n",
       " 'Congratulations 🔥👏',\n",
       " 'respect 👏',\n",
       " 'Cool🔥',\n",
       " '@spasho05 😂😂😂😂',\n",
       " 'Richarlison 🗿🍷',\n",
       " 'Caption 💯',\n",
       " '@robertmikocevic yes 😉😉🔥',\n",
       " 'Follow @__footycontent_ 😍',\n",
       " '@shreyanshpathak8717 😂']"
      ]
     },
     "execution_count": 45,
     "metadata": {},
     "output_type": "execute_result"
    }
   ],
   "source": [
    "en_df_clusters_laser[en_df_clusters_laser['cluster']==7]['text'].tolist()"
   ]
  },
  {
   "cell_type": "code",
   "execution_count": 46,
   "id": "8eb40c55",
   "metadata": {},
   "outputs": [
    {
     "data": {
      "text/plain": [
       "['We are ready 💛💙❤️',\n",
       " 'Fantastis group..✌😄',\n",
       " '@smithswith_ ❤️so good!!',\n",
       " '@jan_schawe to what 😂😂😂😂😂',\n",
       " '@5400.seconds are u there bro? 🤣',\n",
       " 'We love you hazards🔥🔥🔥',\n",
       " 'Gay people, they are my favorite 🌈🌈',\n",
       " '@afdhalulrizki42 😂 Stupid Football yes 😂',\n",
       " 'Italy >>❤️',\n",
       " 'Mount❤️',\n",
       " 'dats literally my dad 🔥',\n",
       " 'Best player 🔥🔥',\n",
       " 'He is completely right! 👏',\n",
       " 'Brilliant player 👏🔥',\n",
       " 'My Favorite team 🔥🔥',\n",
       " '@nadoosh_ku I agreed with you from Saudi Arabia🔥🔥🔥',\n",
       " '@hana_photographyc 😂 Well done 👏',\n",
       " '@_hey.its.sup_ we did it 😉🙌',\n",
       " 'hand ball 👏',\n",
       " '@realestate_topg what happened 🤣🤣',\n",
       " 'Loveee this ❤️',\n",
       " '@itsabdelfatah you were right 👏',\n",
       " 'Nice game 🔥',\n",
       " '@beatbox_musicality For real bro🔥🔥🔥',\n",
       " '@kourosh_offiziell 🇧🇷🇧🇷🏆🏆🏆🏆🏆 🤫',\n",
       " '@rya._.ntz23 and now denmark are out 😂',\n",
       " 'the real blue lock🙌🔥🔥😍',\n",
       " 'the last one 💀',\n",
       " 'That throw was lit👏🔥',\n",
       " '@joyce_pecky they were well played🙌🏻🙌🏻',\n",
       " '@memphis is a lion 🦁🦁🦁',\n",
       " 'They themselves said it portugal sui😂😂',\n",
       " '@richard.escobarc by 😂😂🇲🇦💪',\n",
       " 'Morata is second 😱',\n",
       " 'Wow so much fun 😂',\n",
       " '@m.a.l.e.k.a.n.o_jr Just wait🔥',\n",
       " 'HE SO FINE OMLL 😍',\n",
       " 'Japan played better 😢',\n",
       " '@its_romay 😢 me rn',\n",
       " 'Yep, ney is gone🤣',\n",
       " '@ash.saalax 😂 what about it now',\n",
       " 'Respect for the drone operator🛐',\n",
       " 'We Respect Japan 🙌🙌🙌🔥🔥',\n",
       " 'Keep crying england 😂😂😂😂',\n",
       " '@goborm hehe Habibi🤣🤣',\n",
       " 'You can’t drink tho😂',\n",
       " 'The best and only goat 🐐',\n",
       " 'They kost💀',\n",
       " '@guilherme_tornich 💪🇦🇷🇦🇷🇦🇷😂😂',\n",
       " '@mess_91_ @aiden44w home and happy🥳🥳🤌🏻',\n",
       " '@fifaworldcup shame on you 👎👎👎👎🤬',\n",
       " '@crocodile_bw \"no hate allowed\" ?🤫😉',\n",
       " '@porti_elias Its True buddy👏👏',\n",
       " 'They are so cute \\U0001f979\\U0001f979',\n",
       " 'Go Croatia!!🔥🔥',\n",
       " '@fabreezy_ 👏👏👏 this is yours???',\n",
       " '@k.mbappe proud of you👏',\n",
       " 'Uff he was the best 🔥🔥😍',\n",
       " '@anthonyengel7111 Are you still sure?😅😅😅😅']"
      ]
     },
     "execution_count": 46,
     "metadata": {},
     "output_type": "execute_result"
    }
   ],
   "source": [
    "en_df_clusters_laser[en_df_clusters_laser['cluster']==5]['text'].tolist()"
   ]
  },
  {
   "cell_type": "code",
   "execution_count": 56,
   "id": "62070f22",
   "metadata": {},
   "outputs": [
    {
     "data": {
      "text/plain": [
       "['@dhofar_photo 🏳️\\u200d⚧️☪️🏳️\\u200d🌈',\n",
       " 'This is an insult\\nWe lost because of their support🤦\\u200d♂️',\n",
       " '@kourosh_offiziell who has more has 5 ⭐️⭐️⭐️⭐️⭐️🤫',\n",
       " 'CR7 ❤️🙌',\n",
       " '🇹🇳 ❤️🔥 should be proud 👏',\n",
       " '@blueblink5254 dude also, I am embarrassed FOR YOU! 🤦\\u200d♀️',\n",
       " 'Argentina 3.points win yees❤️😘',\n",
       " 'Boys 🇧🇷❤️🍻',\n",
       " '@enkiduh how about now 😂😂😂😂😂 ❤️❤️❤️❤️❤️',\n",
       " 'So much ❤️❤️❤️❤️ for CR7🔥🔥',\n",
       " 'France ❤️😍and Argentina 😍❤️❤️',\n",
       " '@hassan.ahmed.07 6 Games 5 goals 3 assist now😍',\n",
       " '@yayatjie09 😂😂 ay y’all praise this guy too much 🤦🏾\\u200d♂️',\n",
       " 'Bye bye France!! 👋🏼👋🏼✈️ ✈️']"
      ]
     },
     "execution_count": 56,
     "metadata": {},
     "output_type": "execute_result"
    }
   ],
   "source": [
    "en_df_clusters_laser[en_df_clusters_laser['cluster']==9]['text'].tolist()"
   ]
  },
  {
   "cell_type": "code",
   "execution_count": 47,
   "id": "90820149",
   "metadata": {},
   "outputs": [
    {
     "data": {
      "image/png": "[encoded data removed]",
      "text/plain": [
       "<Figure size 576x396 with 2 Axes>"
      ]
     },
     "metadata": {},
     "output_type": "display_data"
    },
    {
     "data": {
      "text/plain": [
       "<AxesSubplot:title={'center':'Distortion Score Elbow for KMeans Clustering'}, xlabel='k', ylabel='distortion score'>"
      ]
     },
     "execution_count": 47,
     "metadata": {},
     "output_type": "execute_result"
    }
   ],
   "source": [
    "model = KMeans()\n",
    "# k is range of number of clusters.\n",
    "visualizer = KElbowVisualizer(model, k=(2,30), timings= True)\n",
    "visualizer.fit(es_text_array)        # Fit data to visualizer\n",
    "visualizer.show()     "
   ]
  },
  {
   "cell_type": "code",
   "execution_count": 48,
   "id": "e177293c",
   "metadata": {},
   "outputs": [
    {
     "name": "stdout",
     "output_type": "stream",
     "text": [
      "For n_clusters = 8\n",
      "Silhouette coefficient: 0.04\n",
      "Inertia:36.516971588134766\n",
      "Silhouette values:\n",
      "    Cluster 7: Size:25 | Avg:0.24 | Min:0.07 | Max: 0.41\n",
      "    Cluster 5: Size:7 | Avg:0.18 | Min:0.06 | Max: 0.28\n",
      "    Cluster 1: Size:28 | Avg:0.10 | Min:0.04 | Max: 0.16\n",
      "    Cluster 2: Size:49 | Avg:0.06 | Min:-0.06 | Max: 0.17\n",
      "    Cluster 3: Size:64 | Avg:0.00 | Min:-0.11 | Max: 0.11\n",
      "    Cluster 0: Size:1 | Avg:0.00 | Min:0.00 | Max: 0.00\n",
      "    Cluster 4: Size:64 | Avg:-0.02 | Min:-0.11 | Max: 0.06\n",
      "    Cluster 6: Size:42 | Avg:-0.03 | Min:-0.17 | Max: 0.06\n"
     ]
    }
   ],
   "source": [
    "es_df_clusters_laser = apply_cluster(es_text_array, es_df, es_filtered_comments, 8)"
   ]
  },
  {
   "cell_type": "code",
   "execution_count": 58,
   "id": "7718c8c6",
   "metadata": {},
   "outputs": [],
   "source": [
    "es_df_clusters_laser['translation'] = es_df_clusters_laser['text'].apply(lambda x: translator.translate(x))"
   ]
  },
  {
   "cell_type": "code",
   "execution_count": 63,
   "id": "275e6784",
   "metadata": {},
   "outputs": [
    {
     "data": {
      "text/plain": [
       "['Corrupción 💰💰💰💰',\n",
       " '👏👏🙌🙌Ecuador',\n",
       " '@jctorr130 1-1🤫🤫🤫🤫',\n",
       " '@daje_mitico 😂😂',\n",
       " 'Valencia🔥🔥🔥',\n",
       " '@andamente enormes 🙌🏼',\n",
       " 'gracias 😍',\n",
       " '@luisitorres_ sí 🥵',\n",
       " 'Mierda 😂😂😂😂😂😂😂😂',\n",
       " '@guiguelpaulo 😢',\n",
       " 'Argentina 🔥💚',\n",
       " '@caro2653 👏👏👏',\n",
       " '@_arabicqueen_ dream😂😂',\n",
       " 'el mayor 🤩🤩',\n",
       " '😍ñ🔥🔥🔥',\n",
       " 'Croacia 😂😂😂😂😂',\n",
       " 'Nanicos⭐⭐🤏',\n",
       " 'Paquetá 🥵',\n",
       " '@acdc.jpedro 😂😂😂😂😂',\n",
       " '@liga_profesional_de_truco 👍🏻',\n",
       " '@b.local 😂😂😂👏',\n",
       " '@maxirodriguez11oficial genio!!! 👏👏👏👏💙🤍💙',\n",
       " 'Marrocos👏👏👐👐',\n",
       " 'Roberto 🔥🔥',\n",
       " '@laparra_1 👀']"
      ]
     },
     "execution_count": 63,
     "metadata": {},
     "output_type": "execute_result"
    }
   ],
   "source": [
    "es_df_clusters_laser[es_df_clusters_laser['cluster']==7]['text'].tolist()"
   ]
  },
  {
   "cell_type": "code",
   "execution_count": 64,
   "id": "db105254",
   "metadata": {},
   "outputs": [
    {
     "data": {
      "text/plain": [
       "['ECUADOR IN DA HOUSE 🔥🔥🔥🔥🔥🔥🇪🇨🇪🇨🇪🇨🇪🇨🇪🇨🇪🇨🇪🇨🙌🙌🙌🙌🙌🙌🙌🙌 #ecuadorarrechohp',\n",
       " 'Los goles que gritò y llorò más son con Argentina! Creo que es el sueño de todo Argentino sacar adelante a su país, y estamos en muy buenas manos!! #afaseleccion 👏👏👏👏🔥🔥🔥🔥🙌 #messi 🙌👏👏👏👏🔥🔥🔥🔥🔥🔥🔥💪🏼💪🏼💪🏼💪🏼💪🏼💪🏼💪🏼🇦🇷🇦🇷🇦🇷🇦🇷🇦🇷🇦🇷🇦🇷',\n",
       " 'Argentina 🇦🇷🇦🇷🇦🇷🇦🇷🙌',\n",
       " '@tacianebarros_ vamos argentina viva diego 🇦🇷🇦🇷🇦🇷🇦🇷💙💙🏆',\n",
       " 'Brasil va ganar el catar escribano hoy se los dice su amiga y compañera Yoangela Arminda Gonzalez hoy 08/12/2022🇻🇪💚💚💚💚💚 desde Venezuela 🔥🔥🔥🔥🙌🙌🙌,🇧🇷🇧🇷🇧🇷🇧🇷🇧🇷🇧🇷',\n",
       " 'El postre preferido de MESSI 🔟🇦🇷🇦🇷🇦🇷🇦🇷🇦🇷🇦🇷🇦🇷',\n",
       " 'Primero...no lo hace tan bien, segundo...Brasiiiiiilllll😂😂😂🇦🇷🇦🇷🇦🇷🇦🇷🇦🇷']"
      ]
     },
     "execution_count": 64,
     "metadata": {},
     "output_type": "execute_result"
    }
   ],
   "source": [
    "es_df_clusters_laser[es_df_clusters_laser['cluster']==5]['text'].tolist()"
   ]
  },
  {
   "cell_type": "code",
   "execution_count": 57,
   "id": "98074d95",
   "metadata": {},
   "outputs": [
    {
     "data": {
      "text/plain": [
       "['👏👏vamos con todo, strong',\n",
       " 'ya esta viejo el cucho ☹☹',\n",
       " '@bbsitaj ya vamos a ver el 18 de diciembre 😉',\n",
       " 'Te amamos @yosoy8a 🇲🇽🔥',\n",
       " '@lauhernandezchavez La Payasada Les salió caro 😂',\n",
       " 'El mejor de todos ❤️👏',\n",
       " '@letigallo mis respetos para las mujeres en todas partes🙌 💕',\n",
       " 'Lamentablemente lo vi 😔',\n",
       " 'Que buen negocio el de nuestra selección 😂',\n",
       " '@pablogavi buena suerte🔥',\n",
       " 'El mejor del mundo 👏🏻 😍',\n",
       " '@fabilleao cállate la boca anda🤫🤫',\n",
       " 'Que bueno que sos 😭😭😭',\n",
       " 'Aún duele😢',\n",
       " '@hilla_loaiza que nivel 🔥🔥🔥',\n",
       " 'Que partidazo el de este señor🔥',\n",
       " 'Pride? 🏳️\\u200d🌈?',\n",
       " '@j_fonse10 😂😂😂yo tambien ati',\n",
       " '@lorran.fon 😢😢😢😢😢Lo siento ha perdido la partida 😂😂😂😂😂😂😂😂',\n",
       " 'Fue un partido exquisito 🔥',\n",
       " '🤏🤏🤏🤏🤏 no quería perder el nivel..',\n",
       " 'Cómo planio😂🙌',\n",
       " '@life_is_sedd como te quedo eso ? 😂',\n",
       " 'Anda para allá 😂',\n",
       " '@lovely_angel_kh no te entiendo pero, ok🙌',\n",
       " '@julietacontento ARE YOU AT HOME NOW 🤔',\n",
       " '@swapichi Hacéme esta pues y te creo. 😂',\n",
       " 'Que dia horrível 😞']"
      ]
     },
     "execution_count": 57,
     "metadata": {},
     "output_type": "execute_result"
    }
   ],
   "source": [
    "es_df_clusters_laser[es_df_clusters_laser['cluster']==1]['text'].tolist()"
   ]
  },
  {
   "cell_type": "code",
   "execution_count": 70,
   "id": "4c36cc82",
   "metadata": {},
   "outputs": [
    {
     "data": {
      "text/plain": [
       "300"
      ]
     },
     "execution_count": 70,
     "metadata": {},
     "output_type": "execute_result"
    }
   ],
   "source": [
    "len(emoji_model['😞'])"
   ]
  },
  {
   "cell_type": "code",
   "execution_count": null,
   "id": "f9bc0052",
   "metadata": {},
   "outputs": [],
   "source": []
  }
 ],
 "metadata": {
  "kernelspec": {
   "display_name": "Python 3 (ipykernel)",
   "language": "python",
   "name": "python3"
  },
  "language_info": {
   "codemirror_mode": {
    "name": "ipython",
    "version": 3
   },
   "file_extension": ".py",
   "mimetype": "text/x-python",
   "name": "python",
   "nbconvert_exporter": "python",
   "pygments_lexer": "ipython3",
   "version": "3.9.12"
  }
 },
 "nbformat": 4,
 "nbformat_minor": 5
}
