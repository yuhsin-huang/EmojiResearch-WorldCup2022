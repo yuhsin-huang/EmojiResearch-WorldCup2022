{
 "cells": [
  {
   "cell_type": "code",
   "execution_count": 1,
   "metadata": {},
   "outputs": [
    {
     "name": "stdout",
     "output_type": "stream",
     "text": [
      "Requirement already satisfied: langdetect in /opt/anaconda3/lib/python3.9/site-packages (1.0.9)\n",
      "Requirement already satisfied: six in /opt/anaconda3/lib/python3.9/site-packages (from langdetect) (1.16.0)\n",
      "Requirement already satisfied: emoji in /opt/anaconda3/lib/python3.9/site-packages (2.8.0)\n"
     ]
    }
   ],
   "source": [
    "!pip install langdetect\n",
    "!pip install emoji"
   ]
  },
  {
   "cell_type": "code",
   "execution_count": 1,
   "metadata": {},
   "outputs": [],
   "source": [
    "import pandas as pd\n",
    "from langdetect import detect\n",
    "import matplotlib.pyplot as plt\n",
    "import emoji"
   ]
  },
  {
   "cell_type": "markdown",
   "metadata": {},
   "source": [
    "# Load data 💽"
   ]
  },
  {
   "cell_type": "code",
   "execution_count": 2,
   "metadata": {},
   "outputs": [],
   "source": [
    "df = pd.read_csv(\"Data/clean_by_date_comments.csv\")"
   ]
  },
  {
   "cell_type": "markdown",
   "metadata": {},
   "source": [
    "# Clean Data 🛀"
   ]
  },
  {
   "cell_type": "markdown",
   "metadata": {},
   "source": [
    "Create new column to categorize the language used in each row. Drop undetectable comments."
   ]
  },
  {
   "cell_type": "code",
   "execution_count": 3,
   "metadata": {},
   "outputs": [],
   "source": [
    "df[\"language\"] = None # create new column\n",
    "\n",
    "undetectable = []\n",
    "for idx, row in df.iterrows():\n",
    "    try:\n",
    "        language = detect(df['text'][idx])\n",
    "        df.at[idx, 'language'] = language\n",
    "    except:\n",
    "        language = \"error\"\n",
    "        undetectable.append(idx)\n",
    "        df.at[idx, 'language'] = None\n",
    "\n",
    "df = df.dropna() # drop undetectable columns"
   ]
  },
  {
   "cell_type": "markdown",
   "metadata": {},
   "source": [
    "Exploration on language counts"
   ]
  },
  {
   "cell_type": "code",
   "execution_count": 4,
   "metadata": {},
   "outputs": [
    {
     "name": "stdout",
     "output_type": "stream",
     "text": [
      "count of language undetectable comments from dataset:  8590\n",
      "\n",
      "unique languages:  ['en' 'af' 'sw' 'it' 'fi' 'pt' 'es' 'et' 'fa' 'id' 'sq' 'pl' 'fr' 'so'\n",
      " 'ko' 'de' 'da' 'tl' 'no' 'he' 'lv' 'ca' 'cy' 'ur' 'sv' 'sk' 'hr' 'nl'\n",
      " 'tr' 'ar' 'hu' 'sl' 'lt' 'vi' 'ro' 'cs' 'ru' 'ja' 'zh-cn' 'bn' 'el' 'bg'\n",
      " 'mk' 'ml' 'th' 'mr' 'uk' 'gu' 'ne' 'hi' 'ta']\n"
     ]
    }
   ],
   "source": [
    "print(\"count of language undetectable comments from dataset: \", len(undetectable))\n",
    "print()\n",
    "\n",
    "languages = df['language'].unique()\n",
    "print(\"unique languages: \", languages)"
   ]
  },
  {
   "cell_type": "code",
   "execution_count": 5,
   "metadata": {},
   "outputs": [
    {
     "data": {
      "image/png": "[encoded data removed]",
      "text/plain": [
       "<Figure size 720x576 with 1 Axes>"
      ]
     },
     "metadata": {
      "needs_background": "light"
     },
     "output_type": "display_data"
    }
   ],
   "source": [
    "df2 = df.pivot_table(index='language', aggfunc='size')\n",
    "\n",
    "plt.figure(figsize=(10, 8))\n",
    "plt.bar(df2.index, df2.values)\n",
    "plt.title(\"Occurance of different languages in dataset\")\n",
    "plt.xticks(rotation=90)\n",
    "plt.xlabel(\"languages\")\n",
    "plt.ylabel(\"comment counts\")\n",
    "plt.show()\n"
   ]
  },
  {
   "cell_type": "markdown",
   "metadata": {},
   "source": [
    "# Select English and Spanish with Emojis ✅"
   ]
  },
  {
   "cell_type": "markdown",
   "metadata": {},
   "source": [
    "Create new dataframes for English and Spanish only."
   ]
  },
  {
   "cell_type": "code",
   "execution_count": 14,
   "metadata": {},
   "outputs": [],
   "source": [
    "def count_words(text):\n",
    "    return len(text.split())\n",
    "\n",
    "def emoji_list(text):\n",
    "    emoji_list = []\n",
    "    for char in text:\n",
    "        if char in emoji.EMOJI_DATA:\n",
    "            emoji_list.append(char)\n",
    "    return emoji_list\n",
    "\n",
    "def text_only(text):\n",
    "    result = ''\n",
    "    for char in text:\n",
    "        if char not in emoji.EMOJI_DATA:\n",
    "            result = result + char\n",
    "    return result\n",
    "\n",
    "def emoji_pattern_list(text):\n",
    "    emoji_pattern_list = []\n",
    "    idx = 0\n",
    "    while idx < len(text):\n",
    "        if text[idx] in emoji.EMOJI_DATA:\n",
    "            emoji_pattern_list.append(text[idx])\n",
    "            while idx+1 < len(text) and text[idx+1] in emoji.EMOJI_DATA:\n",
    "                emoji_pattern_list[-1] += text[idx+1]\n",
    "                idx+=1\n",
    "        idx+=1\n",
    "    \n",
    "    new_list = emoji_pattern_list.copy()\n",
    "        \n",
    "    for pattern in emoji_pattern_list:\n",
    "        if len(pattern) <= 1:\n",
    "            new_list.remove(pattern)\n",
    "         \n",
    "    return new_list\n",
    "\n",
    "def emoji_repetition_list(text):\n",
    "    emoji_repetition_list = []\n",
    "    idx = 0\n",
    "    while idx < len(text):\n",
    "        if text[idx] in emoji.EMOJI_DATA:\n",
    "            emoji_repetition_list.append(text[idx])\n",
    "            while idx+1 < len(text) and text[idx+1] == text[idx]:\n",
    "                emoji_repetition_list[-1] += text[idx+1]\n",
    "                idx+=1\n",
    "        idx+=1\n",
    "    \n",
    "    new_list = emoji_repetition_list.copy()\n",
    "        \n",
    "    for pattern in emoji_repetition_list:\n",
    "        if len(pattern) <= 1:\n",
    "            new_list.remove(pattern)\n",
    "         \n",
    "    return new_list"
   ]
  },
  {
   "cell_type": "code",
   "execution_count": 15,
   "metadata": {},
   "outputs": [
    {
     "name": "stderr",
     "output_type": "stream",
     "text": [
      "/var/folders/l8/77snn1n90h3d717n2q070pzw0000gn/T/ipykernel_64935/2004056874.py:2: SettingWithCopyWarning: \n",
      "A value is trying to be set on a copy of a slice from a DataFrame.\n",
      "Try using .loc[row_indexer,col_indexer] = value instead\n",
      "\n",
      "See the caveats in the documentation: https://pandas.pydata.org/pandas-docs/stable/user_guide/indexing.html#returning-a-view-versus-a-copy\n",
      "  new_df['word count'], new_df['emoji count'], new_df['emoji list'] = None, None, None\n",
      "/var/folders/l8/77snn1n90h3d717n2q070pzw0000gn/T/ipykernel_64935/2004056874.py:2: SettingWithCopyWarning: \n",
      "A value is trying to be set on a copy of a slice from a DataFrame.\n",
      "Try using .loc[row_indexer,col_indexer] = value instead\n",
      "\n",
      "See the caveats in the documentation: https://pandas.pydata.org/pandas-docs/stable/user_guide/indexing.html#returning-a-view-versus-a-copy\n",
      "  new_df['word count'], new_df['emoji count'], new_df['emoji list'] = None, None, None\n",
      "/var/folders/l8/77snn1n90h3d717n2q070pzw0000gn/T/ipykernel_64935/2004056874.py:2: SettingWithCopyWarning: \n",
      "A value is trying to be set on a copy of a slice from a DataFrame.\n",
      "Try using .loc[row_indexer,col_indexer] = value instead\n",
      "\n",
      "See the caveats in the documentation: https://pandas.pydata.org/pandas-docs/stable/user_guide/indexing.html#returning-a-view-versus-a-copy\n",
      "  new_df['word count'], new_df['emoji count'], new_df['emoji list'] = None, None, None\n",
      "/var/folders/l8/77snn1n90h3d717n2q070pzw0000gn/T/ipykernel_64935/2004056874.py:4: SettingWithCopyWarning: \n",
      "A value is trying to be set on a copy of a slice from a DataFrame.\n",
      "Try using .loc[row_indexer,col_indexer] = value instead\n",
      "\n",
      "See the caveats in the documentation: https://pandas.pydata.org/pandas-docs/stable/user_guide/indexing.html#returning-a-view-versus-a-copy\n",
      "  new_df['text only'] = new_df['text'].apply(text_only)\n",
      "/var/folders/l8/77snn1n90h3d717n2q070pzw0000gn/T/ipykernel_64935/2004056874.py:5: SettingWithCopyWarning: \n",
      "A value is trying to be set on a copy of a slice from a DataFrame.\n",
      "Try using .loc[row_indexer,col_indexer] = value instead\n",
      "\n",
      "See the caveats in the documentation: https://pandas.pydata.org/pandas-docs/stable/user_guide/indexing.html#returning-a-view-versus-a-copy\n",
      "  new_df['word count'] = new_df['text'].apply(count_words)\n",
      "/var/folders/l8/77snn1n90h3d717n2q070pzw0000gn/T/ipykernel_64935/2004056874.py:6: SettingWithCopyWarning: \n",
      "A value is trying to be set on a copy of a slice from a DataFrame.\n",
      "Try using .loc[row_indexer,col_indexer] = value instead\n",
      "\n",
      "See the caveats in the documentation: https://pandas.pydata.org/pandas-docs/stable/user_guide/indexing.html#returning-a-view-versus-a-copy\n",
      "  new_df['emoji list'] = new_df['text'].apply(emoji_list)\n",
      "/var/folders/l8/77snn1n90h3d717n2q070pzw0000gn/T/ipykernel_64935/2004056874.py:7: SettingWithCopyWarning: \n",
      "A value is trying to be set on a copy of a slice from a DataFrame.\n",
      "Try using .loc[row_indexer,col_indexer] = value instead\n",
      "\n",
      "See the caveats in the documentation: https://pandas.pydata.org/pandas-docs/stable/user_guide/indexing.html#returning-a-view-versus-a-copy\n",
      "  new_df['emoji count'] = new_df['emoji list'].apply(len)\n",
      "/var/folders/l8/77snn1n90h3d717n2q070pzw0000gn/T/ipykernel_64935/2004056874.py:8: SettingWithCopyWarning: \n",
      "A value is trying to be set on a copy of a slice from a DataFrame.\n",
      "Try using .loc[row_indexer,col_indexer] = value instead\n",
      "\n",
      "See the caveats in the documentation: https://pandas.pydata.org/pandas-docs/stable/user_guide/indexing.html#returning-a-view-versus-a-copy\n",
      "  new_df['emoji pattern list'] = new_df['text'].apply(emoji_pattern_list)\n",
      "/var/folders/l8/77snn1n90h3d717n2q070pzw0000gn/T/ipykernel_64935/2004056874.py:9: SettingWithCopyWarning: \n",
      "A value is trying to be set on a copy of a slice from a DataFrame.\n",
      "Try using .loc[row_indexer,col_indexer] = value instead\n",
      "\n",
      "See the caveats in the documentation: https://pandas.pydata.org/pandas-docs/stable/user_guide/indexing.html#returning-a-view-versus-a-copy\n",
      "  new_df['emoji repetition list'] = new_df['text'].apply(emoji_repetition_list)\n",
      "/var/folders/l8/77snn1n90h3d717n2q070pzw0000gn/T/ipykernel_64935/2004056874.py:10: SettingWithCopyWarning: \n",
      "A value is trying to be set on a copy of a slice from a DataFrame.\n",
      "Try using .loc[row_indexer,col_indexer] = value instead\n",
      "\n",
      "See the caveats in the documentation: https://pandas.pydata.org/pandas-docs/stable/user_guide/indexing.html#returning-a-view-versus-a-copy\n",
      "  new_df['timestamp'] = new_df['timestamp'].str[:10]\n"
     ]
    }
   ],
   "source": [
    "new_df = df[(df['language']=='es') | (df['language']=='en')]\n",
    "new_df['word count'], new_df['emoji count'], new_df['emoji list'] = None, None, None\n",
    "\n",
    "new_df['text only'] = new_df['text'].apply(text_only)\n",
    "new_df['word count'] = new_df['text'].apply(count_words)\n",
    "new_df['emoji list'] = new_df['text'].apply(emoji_list)\n",
    "new_df['emoji count'] = new_df['emoji list'].apply(len)\n",
    "new_df['emoji pattern list'] = new_df['text'].apply(emoji_pattern_list)\n",
    "new_df['emoji repetition list'] = new_df['text'].apply(emoji_repetition_list)\n",
    "new_df['timestamp'] = new_df['timestamp'].str[:10]\n",
    "\n",
    "cleaned_df = new_df[(new_df['word count'] > 0) & (new_df['emoji count'] > 0)]\n",
    "cleaned_df = cleaned_df.drop(cleaned_df[cleaned_df['timestamp'] == '2022-11-20'].index)"
   ]
  },
  {
   "cell_type": "code",
   "execution_count": 20,
   "metadata": {},
   "outputs": [],
   "source": [
    "# Sampling: take max(20, len(n)) comments of each language every day\n",
    "import numpy as np\n",
    "np.random.seed(0)\n",
    "cleaned_df2 = cleaned_df.groupby([cleaned_df['timestamp'], 'language'], as_index=False).apply(lambda df: df.sample((min(10, len(df)))))"
   ]
  },
  {
   "cell_type": "markdown",
   "metadata": {},
   "source": [
    "Graphing cleaned data."
   ]
  },
  {
   "cell_type": "code",
   "execution_count": 21,
   "metadata": {},
   "outputs": [
    {
     "data": {
      "image/png": "[encoded data removed]",
      "text/plain": [
       "<Figure size 720x576 with 1 Axes>"
      ]
     },
     "metadata": {
      "needs_background": "light"
     },
     "output_type": "display_data"
    }
   ],
   "source": [
    "df3 = cleaned_df2.pivot_table(index='language', aggfunc='size')\n",
    "\n",
    "plt.figure(figsize=(10, 8))\n",
    "plt.bar(df3.index, df3.values)\n",
    "plt.title(\"Occurance of different languages in dataset for cleaned data (comments that have both text and emoji)\")\n",
    "plt.xticks(rotation=90)\n",
    "plt.xlabel(\"languages\")\n",
    "plt.ylabel(\"comment counts\")\n",
    "plt.show()"
   ]
  },
  {
   "cell_type": "code",
   "execution_count": 22,
   "metadata": {},
   "outputs": [
    {
     "data": {
      "text/plain": [
       "language\n",
       "en    280\n",
       "es    280\n",
       "dtype: int64"
      ]
     },
     "execution_count": 22,
     "metadata": {},
     "output_type": "execute_result"
    }
   ],
   "source": [
    "df3"
   ]
  },
  {
   "cell_type": "code",
   "execution_count": 23,
   "metadata": {},
   "outputs": [
    {
     "data": {
      "image/png": "[encoded data removed]",
      "text/plain": [
       "<Figure size 720x576 with 1 Axes>"
      ]
     },
     "metadata": {
      "needs_background": "light"
     },
     "output_type": "display_data"
    }
   ],
   "source": [
    "# ratio\n",
    "df_with_emoji_and_text = new_df[new_df['word count'] > 0]\n",
    "df4 = df_with_emoji_and_text.pivot_table(index='language', aggfunc='size')\n",
    "df5 = cleaned_df.pivot_table(index='language', aggfunc='size')\n",
    "plt.figure(figsize=(10, 8))\n",
    "plt.bar(df5.index, df5.values/df4.values)\n",
    "plt.title(\"Emoji Usage Ratio in Different Languages - English vs. Español\")\n",
    "plt.xticks(rotation=90)\n",
    "plt.xlabel(\"languages\")\n",
    "plt.ylabel(\"comment counts\")\n",
    "plt.show()"
   ]
  },
  {
   "cell_type": "markdown",
   "metadata": {},
   "source": [
    "Download to csv."
   ]
  },
  {
   "cell_type": "code",
   "execution_count": 18,
   "metadata": {},
   "outputs": [
    {
     "ename": "NameError",
     "evalue": "name 'cleaned_df2' is not defined",
     "output_type": "error",
     "traceback": [
      "\u001b[0;31m---------------------------------------------------------------------------\u001b[0m",
      "\u001b[0;31mNameError\u001b[0m                                 Traceback (most recent call last)",
      "Input \u001b[0;32mIn [18]\u001b[0m, in \u001b[0;36m<cell line: 1>\u001b[0;34m()\u001b[0m\n\u001b[0;32m----> 1\u001b[0m \u001b[43mcleaned_df2\u001b[49m\u001b[38;5;241m.\u001b[39mto_csv(\u001b[38;5;124m\"\u001b[39m\u001b[38;5;124mData/cleaned_by_language.csv\u001b[39m\u001b[38;5;124m\"\u001b[39m)\n",
      "\u001b[0;31mNameError\u001b[0m: name 'cleaned_df2' is not defined"
     ]
    }
   ],
   "source": [
    "cleaned_df2.to_csv(\"Data/cleaned_by_language.csv\")"
   ]
  },
  {
   "cell_type": "code",
   "execution_count": 25,
   "metadata": {},
   "outputs": [
    {
     "data": {
      "text/plain": [
       "560"
      ]
     },
     "execution_count": 25,
     "metadata": {},
     "output_type": "execute_result"
    }
   ],
   "source": [
    "# total number of rows after sampling\n",
    "cleaned_df2.count()[0]"
   ]
  },
  {
   "cell_type": "code",
   "execution_count": null,
   "metadata": {},
   "outputs": [],
   "source": []
  }
 ],
 "metadata": {
  "kernelspec": {
   "display_name": "Python 3 (ipykernel)",
   "language": "python",
   "name": "python3"
  },
  "language_info": {
   "codemirror_mode": {
    "name": "ipython",
    "version": 3
   },
   "file_extension": ".py",
   "mimetype": "text/x-python",
   "name": "python",
   "nbconvert_exporter": "python",
   "pygments_lexer": "ipython3",
   "version": "3.9.12"
  }
 },
 "nbformat": 4,
 "nbformat_minor": 2
}
