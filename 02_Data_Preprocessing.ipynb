{
 "cells": [
  {
   "cell_type": "code",
   "execution_count": 4,
   "metadata": {},
   "outputs": [
    {
     "name": "stdout",
     "output_type": "stream",
     "text": [
      "Requirement already satisfied: langdetect in /opt/anaconda3/lib/python3.9/site-packages (1.0.9)\n",
      "Requirement already satisfied: six in /opt/anaconda3/lib/python3.9/site-packages (from langdetect) (1.16.0)\n",
      "Collecting emoji\n",
      "  Downloading emoji-2.8.0-py2.py3-none-any.whl (358 kB)\n",
      "\u001b[K     |████████████████████████████████| 358 kB 6.7 MB/s eta 0:00:01\n",
      "\u001b[?25hInstalling collected packages: emoji\n",
      "Successfully installed emoji-2.8.0\n"
     ]
    }
   ],
   "source": [
    "!pip install langdetect\n",
    "!pip install emoji"
   ]
  },
  {
   "cell_type": "code",
   "execution_count": 1,
   "metadata": {},
   "outputs": [],
   "source": [
    "import pandas as pd\n",
    "from langdetect import detect\n",
    "import matplotlib.pyplot as plt\n",
    "import emoji"
   ]
  },
  {
   "cell_type": "markdown",
   "metadata": {},
   "source": [
    "# Load data 💽"
   ]
  },
  {
   "cell_type": "code",
   "execution_count": 2,
   "metadata": {},
   "outputs": [],
   "source": [
    "df = pd.read_csv(\"Data/clean_by_date_comments.csv\")"
   ]
  },
  {
   "cell_type": "markdown",
   "metadata": {},
   "source": [
    "# Clean Data 🛀"
   ]
  },
  {
   "cell_type": "markdown",
   "metadata": {},
   "source": [
    "Create new column to categorize the language used in each row. Drop undetectable comments."
   ]
  },
  {
   "cell_type": "code",
   "execution_count": 3,
   "metadata": {},
   "outputs": [],
   "source": [
    "df[\"language\"] = None # create new column\n",
    "\n",
    "undetectable = []\n",
    "for idx, row in df.iterrows():\n",
    "    try:\n",
    "        language = detect(df['text'][idx])\n",
    "        df.at[idx, 'language'] = language\n",
    "    except:\n",
    "        language = \"error\"\n",
    "        undetectable.append(idx)\n",
    "        df.at[idx, 'language'] = None\n",
    "\n",
    "df = df.dropna() # drop undetectable columns"
   ]
  },
  {
   "cell_type": "markdown",
   "metadata": {},
   "source": [
    "Exploration on language counts"
   ]
  },
  {
   "cell_type": "code",
   "execution_count": 4,
   "metadata": {},
   "outputs": [
    {
     "name": "stdout",
     "output_type": "stream",
     "text": [
      "count of language undetectable comments from dataset:  8590\n",
      "\n",
      "unique languages:  ['hu' 'en' 'af' 'sw' 'it' 'fi' 'pt' 'es' 'et' 'fa' 'id' 'ro' 'pl' 'fr'\n",
      " 'so' 'ko' 'de' 'sv' 'tl' 'no' 'he' 'lv' 'ca' 'ur' 'sk' 'hr' 'nl' 'cy'\n",
      " 'da' 'tr' 'ar' 'sl' 'lt' 'sq' 'vi' 'cs' 'zh-tw' 'ru' 'ja' 'zh-cn' 'bn'\n",
      " 'el' 'bg' 'mk' 'ml' 'th' 'mr' 'uk' 'gu' 'ne' 'hi' 'ta']\n"
     ]
    }
   ],
   "source": [
    "print(\"count of language undetectable comments from dataset: \", len(undetectable))\n",
    "print()\n",
    "\n",
    "languages = df['language'].unique()\n",
    "print(\"unique languages: \", languages)"
   ]
  },
  {
   "cell_type": "code",
   "execution_count": 5,
   "metadata": {},
   "outputs": [
    {
     "data": {
      "image/png": "[encoded data removed]",
      "text/plain": [
       "<Figure size 720x576 with 1 Axes>"
      ]
     },
     "metadata": {
      "needs_background": "light"
     },
     "output_type": "display_data"
    }
   ],
   "source": [
    "df2 = df.pivot_table(index='language', aggfunc='size')\n",
    "\n",
    "plt.figure(figsize=(10, 8))\n",
    "plt.bar(df2.index, df2.values)\n",
    "plt.title(\"Occurance of different languages in dataset\")\n",
    "plt.xticks(rotation=90)\n",
    "plt.xlabel(\"languages\")\n",
    "plt.ylabel(\"comment counts\")\n",
    "plt.show()\n"
   ]
  },
  {
   "cell_type": "markdown",
   "metadata": {},
   "source": [
    "# Select English and Spanish with Emojis ✅"
   ]
  },
  {
   "cell_type": "markdown",
   "metadata": {},
   "source": [
    "Create new dataframes for English and Spanish only."
   ]
  },
  {
   "cell_type": "code",
   "execution_count": 34,
   "metadata": {},
   "outputs": [],
   "source": [
    "def count_words(text):\n",
    "    return len(text.split())\n",
    "\n",
    "def emoji_list(text):\n",
    "    emoji_list = []\n",
    "    for char in text:\n",
    "        if char in emoji.EMOJI_DATA:\n",
    "            emoji_list.append(char)\n",
    "    return emoji_list\n",
    "\n",
    "def emoji_pattern_list(text):\n",
    "    emoji_pattern_list = []\n",
    "    idx = 0\n",
    "    while idx < len(text):\n",
    "        if text[idx] in emoji.EMOJI_DATA:\n",
    "            emoji_pattern_list.append(text[idx])\n",
    "            while idx+1 < len(text) and text[idx+1] in emoji.EMOJI_DATA:\n",
    "                emoji_pattern_list[-1] += text[idx+1]\n",
    "                idx+=1\n",
    "        idx+=1\n",
    "    \n",
    "    new_list = emoji_pattern_list.copy()\n",
    "        \n",
    "    for pattern in emoji_pattern_list:\n",
    "        if len(pattern) <= 1:\n",
    "            new_list.remove(pattern)\n",
    "         \n",
    "    return new_list"
   ]
  },
  {
   "cell_type": "code",
   "execution_count": 35,
   "metadata": {},
   "outputs": [
    {
     "name": "stderr",
     "output_type": "stream",
     "text": [
      "/var/folders/l8/77snn1n90h3d717n2q070pzw0000gn/T/ipykernel_25343/1598462651.py:2: SettingWithCopyWarning: \n",
      "A value is trying to be set on a copy of a slice from a DataFrame.\n",
      "Try using .loc[row_indexer,col_indexer] = value instead\n",
      "\n",
      "See the caveats in the documentation: https://pandas.pydata.org/pandas-docs/stable/user_guide/indexing.html#returning-a-view-versus-a-copy\n",
      "  new_df['word count'], new_df['emoji count'], new_df['emoji list'] = None, None, None\n",
      "/var/folders/l8/77snn1n90h3d717n2q070pzw0000gn/T/ipykernel_25343/1598462651.py:2: SettingWithCopyWarning: \n",
      "A value is trying to be set on a copy of a slice from a DataFrame.\n",
      "Try using .loc[row_indexer,col_indexer] = value instead\n",
      "\n",
      "See the caveats in the documentation: https://pandas.pydata.org/pandas-docs/stable/user_guide/indexing.html#returning-a-view-versus-a-copy\n",
      "  new_df['word count'], new_df['emoji count'], new_df['emoji list'] = None, None, None\n",
      "/var/folders/l8/77snn1n90h3d717n2q070pzw0000gn/T/ipykernel_25343/1598462651.py:2: SettingWithCopyWarning: \n",
      "A value is trying to be set on a copy of a slice from a DataFrame.\n",
      "Try using .loc[row_indexer,col_indexer] = value instead\n",
      "\n",
      "See the caveats in the documentation: https://pandas.pydata.org/pandas-docs/stable/user_guide/indexing.html#returning-a-view-versus-a-copy\n",
      "  new_df['word count'], new_df['emoji count'], new_df['emoji list'] = None, None, None\n",
      "/var/folders/l8/77snn1n90h3d717n2q070pzw0000gn/T/ipykernel_25343/1598462651.py:4: SettingWithCopyWarning: \n",
      "A value is trying to be set on a copy of a slice from a DataFrame.\n",
      "Try using .loc[row_indexer,col_indexer] = value instead\n",
      "\n",
      "See the caveats in the documentation: https://pandas.pydata.org/pandas-docs/stable/user_guide/indexing.html#returning-a-view-versus-a-copy\n",
      "  new_df['word count'] = new_df['text'].apply(count_words)\n",
      "/var/folders/l8/77snn1n90h3d717n2q070pzw0000gn/T/ipykernel_25343/1598462651.py:5: SettingWithCopyWarning: \n",
      "A value is trying to be set on a copy of a slice from a DataFrame.\n",
      "Try using .loc[row_indexer,col_indexer] = value instead\n",
      "\n",
      "See the caveats in the documentation: https://pandas.pydata.org/pandas-docs/stable/user_guide/indexing.html#returning-a-view-versus-a-copy\n",
      "  new_df['emoji list'] = new_df['text'].apply(emoji_list)\n",
      "/var/folders/l8/77snn1n90h3d717n2q070pzw0000gn/T/ipykernel_25343/1598462651.py:6: SettingWithCopyWarning: \n",
      "A value is trying to be set on a copy of a slice from a DataFrame.\n",
      "Try using .loc[row_indexer,col_indexer] = value instead\n",
      "\n",
      "See the caveats in the documentation: https://pandas.pydata.org/pandas-docs/stable/user_guide/indexing.html#returning-a-view-versus-a-copy\n",
      "  new_df['emoji count'] = new_df['emoji list'].apply(len)\n",
      "/var/folders/l8/77snn1n90h3d717n2q070pzw0000gn/T/ipykernel_25343/1598462651.py:7: SettingWithCopyWarning: \n",
      "A value is trying to be set on a copy of a slice from a DataFrame.\n",
      "Try using .loc[row_indexer,col_indexer] = value instead\n",
      "\n",
      "See the caveats in the documentation: https://pandas.pydata.org/pandas-docs/stable/user_guide/indexing.html#returning-a-view-versus-a-copy\n",
      "  new_df['emoji pattern list'] = new_df['text'].apply(emoji_pattern_list)\n",
      "/var/folders/l8/77snn1n90h3d717n2q070pzw0000gn/T/ipykernel_25343/1598462651.py:8: SettingWithCopyWarning: \n",
      "A value is trying to be set on a copy of a slice from a DataFrame.\n",
      "Try using .loc[row_indexer,col_indexer] = value instead\n",
      "\n",
      "See the caveats in the documentation: https://pandas.pydata.org/pandas-docs/stable/user_guide/indexing.html#returning-a-view-versus-a-copy\n",
      "  new_df['timestamp'] = new_df['timestamp'].str[:10]\n"
     ]
    },
    {
     "data": {
      "text/html": [
       "<div>\n",
       "<style scoped>\n",
       "    .dataframe tbody tr th:only-of-type {\n",
       "        vertical-align: middle;\n",
       "    }\n",
       "\n",
       "    .dataframe tbody tr th {\n",
       "        vertical-align: top;\n",
       "    }\n",
       "\n",
       "    .dataframe thead th {\n",
       "        text-align: right;\n",
       "    }\n",
       "</style>\n",
       "<table border=\"1\" class=\"dataframe\">\n",
       "  <thead>\n",
       "    <tr style=\"text-align: right;\">\n",
       "      <th></th>\n",
       "      <th>Unnamed: 0</th>\n",
       "      <th>id</th>\n",
       "      <th>likesCount</th>\n",
       "      <th>ownerProfilePicUrl</th>\n",
       "      <th>ownerUsername</th>\n",
       "      <th>postUrl</th>\n",
       "      <th>text</th>\n",
       "      <th>timestamp</th>\n",
       "      <th>language</th>\n",
       "      <th>word count</th>\n",
       "      <th>emoji count</th>\n",
       "      <th>emoji list</th>\n",
       "      <th>emoji pattern list</th>\n",
       "    </tr>\n",
       "  </thead>\n",
       "  <tbody>\n",
       "    <tr>\n",
       "      <th>19</th>\n",
       "      <td>20741</td>\n",
       "      <td>17888460851738491</td>\n",
       "      <td>2</td>\n",
       "      <td>https://instagram.famd6-1.fna.fbcdn.net/v/t51....</td>\n",
       "      <td>elnaazii</td>\n",
       "      <td>https://www.instagram.com/p/ClLiftGtMx9/</td>\n",
       "      <td>Thank you England for being our voice. 🏴󠁧󠁢󠁥󠁮󠁧󠁿...</td>\n",
       "      <td>2022-11-20</td>\n",
       "      <td>en</td>\n",
       "      <td>13</td>\n",
       "      <td>1</td>\n",
       "      <td>[🏴]</td>\n",
       "      <td>[]</td>\n",
       "    </tr>\n",
       "    <tr>\n",
       "      <th>20</th>\n",
       "      <td>19819</td>\n",
       "      <td>17989943656574386</td>\n",
       "      <td>0</td>\n",
       "      <td>https://instagram.faqb1-1.fna.fbcdn.net/v/t51....</td>\n",
       "      <td>bouafiamine010</td>\n",
       "      <td>https://www.instagram.com/p/ClLYUYBri2H/</td>\n",
       "      <td>Afifiy what are you doing here 😂😂😂</td>\n",
       "      <td>2022-11-20</td>\n",
       "      <td>en</td>\n",
       "      <td>7</td>\n",
       "      <td>3</td>\n",
       "      <td>[😂, 😂, 😂]</td>\n",
       "      <td>[😂😂😂]</td>\n",
       "    </tr>\n",
       "    <tr>\n",
       "      <th>36</th>\n",
       "      <td>20748</td>\n",
       "      <td>17949394271172791</td>\n",
       "      <td>1</td>\n",
       "      <td>https://instagram.famd6-2.fna.fbcdn.net/v/t51....</td>\n",
       "      <td>yfrenkie</td>\n",
       "      <td>https://www.instagram.com/p/ClLiftGtMx9/</td>\n",
       "      <td>Come on guys 🏴󠁧󠁢󠁥󠁮󠁧󠁿</td>\n",
       "      <td>2022-11-20</td>\n",
       "      <td>en</td>\n",
       "      <td>4</td>\n",
       "      <td>1</td>\n",
       "      <td>[🏴]</td>\n",
       "      <td>[]</td>\n",
       "    </tr>\n",
       "    <tr>\n",
       "      <th>61</th>\n",
       "      <td>20759</td>\n",
       "      <td>18254178268189747</td>\n",
       "      <td>0</td>\n",
       "      <td>https://instagram.famd6-2.fna.fbcdn.net/v/t51....</td>\n",
       "      <td>yadi.stiadi23</td>\n",
       "      <td>https://www.instagram.com/p/ClLiftGtMx9/</td>\n",
       "      <td>why maguire brought 🤣</td>\n",
       "      <td>2022-11-21</td>\n",
       "      <td>en</td>\n",
       "      <td>4</td>\n",
       "      <td>1</td>\n",
       "      <td>[🤣]</td>\n",
       "      <td>[]</td>\n",
       "    </tr>\n",
       "    <tr>\n",
       "      <th>63</th>\n",
       "      <td>19830</td>\n",
       "      <td>17878452251773813</td>\n",
       "      <td>2</td>\n",
       "      <td>https://instagram.fgua5-1.fna.fbcdn.net/v/t51....</td>\n",
       "      <td>alfie.castaneda</td>\n",
       "      <td>https://www.instagram.com/p/ClLYUYBri2H/</td>\n",
       "      <td>Im at the industrial zone. 😉</td>\n",
       "      <td>2022-11-21</td>\n",
       "      <td>en</td>\n",
       "      <td>6</td>\n",
       "      <td>1</td>\n",
       "      <td>[😉]</td>\n",
       "      <td>[]</td>\n",
       "    </tr>\n",
       "    <tr>\n",
       "      <th>...</th>\n",
       "      <td>...</td>\n",
       "      <td>...</td>\n",
       "      <td>...</td>\n",
       "      <td>...</td>\n",
       "      <td>...</td>\n",
       "      <td>...</td>\n",
       "      <td>...</td>\n",
       "      <td>...</td>\n",
       "      <td>...</td>\n",
       "      <td>...</td>\n",
       "      <td>...</td>\n",
       "      <td>...</td>\n",
       "      <td>...</td>\n",
       "    </tr>\n",
       "    <tr>\n",
       "      <th>33657</th>\n",
       "      <td>12268</td>\n",
       "      <td>17936594864426487</td>\n",
       "      <td>1</td>\n",
       "      <td>https://instagram.fosl6-1.fna.fbcdn.net/v/t51....</td>\n",
       "      <td>chaimahouas</td>\n",
       "      <td>https://www.instagram.com/p/Cll_BfvL1C3/</td>\n",
       "      <td>@neubay03 HHHHHHH maybe.. but until NOW let me...</td>\n",
       "      <td>2022-12-18</td>\n",
       "      <td>en</td>\n",
       "      <td>15</td>\n",
       "      <td>1</td>\n",
       "      <td>[🥰]</td>\n",
       "      <td>[]</td>\n",
       "    </tr>\n",
       "    <tr>\n",
       "      <th>33665</th>\n",
       "      <td>2244</td>\n",
       "      <td>17934338813593391</td>\n",
       "      <td>1</td>\n",
       "      <td>https://instagram.flim1-2.fna.fbcdn.net/v/t51....</td>\n",
       "      <td>abdel_ali_22</td>\n",
       "      <td>https://www.instagram.com/p/CmPsNQiM6X4/</td>\n",
       "      <td>@alemvpl  de nada  vamos argentina 🤍💙</td>\n",
       "      <td>2022-12-18</td>\n",
       "      <td>es</td>\n",
       "      <td>6</td>\n",
       "      <td>2</td>\n",
       "      <td>[🤍, 💙]</td>\n",
       "      <td>[🤍💙]</td>\n",
       "    </tr>\n",
       "    <tr>\n",
       "      <th>33666</th>\n",
       "      <td>3867</td>\n",
       "      <td>18006444106524437</td>\n",
       "      <td>0</td>\n",
       "      <td>https://scontent-gig4-2.cdninstagram.com/v/t51...</td>\n",
       "      <td>hind___ag</td>\n",
       "      <td>https://www.instagram.com/p/CmIXxwdNd_k/</td>\n",
       "      <td>@isapagan42 that what it should 🤷🏻‍♀️</td>\n",
       "      <td>2022-12-18</td>\n",
       "      <td>en</td>\n",
       "      <td>6</td>\n",
       "      <td>3</td>\n",
       "      <td>[🤷, 🏻, ♀]</td>\n",
       "      <td>[🤷🏻]</td>\n",
       "    </tr>\n",
       "    <tr>\n",
       "      <th>33667</th>\n",
       "      <td>2030</td>\n",
       "      <td>18059087008335717</td>\n",
       "      <td>0</td>\n",
       "      <td>https://scontent-gru1-1.cdninstagram.com/v/t51...</td>\n",
       "      <td>crimnal_0777</td>\n",
       "      <td>https://www.instagram.com/p/CmRjxOvIz1J/</td>\n",
       "      <td>@ivana__.__.__ thanks we both survived to the ...</td>\n",
       "      <td>2022-12-18</td>\n",
       "      <td>en</td>\n",
       "      <td>18</td>\n",
       "      <td>2</td>\n",
       "      <td>[♥, 👏]</td>\n",
       "      <td>[]</td>\n",
       "    </tr>\n",
       "    <tr>\n",
       "      <th>33670</th>\n",
       "      <td>38012</td>\n",
       "      <td>17996796493594027</td>\n",
       "      <td>0</td>\n",
       "      <td>https://scontent-lga3-2.cdninstagram.com/v/t51...</td>\n",
       "      <td>mati_ferreira1</td>\n",
       "      <td>https://www.instagram.com/p/Cl3a4LtNL__/</td>\n",
       "      <td>@emiliojose_v ecuatoriano resentido, Argentina...</td>\n",
       "      <td>2022-12-18</td>\n",
       "      <td>es</td>\n",
       "      <td>23</td>\n",
       "      <td>1</td>\n",
       "      <td>[🏆]</td>\n",
       "      <td>[]</td>\n",
       "    </tr>\n",
       "  </tbody>\n",
       "</table>\n",
       "<p>5142 rows × 13 columns</p>\n",
       "</div>"
      ],
      "text/plain": [
       "       Unnamed: 0                 id  likesCount  \\\n",
       "19          20741  17888460851738491           2   \n",
       "20          19819  17989943656574386           0   \n",
       "36          20748  17949394271172791           1   \n",
       "61          20759  18254178268189747           0   \n",
       "63          19830  17878452251773813           2   \n",
       "...           ...                ...         ...   \n",
       "33657       12268  17936594864426487           1   \n",
       "33665        2244  17934338813593391           1   \n",
       "33666        3867  18006444106524437           0   \n",
       "33667        2030  18059087008335717           0   \n",
       "33670       38012  17996796493594027           0   \n",
       "\n",
       "                                      ownerProfilePicUrl    ownerUsername  \\\n",
       "19     https://instagram.famd6-1.fna.fbcdn.net/v/t51....         elnaazii   \n",
       "20     https://instagram.faqb1-1.fna.fbcdn.net/v/t51....   bouafiamine010   \n",
       "36     https://instagram.famd6-2.fna.fbcdn.net/v/t51....         yfrenkie   \n",
       "61     https://instagram.famd6-2.fna.fbcdn.net/v/t51....    yadi.stiadi23   \n",
       "63     https://instagram.fgua5-1.fna.fbcdn.net/v/t51....  alfie.castaneda   \n",
       "...                                                  ...              ...   \n",
       "33657  https://instagram.fosl6-1.fna.fbcdn.net/v/t51....      chaimahouas   \n",
       "33665  https://instagram.flim1-2.fna.fbcdn.net/v/t51....     abdel_ali_22   \n",
       "33666  https://scontent-gig4-2.cdninstagram.com/v/t51...        hind___ag   \n",
       "33667  https://scontent-gru1-1.cdninstagram.com/v/t51...     crimnal_0777   \n",
       "33670  https://scontent-lga3-2.cdninstagram.com/v/t51...   mati_ferreira1   \n",
       "\n",
       "                                        postUrl  \\\n",
       "19     https://www.instagram.com/p/ClLiftGtMx9/   \n",
       "20     https://www.instagram.com/p/ClLYUYBri2H/   \n",
       "36     https://www.instagram.com/p/ClLiftGtMx9/   \n",
       "61     https://www.instagram.com/p/ClLiftGtMx9/   \n",
       "63     https://www.instagram.com/p/ClLYUYBri2H/   \n",
       "...                                         ...   \n",
       "33657  https://www.instagram.com/p/Cll_BfvL1C3/   \n",
       "33665  https://www.instagram.com/p/CmPsNQiM6X4/   \n",
       "33666  https://www.instagram.com/p/CmIXxwdNd_k/   \n",
       "33667  https://www.instagram.com/p/CmRjxOvIz1J/   \n",
       "33670  https://www.instagram.com/p/Cl3a4LtNL__/   \n",
       "\n",
       "                                                    text   timestamp language  \\\n",
       "19     Thank you England for being our voice. 🏴󠁧󠁢󠁥󠁮󠁧󠁿...  2022-11-20       en   \n",
       "20                    Afifiy what are you doing here 😂😂😂  2022-11-20       en   \n",
       "36                                  Come on guys 🏴󠁧󠁢󠁥󠁮󠁧󠁿  2022-11-20       en   \n",
       "61                                 why maguire brought 🤣  2022-11-21       en   \n",
       "63                          Im at the industrial zone. 😉  2022-11-21       en   \n",
       "...                                                  ...         ...      ...   \n",
       "33657  @neubay03 HHHHHHH maybe.. but until NOW let me...  2022-12-18       en   \n",
       "33665              @alemvpl  de nada  vamos argentina 🤍💙  2022-12-18       es   \n",
       "33666              @isapagan42 that what it should 🤷🏻‍♀️  2022-12-18       en   \n",
       "33667  @ivana__.__.__ thanks we both survived to the ...  2022-12-18       en   \n",
       "33670  @emiliojose_v ecuatoriano resentido, Argentina...  2022-12-18       es   \n",
       "\n",
       "       word count  emoji count emoji list emoji pattern list  \n",
       "19             13            1        [🏴]                 []  \n",
       "20              7            3  [😂, 😂, 😂]              [😂😂😂]  \n",
       "36              4            1        [🏴]                 []  \n",
       "61              4            1        [🤣]                 []  \n",
       "63              6            1        [😉]                 []  \n",
       "...           ...          ...        ...                ...  \n",
       "33657          15            1        [🥰]                 []  \n",
       "33665           6            2     [🤍, 💙]               [🤍💙]  \n",
       "33666           6            3  [🤷, 🏻, ♀]               [🤷🏻]  \n",
       "33667          18            2     [♥, 👏]                 []  \n",
       "33670          23            1        [🏆]                 []  \n",
       "\n",
       "[5142 rows x 13 columns]"
      ]
     },
     "execution_count": 35,
     "metadata": {},
     "output_type": "execute_result"
    }
   ],
   "source": [
    "new_df = df[(df['language']=='es') | (df['language']=='en')]\n",
    "new_df['word count'], new_df['emoji count'], new_df['emoji list'] = None, None, None\n",
    "\n",
    "new_df['word count'] = new_df['text'].apply(count_words)\n",
    "new_df['emoji list'] = new_df['text'].apply(emoji_list)\n",
    "new_df['emoji count'] = new_df['emoji list'].apply(len)\n",
    "new_df['emoji pattern list'] = new_df['text'].apply(emoji_pattern_list)\n",
    "new_df['timestamp'] = new_df['timestamp'].str[:10]\n",
    "\n",
    "cleaned_df = new_df[(new_df['word count'] > 0) & (new_df['emoji count'] > 0)]\n",
    "\n",
    "cleaned_df"
   ]
  },
  {
   "cell_type": "code",
   "execution_count": 36,
   "metadata": {},
   "outputs": [],
   "source": [
    "# Sampling: take max(20, len(n)) comments of each language every day\n",
    "import numpy as np\n",
    "np.random.seed(0)\n",
    "cleaned_df2 = cleaned_df.groupby([cleaned_df['timestamp'], 'language'], as_index=False).apply(lambda df: df.sample((min(20, len(df)))))"
   ]
  },
  {
   "cell_type": "markdown",
   "metadata": {},
   "source": [
    "Graphing cleaned data."
   ]
  },
  {
   "cell_type": "code",
   "execution_count": 37,
   "metadata": {},
   "outputs": [
    {
     "data": {
      "image/png": "[encoded data removed]",
      "text/plain": [
       "<Figure size 720x576 with 1 Axes>"
      ]
     },
     "metadata": {
      "needs_background": "light"
     },
     "output_type": "display_data"
    }
   ],
   "source": [
    "# should be cleaned_df not new_df\n",
    "df3 = cleaned_df2.pivot_table(index='language', aggfunc='size')\n",
    "\n",
    "plt.figure(figsize=(10, 8))\n",
    "plt.bar(df3.index, df3.values)\n",
    "plt.title(\"Occurance of different languages in dataset for cleaned data (comments that have both text and emoji)\")\n",
    "plt.xticks(rotation=90)\n",
    "plt.xlabel(\"languages\")\n",
    "plt.ylabel(\"comment counts\")\n",
    "plt.show()"
   ]
  },
  {
   "cell_type": "code",
   "execution_count": 38,
   "metadata": {},
   "outputs": [
    {
     "data": {
      "image/png": "[encoded data removed]",
      "text/plain": [
       "<Figure size 720x576 with 1 Axes>"
      ]
     },
     "metadata": {
      "needs_background": "light"
     },
     "output_type": "display_data"
    }
   ],
   "source": [
    "# ratio\n",
    "df_with_emoji_and_text = new_df[new_df['word count'] > 0]\n",
    "df4 = df_with_emoji_and_text.pivot_table(index='language', aggfunc='size')\n",
    "df5 = cleaned_df.pivot_table(index='language', aggfunc='size')\n",
    "plt.figure(figsize=(10, 8))\n",
    "plt.bar(df5.index, df5.values/df4.values)\n",
    "plt.title(\"Emoji Usage Ratio in Different Languages - English vs. Español\")\n",
    "plt.xticks(rotation=90)\n",
    "plt.xlabel(\"languages\")\n",
    "plt.ylabel(\"comment counts\")\n",
    "plt.show()"
   ]
  },
  {
   "cell_type": "markdown",
   "metadata": {},
   "source": [
    "Download to csv."
   ]
  },
  {
   "cell_type": "code",
   "execution_count": 39,
   "metadata": {},
   "outputs": [],
   "source": [
    "cleaned_df2.to_csv(\"Data/cleaned_by_language.csv\")"
   ]
  },
  {
   "cell_type": "code",
   "execution_count": 42,
   "metadata": {},
   "outputs": [
    {
     "data": {
      "text/plain": [
       "1093"
      ]
     },
     "execution_count": 42,
     "metadata": {},
     "output_type": "execute_result"
    }
   ],
   "source": [
    "# total number of rows after sampling\n",
    "cleaned_df2.count()[0]"
   ]
  },
  {
   "cell_type": "code",
   "execution_count": null,
   "metadata": {},
   "outputs": [],
   "source": []
  }
 ],
 "metadata": {
  "kernelspec": {
   "display_name": "Python 3 (ipykernel)",
   "language": "python",
   "name": "python3"
  },
  "language_info": {
   "codemirror_mode": {
    "name": "ipython",
    "version": 3
   },
   "file_extension": ".py",
   "mimetype": "text/x-python",
   "name": "python",
   "nbconvert_exporter": "python",
   "pygments_lexer": "ipython3",
   "version": "3.9.12"
  }
 },
 "nbformat": 4,
 "nbformat_minor": 2
}
