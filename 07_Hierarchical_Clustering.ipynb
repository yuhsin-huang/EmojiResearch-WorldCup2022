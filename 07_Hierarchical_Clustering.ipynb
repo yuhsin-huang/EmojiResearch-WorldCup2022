{
 "cells": [
  {
   "cell_type": "markdown",
   "id": "6b494cfa",
   "metadata": {},
   "source": [
    "## Imports 📦"
   ]
  },
  {
   "cell_type": "code",
   "execution_count": 1,
   "id": "beeab6c1",
   "metadata": {},
   "outputs": [],
   "source": [
    "import pandas as pd\n",
    "import numpy as np\n",
    "import emoji\n",
    "import warnings\n",
    "import nltk\n",
    "from nltk.corpus import stopwords    \n",
    "import string\n",
    "import statistics"
   ]
  },
  {
   "cell_type": "code",
   "execution_count": 2,
   "id": "5c3ba945",
   "metadata": {},
   "outputs": [],
   "source": [
    "from matplotlib import pyplot as plt"
   ]
  },
  {
   "cell_type": "code",
   "execution_count": 3,
   "id": "599f2b59",
   "metadata": {},
   "outputs": [],
   "source": [
    "warnings.filterwarnings('ignore')"
   ]
  },
  {
   "cell_type": "markdown",
   "id": "01ffdf04",
   "metadata": {},
   "source": [
    "## Load Data 💿"
   ]
  },
  {
   "cell_type": "code",
   "execution_count": 4,
   "id": "f7ec9c23",
   "metadata": {},
   "outputs": [],
   "source": [
    "df = pd.read_csv(\"Data/cleaned_by_language.csv\")"
   ]
  },
  {
   "cell_type": "code",
   "execution_count": 5,
   "id": "5643dbd1",
   "metadata": {},
   "outputs": [],
   "source": [
    "en_df = df[df['language'] == 'en']\n",
    "es_df = df[df['language'] == 'es']"
   ]
  },
  {
   "cell_type": "code",
   "execution_count": 6,
   "id": "61f904a2",
   "metadata": {},
   "outputs": [],
   "source": [
    "en_comment = en_df['text only'].to_list()\n",
    "es_comment = es_df['text only'].to_list()\n",
    "en_comment_with_emoji = en_df['text'].to_list()\n",
    "es_comment_with_emoji = es_df['text'].to_list()"
   ]
  },
  {
   "cell_type": "code",
   "execution_count": 7,
   "id": "2e590f9c",
   "metadata": {},
   "outputs": [
    {
     "name": "stderr",
     "output_type": "stream",
     "text": [
      "[nltk_data] Downloading package punkt to\n",
      "[nltk_data]     /Users/yuhsinhuang/nltk_data...\n",
      "[nltk_data]   Package punkt is already up-to-date!\n",
      "[nltk_data] Downloading package stopwords to\n",
      "[nltk_data]     /Users/yuhsinhuang/nltk_data...\n",
      "[nltk_data]   Package stopwords is already up-to-date!\n"
     ]
    }
   ],
   "source": [
    "nltk.download('punkt')\n",
    "nltk.download('stopwords')\n",
    "en_stop_words = set(stopwords.words('english'))\n",
    "es_stop_words = set(stopwords.words('spanish'))\n",
    "\n",
    "def filter_comments(comment_list, stop_words):\n",
    "    filtered_comments = []\n",
    "\n",
    "    for comment in comment_list:\n",
    "        # remove word starts with @\n",
    "        comment = \" \".join(filter(lambda x:x[0]!='@', comment.split()))\n",
    "    \n",
    "        # remove punctuations\n",
    "        comment = comment.translate(str.maketrans('', '', string.punctuation))\n",
    "\n",
    "        # remove stopwords\n",
    "        words = nltk.word_tokenize(comment)\n",
    "        filtered_comment = [word for word in words if word.lower() not in stop_words]\n",
    "        filtered_comment = ' '.join(filtered_comment)\n",
    "        filtered_comment = comment\n",
    "        filtered_comments.append(filtered_comment)\n",
    "    return filtered_comments"
   ]
  },
  {
   "cell_type": "code",
   "execution_count": 8,
   "id": "e40fcfb6",
   "metadata": {},
   "outputs": [],
   "source": [
    "en_filtered_comments = filter_comments(en_comment, en_stop_words)\n",
    "es_filtered_comments = filter_comments(es_comment, es_stop_words)\n",
    "en_with_emoji_filtered_comments = filter_comments(en_comment_with_emoji, en_stop_words)\n",
    "es_with_emoji_filtered_comments = filter_comments(es_comment_with_emoji, es_stop_words)"
   ]
  },
  {
   "cell_type": "markdown",
   "id": "4a0bbac5",
   "metadata": {},
   "source": [
    "## Text Embeddings using LASER - this pretrained model supports cross-lingual tasks and embeds in setence-level"
   ]
  },
  {
   "cell_type": "code",
   "execution_count": 9,
   "id": "8f42c3c5",
   "metadata": {},
   "outputs": [
    {
     "name": "stdout",
     "output_type": "stream",
     "text": [
      "Requirement already satisfied: laserembeddings in /opt/anaconda3/lib/python3.9/site-packages (1.1.2)\n",
      "Requirement already satisfied: sacremoses==0.0.35 in /opt/anaconda3/lib/python3.9/site-packages (from laserembeddings) (0.0.35)\n",
      "Requirement already satisfied: numpy<2.0.0,>=1.15.4 in /opt/anaconda3/lib/python3.9/site-packages (from laserembeddings) (1.21.5)\n",
      "Requirement already satisfied: torch<2.0.0,>=1.0.1.post2 in /opt/anaconda3/lib/python3.9/site-packages (from laserembeddings) (1.11.0)\n",
      "Requirement already satisfied: transliterate==1.10.2 in /opt/anaconda3/lib/python3.9/site-packages (from laserembeddings) (1.10.2)\n",
      "Requirement already satisfied: subword-nmt<0.4.0,>=0.3.6 in /opt/anaconda3/lib/python3.9/site-packages (from laserembeddings) (0.3.8)\n",
      "Requirement already satisfied: six in /opt/anaconda3/lib/python3.9/site-packages (from sacremoses==0.0.35->laserembeddings) (1.16.0)\n",
      "Requirement already satisfied: click in /opt/anaconda3/lib/python3.9/site-packages (from sacremoses==0.0.35->laserembeddings) (8.0.4)\n",
      "Requirement already satisfied: joblib in /opt/anaconda3/lib/python3.9/site-packages (from sacremoses==0.0.35->laserembeddings) (1.1.0)\n",
      "Requirement already satisfied: tqdm in /opt/anaconda3/lib/python3.9/site-packages (from sacremoses==0.0.35->laserembeddings) (4.63.0)\n",
      "Requirement already satisfied: mock in /opt/anaconda3/lib/python3.9/site-packages (from subword-nmt<0.4.0,>=0.3.6->laserembeddings) (4.0.3)\n",
      "Requirement already satisfied: typing-extensions in /opt/anaconda3/lib/python3.9/site-packages (from torch<2.0.0,>=1.0.1.post2->laserembeddings) (4.7.1)\n",
      "Note: you may need to restart the kernel to use updated packages.\n"
     ]
    }
   ],
   "source": [
    "pip install laserembeddings"
   ]
  },
  {
   "cell_type": "code",
   "execution_count": 10,
   "id": "76baf3ec",
   "metadata": {},
   "outputs": [],
   "source": [
    "# run this in terminal first: python -m laserembeddings download-models\n",
    "from laserembeddings import Laser\n",
    "\n",
    "laser = Laser()\n",
    "en_text_array = laser.embed_sentences(en_filtered_comments, lang='en')\n",
    "es_text_array = laser.embed_sentences(es_filtered_comments, lang='es')\n",
    "en_array = laser.embed_sentences(en_with_emoji_filtered_comments, lang='en')\n",
    "es_array = laser.embed_sentences(es_with_emoji_filtered_comments, lang='es')"
   ]
  },
  {
   "cell_type": "code",
   "execution_count": 11,
   "id": "20bb8e62",
   "metadata": {},
   "outputs": [
    {
     "data": {
      "text/plain": [
       "(280, 1024)"
      ]
     },
     "execution_count": 11,
     "metadata": {},
     "output_type": "execute_result"
    }
   ],
   "source": [
    "en_text_array.shape"
   ]
  },
  {
   "cell_type": "markdown",
   "id": "8fa49700",
   "metadata": {},
   "source": [
    "## Emoji Embeddings using Emoji2Vec"
   ]
  },
  {
   "cell_type": "code",
   "execution_count": 12,
   "id": "34140b1b",
   "metadata": {},
   "outputs": [],
   "source": [
    "from gensim.models import KeyedVectors\n",
    "\n",
    "# Load pretrained emoji embeddings\n",
    "emoji_model = KeyedVectors.load_word2vec_format('emoji2vec.bin', binary=True)\n",
    "\n",
    "def emoji_embedding(df):\n",
    "    emoji_list_list = df['emoji list'].to_list()\n",
    "\n",
    "    # Initialize a list to store emoji embeddings\n",
    "    emoji_embedding = []\n",
    "\n",
    "    for emoji_list in emoji_list_list:\n",
    "        emoji_list_embedding = []  # Initialize a list for embeddings of each emoji list\n",
    "        for emoji in emoji_list:\n",
    "            try:\n",
    "                emoji_list_embedding.append(emoji_model[emoji])\n",
    "                \n",
    "            except KeyError:\n",
    "                pass\n",
    "\n",
    "            # if len(emoji_list_embedding) != 0:\n",
    "            # emoji_list_embedding = np.concatenate(emoji_list_embedding, axis=0)\n",
    "        emoji_embedding.append(emoji_list_embedding)\n",
    "    \n",
    "    # average\n",
    "    res = []\n",
    "    for embeddings in emoji_embedding:\n",
    "        average_embedding = np.mean(embeddings, axis=0)\n",
    "        # padded arrays with zero emojis with a length 300 array filled with zeros\n",
    "        if average_embedding is None or np.isnan(average_embedding).all():\n",
    "            res.append(np.zeros(300))\n",
    "        else:\n",
    "            res.append(average_embedding)\n",
    "    \n",
    "    return np.array(res)\n",
    "\n",
    "# en_max_size = max(len(arr) for arr in en_emoji_embedding)\n",
    "# en_padded_arrays = [np.pad(arr, (0, en_max_size - len(arr)), 'constant') for arr in en_emoji_embedding]\n",
    "# en_emoji_array = np.vstack(en_padded_arrays)"
   ]
  },
  {
   "cell_type": "code",
   "execution_count": 13,
   "id": "30cb1234",
   "metadata": {},
   "outputs": [],
   "source": [
    "en_emoji_array = emoji_embedding(en_df)\n",
    "es_emoji_array = emoji_embedding(es_df)"
   ]
  },
  {
   "cell_type": "code",
   "execution_count": 14,
   "id": "d93c4f2f",
   "metadata": {},
   "outputs": [
    {
     "data": {
      "text/plain": [
       "(280, 300)"
      ]
     },
     "execution_count": 14,
     "metadata": {},
     "output_type": "execute_result"
    }
   ],
   "source": [
    "es_emoji_array.shape"
   ]
  },
  {
   "cell_type": "markdown",
   "id": "c6fdd17f",
   "metadata": {},
   "source": [
    "## Concatenate the text embeddings and emoji embeddings "
   ]
  },
  {
   "cell_type": "code",
   "execution_count": 15,
   "id": "300cbd40",
   "metadata": {},
   "outputs": [],
   "source": [
    "# Concatenate along columns (horizontally)\n",
    "en_embeddings = np.concatenate((en_text_array, en_emoji_array), axis=1)\n",
    "es_embeddings = np.concatenate((es_text_array, es_emoji_array), axis=1)"
   ]
  },
  {
   "cell_type": "code",
   "execution_count": 16,
   "id": "a729cd83",
   "metadata": {},
   "outputs": [
    {
     "data": {
      "text/plain": [
       "(280, 1324)"
      ]
     },
     "execution_count": 16,
     "metadata": {},
     "output_type": "execute_result"
    }
   ],
   "source": [
    "en_embeddings.shape"
   ]
  },
  {
   "cell_type": "markdown",
   "id": "58d31e61",
   "metadata": {},
   "source": [
    "## Variable names 📇\n",
    "- en_text_array: LASER embeddings on text only (shape:280x1024)\n",
    "- en_emoji_array: emoji2vec embeddings on emoji only (shape: 280x300)\n",
    "- en_embeddings: concatenate en_text_array and en_emoji_array (shape: 280, 1324)\n",
    "- en_array: LASER embeddings on text+emoji (shape: 280x1024)\n",
    "- (replace en by es to get result from Spanish dataset)"
   ]
  },
  {
   "cell_type": "markdown",
   "id": "ff717f22",
   "metadata": {},
   "source": [
    "## Hierarchical Clustering 🪜"
   ]
  },
  {
   "cell_type": "code",
   "execution_count": 103,
   "id": "178bf605",
   "metadata": {},
   "outputs": [],
   "source": [
    "from scipy.cluster.hierarchy import linkage, fcluster\n",
    "\n",
    "def apply_hierarchical_clustering(lang_embeddings, lang_df):\n",
    "    # Calculate the linkage matrix\n",
    "    linkage_matrix = linkage(lang_embeddings, method='ward')\n",
    "\n",
    "    # Perform hierarchical clustering and obtain cluster labels\n",
    "    cluster_labels = fcluster(linkage_matrix, t=3, criterion='distance') \n",
    "\n",
    "    # Create a DataFrame to store the clustering results\n",
    "    df_clusters = pd.DataFrame({\n",
    "        \"text\": lang_df['text'],\n",
    "        \"cluster\": cluster_labels\n",
    "    })\n",
    "\n",
    "    return df_clusters.sort_values(by='cluster')"
   ]
  },
  {
   "cell_type": "code",
   "execution_count": 104,
   "id": "02e9e046",
   "metadata": {},
   "outputs": [
    {
     "data": {
      "text/html": [
       "<div>\n",
       "<style scoped>\n",
       "    .dataframe tbody tr th:only-of-type {\n",
       "        vertical-align: middle;\n",
       "    }\n",
       "\n",
       "    .dataframe tbody tr th {\n",
       "        vertical-align: top;\n",
       "    }\n",
       "\n",
       "    .dataframe thead th {\n",
       "        text-align: right;\n",
       "    }\n",
       "</style>\n",
       "<table border=\"1\" class=\"dataframe\">\n",
       "  <thead>\n",
       "    <tr style=\"text-align: right;\">\n",
       "      <th></th>\n",
       "      <th>text</th>\n",
       "      <th>cluster</th>\n",
       "    </tr>\n",
       "  </thead>\n",
       "  <tbody>\n",
       "    <tr>\n",
       "      <th>0</th>\n",
       "      <td>@xidiwldnxjqpspqpskxls morroco is a siblingcou...</td>\n",
       "      <td>1</td>\n",
       "    </tr>\n",
       "    <tr>\n",
       "      <th>328</th>\n",
       "      <td>@nacho.cagiao imagine riding off the back of a...</td>\n",
       "      <td>1</td>\n",
       "    </tr>\n",
       "    <tr>\n",
       "      <th>326</th>\n",
       "      <td>Wow so much fun 😂</td>\n",
       "      <td>1</td>\n",
       "    </tr>\n",
       "    <tr>\n",
       "      <th>309</th>\n",
       "      <td>@richard.escobarc by 😂😂🇲🇦💪</td>\n",
       "      <td>1</td>\n",
       "    </tr>\n",
       "    <tr>\n",
       "      <th>308</th>\n",
       "      <td>They themselves said it portugal sui😂😂</td>\n",
       "      <td>1</td>\n",
       "    </tr>\n",
       "    <tr>\n",
       "      <th>...</th>\n",
       "      <td>...</td>\n",
       "      <td>...</td>\n",
       "    </tr>\n",
       "    <tr>\n",
       "      <th>164</th>\n",
       "      <td>@_hey.its.sup_ we did it 😉🙌</td>\n",
       "      <td>8</td>\n",
       "    </tr>\n",
       "    <tr>\n",
       "      <th>322</th>\n",
       "      <td>@afaseleccion come back match💥💥💥</td>\n",
       "      <td>8</td>\n",
       "    </tr>\n",
       "    <tr>\n",
       "      <th>321</th>\n",
       "      <td>@eugeneolderman ...dear sunshine under the pro...</td>\n",
       "      <td>8</td>\n",
       "    </tr>\n",
       "    <tr>\n",
       "      <th>22</th>\n",
       "      <td>@glg_sky yeah I’m sure Qatar being ranked fina...</td>\n",
       "      <td>8</td>\n",
       "    </tr>\n",
       "    <tr>\n",
       "      <th>269</th>\n",
       "      <td>Japanese team was so good 😮🙌❤️</td>\n",
       "      <td>8</td>\n",
       "    </tr>\n",
       "  </tbody>\n",
       "</table>\n",
       "<p>280 rows × 2 columns</p>\n",
       "</div>"
      ],
      "text/plain": [
       "                                                  text  cluster\n",
       "0    @xidiwldnxjqpspqpskxls morroco is a siblingcou...        1\n",
       "328  @nacho.cagiao imagine riding off the back of a...        1\n",
       "326                                  Wow so much fun 😂        1\n",
       "309                         @richard.escobarc by 😂😂🇲🇦💪        1\n",
       "308             They themselves said it portugal sui😂😂        1\n",
       "..                                                 ...      ...\n",
       "164                        @_hey.its.sup_ we did it 😉🙌        8\n",
       "322                   @afaseleccion come back match💥💥💥        8\n",
       "321  @eugeneolderman ...dear sunshine under the pro...        8\n",
       "22   @glg_sky yeah I’m sure Qatar being ranked fina...        8\n",
       "269                     Japanese team was so good 😮🙌❤️        8\n",
       "\n",
       "[280 rows x 2 columns]"
      ]
     },
     "execution_count": 104,
     "metadata": {},
     "output_type": "execute_result"
    }
   ],
   "source": [
    "# Perform hierarchical clustering\n",
    "en_linkage_matrix = apply_hierarchical_clustering(en_embeddings, en_df)\n",
    "en_linkage_matrix"
   ]
  },
  {
   "cell_type": "code",
   "execution_count": 107,
   "id": "242085d7",
   "metadata": {},
   "outputs": [
    {
     "data": {
      "text/plain": [
       "['@xidiwldnxjqpspqpskxls morroco is a siblingcountry aswell. 20% of them live in Belgium😂.',\n",
       " '@nacho.cagiao imagine riding off the back of a game from 2014 😂😂',\n",
       " 'Wow so much fun 😂',\n",
       " '@richard.escobarc by 😂😂🇲🇦💪',\n",
       " 'They themselves said it portugal sui😂😂',\n",
       " '@spasho05 😂😂😂😂',\n",
       " '@fine.kln it took you two days to think how to come back at me lol and do you even call this “fine” thing a joke 😂 honey 🤭😂',\n",
       " 'Gol salto olivier giround,offside😂',\n",
       " 'Right back at you 😂😂',\n",
       " 'Man i Park 300 bags of cement in an hour that’s my job so don’t let us talk enjoy your money in peace 😂',\n",
       " '@izayahlopez1118 omg so sad an upset little inferior American 😂😂',\n",
       " 'Thought is was sniper’s rifle at first 😂',\n",
       " '@ban_all_mondays verpiss dich goodbye😂',\n",
       " 'Japan played better 😢',\n",
       " '@rya._.ntz23 and now denmark are out 😂',\n",
       " '@88godiswithme 😂😂😂😂😂😂😂 congratulations!!',\n",
       " '@anchan_0722_ 😂😂😂',\n",
       " '@mr_yasser25 yeah but u didn’t qualify 😂😂😂😂😂 try again in the next 4yrs 😂😂😂',\n",
       " 'All I watch was pessi missing a pen a 3 big chances in front of the goal 😂😂😂😂👏 small game player',\n",
       " '@teodor.luks Argentina beat Poland, Saudi beat Mexico , Argentina,Saudi qualified😂',\n",
       " '@samiath_bk 😂keep laughing Senegal is the best',\n",
       " '@tina.f.aoun @gretta.khoury_ bs rebho aalaykun😂😂😂😂😂',\n",
       " '@hana_photographyc 😂 Well done 👏',\n",
       " '@hamedsoltaniiiii67 take us out yourselves by winning 😂',\n",
       " 'I really wanna join them but I’m a Chinese😭😭😭',\n",
       " 'African should stop joining FIFA games is such a shame aww😢😢😢😢',\n",
       " '@thisiz.a7med you wanted to talk about future?as far as i know marocco won 2-0 to Belgium but Croatia won 4-1 to Canada.Marocco?Whats that?I only know for Loserocco😂',\n",
       " 'Plzz say one more time \"Where is messi\" 😂',\n",
       " '@theonlyzeee__ ahahaha stpid brazil lost 😂😂',\n",
       " '@felipe.bohmann Brazil is out now still laughing even won against You Guys 😂',\n",
       " '@its_romay 😢 me rn',\n",
       " 'Now u understand what I mean kid 😂 I say there will be penalty in this match',\n",
       " '😂does age matter?I think messi used to destroy old defenders at that age',\n",
       " '@_fmbe_ What do you say? 😂😂😂🇦🇷🇦🇷🇦🇷🇦🇷',\n",
       " \"@vialard_mathis right when I thought it was getting boring. I hadn't even registered the first goal😂\",\n",
       " '@its.me.anouar_ how about your players would play in their liga and not in the Europa! 😂 they will dream to play FWC',\n",
       " \"@imgyan07 well you said it it's a prediction. It's still kinda true tho Croatia vs Morocco will still play a match 😂\",\n",
       " '@yayatjie09 😂😂 ay y’all praise this guy too much 🤦🏾\\u200d♂️',\n",
       " '@guilherme_tornich 💪🇦🇷🇦🇷🇦🇷😂😂',\n",
       " '@shreyanshpathak8717 😂',\n",
       " '@bigstern50 nah morocco will win cause of referees VAR FIFA they need messi to win the world cup means more money expect foul calls, penalties , free kicks for morocco calling it now -(professional sports) put money on it while you can you might be rich 😂😂',\n",
       " \"It's about class Messi doesn't support LGBTQ 😂?\",\n",
       " 'You can’t drink tho😂',\n",
       " 'Pogba always late....A Real African Timer😂😂😂😂❤️',\n",
       " 'I thought that was lil durk for a sec😂',\n",
       " 'Keep crying england 😂😂😂😂',\n",
       " '@aashasz Exactly what I said but the blind fans are blaming the referee instead of blaming Harry Kane😢😂😂😂',\n",
       " '@thecollective.conscious Hey ! Still crying ? 😂🇲🇦',\n",
       " 'Netherlands has never won anything. Oh wait, maybe a Euro once 😂',\n",
       " 'You people should leave the innocent referee alone.He was paid by the English team to work on their favour by giving them 2 undeserving penalties but the God of French team made sure to expose them and made them lose.Now they are on their way home with their salty fans but crying and blaming the referee. You people should blame Harry Kane for missing that last undeserving penalty 😂😂😂😂',\n",
       " '@enkiduh how about now 😂😂😂😂😂 ❤️❤️❤️❤️❤️',\n",
       " '@tonyvieira120 Mate next time if you argue football with me without putting your money. I won’t give a reply.. ffs😂',\n",
       " '@ziyad_hemmi got me there 😢 that penalty man',\n",
       " '@ash.saalax 😂 what about it now',\n",
       " '@lucascosmepdm what happened my friend 😂😂🇦🇷🥱',\n",
       " '@marley4reall all that just to tie with the us😂',\n",
       " '@aliaslam_08 So, Portugal vs Croatia in the final match.😂',\n",
       " '@farzad_1818 pretty soon that will be \\U0001faf1🏾\\u200d\\U0001faf2🏽✈️🇳🇱🇧🇷🇪🇸 😂😂😂',\n",
       " 'VAR only works for certain countries it seems 😢',\n",
       " 'De Paul always with him 😂',\n",
       " '@i.am.rsb  Bro Carlos is right Pessy 4 goals all on Penalties, so you hate him for not mentioning a Penalty merchant😂',\n",
       " '@afdhalulrizki42 😂 Stupid Football yes 😂',\n",
       " 'Why they burn Eden with the food question? 😂 @albert810 @chelo23',\n",
       " '@exclusivelysania you are complaining in every post get a life 😂',\n",
       " 'One Love 🌈✖ 😂😂😂 one two ✔ 🤭🤭🤭',\n",
       " '@dashotb the comment I was looking for 😂',\n",
       " 'Yes 2022 is different because Argentina will not go in round of 16 😂',\n",
       " '@jan_schawe to what 😂😂😂😂😂',\n",
       " '@matheusgmezz u are goofy as heck😂',\n",
       " \"@ryjpopp yeah says the people who can't Offord a stay in Qatar 😂\",\n",
       " 'Bro was forced to do it😂😂😂😂😂',\n",
       " '@iuchinouen what does that have to do with my overall intelligence ? I would say you are the dump one here for not answering in a full sentence and for minding to girls dating business. You poor thing musst have a boring and sad life 😂',\n",
       " \"@mounia.kr__ 😂😂😂 that's the fact about the football.. you people are still too backward(refused) to accept modern changes about modern football.. keep on believing on ancient believes😂😂... No matter the shades, Algeria have not wil never be part of the Qatar world cup😂. NEVER!!. Cameroon is a football giant with Africa and world records. there is nothing you can do about it so chill and enjoy football 😂\",\n",
       " '@the_queen_of_adventure Haya bina ila lmondial 😂🇨🇲😍',\n",
       " '@aa.09_05 In 2010 Messi  just went to South Africa and let my guy Diego Maradona down, Maradona realised why Ronaldo is superior to Messi after that World Cup 😂',\n",
       " 'Howtf is he the man of the match? 😂',\n",
       " '@bf_steve Who do you think I cheer for 😂']"
      ]
     },
     "execution_count": 107,
     "metadata": {},
     "output_type": "execute_result"
    }
   ],
   "source": [
    "en_linkage_matrix[en_linkage_matrix['cluster'] == 1]['text'].tolist()"
   ]
  },
  {
   "cell_type": "code",
   "execution_count": 108,
   "id": "b8154636",
   "metadata": {},
   "outputs": [
    {
     "data": {
      "text/plain": [
       "['the real blue lock🙌🔥🔥😍',\n",
       " 'The big and champions France in Qatar2022🔥',\n",
       " 'That throw was lit👏🔥',\n",
       " 'Congratulations 🔥👏',\n",
       " 'Wow very gorgeous ❤️🔥😍',\n",
       " '🇹🇳 ❤️🔥 should be proud 👏',\n",
       " 'Cool🔥',\n",
       " 'Mbappe on another level in this world cup🔥🔥🔥❤️',\n",
       " 'The France 🇫🇷 is on Fire 🔥',\n",
       " 'Best player 🔥🔥',\n",
       " 'We love you hazards🔥🔥🔥',\n",
       " \"Thank you for entertaining me Japan, I'm waiting for the excitement again in four years👏❤️\\u200d🔥🇯🇵🇯🇵❤️\\u200d🔥\",\n",
       " 'dats literally my dad 🔥',\n",
       " 'Th rise of asian football ❤️❤️❤️proudly all Asian can say japan is a Asian football country...,🔥🔥🔥',\n",
       " '@beatbox_musicality For real bro🔥🔥🔥',\n",
       " 'So much ❤️❤️❤️❤️ for CR7🔥🔥',\n",
       " 'This nikka sick wit it🔥😂',\n",
       " 'Messi wins the this exciting wc!!! 👏🔥❤️\\u200d🔥',\n",
       " 'Argentina vs France 👏🔥👏🔥👏 Greatest rivalry',\n",
       " 'Well played Morocco’s number 7 a good play maker enjoyed his movments 🔥 see you next time fight for 3rd 👏',\n",
       " '@itisjuanderful AAJAA POR NO PERMITIR GAYS EN LA COPA MUNDIAL YO LO VEO EXCELENTE👏🔥',\n",
       " 'Go Croatia!!🔥🔥',\n",
       " 'Uff he was the best 🔥🔥😍',\n",
       " '@farzad_1818 I like both team but wowwww Maroccco 🔥',\n",
       " 'Nice game 🔥',\n",
       " '@m.a.l.e.k.a.n.o_jr Just wait🔥',\n",
       " 'My Favorite team 🔥🔥',\n",
       " 'Korea Vs Ghana was far better game 🔥🔥',\n",
       " 'Brilliant player 👏🔥',\n",
       " 'Rushford 🔥',\n",
       " 'Wow nice moves robo😍😍😍😍😍😍😍😍 challenge accepted 🔥🔥🔥🔥',\n",
       " \"BRAZIL VS SERBIA....THE GAME BRAZIL PLAYED AGAINST A TEAM LIKE SERBIA WHICH HAD SUCH AN AMAZING DEFENCE🔥❤️ EVEN THOUGH I'M NOT A BRAZIL FAN😍 BUT WHATEVER FRANCE🔥❤️MY TEAMMMM😍MBAPPE 💗\",\n",
       " 'Shout out to my boy @richarlison with the best goal in this world cup 2022👏🔥🇧🇷🇧🇷🇧🇷🇧🇷',\n",
       " '@fxwoke  bravo  usa child killer 👏👏i m proud of you . You r right 😍😍😍😉🙃',\n",
       " 'Musiala all the way🔥',\n",
       " '@nadoosh_ku I agreed with you from Saudi Arabia🔥🔥🔥',\n",
       " '@pure_sh1thousery we are winer❤️❤️🔥🇮🇷🇮🇷🇮🇷🇮🇷']"
      ]
     },
     "execution_count": 108,
     "metadata": {},
     "output_type": "execute_result"
    }
   ],
   "source": [
    "en_linkage_matrix[en_linkage_matrix['cluster'] == 2]['text'].tolist()"
   ]
  },
  {
   "cell_type": "code",
   "execution_count": 119,
   "id": "aa2689d1",
   "metadata": {},
   "outputs": [
    {
     "data": {
      "text/plain": [
       "['hand ball 👏',\n",
       " '@fabreezy_ 👏👏👏 this is yours???',\n",
       " 'Definitely!!! 👏👏👏👏👏',\n",
       " 'respect 👏',\n",
       " 'The Bluetooth goal 👏',\n",
       " '@porti_elias Its True buddy👏👏',\n",
       " 'He is completely right! 👏',\n",
       " 'The Best goal of the world cup👏👏👏⚽️',\n",
       " 'Best of luck upcoming final game @afaseleccion 👏👏👏🏆',\n",
       " '@reemasul_r3 there u go I told u guys yall can win too, good job 👏🏻👏🏻 u guys won fair and square, dont feel low for ur team. They are good enough alrdy 👏🏻',\n",
       " '@k.mbappe proud of you👏',\n",
       " 'Netherlands👏👏👏 and also cricket',\n",
       " '@itsabdelfatah you were right 👏',\n",
       " 'Just an amazing team great job 👏🏻👏🏻👏🏻👏🏻👏🏻👏🏻👏🏻👏🏻❤️❤️❤️❤️',\n",
       " '@pr1ncesa_mar1 never! Korea is much better team! 👏']"
      ]
     },
     "execution_count": 119,
     "metadata": {},
     "output_type": "execute_result"
    }
   ],
   "source": [
    "en_linkage_matrix[en_linkage_matrix['cluster'] == 3]['text'].tolist()"
   ]
  },
  {
   "cell_type": "code",
   "execution_count": 120,
   "id": "43f90026",
   "metadata": {},
   "outputs": [
    {
     "data": {
      "text/plain": [
       "['Did he score in this video 🤣',\n",
       " '@_msomali_wao and guess what morocco also lost🤣🤣🤣🤣🤣🤣',\n",
       " 'Yep, ney is gone🤣',\n",
       " '@5400.seconds are u there bro? 🤣',\n",
       " 'Portugal humiliated you Shaq🤣🤣🤣\\n￼',\n",
       " \"@gousasmokingoniran I think that Biranvand's feet made Christian Polsic not have children anymore 🤣🤣🤣\",\n",
       " '@leobrajkovic2 Airport, this way ✈️🤣',\n",
       " '@_francechy_ 🤣🤣🤣',\n",
       " '@realestate_topg what happened 🤣🤣',\n",
       " '@mitchellpolak  it was lucky win.... Argentine will destroy you 🤣🤣',\n",
       " '@goborm hehe Habibi🤣🤣',\n",
       " 'Priceless!! 🇨🇲\\n🤣🤣🤣',\n",
       " '@pictures_for_stickers Brazil 🇧🇷🛫🏠🤣🤣🤣🤣',\n",
       " '@twinty_999  airport this way 🤣👍🏻',\n",
       " \"@tiago.rendas2 bro I do know football but yesterday match that wasn't an offside lol 🤣🤣🤣what cause the camera showed his leg over the line but have you seen the last defender in the box 🤣🤣🤣go and learn football then come back chat to me\"]"
      ]
     },
     "execution_count": 120,
     "metadata": {},
     "output_type": "execute_result"
    }
   ],
   "source": [
    "en_linkage_matrix[en_linkage_matrix['cluster'] == 4]['text'].tolist()"
   ]
  },
  {
   "cell_type": "code",
   "execution_count": 121,
   "id": "1ab7c9d1",
   "metadata": {},
   "outputs": [
    {
     "data": {
      "text/plain": [
       "['bro peru wasnt even in the wc💀',\n",
       " 'the last one 💀',\n",
       " '@__oresec_ yo I’m back, we won against Spain 💀 so good luck against Brazil',\n",
       " 'They kost💀',\n",
       " '@ludmilamasc someone DIDNT watch the match. shut up bruh💀.',\n",
       " 'All out lets add new people\\n\\nWhere is Son?\\nHome💀💀']"
      ]
     },
     "execution_count": 121,
     "metadata": {},
     "output_type": "execute_result"
    }
   ],
   "source": [
    "en_linkage_matrix[en_linkage_matrix['cluster'] == 5]['text'].tolist()"
   ]
  },
  {
   "cell_type": "code",
   "execution_count": 122,
   "id": "5d169a03",
   "metadata": {},
   "outputs": [
    {
     "data": {
      "text/plain": [
       "['Proudly Ghanaian 🇬🇭 🇬🇭 🇬🇭 🇬🇭 🇬🇭 ❤️',\n",
       " '@the_real_thorstinho #onetwo 🤭🤭🤭🤭🤭',\n",
       " '@smithswith_ ❤️so good!!',\n",
       " '@symon9001 hello ? 🤟🏽🇦🇷 some body here ?',\n",
       " 'Brazils back that way⬅️',\n",
       " '@goodthanksyourself nice goal❤️',\n",
       " '@sonam_la24 in ur dreams... Croatia!!!🇭🇷❤️✌️',\n",
       " '@mess_91_ @aiden44w home and happy🥳🥳🤌🏻',\n",
       " 'Proudly Moroccan 🇲🇦🇲🇦🇲🇦🇲🇦❤️❤️❤️❤️',\n",
       " 'He gave us the best goal of the World Cup so far ❤️',\n",
       " 'Son🥺',\n",
       " 'Mount❤️',\n",
       " 'TERANGA boys 🇸🇳🇸🇳❤️',\n",
       " '@maidenles.s its game not war ☺️',\n",
       " 'The second golden age for the socceroos 🇦🇺🟡🟢',\n",
       " 'Follow m’y account please ❤️',\n",
       " '@zarbassir what I love to ear ❤️',\n",
       " 'They are so cute \\U0001f979\\U0001f979',\n",
       " '@sarou_lifestyle and you were right , they made history ♥️♥️',\n",
       " 'The best version ever ❤️ #qatar @qatar',\n",
       " 'So sweet❤️ Hope Korea and Japan both do our best in the next game☺️',\n",
       " 'Beauty of Qatar ❤️',\n",
       " 'Italy >>❤️',\n",
       " 'Loveee this ❤️',\n",
       " 'Appreciate to the Admin❤️ who always updated us']"
      ]
     },
     "execution_count": 122,
     "metadata": {},
     "output_type": "execute_result"
    }
   ],
   "source": [
    "en_linkage_matrix[en_linkage_matrix['cluster'] == 6]['text'].tolist()"
   ]
  },
  {
   "cell_type": "code",
   "execution_count": 123,
   "id": "33fcdf1f",
   "metadata": {},
   "outputs": [
    {
     "data": {
      "text/plain": [
       "['Missing Italy in the world cup😍😍😍🇮🇹🇮🇹🇮🇹',\n",
       " 'oooh jungkook and his song 😍And congratulations on the victory of the French',\n",
       " 'HE SO FINE OMLL 😍',\n",
       " 'Best World Cup ever 😍',\n",
       " \"Congrates Ghana!! Great job u guys did.😍 But I still don't understand why did the referee decided that way. 🥲\",\n",
       " '@hassan.ahmed.07 6 Games 5 goals 3 assist now😍',\n",
       " \"@el_dado1004 ya ya ya, croatia lost to spain 6-0 in 2018. You are the kid who couldn't handle the facts and couldnt help yourself but to run your fingers through my comment. Stay mad bestie 😍\",\n",
       " 'Congratulations to Japan, Morocco, Brazil, South Korea and Qatar 😍',\n",
       " 'France ❤️😍and Argentina 😍❤️❤️',\n",
       " 'Follow @__footycontent_ 😍',\n",
       " \"Looking forward to Hakimi vs MBappe'😍❤️ May the best win!\"]"
      ]
     },
     "execution_count": 123,
     "metadata": {},
     "output_type": "execute_result"
    }
   ],
   "source": [
    "en_linkage_matrix[en_linkage_matrix['cluster'] == 7]['text'].tolist()"
   ]
  },
  {
   "cell_type": "code",
   "execution_count": 124,
   "id": "e6c40f03",
   "metadata": {},
   "outputs": [
    {
     "data": {
      "text/plain": [
       "['Dude… YOUR team was so rude and had poor sportsmanship. This new generation think they are entitled😡 Any other country would have been honored to be in the world cup to play on the same field with these GREAT players from 🇭🇷 \\n\\nI hope this humbles them. Canada player were acting like little brats. Croatia shut them up and put them on time out. Literally OUT😂💪🏻🇭🇷🇭🇷🇭🇷🇭🇷🇭🇷🇭🇷🏆🏆🏆🏆⚽️⚽️⚽️🇭🇷🇭🇷🇭🇷🇭🇷🇭🇷🇭🇷🇭🇷🇭🇷🇭🇷',\n",
       " 'I know for sure I’ll be missing the World Cup , No game days already feel weird 😒',\n",
       " 'Hii dear mera name is Hansraj hai main jaipur se hu main apni study ke sath sath online partime work pichhle 2 months se kar raha hu agar aap bhi apni study ke saath saath partime ya full time work karna chahte ho contact me 6375438113 know the details 💯🚀🤔🤔',\n",
       " 'Meet you in final🙌🏻',\n",
       " '@yousselhak ok will see with France 😝😘',\n",
       " 'Cancel this game. 😒😒',\n",
       " 'The best and only goat 🐐',\n",
       " 'CR7 ❤️🙌',\n",
       " \"@manas.f.rollins bruh that's the Belgium flag 🤦\",\n",
       " 'Who’s that first guy? His answer ✨',\n",
       " '@kunchan_13 And that happened... Wht a moment.. Historic... 🏆🐐',\n",
       " 'Bye bye France!! 👋🏼👋🏼✈️ ✈️',\n",
       " 'We are ready 💛💙❤️',\n",
       " \"@planinic_ivana Your opinion is irrelevant now. They won🇦🇷🇦🇷🇦🇷 Something your country couldn't do lmaoooo hahaaaaaaa cry in misery😄\",\n",
       " \"Can't wait for this shitshow to be over and for next world cup. This one is such a waste 🗑 🙄. #nextplease #notoqatar2022 #boicotworldcup\",\n",
       " '@2k7.aa sadly all good things must come to an end but he will be taking this World Cup with him 😝😂',\n",
       " \"@bensalma lmao u mad as hell and now you're finna lose against Croatia😈\",\n",
       " \"In the 1998 World Cup in France, it was clear that Belai did not want to fight for third place. The Netherlands was forced to play because of FIFA's threat.🙏👍\",\n",
       " 'Messi 🙌 🇦🇷 will win',\n",
       " '@_pierolb_ «\\xa0I learned to think all by myself\\xa0» 🤓😰',\n",
       " 'Kids that never have to worries about money…..🤘🏻😆',\n",
       " '@areez.kxn go watch all the games 🙌😂',\n",
       " '@the_rgzone thanks, greetings from Brazil🇧🇷🙌🏻🤝🏻😉',\n",
       " '@crocodile_bw \"no hate allowed\" ?🤫😉',\n",
       " '@fifaworldcup shame on you 👎👎👎👎🤬',\n",
       " 'You are the best lady😻🤩🙏👏♥️⚽🤠fifa.',\n",
       " 'Maybe a 6:1 hurts for a MOMENT, but the feeling when you lost AGAIN was amazing!!! trust me🙈🙈🙈\\U0001f979',\n",
       " '@fatenalshoubaki respecting cultures goes both ways, i won\\'t invite a muslim man to my house and force him to eat pork because \"it\\'s in my culture to eat pork\", both hosts and guests should be able to respect eachother 👍',\n",
       " 'Once a player , always a player .To all such best players 🍷⚽💯💪',\n",
       " \"@larissa_ashley33 your language tells everything of your Country, how you don't have respect to others and criticise other representations. It's not nice at all. But as said before, I'm Croatian and I have respect to you. We are very, very proud of our players, Livakovic shines this year as well as Modric, Periodic, Gvardiol... We are not sad because they are going to play for the 3. Place, which is AMAZINGG and because they played the best football this World cup. They are winners for us! 🇭🇷 🥇\",\n",
       " '👏😄 next game please..⚽🏃',\n",
       " \"Where's Korea? Airportttttt ☠️\",\n",
       " 'Where is ronaldo👨🏻\\u200d🦯😔',\n",
       " 'Morroco is the best 🇲🇦🖤',\n",
       " 'Fantastis group..✌😄',\n",
       " \"@shintia97s love over hate !! I'm sorry that you've got so much anger inside for another human. But I forgive you and send you love and support. 🫂🫂🤗🤗😘😘🏳️\\u200d🌈🏳️\\u200d🌈\",\n",
       " '@memphis is a lion 🦁🦁🦁',\n",
       " '@joyce_pecky they were well played🙌🏻🙌🏻',\n",
       " '@_stevaaa_r_ serbian players are shiit and so are the populist criminals in serbia 😝🥶',\n",
       " '@anthonyengel7111 Are you still sure?😅😅😅😅',\n",
       " 'But you start to tremble knowing you face Saudi Arabia 🇸🇦 😆',\n",
       " '@whathappenedin1983 Mexico would have lost 6-0 to France, so Mexico still didn’t deserve to advance 😉',\n",
       " 'Casemiro in his sublime form 💯💪🏻⚡⚽💥😎🇧🇷',\n",
       " '@bruno.arn You’re not gonna win, Mbappe is coming again 👻👻👻👻👻👻',\n",
       " 'Why do they always ask this question 🤦🏻\\u200d♂️ Anyway everyone gives the same answer - \"I would give it to the whole team\" Are there any other questions?',\n",
       " 'After 12 year of madness y’all couldn’t complete a simple penalty 🤦🏾\\u200d♂️🤦🏾\\u200d♂️',\n",
       " 'This is an insult\\nWe lost because of their support🤦\\u200d♂️',\n",
       " '@_anas_hussain__ rip mother and ur sister 🙌🏼',\n",
       " 'Argentina 3.points win yees❤️😘',\n",
       " \"Hazard's the only reason im a chelsea fan 🐐💙\",\n",
       " '@audrey_loves_nature_art this is word cup no campaign you region🙏',\n",
       " '@gokselinia they all good, u are the one being racist u woman with cartoon tshirt or I say Karen👩🏻\\u200d🦰',\n",
       " 'Lol 🙄 buh d ball was taken from him',\n",
       " \"I will wait for the Portugal match, and we are very sorry for Portugal's victory for Cristiano Ronaldo, because he will not be able to participate again in the World Cup if he does not win the cup this time 🤍🇵🇹\",\n",
       " '@qu_een_ora can and help me to celebrate 🎉 dear sister 🇨🇲🇨🇲🇨🇲🇨🇲🇨🇲🇨🇲🇨🇲🇨🇲',\n",
       " \"Asian's the best🇧🇭🇮🇷🇯🇵🇰🇷🇸🇦🇭🇲😍💪💪💪\",\n",
       " 'See the final score for another suprise 😌',\n",
       " '@blueblink5254 dude also, I am embarrassed FOR YOU! 🤦\\u200d♀️',\n",
       " '@kourosh_offiziell 🇧🇷🇧🇷🏆🏆🏆🏆🏆 🤫',\n",
       " \"I'm heartbroken that we didn't do enough to go the next round, but in the end, we fought hard. 💔 And we're gonna continue fighting! They haven't seen the last of Mexico, at all! 🔥 See you all in 2026!! 🇲🇽🇲🇽💯💯\",\n",
       " '@yessin99 in the round of 16 after beating tunisia and denmark 💚💛🇦🇺🇦🇺🇦🇺🇦🇺🇮🇱🦘🦘',\n",
       " '@kourosh_offiziell who has more has 5 ⭐️⭐️⭐️⭐️⭐️🤫',\n",
       " 'Wtf Mbappe wasn’t even the man of the match 🤦🏻\\u200d♂️',\n",
       " 'Gay people, they are my favorite 🌈🌈',\n",
       " 'Morata is second 😱',\n",
       " '@victormosquera it was the back to back matches with PKs for me 😅',\n",
       " 'Nice trophy..smile it..get it..your trophy..🏆✌😄',\n",
       " 'We Respect Japan 🙌🙌🙌🔥🔥',\n",
       " 'Rainbow 🌈🌈🌈 shame on fifa',\n",
       " 'Pakistan🇵🇰 and indian 🇮🇳 flags is together 🤝',\n",
       " 'Waiting next game..steady team⚽💥🏃',\n",
       " '@robertmikocevic yes 😉😉🔥',\n",
       " 'Respect for the drone operator🛐',\n",
       " '@dhofar_photo 🏳️\\u200d⚧️☪️🏳️\\u200d🌈',\n",
       " 'Mashallah 🙌❤️🇲🇦🇲🇦🇲🇦A forever pride 👏💪',\n",
       " 'Caption 💯',\n",
       " '@lupaivatrainer champion are early to gone bake home 🛫🏠🏠',\n",
       " \"@felicitassanto02 we're proud of our team! We still have 5 ⭐️ and nobody can take that away from us! 🇧🇷🇧🇷🇧🇷🇧🇷\",\n",
       " '@siavashsetoodeh1 where’s your freedom? Stay mad 🇺🇸🦅🇺🇸🦅🇺🇸',\n",
       " 'He is our Nr 1 🇨🇭👍👍🇨🇭',\n",
       " 'Boys 🇧🇷❤️🍻',\n",
       " \"@mr.talls.rainbow.world you look at this lolman😅 a man fallin' love to women, make 'happy family, and absolutely for 'future, and this reality from the God.. Don't be stupid human with the lol+stupid+destroy thingked😅😅😅\",\n",
       " 'Var 🖥 have another opinion 🤫',\n",
       " 'no bro many moroccans respect Croatia team, was a game full of fair-play 👌🏽',\n",
       " '@nanaresty7 💯 hate Neymar though.',\n",
       " '@chester.was.here Belgium did thier best in 2018 & they were my most supported & favorite team 💙 ❤️.',\n",
       " 'Richarlison 🗿🍷',\n",
       " 'Love Moroccan team ❤️💚',\n",
       " 'Congrats and well done to🇧🇪@belgianreddevils who wins and wish the best and good luck too in the next match against🇲🇦@equipedumaroc and for🇨🇦@canadasoccer ,well done for fights until the end despite lost and wish the best and good luck too in the next match against🇭🇷@hns_cff !👏🙂😀😄😎👍⚽️',\n",
       " '@_hey.its.sup_ we did it 😉🙌',\n",
       " '@afaseleccion come back match💥💥💥',\n",
       " '@eugeneolderman ...dear sunshine under the profile name *hillquiaswhatever* kindly be informed that by definition I do not reply to any private account in Instagram like yours for example...Moreover because I do not speak your language I would kindly ask you to stand a little out of my sun ☀️...PS. by the way it is not either polite or civilized to block in advance the reply to the person on whom you have addressed a comment...👎🕳️',\n",
       " '@glg_sky yeah I’m sure Qatar being ranked financially behind Greece means they’re thriving 🙄',\n",
       " 'Japanese team was so good 😮🙌❤️']"
      ]
     },
     "execution_count": 124,
     "metadata": {},
     "output_type": "execute_result"
    }
   ],
   "source": [
    "en_linkage_matrix[en_linkage_matrix['cluster'] == 8]['text'].tolist()"
   ]
  },
  {
   "cell_type": "markdown",
   "id": "012a2788",
   "metadata": {},
   "source": [
    "## Spanish"
   ]
  },
  {
   "cell_type": "code",
   "execution_count": 109,
   "id": "009162ce",
   "metadata": {},
   "outputs": [
    {
     "name": "stdout",
     "output_type": "stream",
     "text": [
      "Collecting googletrans==4.0.0-rc1\n",
      "  Downloading googletrans-4.0.0rc1.tar.gz (20 kB)\n",
      "Collecting httpx==0.13.3\n",
      "  Downloading httpx-0.13.3-py3-none-any.whl (55 kB)\n",
      "\u001b[K     |████████████████████████████████| 55 kB 9.8 MB/s  eta 0:00:01\n",
      "\u001b[?25hCollecting chardet==3.*\n",
      "  Downloading chardet-3.0.4-py2.py3-none-any.whl (133 kB)\n",
      "\u001b[K     |████████████████████████████████| 133 kB 13.1 MB/s eta 0:00:01\n",
      "\u001b[?25hCollecting hstspreload\n",
      "  Downloading hstspreload-2023.1.1-py3-none-any.whl (1.5 MB)\n",
      "\u001b[K     |████████████████████████████████| 1.5 MB 34.8 MB/s eta 0:00:01\n",
      "\u001b[?25hCollecting idna==2.*\n",
      "  Downloading idna-2.10-py2.py3-none-any.whl (58 kB)\n",
      "\u001b[K     |████████████████████████████████| 58 kB 20.3 MB/s eta 0:00:01\n",
      "\u001b[?25hRequirement already satisfied: certifi in /opt/anaconda3/lib/python3.9/site-packages (from httpx==0.13.3->googletrans==4.0.0-rc1) (2023.7.22)\n",
      "Requirement already satisfied: sniffio in /opt/anaconda3/lib/python3.9/site-packages (from httpx==0.13.3->googletrans==4.0.0-rc1) (1.2.0)\n",
      "Collecting httpcore==0.9.*\n",
      "  Downloading httpcore-0.9.1-py3-none-any.whl (42 kB)\n",
      "\u001b[K     |████████████████████████████████| 42 kB 8.8 MB/s  eta 0:00:01\n",
      "\u001b[?25hCollecting rfc3986<2,>=1.3\n",
      "  Downloading rfc3986-1.5.0-py2.py3-none-any.whl (31 kB)\n",
      "Collecting h11<0.10,>=0.8\n",
      "  Downloading h11-0.9.0-py2.py3-none-any.whl (53 kB)\n",
      "\u001b[K     |████████████████████████████████| 53 kB 8.3 MB/s  eta 0:00:01\n",
      "\u001b[?25hCollecting h2==3.*\n",
      "  Downloading h2-3.2.0-py2.py3-none-any.whl (65 kB)\n",
      "\u001b[K     |████████████████████████████████| 65 kB 14.5 MB/s eta 0:00:01\n",
      "\u001b[?25hCollecting hpack<4,>=3.0\n",
      "  Downloading hpack-3.0.0-py2.py3-none-any.whl (38 kB)\n",
      "Collecting hyperframe<6,>=5.2.0\n",
      "  Downloading hyperframe-5.2.0-py2.py3-none-any.whl (12 kB)\n",
      "Building wheels for collected packages: googletrans\n",
      "  Building wheel for googletrans (setup.py) ... \u001b[?25ldone\n",
      "\u001b[?25h  Created wheel for googletrans: filename=googletrans-4.0.0rc1-py3-none-any.whl size=17416 sha256=3aadf42852f4aab289d3da39141eff500eef543b1fc46d90b3a83be0788434e3\n",
      "  Stored in directory: /Users/yuhsinhuang/Library/Caches/pip/wheels/60/b3/27/d8aff3e2d5c2d0d97a117cdf0d5f13cd121e2c2b5fb49b55a0\n",
      "Successfully built googletrans\n",
      "Installing collected packages: hyperframe, hpack, h2, h11, rfc3986, idna, httpcore, hstspreload, chardet, httpx, googletrans\n",
      "  Attempting uninstall: h11\n",
      "    Found existing installation: h11 0.14.0\n",
      "    Uninstalling h11-0.14.0:\n",
      "      Successfully uninstalled h11-0.14.0\n",
      "  Attempting uninstall: idna\n",
      "    Found existing installation: idna 3.3\n",
      "    Uninstalling idna-3.3:\n",
      "      Successfully uninstalled idna-3.3\n",
      "  Attempting uninstall: httpcore\n",
      "    Found existing installation: httpcore 0.18.0\n",
      "    Uninstalling httpcore-0.18.0:\n",
      "      Successfully uninstalled httpcore-0.18.0\n",
      "  Attempting uninstall: chardet\n",
      "    Found existing installation: chardet 4.0.0\n",
      "    Uninstalling chardet-4.0.0:\n",
      "      Successfully uninstalled chardet-4.0.0\n",
      "  Attempting uninstall: httpx\n",
      "    Found existing installation: httpx 0.25.0\n",
      "    Uninstalling httpx-0.25.0:\n",
      "      Successfully uninstalled httpx-0.25.0\n",
      "\u001b[31mERROR: pip's dependency resolver does not currently take into account all the packages that are installed. This behaviour is the source of the following dependency conflicts.\n",
      "spyder 5.1.5 requires pyqt5<5.13, which is not installed.\n",
      "spyder 5.1.5 requires pyqtwebengine<5.13, which is not installed.\n",
      "conda-repo-cli 1.0.4 requires pathlib, which is not installed.\n",
      "anaconda-project 0.10.2 requires ruamel-yaml, which is not installed.\n",
      "apify-client 1.4.1 requires httpx>=0.24.1, but you have httpx 0.13.3 which is incompatible.\u001b[0m\n",
      "Successfully installed chardet-3.0.4 googletrans-4.0.0rc1 h11-0.9.0 h2-3.2.0 hpack-3.0.0 hstspreload-2023.1.1 httpcore-0.9.1 httpx-0.13.3 hyperframe-5.2.0 idna-2.10 rfc3986-1.5.0\n",
      "Note: you may need to restart the kernel to use updated packages.\n"
     ]
    }
   ],
   "source": [
    "pip install googletrans==4.0.0-rc1"
   ]
  },
  {
   "cell_type": "code",
   "execution_count": 110,
   "id": "fc51099c",
   "metadata": {},
   "outputs": [],
   "source": [
    "from googletrans import Translator\n",
    "\n",
    "# Initialize the translator\n",
    "translator = Translator()\n",
    "\n",
    "# Function to translate a text\n",
    "def translate_text(text, target_language='en'):\n",
    "    try:\n",
    "        translation = translator.translate(text, dest=target_language)\n",
    "        return translation.text\n",
    "    except Exception as e:\n",
    "        return str(e)"
   ]
  },
  {
   "cell_type": "code",
   "execution_count": 111,
   "id": "d125ef14",
   "metadata": {},
   "outputs": [
    {
     "data": {
      "text/html": [
       "<div>\n",
       "<style scoped>\n",
       "    .dataframe tbody tr th:only-of-type {\n",
       "        vertical-align: middle;\n",
       "    }\n",
       "\n",
       "    .dataframe tbody tr th {\n",
       "        vertical-align: top;\n",
       "    }\n",
       "\n",
       "    .dataframe thead th {\n",
       "        text-align: right;\n",
       "    }\n",
       "</style>\n",
       "<table border=\"1\" class=\"dataframe\">\n",
       "  <thead>\n",
       "    <tr style=\"text-align: right;\">\n",
       "      <th></th>\n",
       "      <th>text</th>\n",
       "      <th>cluster</th>\n",
       "      <th>translated_text</th>\n",
       "    </tr>\n",
       "  </thead>\n",
       "  <tbody>\n",
       "    <tr>\n",
       "      <th>255</th>\n",
       "      <td>y mechico?😢</td>\n",
       "      <td>1</td>\n",
       "      <td>and mechico? 😢</td>\n",
       "    </tr>\n",
       "    <tr>\n",
       "      <th>497</th>\n",
       "      <td>Jamás pensé que un mundial del cuál tantas per...</td>\n",
       "      <td>1</td>\n",
       "      <td>I never thought that a World Cup from which so...</td>\n",
       "    </tr>\n",
       "    <tr>\n",
       "      <th>190</th>\n",
       "      <td>@fifaworldcup Ecuador se merecía el pase 😢</td>\n",
       "      <td>1</td>\n",
       "      <td>@fifaworldcup Ecuador deserved the pass 😢</td>\n",
       "    </tr>\n",
       "    <tr>\n",
       "      <th>250</th>\n",
       "      <td>Aún duele😢</td>\n",
       "      <td>1</td>\n",
       "      <td>It still hurts</td>\n",
       "    </tr>\n",
       "    <tr>\n",
       "      <th>474</th>\n",
       "      <td>Casillas lloron😢</td>\n",
       "      <td>1</td>\n",
       "      <td>Casillas Lloron😢</td>\n",
       "    </tr>\n",
       "    <tr>\n",
       "      <th>...</th>\n",
       "      <td>...</td>\n",
       "      <td>...</td>\n",
       "      <td>...</td>\n",
       "    </tr>\n",
       "    <tr>\n",
       "      <th>275</th>\n",
       "      <td>Pride? 🏳️‍🌈?</td>\n",
       "      <td>7</td>\n",
       "      <td>Pride? 🏳️‍🌈?</td>\n",
       "    </tr>\n",
       "    <tr>\n",
       "      <th>558</th>\n",
       "      <td>Julian &amp; Enzo 🇦🇷💙</td>\n",
       "      <td>7</td>\n",
       "      <td>Julian &amp; Enzo 🇦🇷💙</td>\n",
       "    </tr>\n",
       "    <tr>\n",
       "      <th>433</th>\n",
       "      <td>Cómo planio😂🙌</td>\n",
       "      <td>7</td>\n",
       "      <td>How plan</td>\n",
       "    </tr>\n",
       "    <tr>\n",
       "      <th>431</th>\n",
       "      <td>Está todo cocinado , Messi campeón último mund...</td>\n",
       "      <td>7</td>\n",
       "      <td>Everything is cooked, Messi World Cup Champion 🤑🤫</td>\n",
       "    </tr>\n",
       "    <tr>\n",
       "      <th>559</th>\n",
       "      <td>@emiliojose_v ecuatoriano resentido, Argentina...</td>\n",
       "      <td>7</td>\n",
       "      <td>@emiliojose_v Ecuadorian resentful, Argentina ...</td>\n",
       "    </tr>\n",
       "  </tbody>\n",
       "</table>\n",
       "<p>280 rows × 3 columns</p>\n",
       "</div>"
      ],
      "text/plain": [
       "                                                  text  cluster  \\\n",
       "255                                        y mechico?😢        1   \n",
       "497  Jamás pensé que un mundial del cuál tantas per...        1   \n",
       "190         @fifaworldcup Ecuador se merecía el pase 😢        1   \n",
       "250                                         Aún duele😢        1   \n",
       "474                                   Casillas lloron😢        1   \n",
       "..                                                 ...      ...   \n",
       "275                                       Pride? 🏳️‍🌈?        7   \n",
       "558                                  Julian & Enzo 🇦🇷💙        7   \n",
       "433                                      Cómo planio😂🙌        7   \n",
       "431  Está todo cocinado , Messi campeón último mund...        7   \n",
       "559  @emiliojose_v ecuatoriano resentido, Argentina...        7   \n",
       "\n",
       "                                       translated_text  \n",
       "255                                     and mechico? 😢  \n",
       "497  I never thought that a World Cup from which so...  \n",
       "190          @fifaworldcup Ecuador deserved the pass 😢  \n",
       "250                                     It still hurts  \n",
       "474                                   Casillas Lloron😢  \n",
       "..                                                 ...  \n",
       "275                                       Pride? 🏳️‍🌈?  \n",
       "558                                  Julian & Enzo 🇦🇷💙  \n",
       "433                                           How plan  \n",
       "431  Everything is cooked, Messi World Cup Champion 🤑🤫  \n",
       "559  @emiliojose_v Ecuadorian resentful, Argentina ...  \n",
       "\n",
       "[280 rows x 3 columns]"
      ]
     },
     "execution_count": 111,
     "metadata": {},
     "output_type": "execute_result"
    }
   ],
   "source": [
    "es_linkage_matrix = apply_hierarchical_clustering(es_embeddings, es_df)\n",
    "\n",
    "es_linkage_matrix['translated_text'] = es_linkage_matrix['text'].apply(translate_text, target_language='en')\n",
    "\n",
    "es_linkage_matrix"
   ]
  },
  {
   "cell_type": "code",
   "execution_count": 112,
   "id": "e246e445",
   "metadata": {},
   "outputs": [
    {
     "data": {
      "text/plain": [
       "['and mechico? 😢',\n",
       " 'I never thought that a World Cup from which so many people expected to see quality is being so manipulated and fixed how it is, we wantedOut, even the referees seem bought because they have been a non -existent penalty to favor the teams they wanted to see in the final, how sad is the world of Qatar 2022 😢😢😢.',\n",
       " '@fifaworldcup Ecuador deserved the pass 😢',\n",
       " 'It still hurts',\n",
       " 'Casillas Lloron😢',\n",
       " 'The final is played by 2 teams ...... What great disappointment this World Cup 😢',\n",
       " 'You deserved to win Japan 😢',\n",
       " 'How are my blacks shit 😢',\n",
       " '@guiguelpaulo 😢',\n",
       " '@mdsojid364 cries Brazilian 😢',\n",
       " 'Neymar da Silva Santos Junior 😢',\n",
       " 'Our last game in a World Cup 🇨🇴😢']"
      ]
     },
     "execution_count": 112,
     "metadata": {},
     "output_type": "execute_result"
    }
   ],
   "source": [
    "es_linkage_matrix[es_linkage_matrix['cluster'] == 1]['translated_text'].tolist()"
   ]
  },
  {
   "cell_type": "code",
   "execution_count": 113,
   "id": "f9c786af",
   "metadata": {},
   "outputs": [
    {
     "data": {
      "text/plain": [
       "['It moves more a cockroach with Baygon😂',\n",
       " 'Q pass the riot in Qatar 😂',\n",
       " '@lucaasperee Texas is worth pure vrga\\nWe are from the most territory countries in the world\\nBut in Las Malvinas you speak English 😂😂😂😂',\n",
       " 'What happened is that the phenomenon of now no longer plays as before the cago😂😂😂😂',\n",
       " 'Croatia 😂😂😂😂😂',\n",
       " '😂 Ronaldo',\n",
       " '@_ab_do_r.c.A Morocco outside the FIFA on day 6😂😂😂',\n",
       " 'Ecuador made them danced and supposedly this was as the best player 😂 After they annul',\n",
       " '@Swapichi do this then and I believe you.😂',\n",
       " '@life_is_sedd How is that?😂',\n",
       " 'Poor guy 😂',\n",
       " 'Hahahaha or want to find the search engine 😂',\n",
       " \"@diegooo_menendezz there was no error in the VAR, they don't cry dines😂😂😂😂\",\n",
       " 'I hope you support your own worldcup 😂',\n",
       " '@jomiguelrivera The goal of the century did it to Italy😂',\n",
       " '@b.local 😂😂😂👏',\n",
       " 'Those of Saudi Arabia want to die were happy because they won the first game 😂😂😂 come on Argentina 🇦🇷🇦🇷',\n",
       " 'Shit 😂😂😂😂😂😂😂😂',\n",
       " 'Go there 😂',\n",
       " '@r_cotic27 your croatia taking beating 😂',\n",
       " 'Hahaha see you in 4 years !!!😂',\n",
       " '@sofi_more.mv is not my country I am Chilean, that because Argentina would lose 😂',\n",
       " '@chucuzilla la but great achievement of Vargentina Against Brazil?😂👌🏼 Pelé es bigger than there vargentina 😂',\n",
       " 'We re -sat the Polish',\n",
       " '@yer_gamboa leave is leaving haha ask Uruguay haha you think they care with their face up haha they were crying wanting to hit the referees ... The same as their aspirations haha and if Japan is Japan is world champion will say the Ticos that the Ticos who the Ticos whoThey won',\n",
       " 'Ronaldo always a genius !!Ronaldo is Argentine😂 belongs to everyone !!!',\n",
       " 'The goalkeeper',\n",
       " 'What a good business of our selection 😂',\n",
       " '11 goals were ate ⚽🥅 the most win of the World Cup 😂😂😂😂',\n",
       " '@dansabras Brazil tells what you feel to have your dad at home 😂 🇦🇷🇦🇷🇦🇷',\n",
       " 'The penalty failed thanks 😂😂',\n",
       " '@el_pishuelo Uruguay does not exist on the map q is Uruguay? 😂😂',\n",
       " 'The team that won because Portugal was won the same',\n",
       " '@ivanalvaradoq Luckily than with football all of Argentina eat',\n",
       " '😂😂 Chihuahua Dog face that iso haha',\n",
       " '@miguelz_cunha hahahaha read well before answering hahahaha before I want the dances to pass to see the package dance 🕺🏻🇧🇷',\n",
       " '@lauhernandezchavez the clown came out expensive 😂',\n",
       " \"And he is only 21 years old at 21, I was in a McDonald's 😂\",\n",
       " '@RomanruizDiazok the Argentines are so excited😂',\n",
       " '@sofiarosfleury now say without crying.It was not criminal',\n",
       " '@abderazak_ot okay, the case is that defeat was deserved, but you are not to joke, I repeat that Morocco has neither trophies nor history 😂',\n",
       " '@anthony_pv05 If you had played against England, it would be 50-0😂',\n",
       " '@Abdan507 ___ 😂😂😂😂😂😂😂😂😂 Lie !!!But repeat it until they create it 😂😂😂',\n",
       " 'How seductive the second photo 😂😂',\n",
       " 'As Ramin 😂',\n",
       " '@_monniiiiiiiii_ There is a Moroccan proverb that says: \"Cry after the dead is a loss.\"',\n",
       " '@stuffbarbdoes lol zero 😂😂😂😂',\n",
       " \"@Diego_Mendivels0 the only Latin who did not speak in Spanish.That's why they won't win the World Cup 😂\\U0001fae3😅\",\n",
       " '@Lorran.fon 😢😢😢😢😢I feel has lost the game 😂😂😂😂😂😂😂😂',\n",
       " '@vinicius_conrado12 bye bye brazil😂😂😂😂😂😂😂😂😂😅',\n",
       " '@luizhenrique_147 what happened Brazil eliminated 😂',\n",
       " '@emiliojose_v saves this comment.Piece of so re te.Seriously your parents must be brothers, but difficult to be so bob0😂',\n",
       " '@j_fonse10 😂😂😂I also ati',\n",
       " '@vlz.matthew_ You are very small next to Uruguay or the World Cup you classify 😂',\n",
       " '@Daje_mitico 😂😂',\n",
       " '@acdc.jpedro 😂😂😂😂😂',\n",
       " '@matt.changa more sorrow gave Uruwhy and the clowns leaving the stadium hitting the varnor of the VAR.Eliminated😂😂😂😂😂',\n",
       " '@Salvalopz4 Look at the stars that each shield has and then tell me who is the son of whom 😂',\n",
       " '@_arabicqueen_ dream😂😂',\n",
       " 'Hahaha and they were left out',\n",
       " \"What wasn't it going to win?Crystal crying😹😹\",\n",
       " \"How not to remember Zidane's header !!!😂😂😂😂\",\n",
       " 'I mean the criminal cover the other makes a goal and this is the best of the game is yesterday Ferrán made the 2 goals and big plays and the best was Gavi 😂😂',\n",
       " 'First...no lo this tan good, second...brasiiiiiiiilllil😂😂🇦🇷🇦🇷🇷🇷🇷🇷🇷🇷',\n",
       " '@bertonrayhs_ 😂😂😂 You have inside🇦🇷🇦🇷',\n",
       " '@maggitomcruz we are already in the cup, it is called the USA 🇺🇸 Lmao P3nd3J0 😂😂',\n",
       " 'Argentina vs. all French and associated colonies 😂',\n",
       " '@eugenio_9892 😂😂😂Argentino?Now I know why you are like that but I do not speak badly as you do it only wish you good luck for the rest']"
      ]
     },
     "execution_count": 113,
     "metadata": {},
     "output_type": "execute_result"
    }
   ],
   "source": [
    "es_linkage_matrix[es_linkage_matrix['cluster'] == 2]['translated_text'].tolist()"
   ]
  },
  {
   "cell_type": "code",
   "execution_count": 114,
   "id": "54b37776",
   "metadata": {},
   "outputs": [
    {
     "data": {
      "text/plain": [
       "['😍ñ🔥🔥🔥',\n",
       " '🔥🔥🔥👏🙌 mexico 🇲🇽',\n",
       " 'The trios are always good bro 🔥😉',\n",
       " '@hilla_loaiza what level 🔥🔥🔥',\n",
       " \"Messias returned 🇦🇷🇦🇷🇦🇷🇦🇷🇦🇷🇦🇷 Let's go selection 🔥🔥🔥\",\n",
       " \"What's up the one of this lord🔥\",\n",
       " 'It was an exquisite party 🔥',\n",
       " 'Come on Argentina 🔥🔥',\n",
       " 'Argentina 🔥💚',\n",
       " 'Ronaldo🔥🔥🔥🔥',\n",
       " 'Aidoun 🔥❤️',\n",
       " 'CommOn argentina..you can do it 🔥❤️🔥',\n",
       " 'Gano Argentina 🔥🔥🔥❤️❤️❤️',\n",
       " 'Goncalo Ramos 🔥🔥👏👏',\n",
       " 'The best in the world!❤️\\u200d🔥❤️\\u200d🔥',\n",
       " '@marqu3si yo bro chill 👏🔥',\n",
       " 'Life changes when it begins to focus on you🎶🔥',\n",
       " 'All my faith for Argentina 🔥',\n",
       " 'Valencia🔥🔥🔥',\n",
       " 'It will be to break the curse🔥🔥🔥',\n",
       " '@hoonjy you, if those shots did not get stuck in the Uffff stick🔥',\n",
       " '@sandra_cariel camereron 100% 🔥🔥',\n",
       " 'Argentina, Alvares🔥',\n",
       " '@Borenia Grs !!!🔥🙌❤️ Soccer is football',\n",
       " '🔥Argentina.3 🔥 France 1🔥',\n",
       " 'We love you @yosoy8a 🇲🇽🔥',\n",
       " 'The master magician🔥🔥🤍👏🏻⚡',\n",
       " 'Ronaldo🙌🔥',\n",
       " 'With every teacher 🔥🇨🇷',\n",
       " 'Argentina 😍❤️🔥🔥',\n",
       " 'Roberto 🔥🔥',\n",
       " \"Let's go Spain 🔥\",\n",
       " 'Argentina goes for the third World Cup 🙌🔥',\n",
       " '@deyaneira_ae to enable Valencia in the 2nd goal of Senegal🙌🔥🔥',\n",
       " '@pablogavi good luck🔥']"
      ]
     },
     "execution_count": 114,
     "metadata": {},
     "output_type": "execute_result"
    }
   ],
   "source": [
    "es_linkage_matrix[es_linkage_matrix['cluster'] == 3]['translated_text'].tolist()"
   ]
  },
  {
   "cell_type": "code",
   "execution_count": 115,
   "id": "bc115820",
   "metadata": {},
   "outputs": [
    {
     "data": {
      "text/plain": [
       "['What will Qatar do with so many stages after the World Cup?🤔',\n",
       " 'The goal of the century 🇨🇷\\U0001fae1',\n",
       " \"🤏🤏🤏🤏🤏 I didn't want to lose the level ..\",\n",
       " 'the eldest 🤩🤩',\n",
       " 'There is no other fans the same.The best in the world that proud to have been born in Argentina ❤️🇦🇷🇦🇷',\n",
       " \"Argentina feed !!!!!Let's fuck bla ining\",\n",
       " \"Let's go Morocco ❤️\",\n",
       " 'How big is Lukita 🇭🇷❤',\n",
       " \"Let's go Ecuador ❤️❤️\",\n",
       " \"Let's go Peru ❤️\",\n",
       " '@Luisitorres_ Yes 🥵',\n",
       " '🤫 traki just, everything is still said',\n",
       " '❤️ What good steam France',\n",
       " \"@lovely_angel_kh I don't understand you but Chill🤙\",\n",
       " 'Go Ecuador 🇪🇨❤️',\n",
       " '@ Jctorr130 1-1🤫🤫🤫🤫',\n",
       " 'Paquetá 🥵',\n",
       " '🇦🇷 ♥ ️❤️ Airport, Modric.',\n",
       " '@jonathanardi_ The friad chest is coming 🥶 little is missing',\n",
       " 'Change the flag, we are Ecuador 🇪🇨☝🏻',\n",
       " '@_Ompoficial__Alejandro who is the best, continue to celebrate ahead of time 🤫',\n",
       " '@bcaudana22 I wait until the World Cups of all the American continent selections somados less equal to the titles of Brazil \\U0001fae1',\n",
       " 'Morocco❤️',\n",
       " 'Ecuador! 🇪🇨🇪🇨🇪🇨🇪🇨❤❤',\n",
       " 'Argentina ❤️❤️❤️❤️',\n",
       " '@soroor96 Here we are all on the street singing that song ❤️❤️',\n",
       " \"@Carlos_Arte24 I don't know why but i love the jersey 🥶\",\n",
       " 'Ronaldo❤️❤️❤️',\n",
       " '@ybjinn_ the best in the world 🇦🇷❤️',\n",
       " 'Eden ❤️',\n",
       " '@ortubiaalexis being Argentine?Na, I doubt ... tattoo artist 🤙🏽🤙🏽',\n",
       " 'Mechanic 🤏🏼',\n",
       " 'Come on Uruguay Brother !!!! ❤️❤️',\n",
       " 'Anótalo Papi ..... Come Ecuador 🇪🇨🥰❤️❤️',\n",
       " '@julietacontento ARE YOU AT HOME NOW 🤔',\n",
       " '@mindimalist here we are mana, supporting them until the end ❤️',\n",
       " '@Zeferinooo.Ama more than proud of my country ... when they know what a World Cup weighs can talk about football ✌️🇺🇾',\n",
       " 'Hahaha .. what you say, but in short, there is no worse blind than the one who does not want to see.So God bless you and love and peace ✌🏼',\n",
       " 'You are great 🇦🇷❤️',\n",
       " 'From there the hand was washed AAA❤️\\u200d🩹',\n",
       " '_Marocoo🇲🇦🫀_',\n",
       " 'Ufff that Uruguayan ❤️',\n",
       " 'That Japan, outside Germany ❤️',\n",
       " '@fabilleao Shock your mouth go',\n",
       " '@queenfir_ Morocco ❤️❤️',\n",
       " 'Boee so that the World Cup is still not over if there is another better goal we hope first than end 🤙',\n",
       " '#Ynwa we love you Captain ❤️',\n",
       " 'Ecuador 🇪🇨 ❤️#win',\n",
       " 'England falls to pieces 🥱, the Malvinas are Argentinas Salames',\n",
       " '@lucaasperee you would already want to be in Texas that Echol eats super good and you earn a lot $$$ & I recommend it and that you are in a recession/ inflation that %80 🥵']"
      ]
     },
     "execution_count": 115,
     "metadata": {},
     "output_type": "execute_result"
    }
   ],
   "source": [
    "es_linkage_matrix[es_linkage_matrix['cluster'] == 4]['translated_text'].tolist()"
   ]
  },
  {
   "cell_type": "code",
   "execution_count": 116,
   "id": "870374d8",
   "metadata": {},
   "outputs": [
    {
     "data": {
      "text/plain": [
       "[\"We are thicerly that if one can, they turn to when they left the death group in 2014 when they all gave them for dead and the dead turned out to be others.Let's go even if my team is USA but my heart won it in that 2014 World Cup.But it is my USA are you for me.❤️\",\n",
       " 'Mexican pride ❤️👏🏻🇲🇽',\n",
       " 'Ecuador present 🇪🇨👏👏',\n",
       " 'Maradona help Messi to achieve triumph ❤️👏👏👏',\n",
       " '👏👏We go with everything, Strong',\n",
       " '👏👏🙌🙌Ecuador',\n",
       " 'Congratulations to Ecuador for winning the slaves 👏🏼👏🏼',\n",
       " 'Moroccos👏👏👐👐',\n",
       " 'Better publish the moments of canceled goals 👏👏',\n",
       " 'The best in the world 👏🏻 😍',\n",
       " 'Argentina 🇦🇷 Leo 👏👏👏👏',\n",
       " 'Double breast 😂👏',\n",
       " 'The best of all ❤️👏',\n",
       " '15 World Cups 👏👏👏',\n",
       " 'A great my uncle Ril or 👏👏👏 @dorian_ybaceta @lopezillo.public @hugo_charcape03 @hanrykux03',\n",
       " 'The best in Portugal 👏👏',\n",
       " '@hassan.ahmed.07 And how many penalties?that they have not even been fouls to El.👏👏',\n",
       " '@caro2653 👏👏👏',\n",
       " 'Great the mathematician',\n",
       " '@Maxirodriguez11Oficial genius !!!👏👏👏👏💙🤍💙',\n",
       " 'The best midfielder 👏🏻',\n",
       " \"@__ mati_15 agreement.It's reality.The Concacaf Soccer School is changing.What is not worth is that players who have never played in Concacaf invent.I would like to see any comebol selection against Curacao, Jamaica even Mexico but um mexico with School propria no de comebol 👏\"]"
      ]
     },
     "execution_count": 116,
     "metadata": {},
     "output_type": "execute_result"
    }
   ],
   "source": [
    "es_linkage_matrix[es_linkage_matrix['cluster'] == 5]['translated_text'].tolist()"
   ]
  },
  {
   "cell_type": "code",
   "execution_count": 117,
   "id": "71289e61",
   "metadata": {},
   "outputs": [
    {
     "data": {
      "text/plain": [
       "['😍ronaldo',\n",
       " 'Proudly Ecuadorians 😍',\n",
       " 'Eden hazard comes back😍😍😍',\n",
       " 'gracias 😍',\n",
       " \"I have always liked Ghana's uniforms😍\",\n",
       " '❤️❤️❤️ located Ecuadorians 😍😍😍😍😍',\n",
       " 'I really love my idol Portugal - Cristiano Ronaldo.😍',\n",
       " '@Btito_.Avak Best goalkeeper in the world, proceeds to lose 7 to 0😍😍😍',\n",
       " 'Love the France shirt 😍😍😍 🇺🇾🇨🇵',\n",
       " 'Lol Casillas!!! 😍😍']"
      ]
     },
     "execution_count": 117,
     "metadata": {},
     "output_type": "execute_result"
    }
   ],
   "source": [
    "es_linkage_matrix[es_linkage_matrix['cluster'] == 6]['translated_text'].tolist()"
   ]
  },
  {
   "cell_type": "code",
   "execution_count": 118,
   "id": "d536ff3d",
   "metadata": {},
   "outputs": [
    {
     "data": {
      "text/plain": [
       "[\"@axl_sash3 I don't get arg.Am.But we are talking about Ecuador, right?The selection is today 💙 win or die.\",\n",
       " '@Hichemourad13 Is this individual still thought about?Ecuador is great 🇪🇨😉😉',\n",
       " 'Poetry in photos, poetry in motion🇦🇷🥂',\n",
       " \"@fifaWorldcup 🇪🇨 He played much better 😎 They canceled a legitimate goal 😠 I had to have won the game 👏 But let's go 🇪🇨 If you can and you can always 💪\",\n",
       " 'For me it would also be like seeing Santa Claus!We love you Leo 🇦🇷⚽️💪🥰',\n",
       " '@letigallo My respect for women everywhere🙌 💕',\n",
       " '@carolinacbarbos Bono🇲🇦👊',\n",
       " 'Pure trunks defending and another good coconut 🤷🏽\\u200d♂️.',\n",
       " 'The best player in the world 🌎 is called Messi ❤️🙌',\n",
       " '@Charlywolfph naaaaa, it is only an opinion that follows from logic and common sense ... I\\'m not interested in being DT although I thank you very much ... \"Machine\" 👍🏼😏',\n",
       " 'Pele 3 World Cups Argentina 2 🤣🤣🤣',\n",
       " 'North Korea 😮 won',\n",
       " 'ECUADOR IN DA HOUSE 🔥🔥🔥🔥🔥🔥🇪🇨🇪🇨🇪🇨🇪🇨🇪🇨🇪🇨🇪🇨🙌🙌🙌🙌🙌🙌🙌🙌 #ecuadorarrechohp',\n",
       " '\"Maurice I can\\'t move it, move it\" ❌🦵😭',\n",
       " '@anda huge 🙌🏼',\n",
       " 'Unfortunately I saw it 😔',\n",
       " 'Hello good night is Portugal ⚽️👍🇵🇹',\n",
       " 'VAMOOO HALCON 🦅 🇺🇾',\n",
       " 'Please intercede so that they do not execute the Iranian player \"🙏🙏🙏🙏🙏',\n",
       " '@ Laparra_1 👀',\n",
       " \"Let's go with everything 🇨🇷 ♥ ️⚽️\",\n",
       " 'Congratulations Ecuador!🙌',\n",
       " \"@alvarodnl If we don't see the World Cup, Qatar loses money that won leaving people to die 🙃\",\n",
       " 'Corruption 💰💰💰💰',\n",
       " 'Meastro 🙏❤️',\n",
       " \"@ikercasillasrules I don't see where Neuer comes out in the video 😮\",\n",
       " '@Amberpeeters97 and Spain or play know 😀',\n",
       " 'I need an Ice Pepsi Blue 😋😋😋😋😋 JODER, will it be that this year will not throw it ???🤔🤔🤔',\n",
       " \"I don't like this boy, it is very disdainful !!!👎\",\n",
       " \"Let's go España 🙌\",\n",
       " 'The cucho is already old ☹☹',\n",
       " 'But they did nothing today ... what a boring game 😒',\n",
       " \"@bbsitaj we're going to see on December 18 😉\",\n",
       " 'Nobody is going to comment on the facade that distills the DT of the National Team?🌚😈',\n",
       " '@JL5759600 Telo Sico 🤫🤐',\n",
       " 'What a horrible day 😞',\n",
       " 'Everything already makes sense 🤷\\u200d♂️🤣',\n",
       " 'Those who know know, carrying a little magic of the ronii phenomenon 💪💪😎',\n",
       " '#VamosArgentina #todos Juntos 🌎🇦🇷🏆🙏👏',\n",
       " '@chevy_laffitte 🤣🤣así learn what it means to be stolen like this',\n",
       " 'Ronaldo💔💔💔🐐🐐💔💔🇵🇹',\n",
       " \"Let's go boys we have to continue trusting in every game that we play and not trust the opponent, we must trust our squad and DT💙\",\n",
       " 'This cup is yours leo 🇦🇷🙌',\n",
       " 'FIFA return me football !! 🙏',\n",
       " '@Cruzfrancesco3 I Happy Sow Strong Force Argentina 🇦🇷😉👍🏻',\n",
       " '⚽️⚽️⚽️ To remain informed about the latest football news in Spanish you can follow us, daily football content.',\n",
       " 'Who would say that the same defender would be part of the coaching staff that would leave them out 24 years later 🙌',\n",
       " \"Messi's preferred dessert 🔟🇦🇷🇦🇷🇦🇷🇦🇷🇦🇷🇦🇷🇦🇷\",\n",
       " '@keylor_ch29 refers to the Valle IDV team 🤦',\n",
       " 'Thanks for all Cristiano Ronaldo!The best player and athlete in the history of humanity!👏🏼👏🏼💪🏻💪🏻',\n",
       " 'The best, the maximum representative of🇵🇹 and this coach clinging to leave him in the bank Sr Santos!The@wants to play not only see from the bank,….It is not worth doing that 😡😡😡 and in your own country 😡',\n",
       " 'Argentina 🇦🇷🇦🇷💥💥💙',\n",
       " '@sebassss_07 Our goal is to win the World Cups, not participate 😘',\n",
       " 'Nanico⭐⭐🤏',\n",
       " 'Beautiful performance you really are incredible JK 💜💜💜',\n",
       " 'Brazil will win the Escribano Catar today tell them her friend and companion Yoangála Arminda Gonzalez today 08/12/2022🇻🇪💚💚💚💚💚 from Venezuela 🔥🔥🔥🔥🙌🙌🙌, 🇧🇷🇧🇷🇧🇷🇧🇷🇧🇷🇧🇷',\n",
       " '@memphisdepay Argentina 5 Holland 1 😎',\n",
       " '$$$$$$$$$$$ns.$$$$$$$$',\n",
       " 'Argentina 🇦🇷🏆🇦🇷❤️',\n",
       " 'The goals that shout and cry are with Argentina!I think it is the dream of every Argentine to move forward to his country, and we are in very good hands !!#Afaseleccion 👏👏👏👏🔥🔥🔥🔥🙌 #messi 🙌👏👏👏👏🔥🔥🔥🔥🔥🔥🔥💪🏼💪🏼💪🏼💪🏼💪🏼💪🏼💪🏼🇦🇷🇦🇷🇦🇷🇦🇷🇦🇷🇦🇷🇦🇷',\n",
       " \"@tacianebarros_ Let's Argentina Viva Diego 🇦🇷🇦🇷🇦🇷🇦🇷💙💙🏆\",\n",
       " '@qp11_00 Incredible video👍',\n",
       " '@tujo.beatz and we 25 titles 🏆 We are the most copera🇦🇷',\n",
       " 'Although the best scorer is hurts them',\n",
       " 'Argentina 🇦🇷🇦🇷🇦🇷🇦🇷🙌',\n",
       " '🕸️🤟🏻🇦🇷 The spider that pica @juliaanalvarez 🔥⚽💙',\n",
       " \"@lovely_angel_kh I don't understand you but, ok🙌\",\n",
       " '@iga_profesional_de_truco 👍🏻',\n",
       " 'Ecuador: Witchcraft 🤬🤬🤬😨😨😓😥😥😭😭😭😭',\n",
       " 'The spider that Pica🤘🏻🕷️',\n",
       " 'Hey Man, why did they disqualify Ecuador?They were afraid perhaps cowards?Perfectly the truth is already known 😉',\n",
       " '@Ezebtm Lucky Brother Albiceleste here we banked Leo and Riquelme !!!Greetings and successes from ❤️🇨🇷 Pure Life',\n",
       " 'The plastic 🙌',\n",
       " '@lucaasperee Narco Hahahahah Station shows the poorly informed ... and Mexican cuisine does not envy anything to the Italian so it is considered one of the best and does not say its landscapes and beautiful beaches so it is in the top 3 ofTourisms 😇😇😇 And thank God I live in Texas my company generates very well $$$$$ and I spend traveling through Mexico and where I want thank God 🙏🏾',\n",
       " 'Good that you are 😭😭😭',\n",
       " 'And they will be the last, against Morocco Spain will go home, bye bye 🛫🛫🛫',\n",
       " '@Hugoalejandrobm you had to be Mexican haha, only Mexico and Chile supported Poland 🤣🤫.',\n",
       " \"I don't see any Argentine 🙄\",\n",
       " 'Pride? 🏳️\\u200d🌈?',\n",
       " 'Julian & Enzo 🇦🇷💙',\n",
       " 'How plan',\n",
       " 'Everything is cooked, Messi World Cup Champion 🤑🤫',\n",
       " '@emiliojose_v Ecuadorian resentful, Argentina 🇦🇷 World Champion 🏆.Messi the best World Cup and History player.Now you can cry quiet']"
      ]
     },
     "execution_count": 118,
     "metadata": {},
     "output_type": "execute_result"
    }
   ],
   "source": [
    "es_linkage_matrix[es_linkage_matrix['cluster'] == 7]['translated_text'].tolist()"
   ]
  },
  {
   "cell_type": "code",
   "execution_count": null,
   "id": "122e49c0",
   "metadata": {},
   "outputs": [],
   "source": []
  }
 ],
 "metadata": {
  "kernelspec": {
   "display_name": "Python 3.9.12 ('base')",
   "language": "python",
   "name": "python3912jvsc74a57bd040d3a090f54c6569ab1632332b64b2c03c39dcf918b08424e98f38b5ae0af88f"
  },
  "language_info": {
   "codemirror_mode": {
    "name": "ipython",
    "version": 3
   },
   "file_extension": ".py",
   "mimetype": "text/x-python",
   "name": "python",
   "nbconvert_exporter": "python",
   "pygments_lexer": "ipython3",
   "version": "3.9.12"
  }
 },
 "nbformat": 4,
 "nbformat_minor": 5
}
